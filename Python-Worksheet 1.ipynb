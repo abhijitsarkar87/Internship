{
 "cells": [
  {
   "cell_type": "code",
   "execution_count": 1,
   "id": "9db49ae1",
   "metadata": {},
   "outputs": [
    {
     "name": "stdout",
     "output_type": "stream",
     "text": [
      "Please Enter the Positive number :3\n",
      "1 2 3 The Factorial of 3 is 6\n"
     ]
    }
   ],
   "source": [
    "# Write a python program to find the factorial of a number.\n",
    "\n",
    "num=int(input(\"Please Enter the Positive number :\"))\n",
    "\n",
    "factorial=1\n",
    "if num<0:\n",
    "    print(\"Factorial won't be possible\")\n",
    "    \n",
    "elif num==0:\n",
    "    print(\"The Factorial is 0  Would be 1\")\n",
    "    \n",
    "else:\n",
    "    for i in range(1,num+1):\n",
    "        factorial= factorial*i\n",
    "        print(i,end=\" \")\n",
    "    \n",
    "    print(\"The Factorial of\",num,\"is\",factorial)"
   ]
  },
  {
   "cell_type": "code",
   "execution_count": 2,
   "id": "e8945b3f",
   "metadata": {},
   "outputs": [
    {
     "name": "stdout",
     "output_type": "stream",
     "text": [
      "Enter any number : 5\n",
      "5 is a PRIME number\n"
     ]
    }
   ],
   "source": [
    "# Write a python program to find whether a number is prime or composite.\n",
    "\n",
    "num = int(input(\"Enter any number : \"))\n",
    "if num > 1:\n",
    "    for i in range(2, num):\n",
    "        if (num % i) == 0:\n",
    "            print(num, \"is NOT a PRIME number, it is a COMPOSITE number\")\n",
    "            break\n",
    "    else:\n",
    "        print(num, \"is a PRIME number\")\n",
    "elif num == 0 or 1:\n",
    "    print(num, \"is a neither Prime NOR Composite number\")\n",
    "else:\n",
    "    print()"
   ]
  },
  {
   "cell_type": "code",
   "execution_count": 3,
   "id": "4dd61a4c",
   "metadata": {},
   "outputs": [
    {
     "name": "stdout",
     "output_type": "stream",
     "text": [
      "The string is a palindrome.\n",
      "['a', 'i', 'b', 'o', 'h', 'p', 'h', 'o', 'b', 'i', 'a']\n",
      "[]\n"
     ]
    }
   ],
   "source": [
    "#Write a python program to check whether a given string is palindrome or not.\n",
    "\n",
    "my_str= 'aIbohPhoBiA'\n",
    "\n",
    "my_str = my_str.casefold()# make it suitable for caseless comparison\n",
    "\n",
    "rev_str = reversed(my_str) # reverse the string\n",
    "\n",
    "# check if the string is equal to its reverse\n",
    "\n",
    "if list(my_str) == list(rev_str):\n",
    "    print(\"The string is a palindrome.\")\n",
    "    \n",
    "else:\n",
    "    print(\"The string is not a palindrome.\")\n",
    "\n",
    "print(list(my_str))\n",
    "\n",
    "print(list(rev_str))"
   ]
  },
  {
   "cell_type": "code",
   "execution_count": 4,
   "id": "7a9aeb45",
   "metadata": {},
   "outputs": [
    {
     "name": "stdout",
     "output_type": "stream",
     "text": [
      "Hypotenuse = 5.0\n",
      "Adjacent = 4.0\n",
      "Opposite = 3.0\n",
      " The third side of right-angled triangle \n"
     ]
    }
   ],
   "source": [
    "#Write a Python program to get the third side of right-angled triangle from two given sides.\n",
    "\n",
    "def pythagoras(opposite_side,adjacent_side,hypotenuse):\n",
    "        if opposite_side == str(\"x\"):\n",
    "            return (\"Opposite = \" + str(((hypotenuse**2) - (adjacent_side**2))**0.5))\n",
    "        \n",
    "        elif adjacent_side == str(\"x\"):\n",
    "            return (\"Adjacent = \" + str(((hypotenuse**2) - (opposite_side**2))**0.5))\n",
    "        \n",
    "        elif hypotenuse == str(\"x\"):\n",
    "            return (\"Hypotenuse = \" + str(((opposite_side**2) + (adjacent_side**2))**0.5))\n",
    "        \n",
    "        else:\n",
    "            return \" The third side of right-angled triangle \"\n",
    "    \n",
    "print(pythagoras(3,4,'x'))\n",
    "print(pythagoras(3,'x',5))\n",
    "print(pythagoras('x',4,5))\n",
    "print(pythagoras(3,4,5))"
   ]
  },
  {
   "cell_type": "code",
   "execution_count": 5,
   "id": "a0f6e484",
   "metadata": {},
   "outputs": [
    {
     "name": "stdout",
     "output_type": "stream",
     "text": [
      "printing all contents as \n",
      " : {'i': 3, 'n': 2, 'd': 1, 'a': 1, ' ': 3, 's': 1, 'm': 1, 'y': 2, 'c': 1, 'o': 1, 'u': 1, 't': 1, 'r': 1}\n"
     ]
    }
   ],
   "source": [
    "###### Write a python program to print the frequency of each of the characters present in a given string\n",
    "\n",
    "# initializing string\n",
    "index=\"india is my country\"\n",
    "\n",
    "# using naive method to get count\n",
    "# of each element in string\n",
    "all_freq = {}\n",
    "\n",
    "for i in index:\n",
    "    \n",
    "    if i in all_freq:\n",
    "        all_freq[i]+=1 #increment\n",
    "        \n",
    "    else:\n",
    "        all_freq[i]=1\n",
    "\n",
    "print(\"printing all contents as \\n :\",str(all_freq))"
   ]
  }
 ],
 "metadata": {
  "kernelspec": {
   "display_name": "Python 3 (ipykernel)",
   "language": "python",
   "name": "python3"
  },
  "language_info": {
   "codemirror_mode": {
    "name": "ipython",
    "version": 3
   },
   "file_extension": ".py",
   "mimetype": "text/x-python",
   "name": "python",
   "nbconvert_exporter": "python",
   "pygments_lexer": "ipython3",
   "version": "3.9.12"
  }
 },
 "nbformat": 4,
 "nbformat_minor": 5
}
