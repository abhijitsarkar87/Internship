{
 "cells": [
  {
   "cell_type": "markdown",
   "id": "1ca5a635",
   "metadata": {},
   "source": [
    "Write a python program which searches all the product under a particular product from www.amazon.in. \n",
    "The product to be searched will be taken as input from user. For e.g. If user input is ‘guitar’. Then search \n",
    "for guitars."
   ]
  },
  {
   "cell_type": "code",
   "execution_count": 1,
   "id": "34d75995",
   "metadata": {},
   "outputs": [],
   "source": [
    "import selenium\n",
    "from selenium import webdriver\n",
    "from selenium.webdriver.common.by import By\n",
    "from selenium.webdriver.support.ui import WebDriverWait\n",
    "from selenium.webdriver.support import expected_conditions as EC\n",
    "from selenium.common.exceptions import NoSuchElementException, StaleElementReferenceException\n",
    "import time\n",
    "import pandas as pd\n",
    "\n",
    "import warnings\n",
    "warnings.filterwarnings(\"ignore\")"
   ]
  },
  {
   "cell_type": "code",
   "execution_count": 2,
   "id": "b0998e48",
   "metadata": {},
   "outputs": [],
   "source": [
    "driver=webdriver.Edge(r'msedgedriver.exe')\n",
    "#locating web page\n",
    "driver.get(r\"https://www.amazon.in\")"
   ]
  },
  {
   "cell_type": "code",
   "execution_count": 3,
   "id": "e9569998",
   "metadata": {},
   "outputs": [
    {
     "name": "stdout",
     "output_type": "stream",
     "text": [
      "Please enter the product you want me to search Guiter\n"
     ]
    }
   ],
   "source": [
    "#search item by by user input\n",
    "user=driver.find_element(By.ID,\"twotabsearchtextbox\")\n",
    "u_search=str(input(\"Please enter the product you want me to search \"))\n",
    "user.send_keys(u_search)\n",
    "\n",
    "# go search\n",
    "go_search=driver.find_element(By.XPATH,'/html/body/div[1]/header/div/div[1]/div[2]/div/form/div[3]/div')\n",
    "go_search.click()"
   ]
  },
  {
   "cell_type": "markdown",
   "id": "4267fbef",
   "metadata": {},
   "source": [
    "Q2.\n",
    "\n",
    "In the above question, Now scrape the following details of each product listed in first 3 pages of your search results and save it in a data frame and csv. In case if any product has less than 3 pages in search results then scrape all the products available under that product name. Details to be scraped are: \n",
    "\n",
    "1. Brand Name\n",
    "2. Price\n",
    "3. Return/Exchange\n",
    "4. Expected Delivery\n",
    "5. Availability\n",
    "6. Product URL\n",
    "\n",
    "In case, if any of the details are missing for any of the product then replace it by “-“.\n"
   ]
  },
  {
   "cell_type": "code",
   "execution_count": 4,
   "id": "4c384a39",
   "metadata": {},
   "outputs": [],
   "source": [
    "product_urls = []\n",
    "start=0\n",
    "end=3\n",
    "for page in range(start,end):#for loop for scrapping 3 page\n",
    "\n",
    "    url=driver.find_elements(By.XPATH,'//a[@class=\"a-link-normal s-underline-text s-underline-link-text s-link-style a-text-normal\"]')       #scraping urls\n",
    "    for i in url:\n",
    "\n",
    "        product_urls.append(i.get_attribute(\"href\"))#appending the urls in product_urls list\n",
    "\n",
    "    nxt_button=driver.find_elements(By.XPATH,'//span[@class=\"s-pagination-strip\"]/a')[0:2]     #scraping the list of buttons from the page\n",
    "    nxt_button\n",
    "    \n",
    "    time.sleep(1)"
   ]
  },
  {
   "cell_type": "code",
   "execution_count": 5,
   "id": "58180c47",
   "metadata": {},
   "outputs": [
    {
     "data": {
      "text/plain": [
       "156"
      ]
     },
     "execution_count": 5,
     "metadata": {},
     "output_type": "execute_result"
    }
   ],
   "source": [
    "len(product_urls)"
   ]
  },
  {
   "cell_type": "code",
   "execution_count": 6,
   "id": "193256a3",
   "metadata": {},
   "outputs": [],
   "source": [
    "guiter_clk=driver.find_element(By.XPATH,'//span[@class=\"a-size-base-plus a-color-base a-text-normal\"]')\n",
    "guiter_clk.click()"
   ]
  },
  {
   "cell_type": "code",
   "execution_count": 7,
   "id": "45edd58a",
   "metadata": {},
   "outputs": [],
   "source": [
    "ProductName=[]\n",
    "Price=[]\n",
    "Stock=[]\n",
    "Return=[]\n",
    "\n",
    "for url in product_urls:\n",
    "    driver.get(url)\n",
    "    time.sleep(2)\n",
    "    #product name\n",
    "    \n",
    "    try:\n",
    "        brand = driver.find_element(By.XPATH,'//*[@id=\"productOverview_feature_div\"]/div/table/tbody/tr[1]/td[2]/span')\n",
    "        ProductName.append(brand.text.strip(\"\"))\n",
    "    except NoSuchElementException:\n",
    "        ProductName.append(\"-\")\n",
    "   #price\n",
    "    try:\n",
    "        p=driver.find_element(By.XPATH,'//div[@class=\"a-section\"]/span')\n",
    "        Price.append((p.text.strip(\"\")).replace(\"\\n\",\".\"))\n",
    "    except NoSuchElementException:\n",
    "        Price.append('-')\n",
    "     #stock   \n",
    "    try:\n",
    "        stock=driver.find_element(By.XPATH,'//span[@class=\"a-size-medium a-color-success\"]')\n",
    "        Stock.append(stock.text.strip(\"\"))\n",
    "    except NoSuchElementException:\n",
    "        Stock.append('-')\n",
    "        \n",
    "    #Return\n",
    "\n",
    "    try:\n",
    "        retrn=driver.find_element(By.XPATH,'//*[@id=\"RETURNS_POLICY\"]/span/div[2]/a')\n",
    "        Return.append(retrn.text.strip(\" \"))\n",
    "    except NoSuchElementException:\n",
    "        Return.append('-')"
   ]
  },
  {
   "cell_type": "code",
   "execution_count": 8,
   "id": "cb03d5f0",
   "metadata": {},
   "outputs": [
    {
     "data": {
      "text/plain": [
       "['Juârez',\n",
       " 'Intern',\n",
       " 'JUAREZ',\n",
       " 'Fender',\n",
       " 'YAMAHA',\n",
       " 'HOVNER',\n",
       " 'Kadence',\n",
       " 'JUAREZ',\n",
       " 'HOVNER',\n",
       " 'Intern',\n",
       " 'Intern',\n",
       " 'Intern',\n",
       " 'Hrb musicals',\n",
       " 'Juârez',\n",
       " 'Henrix',\n",
       " 'Intern',\n",
       " 'JUAREZ',\n",
       " 'VAULT',\n",
       " 'Intern',\n",
       " 'Medellin',\n",
       " 'Intern',\n",
       " 'JUAREZ',\n",
       " 'Intern',\n",
       " 'FESTRA',\n",
       " 'JUAREZ',\n",
       " 'Medellin',\n",
       " 'Revel',\n",
       " 'Kadence',\n",
       " 'Medellin',\n",
       " 'Juârez',\n",
       " 'REVEL',\n",
       " 'Intern',\n",
       " 'Kadence',\n",
       " 'Intern',\n",
       " 'Kadence',\n",
       " '-',\n",
       " 'Blueberry',\n",
       " 'JUAREZ',\n",
       " 'JUAREZ',\n",
       " 'JUAREZ',\n",
       " 'Martin Smith',\n",
       " 'VAULT',\n",
       " 'Intern',\n",
       " 'JUAREZ',\n",
       " 'Medellin',\n",
       " 'TECHBLAZE',\n",
       " 'Juârez',\n",
       " 'Intern',\n",
       " 'Kadence',\n",
       " 'Juârez',\n",
       " 'YAMAHA',\n",
       " 'Medellin',\n",
       " 'Juârez',\n",
       " 'Intern',\n",
       " 'JUAREZ',\n",
       " 'Fender',\n",
       " 'YAMAHA',\n",
       " 'HOVNER',\n",
       " 'Kadence',\n",
       " 'JUAREZ',\n",
       " 'HOVNER',\n",
       " 'Intern',\n",
       " 'Intern',\n",
       " 'Intern',\n",
       " 'Hrb musicals',\n",
       " 'Juârez',\n",
       " 'Henrix',\n",
       " 'Intern',\n",
       " 'JUAREZ',\n",
       " 'VAULT',\n",
       " 'Intern',\n",
       " 'Medellin',\n",
       " 'Intern',\n",
       " 'JUAREZ',\n",
       " 'Intern',\n",
       " 'FESTRA',\n",
       " 'JUAREZ',\n",
       " 'Medellin',\n",
       " 'Revel',\n",
       " 'Kadence',\n",
       " 'Medellin',\n",
       " 'Juârez',\n",
       " 'REVEL',\n",
       " 'Intern',\n",
       " 'Kadence',\n",
       " 'Intern',\n",
       " 'Kadence',\n",
       " '-',\n",
       " 'Blueberry',\n",
       " 'JUAREZ',\n",
       " 'JUAREZ',\n",
       " 'JUAREZ',\n",
       " 'Martin Smith',\n",
       " 'VAULT',\n",
       " 'Intern',\n",
       " 'JUAREZ',\n",
       " 'Medellin',\n",
       " 'TECHBLAZE',\n",
       " 'Juârez',\n",
       " 'Intern',\n",
       " 'Kadence',\n",
       " 'Juârez',\n",
       " 'YAMAHA',\n",
       " 'Medellin',\n",
       " 'Juârez',\n",
       " 'Intern',\n",
       " 'JUAREZ',\n",
       " 'Fender',\n",
       " 'YAMAHA',\n",
       " 'HOVNER',\n",
       " 'Kadence',\n",
       " 'JUAREZ',\n",
       " 'HOVNER',\n",
       " 'Intern',\n",
       " 'Intern',\n",
       " 'Intern',\n",
       " 'Hrb musicals',\n",
       " 'Juârez',\n",
       " 'Henrix',\n",
       " 'Intern',\n",
       " 'JUAREZ',\n",
       " 'VAULT',\n",
       " 'Intern',\n",
       " 'Medellin',\n",
       " 'Intern',\n",
       " 'JUAREZ',\n",
       " 'Intern',\n",
       " 'FESTRA',\n",
       " 'JUAREZ',\n",
       " 'Medellin',\n",
       " 'Revel',\n",
       " 'Kadence',\n",
       " 'Medellin',\n",
       " 'Juârez',\n",
       " 'REVEL',\n",
       " 'Intern',\n",
       " 'Kadence',\n",
       " 'Intern',\n",
       " 'Kadence',\n",
       " '-',\n",
       " 'Blueberry',\n",
       " 'JUAREZ',\n",
       " 'JUAREZ',\n",
       " 'JUAREZ',\n",
       " 'Martin Smith',\n",
       " 'VAULT',\n",
       " 'Intern',\n",
       " 'JUAREZ',\n",
       " 'Medellin',\n",
       " 'TECHBLAZE',\n",
       " 'Juârez',\n",
       " 'Intern',\n",
       " 'Kadence',\n",
       " 'Juârez',\n",
       " 'YAMAHA',\n",
       " 'Medellin']"
      ]
     },
     "execution_count": 8,
     "metadata": {},
     "output_type": "execute_result"
    }
   ],
   "source": [
    "ProductName"
   ]
  },
  {
   "cell_type": "code",
   "execution_count": 9,
   "id": "862085a2",
   "metadata": {},
   "outputs": [
    {
     "data": {
      "text/plain": [
       "['₹2,090.00',\n",
       " '₹2,190.00',\n",
       " '₹2,639.00',\n",
       " '₹12,790.00',\n",
       " '₹9,990.00',\n",
       " '₹4,480.00',\n",
       " '₹6,999.00',\n",
       " '₹2,883.00',\n",
       " '₹4,480.00',\n",
       " '₹2,279.00',\n",
       " '₹2,089.00',\n",
       " '₹2,090.00',\n",
       " '₹899.00',\n",
       " '₹2,971.00',\n",
       " '₹2,949.00',\n",
       " '₹2,135.00',\n",
       " '₹2,635.00',\n",
       " '₹5,499.00',\n",
       " '₹2,090.00',\n",
       " '₹2,499.00',\n",
       " '₹2,639.00',\n",
       " '₹2,639.00',\n",
       " '₹2,639.00',\n",
       " '₹2,695.00',\n",
       " '₹2,635.00',\n",
       " '₹3,299.00',\n",
       " '₹2,665.00',\n",
       " '',\n",
       " '₹2,499.00',\n",
       " '₹3,120.00',\n",
       " '₹2,450.00',\n",
       " '₹2,589.00',\n",
       " '₹6,799.00',\n",
       " '₹2,290.00',\n",
       " '',\n",
       " '₹2,999.00',\n",
       " '₹2,695.00',\n",
       " '₹2,639.00',\n",
       " '₹3,169.00',\n",
       " '₹4,785.00',\n",
       " '₹6,129.00',\n",
       " '₹4,399.00',\n",
       " '₹2,390.00',\n",
       " '₹5,452.27',\n",
       " '₹2,499.00',\n",
       " '₹549.00',\n",
       " '₹2,998.00',\n",
       " '₹2,639.00',\n",
       " '₹5,949.00',\n",
       " '₹3,132.00',\n",
       " '₹9,999.00',\n",
       " '₹2,499.00',\n",
       " '₹2,090.00',\n",
       " '₹2,190.00',\n",
       " '₹2,639.00',\n",
       " '₹12,790.00',\n",
       " '₹9,990.00',\n",
       " '₹4,480.00',\n",
       " '₹6,999.00',\n",
       " '₹2,883.00',\n",
       " '₹4,480.00',\n",
       " '₹2,279.00',\n",
       " '₹2,089.00',\n",
       " '₹2,090.00',\n",
       " '₹899.00',\n",
       " '₹2,971.00',\n",
       " '₹2,949.00',\n",
       " '₹2,135.00',\n",
       " '₹2,635.00',\n",
       " '₹5,499.00',\n",
       " '₹2,090.00',\n",
       " '₹2,499.00',\n",
       " '₹2,639.00',\n",
       " '₹2,639.00',\n",
       " '₹2,639.00',\n",
       " '₹2,695.00',\n",
       " '₹2,635.00',\n",
       " '₹3,299.00',\n",
       " '₹2,665.00',\n",
       " '',\n",
       " '₹2,499.00',\n",
       " '₹3,120.00',\n",
       " '₹2,450.00',\n",
       " '₹2,589.00',\n",
       " '₹6,799.00',\n",
       " '₹2,290.00',\n",
       " '',\n",
       " '₹2,999.00',\n",
       " '₹2,695.00',\n",
       " '₹2,639.00',\n",
       " '₹3,169.00',\n",
       " '₹4,785.00',\n",
       " '₹6,129.00',\n",
       " '₹4,399.00',\n",
       " '₹2,390.00',\n",
       " '₹5,452.27',\n",
       " '₹2,499.00',\n",
       " '₹549.00',\n",
       " '₹2,998.00',\n",
       " '₹2,639.00',\n",
       " '₹5,949.00',\n",
       " '₹3,132.00',\n",
       " '₹9,999.00',\n",
       " '₹2,499.00',\n",
       " '₹2,090.00',\n",
       " '₹2,190.00',\n",
       " '₹2,639.00',\n",
       " '₹12,790.00',\n",
       " '₹9,990.00',\n",
       " '₹4,480.00',\n",
       " '₹6,999.00',\n",
       " '₹2,883.00',\n",
       " '₹4,480.00',\n",
       " '₹2,279.00',\n",
       " '₹2,089.00',\n",
       " '₹2,090.00',\n",
       " '₹899.00',\n",
       " '₹2,971.00',\n",
       " '₹2,949.00',\n",
       " '₹2,135.00',\n",
       " '₹2,635.00',\n",
       " '₹5,499.00',\n",
       " '₹2,090.00',\n",
       " '₹2,499.00',\n",
       " '₹2,639.00',\n",
       " '₹2,639.00',\n",
       " '₹2,639.00',\n",
       " '₹2,695.00',\n",
       " '₹2,635.00',\n",
       " '₹3,299.00',\n",
       " '₹2,665.00',\n",
       " '',\n",
       " '₹2,499.00',\n",
       " '₹3,120.00',\n",
       " '₹2,450.00',\n",
       " '₹2,589.00',\n",
       " '₹6,799.00',\n",
       " '₹2,290.00',\n",
       " '',\n",
       " '₹2,999.00',\n",
       " '₹2,695.00',\n",
       " '₹2,639.00',\n",
       " '₹3,169.00',\n",
       " '₹4,785.00',\n",
       " '₹6,129.00',\n",
       " '₹4,399.00',\n",
       " '₹2,390.00',\n",
       " '₹5,452.27',\n",
       " '₹2,499.00',\n",
       " '₹549.00',\n",
       " '₹2,998.00',\n",
       " '₹2,639.00',\n",
       " '₹5,949.00',\n",
       " '₹3,132.00',\n",
       " '₹9,999.00',\n",
       " '₹2,499.00']"
      ]
     },
     "execution_count": 9,
     "metadata": {},
     "output_type": "execute_result"
    }
   ],
   "source": [
    "Price"
   ]
  },
  {
   "cell_type": "code",
   "execution_count": 10,
   "id": "99be5d04",
   "metadata": {},
   "outputs": [
    {
     "data": {
      "text/plain": [
       "['In stock.',\n",
       " '-',\n",
       " 'In stock.',\n",
       " 'In stock.',\n",
       " 'In stock.',\n",
       " 'In stock.',\n",
       " 'In stock.',\n",
       " 'In stock.',\n",
       " 'In stock.',\n",
       " 'In stock.',\n",
       " 'In stock.',\n",
       " 'In stock.',\n",
       " 'In stock.',\n",
       " 'In stock.',\n",
       " 'Only 2 left in stock.',\n",
       " 'In stock.',\n",
       " 'In stock.',\n",
       " 'In stock.',\n",
       " 'In stock.',\n",
       " 'In stock.',\n",
       " 'In stock.',\n",
       " 'In stock.',\n",
       " 'In stock.',\n",
       " 'In stock.',\n",
       " 'In stock.',\n",
       " 'In stock.',\n",
       " 'In stock.',\n",
       " '',\n",
       " 'In stock.',\n",
       " 'In stock.',\n",
       " 'Only 1 left in stock.',\n",
       " 'In stock.',\n",
       " 'In stock.',\n",
       " 'In stock.',\n",
       " '',\n",
       " 'In stock.',\n",
       " 'In stock.',\n",
       " 'In stock.',\n",
       " 'In stock.',\n",
       " '-',\n",
       " 'In stock.',\n",
       " 'In stock.',\n",
       " 'In stock.',\n",
       " 'In stock.',\n",
       " 'In stock.',\n",
       " 'In stock.',\n",
       " 'In stock.',\n",
       " 'In stock.',\n",
       " 'In stock.',\n",
       " 'In stock.',\n",
       " 'Only 2 left in stock.',\n",
       " 'In stock.',\n",
       " 'In stock.',\n",
       " '-',\n",
       " 'In stock.',\n",
       " 'In stock.',\n",
       " 'In stock.',\n",
       " 'In stock.',\n",
       " 'In stock.',\n",
       " 'In stock.',\n",
       " 'In stock.',\n",
       " 'In stock.',\n",
       " 'In stock.',\n",
       " 'In stock.',\n",
       " 'In stock.',\n",
       " 'In stock.',\n",
       " 'Only 2 left in stock.',\n",
       " 'In stock.',\n",
       " 'In stock.',\n",
       " 'In stock.',\n",
       " 'In stock.',\n",
       " 'In stock.',\n",
       " 'In stock.',\n",
       " 'In stock.',\n",
       " 'In stock.',\n",
       " 'In stock.',\n",
       " 'In stock.',\n",
       " 'In stock.',\n",
       " 'In stock.',\n",
       " '',\n",
       " 'In stock.',\n",
       " 'In stock.',\n",
       " 'Only 1 left in stock.',\n",
       " 'In stock.',\n",
       " 'In stock.',\n",
       " 'In stock.',\n",
       " '',\n",
       " 'In stock.',\n",
       " 'In stock.',\n",
       " 'In stock.',\n",
       " 'In stock.',\n",
       " '-',\n",
       " 'In stock.',\n",
       " 'In stock.',\n",
       " 'In stock.',\n",
       " 'In stock.',\n",
       " 'In stock.',\n",
       " 'In stock.',\n",
       " 'In stock.',\n",
       " 'In stock.',\n",
       " 'In stock.',\n",
       " 'In stock.',\n",
       " 'Only 2 left in stock.',\n",
       " 'In stock.',\n",
       " 'In stock.',\n",
       " '-',\n",
       " 'In stock.',\n",
       " 'In stock.',\n",
       " 'In stock.',\n",
       " 'In stock.',\n",
       " 'In stock.',\n",
       " 'In stock.',\n",
       " 'In stock.',\n",
       " 'In stock.',\n",
       " 'In stock.',\n",
       " 'In stock.',\n",
       " 'In stock.',\n",
       " 'In stock.',\n",
       " 'Only 2 left in stock.',\n",
       " 'In stock.',\n",
       " 'In stock.',\n",
       " 'In stock.',\n",
       " 'In stock.',\n",
       " 'In stock.',\n",
       " 'In stock.',\n",
       " 'In stock.',\n",
       " 'In stock.',\n",
       " 'In stock.',\n",
       " 'In stock.',\n",
       " 'In stock.',\n",
       " 'In stock.',\n",
       " '',\n",
       " 'In stock.',\n",
       " 'In stock.',\n",
       " 'Only 1 left in stock.',\n",
       " 'In stock.',\n",
       " 'In stock.',\n",
       " 'In stock.',\n",
       " '',\n",
       " 'In stock.',\n",
       " 'In stock.',\n",
       " 'In stock.',\n",
       " 'In stock.',\n",
       " '-',\n",
       " 'In stock.',\n",
       " 'In stock.',\n",
       " 'In stock.',\n",
       " 'In stock.',\n",
       " 'In stock.',\n",
       " 'In stock.',\n",
       " 'In stock.',\n",
       " 'In stock.',\n",
       " 'In stock.',\n",
       " 'In stock.',\n",
       " 'Only 2 left in stock.',\n",
       " 'In stock.']"
      ]
     },
     "execution_count": 10,
     "metadata": {},
     "output_type": "execute_result"
    }
   ],
   "source": [
    "Stock"
   ]
  },
  {
   "cell_type": "code",
   "execution_count": 11,
   "id": "5e1fa74a",
   "metadata": {},
   "outputs": [
    {
     "data": {
      "text/plain": [
       "['7 Days Replacement',\n",
       " '7 Days Replacement',\n",
       " '7 Days Replacement',\n",
       " '7 Days Replacement',\n",
       " '7 Days Replacement',\n",
       " '7 Days Replacement',\n",
       " '7 Days Replacement',\n",
       " '7 Days Replacement',\n",
       " '7 Days Replacement',\n",
       " '7 Days Replacement',\n",
       " '7 Days Replacement',\n",
       " '7 Days Replacement',\n",
       " '7 Days Replacement',\n",
       " '7 Days Replacement',\n",
       " '7 Days Replacement',\n",
       " '7 Days Replacement',\n",
       " '7 Days Replacement',\n",
       " '7 Days Replacement',\n",
       " '7 Days Replacement',\n",
       " '7 Days Replacement',\n",
       " '7 Days Replacement',\n",
       " '7 Days Replacement',\n",
       " '7 Days Replacement',\n",
       " '7 Days Replacement',\n",
       " '7 Days Replacement',\n",
       " '7 Days Replacement',\n",
       " '7 Days Replacement',\n",
       " '7 Days Replacement',\n",
       " '7 Days Replacement',\n",
       " '7 Days Replacement',\n",
       " '7 Days Replacement',\n",
       " '7 Days Replacement',\n",
       " '7 Days Replacement',\n",
       " '7 Days Replacement',\n",
       " '7 Days Replacement',\n",
       " '7 Days Replacement',\n",
       " '7 Days Replacement',\n",
       " '7 Days Replacement',\n",
       " '7 Days Replacement',\n",
       " '7 Days Replacement',\n",
       " '7 Days Replacement',\n",
       " '7 Days Replacement',\n",
       " '7 Days Replacement',\n",
       " '7 Days Replacement',\n",
       " '7 Days Replacement',\n",
       " '7 Days Replacement',\n",
       " '7 Days Replacement',\n",
       " '7 Days Replacement',\n",
       " '7 Days Replacement',\n",
       " '7 Days Replacement',\n",
       " '7 Days Replacement',\n",
       " '7 Days Replacement',\n",
       " '7 Days Replacement',\n",
       " '7 Days Replacement',\n",
       " '7 Days Replacement',\n",
       " '7 Days Replacement',\n",
       " '7 Days Replacement',\n",
       " '7 Days Replacement',\n",
       " '7 Days Replacement',\n",
       " '7 Days Replacement',\n",
       " '7 Days Replacement',\n",
       " '7 Days Replacement',\n",
       " '7 Days Replacement',\n",
       " '7 Days Replacement',\n",
       " '7 Days Replacement',\n",
       " '7 Days Replacement',\n",
       " '7 Days Replacement',\n",
       " '7 Days Replacement',\n",
       " '7 Days Replacement',\n",
       " '7 Days Replacement',\n",
       " '7 Days Replacement',\n",
       " '7 Days Replacement',\n",
       " '7 Days Replacement',\n",
       " '7 Days Replacement',\n",
       " '7 Days Replacement',\n",
       " '7 Days Replacement',\n",
       " '7 Days Replacement',\n",
       " '7 Days Replacement',\n",
       " '7 Days Replacement',\n",
       " '7 Days Replacement',\n",
       " '7 Days Replacement',\n",
       " '7 Days Replacement',\n",
       " '7 Days Replacement',\n",
       " '7 Days Replacement',\n",
       " '7 Days Replacement',\n",
       " '7 Days Replacement',\n",
       " '7 Days Replacement',\n",
       " '7 Days Replacement',\n",
       " '7 Days Replacement',\n",
       " '7 Days Replacement',\n",
       " '7 Days Replacement',\n",
       " '7 Days Replacement',\n",
       " '7 Days Replacement',\n",
       " '7 Days Replacement',\n",
       " '7 Days Replacement',\n",
       " '7 Days Replacement',\n",
       " '7 Days Replacement',\n",
       " '7 Days Replacement',\n",
       " '7 Days Replacement',\n",
       " '7 Days Replacement',\n",
       " '7 Days Replacement',\n",
       " '7 Days Replacement',\n",
       " '7 Days Replacement',\n",
       " '7 Days Replacement',\n",
       " '7 Days Replacement',\n",
       " '7 Days Replacement',\n",
       " '7 Days Replacement',\n",
       " '7 Days Replacement',\n",
       " '7 Days Replacement',\n",
       " '7 Days Replacement',\n",
       " '7 Days Replacement',\n",
       " '7 Days Replacement',\n",
       " '7 Days Replacement',\n",
       " '7 Days Replacement',\n",
       " '7 Days Replacement',\n",
       " '7 Days Replacement',\n",
       " '7 Days Replacement',\n",
       " '7 Days Replacement',\n",
       " '7 Days Replacement',\n",
       " '7 Days Replacement',\n",
       " '7 Days Replacement',\n",
       " '7 Days Replacement',\n",
       " '7 Days Replacement',\n",
       " '7 Days Replacement',\n",
       " '7 Days Replacement',\n",
       " '7 Days Replacement',\n",
       " '7 Days Replacement',\n",
       " '7 Days Replacement',\n",
       " '7 Days Replacement',\n",
       " '7 Days Replacement',\n",
       " '7 Days Replacement',\n",
       " '7 Days Replacement',\n",
       " '7 Days Replacement',\n",
       " '7 Days Replacement',\n",
       " '7 Days Replacement',\n",
       " '7 Days Replacement',\n",
       " '7 Days Replacement',\n",
       " '7 Days Replacement',\n",
       " '7 Days Replacement',\n",
       " '7 Days Replacement',\n",
       " '7 Days Replacement',\n",
       " '7 Days Replacement',\n",
       " '7 Days Replacement',\n",
       " '7 Days Replacement',\n",
       " '7 Days Replacement',\n",
       " '7 Days Replacement',\n",
       " '7 Days Replacement',\n",
       " '7 Days Replacement',\n",
       " '7 Days Replacement',\n",
       " '7 Days Replacement',\n",
       " '7 Days Replacement',\n",
       " '7 Days Replacement',\n",
       " '7 Days Replacement',\n",
       " '7 Days Replacement',\n",
       " '7 Days Replacement',\n",
       " '7 Days Replacement']"
      ]
     },
     "execution_count": 11,
     "metadata": {},
     "output_type": "execute_result"
    }
   ],
   "source": [
    "Return"
   ]
  },
  {
   "cell_type": "code",
   "execution_count": 15,
   "id": "58331485",
   "metadata": {},
   "outputs": [
    {
     "data": {
      "text/plain": [
       "['Monday, September 12',\n",
       " 'September 14 - 18',\n",
       " 'Saturday, September 10',\n",
       " 'Saturday, September 10',\n",
       " 'Sunday, September 11',\n",
       " 'Thursday, September 8',\n",
       " 'Saturday, September 10',\n",
       " 'Monday, September 12',\n",
       " 'Thursday, September 8',\n",
       " 'Monday, September 12',\n",
       " 'Saturday, September 10',\n",
       " 'Monday, September 12',\n",
       " 'Saturday, September 10',\n",
       " 'Monday, September 12',\n",
       " 'Tuesday, September 13',\n",
       " 'Monday, September 12',\n",
       " 'Saturday, September 10',\n",
       " 'Monday, September 12',\n",
       " 'Monday, September 12',\n",
       " 'Monday, September 12',\n",
       " 'Saturday, September 10',\n",
       " 'Saturday, September 10',\n",
       " 'Tuesday, September 13',\n",
       " 'Sunday, September 11',\n",
       " 'Monday, September 12',\n",
       " 'September 7 - 12',\n",
       " 'Monday, September 12',\n",
       " 'Saturday, September 10',\n",
       " 'Monday, September 12',\n",
       " 'Monday, September 12',\n",
       " 'Monday, September 12',\n",
       " 'Thursday, September 8',\n",
       " 'Monday, September 12',\n",
       " 'Monday, September 12',\n",
       " 'Saturday, September 10',\n",
       " '',\n",
       " 'Sunday, September 11',\n",
       " 'Monday, September 12',\n",
       " 'Saturday, September 10',\n",
       " 'October 7 - November 7',\n",
       " 'Monday, September 12',\n",
       " 'Tuesday, September 13',\n",
       " 'Saturday, September 10',\n",
       " 'Saturday, September 10',\n",
       " 'Monday, September 12',\n",
       " 'Saturday, September 10',\n",
       " 'Saturday, September 10',\n",
       " 'Monday, September 12',\n",
       " 'Monday, September 12',\n",
       " 'Monday, September 12',\n",
       " 'Monday, September 12',\n",
       " 'Monday, September 12',\n",
       " 'Monday, September 12',\n",
       " 'September 14 - 18',\n",
       " 'Saturday, September 10',\n",
       " 'Saturday, September 10',\n",
       " 'Sunday, September 11',\n",
       " 'Thursday, September 8',\n",
       " 'Saturday, September 10',\n",
       " 'Monday, September 12',\n",
       " 'Thursday, September 8',\n",
       " 'Monday, September 12',\n",
       " 'Saturday, September 10',\n",
       " 'Monday, September 12',\n",
       " 'Saturday, September 10',\n",
       " 'Monday, September 12',\n",
       " 'Tuesday, September 13',\n",
       " 'Monday, September 12',\n",
       " 'Saturday, September 10',\n",
       " 'Monday, September 12',\n",
       " 'Monday, September 12',\n",
       " 'Monday, September 12',\n",
       " 'Saturday, September 10',\n",
       " 'Saturday, September 10',\n",
       " 'Tuesday, September 13',\n",
       " 'Sunday, September 11',\n",
       " 'Monday, September 12',\n",
       " 'September 7 - 12',\n",
       " 'Monday, September 12',\n",
       " 'Saturday, September 10',\n",
       " 'Monday, September 12',\n",
       " 'Monday, September 12',\n",
       " 'Monday, September 12',\n",
       " 'Thursday, September 8',\n",
       " 'Monday, September 12',\n",
       " 'Monday, September 12',\n",
       " 'Saturday, September 10',\n",
       " 'Monday, September 12',\n",
       " 'Sunday, September 11',\n",
       " 'Monday, September 12',\n",
       " 'Saturday, September 10',\n",
       " 'October 7 - November 7',\n",
       " 'Monday, September 12',\n",
       " 'Tuesday, September 13',\n",
       " 'Saturday, September 10',\n",
       " 'Saturday, September 10',\n",
       " 'Monday, September 12',\n",
       " 'Saturday, September 10',\n",
       " 'Saturday, September 10',\n",
       " 'Monday, September 12',\n",
       " 'Monday, September 12',\n",
       " 'Monday, September 12',\n",
       " 'Monday, September 12',\n",
       " 'Monday, September 12',\n",
       " 'Monday, September 12',\n",
       " 'September 14 - 18',\n",
       " 'Saturday, September 10',\n",
       " 'Saturday, September 10',\n",
       " 'Sunday, September 11',\n",
       " 'Thursday, September 8',\n",
       " 'Saturday, September 10',\n",
       " 'Monday, September 12',\n",
       " 'Thursday, September 8',\n",
       " 'Monday, September 12',\n",
       " 'Saturday, September 10',\n",
       " 'Monday, September 12',\n",
       " 'Saturday, September 10',\n",
       " 'Monday, September 12',\n",
       " 'Tuesday, September 13',\n",
       " 'Monday, September 12',\n",
       " 'Saturday, September 10',\n",
       " 'Monday, September 12',\n",
       " 'Monday, September 12',\n",
       " 'Monday, September 12',\n",
       " 'Saturday, September 10',\n",
       " 'Saturday, September 10',\n",
       " 'Tuesday, September 13',\n",
       " 'Sunday, September 11',\n",
       " 'Monday, September 12',\n",
       " 'September 7 - 12',\n",
       " 'Monday, September 12',\n",
       " 'Saturday, September 10',\n",
       " 'Monday, September 12',\n",
       " 'Monday, September 12',\n",
       " 'Monday, September 12',\n",
       " 'Thursday, September 8',\n",
       " 'Monday, September 12',\n",
       " 'Monday, September 12',\n",
       " 'Saturday, September 10',\n",
       " 'Monday, September 12',\n",
       " 'Sunday, September 11',\n",
       " 'Monday, September 12',\n",
       " 'Saturday, September 10',\n",
       " 'October 7 - November 7',\n",
       " 'Monday, September 12',\n",
       " 'Tuesday, September 13',\n",
       " 'Saturday, September 10',\n",
       " 'Saturday, September 10',\n",
       " 'Monday, September 12',\n",
       " 'Saturday, September 10',\n",
       " 'Saturday, September 10',\n",
       " 'Monday, September 12',\n",
       " 'Monday, September 12',\n",
       " 'Monday, September 12',\n",
       " 'Monday, September 12',\n",
       " 'Monday, September 12']"
      ]
     },
     "execution_count": 15,
     "metadata": {},
     "output_type": "execute_result"
    }
   ],
   "source": [
    "Delivery=[]\n",
    "for url in product_urls:\n",
    "    driver.get(url)\n",
    "    time.sleep(2)\n",
    "    #product name\n",
    "    \n",
    "    try:\n",
    "        brand = driver.find_element(By.XPATH,'//span[@class=\"a-text-bold\"]')\n",
    "        Delivery.append(brand.text.strip(\"\"))\n",
    "    except NoSuchElementException:\n",
    "        ProductName.append(\"-\")\n",
    "\n",
    "Delivery"
   ]
  },
  {
   "cell_type": "code",
   "execution_count": 17,
   "id": "272aec97",
   "metadata": {},
   "outputs": [
    {
     "name": "stdout",
     "output_type": "stream",
     "text": [
      "156 156 156 156 156 156\n"
     ]
    }
   ],
   "source": [
    "print(len(ProductName),len(Price),len(Stock),len(Return),len(Delivery),len(product_urls))"
   ]
  },
  {
   "cell_type": "code",
   "execution_count": 18,
   "id": "8db5173a",
   "metadata": {},
   "outputs": [],
   "source": [
    "df=pd.DataFrame({'Brand':ProductName,'Price':Price,'Expected Delivery':Delivery,'Availability':Stock,'Return_Exchange':Return,'Product_URL':product_urls})"
   ]
  },
  {
   "cell_type": "code",
   "execution_count": 19,
   "id": "2a71a33f",
   "metadata": {},
   "outputs": [
    {
     "data": {
      "text/html": [
       "<div>\n",
       "<style scoped>\n",
       "    .dataframe tbody tr th:only-of-type {\n",
       "        vertical-align: middle;\n",
       "    }\n",
       "\n",
       "    .dataframe tbody tr th {\n",
       "        vertical-align: top;\n",
       "    }\n",
       "\n",
       "    .dataframe thead th {\n",
       "        text-align: right;\n",
       "    }\n",
       "</style>\n",
       "<table border=\"1\" class=\"dataframe\">\n",
       "  <thead>\n",
       "    <tr style=\"text-align: right;\">\n",
       "      <th></th>\n",
       "      <th>Brand</th>\n",
       "      <th>Price</th>\n",
       "      <th>Expected Delivery</th>\n",
       "      <th>Availability</th>\n",
       "      <th>Return_Exchange</th>\n",
       "      <th>Product_URL</th>\n",
       "    </tr>\n",
       "  </thead>\n",
       "  <tbody>\n",
       "    <tr>\n",
       "      <th>0</th>\n",
       "      <td>Juârez</td>\n",
       "      <td>₹2,090.00</td>\n",
       "      <td>Monday, September 12</td>\n",
       "      <td>In stock.</td>\n",
       "      <td>7 Days Replacement</td>\n",
       "      <td>https://www.amazon.in/Juarez-Acoustic-Cutaway-...</td>\n",
       "    </tr>\n",
       "    <tr>\n",
       "      <th>1</th>\n",
       "      <td>Intern</td>\n",
       "      <td>₹2,190.00</td>\n",
       "      <td>September 14 - 18</td>\n",
       "      <td>-</td>\n",
       "      <td>7 Days Replacement</td>\n",
       "      <td>https://www.amazon.in/Intern-INT-38C-Acoustic-...</td>\n",
       "    </tr>\n",
       "    <tr>\n",
       "      <th>2</th>\n",
       "      <td>JUAREZ</td>\n",
       "      <td>₹2,639.00</td>\n",
       "      <td>Saturday, September 10</td>\n",
       "      <td>In stock.</td>\n",
       "      <td>7 Days Replacement</td>\n",
       "      <td>https://www.amazon.in/Juarez-Acoustic-Guitar-C...</td>\n",
       "    </tr>\n",
       "    <tr>\n",
       "      <th>3</th>\n",
       "      <td>Fender</td>\n",
       "      <td>₹12,790.00</td>\n",
       "      <td>Saturday, September 10</td>\n",
       "      <td>In stock.</td>\n",
       "      <td>7 Days Replacement</td>\n",
       "      <td>https://www.amazon.in/Fender-Dread-String-Acou...</td>\n",
       "    </tr>\n",
       "    <tr>\n",
       "      <th>4</th>\n",
       "      <td>YAMAHA</td>\n",
       "      <td>₹9,990.00</td>\n",
       "      <td>Sunday, September 11</td>\n",
       "      <td>In stock.</td>\n",
       "      <td>7 Days Replacement</td>\n",
       "      <td>https://www.amazon.in/Yamaha-FS100C-Acoustic-G...</td>\n",
       "    </tr>\n",
       "    <tr>\n",
       "      <th>...</th>\n",
       "      <td>...</td>\n",
       "      <td>...</td>\n",
       "      <td>...</td>\n",
       "      <td>...</td>\n",
       "      <td>...</td>\n",
       "      <td>...</td>\n",
       "    </tr>\n",
       "    <tr>\n",
       "      <th>151</th>\n",
       "      <td>Intern</td>\n",
       "      <td>₹2,639.00</td>\n",
       "      <td>Monday, September 12</td>\n",
       "      <td>In stock.</td>\n",
       "      <td>7 Days Replacement</td>\n",
       "      <td>https://www.amazon.in/Intern-INT-38C-Acoustic-...</td>\n",
       "    </tr>\n",
       "    <tr>\n",
       "      <th>152</th>\n",
       "      <td>Kadence</td>\n",
       "      <td>₹5,949.00</td>\n",
       "      <td>Monday, September 12</td>\n",
       "      <td>In stock.</td>\n",
       "      <td>7 Days Replacement</td>\n",
       "      <td>https://www.amazon.in/Kadence-Frontier-Acousti...</td>\n",
       "    </tr>\n",
       "    <tr>\n",
       "      <th>153</th>\n",
       "      <td>Juârez</td>\n",
       "      <td>₹3,132.00</td>\n",
       "      <td>Monday, September 12</td>\n",
       "      <td>In stock.</td>\n",
       "      <td>7 Days Replacement</td>\n",
       "      <td>https://www.amazon.in/JRZ38C-Strings-Acoustic-...</td>\n",
       "    </tr>\n",
       "    <tr>\n",
       "      <th>154</th>\n",
       "      <td>YAMAHA</td>\n",
       "      <td>₹9,999.00</td>\n",
       "      <td>Monday, September 12</td>\n",
       "      <td>Only 2 left in stock.</td>\n",
       "      <td>7 Days Replacement</td>\n",
       "      <td>https://www.amazon.in/YAMAHA-NATURAL-CONCERT-C...</td>\n",
       "    </tr>\n",
       "    <tr>\n",
       "      <th>155</th>\n",
       "      <td>Medellin</td>\n",
       "      <td>₹2,499.00</td>\n",
       "      <td>Monday, September 12</td>\n",
       "      <td>In stock.</td>\n",
       "      <td>7 Days Replacement</td>\n",
       "      <td>https://www.amazon.in/Medellin-Acoustic-Guitar...</td>\n",
       "    </tr>\n",
       "  </tbody>\n",
       "</table>\n",
       "<p>156 rows × 6 columns</p>\n",
       "</div>"
      ],
      "text/plain": [
       "        Brand       Price       Expected Delivery           Availability  \\\n",
       "0      Juârez   ₹2,090.00    Monday, September 12              In stock.   \n",
       "1      Intern   ₹2,190.00       September 14 - 18                      -   \n",
       "2      JUAREZ   ₹2,639.00  Saturday, September 10              In stock.   \n",
       "3      Fender  ₹12,790.00  Saturday, September 10              In stock.   \n",
       "4      YAMAHA   ₹9,990.00    Sunday, September 11              In stock.   \n",
       "..        ...         ...                     ...                    ...   \n",
       "151    Intern   ₹2,639.00    Monday, September 12              In stock.   \n",
       "152   Kadence   ₹5,949.00    Monday, September 12              In stock.   \n",
       "153    Juârez   ₹3,132.00    Monday, September 12              In stock.   \n",
       "154    YAMAHA   ₹9,999.00    Monday, September 12  Only 2 left in stock.   \n",
       "155  Medellin   ₹2,499.00    Monday, September 12              In stock.   \n",
       "\n",
       "        Return_Exchange                                        Product_URL  \n",
       "0    7 Days Replacement  https://www.amazon.in/Juarez-Acoustic-Cutaway-...  \n",
       "1    7 Days Replacement  https://www.amazon.in/Intern-INT-38C-Acoustic-...  \n",
       "2    7 Days Replacement  https://www.amazon.in/Juarez-Acoustic-Guitar-C...  \n",
       "3    7 Days Replacement  https://www.amazon.in/Fender-Dread-String-Acou...  \n",
       "4    7 Days Replacement  https://www.amazon.in/Yamaha-FS100C-Acoustic-G...  \n",
       "..                  ...                                                ...  \n",
       "151  7 Days Replacement  https://www.amazon.in/Intern-INT-38C-Acoustic-...  \n",
       "152  7 Days Replacement  https://www.amazon.in/Kadence-Frontier-Acousti...  \n",
       "153  7 Days Replacement  https://www.amazon.in/JRZ38C-Strings-Acoustic-...  \n",
       "154  7 Days Replacement  https://www.amazon.in/YAMAHA-NATURAL-CONCERT-C...  \n",
       "155  7 Days Replacement  https://www.amazon.in/Medellin-Acoustic-Guitar...  \n",
       "\n",
       "[156 rows x 6 columns]"
      ]
     },
     "execution_count": 19,
     "metadata": {},
     "output_type": "execute_result"
    }
   ],
   "source": [
    "df"
   ]
  },
  {
   "cell_type": "code",
   "execution_count": 20,
   "id": "f55166bf",
   "metadata": {},
   "outputs": [],
   "source": [
    "driver.close()"
   ]
  },
  {
   "cell_type": "code",
   "execution_count": null,
   "id": "1b51936f",
   "metadata": {},
   "outputs": [],
   "source": []
  },
  {
   "cell_type": "markdown",
   "id": "2c56bd61",
   "metadata": {},
   "source": [
    "## Question 3 ---------------"
   ]
  },
  {
   "cell_type": "markdown",
   "id": "2ef61eef",
   "metadata": {},
   "source": [
    "Q3\n",
    "Write a python program to access the search bar and search button on images.google.com and scrape 10images each for keywords.\n",
    "1. Fruits\n",
    "2. cars and Machine Learning\n",
    "3. Guitar\n",
    "4. Cakes"
   ]
  },
  {
   "cell_type": "code",
   "execution_count": 163,
   "id": "f1140b1e",
   "metadata": {},
   "outputs": [],
   "source": [
    "from selenium import webdriver\n",
    "from selenium.webdriver.common.by import By\n",
    "from selenium.webdriver.support.ui import WebDriverWait\n",
    "from selenium.webdriver.support import expected_conditions as EC\n",
    "from selenium.common.exceptions import NoSuchElementException, StaleElementReferenceException\n",
    "import urllib\n",
    "import time\n",
    "from bs4 import BeautifulSoup\n",
    "import requests\n",
    "\n",
    "import warnings\n",
    "warnings.filterwarnings(\"ignore\")"
   ]
  },
  {
   "cell_type": "code",
   "execution_count": 164,
   "id": "020eaa82",
   "metadata": {},
   "outputs": [],
   "source": [
    "driver=webdriver.Edge('msedgedriver.exe')\n",
    "driver.get('https://images.google.com')"
   ]
  },
  {
   "cell_type": "code",
   "execution_count": 165,
   "id": "f35682ff",
   "metadata": {},
   "outputs": [],
   "source": [
    "Fruits=[]\n",
    "cars_Machine_Learning=[]\n",
    "Guitar=[]\n",
    "Cakes=[]"
   ]
  },
  {
   "cell_type": "markdown",
   "id": "f2854a30",
   "metadata": {},
   "source": [
    "#### Fruit Search"
   ]
  },
  {
   "cell_type": "code",
   "execution_count": 168,
   "id": "bc198959",
   "metadata": {},
   "outputs": [],
   "source": [
    "#Search \n",
    "fruits=driver.find_element(By.XPATH,'//input[@class=\"gLFyf gsfi\"]')\n",
    "fruits.send_keys(\"fruits\")\n",
    "\n",
    "search=driver.find_element(By.XPATH,'//*[@id=\"sbtc\"]/button/div/span')\n",
    "search.click()"
   ]
  },
  {
   "cell_type": "code",
   "execution_count": 172,
   "id": "b1e36cb0",
   "metadata": {},
   "outputs": [],
   "source": [
    "for i in range(20):\n",
    "    driver.execute_script(\"window.scrollBy(0,1000)\")\n",
    "\n",
    "images = driver.find_elements(By.XPATH,'/html/body/div[2]/c-wiz/div[3]/div[1]/div/div/div/div[1]/div[1]/span/div[1]/div[1]/div[1]/a[1]/div[1]')\n",
    "\n",
    "#tried this not working\n",
    "************************\n",
    "#//a[@class=\"wXeWr islib nfEiy\"]\n",
    "#//img[@data-ils=\"4\"]\n",
    "#//div[@class=\"bRMDJf islir\"]\n",
    "#//img[@src=\"<value is too large to edit>\"]S\n",
    "#/html/body/div[2]/c-wiz/div[3]/div[1]/div/div/div/div[1]/div[1]/span/div[1]/div[1]/div[1]/a[1]/div[1]\n",
    "#'//*[@id=\"islrg\"]/div[1]/div[1]/a[1]/div[1]/img')\n",
    "\n",
    "img_urls=[]\n",
    "img_data=[]\n",
    "\n",
    "for image in images:\n",
    "    source=image.get_attribute('src')\n",
    "    \n",
    "    if source is not None:\n",
    "        if(source[0:4]=='http'):\n",
    "            img_urls.append(Source)\n",
    "            \n",
    "for i in range(len(img_urls)):\n",
    "    if i>10:\n",
    "        break\n",
    "        \n",
    "        print(\"Downloading {0} of {1} images \".format(i,10))\n",
    "        response= requests.get(img_urls[i])\n",
    "        \n",
    "        file=open(r\"C:\\Users\" +str(i)+\".jpg\",\"wb\")\n",
    "        file.write(response.content)"
   ]
  },
  {
   "cell_type": "code",
   "execution_count": 173,
   "id": "ccc315fd",
   "metadata": {},
   "outputs": [
    {
     "data": {
      "text/plain": [
       "[]"
      ]
     },
     "execution_count": 173,
     "metadata": {},
     "output_type": "execute_result"
    }
   ],
   "source": [
    "img_urls"
   ]
  },
  {
   "cell_type": "code",
   "execution_count": 174,
   "id": "56e154d1",
   "metadata": {},
   "outputs": [
    {
     "data": {
      "text/plain": [
       "[]"
      ]
     },
     "execution_count": 174,
     "metadata": {},
     "output_type": "execute_result"
    }
   ],
   "source": [
    "img_data"
   ]
  },
  {
   "cell_type": "code",
   "execution_count": 64,
   "id": "674f2bad",
   "metadata": {},
   "outputs": [],
   "source": [
    "fruit_url=[]\n",
    "\n",
    "url=driver.find_elements(By.XPATH,'//a[@class=\"VFACy kGQAp sMi44c d0NI4c lNHeqe WGvvNb\"]')\n",
    "for i in url[:10]:\n",
    "    fruit_url.append(i.get_attribute('href'))"
   ]
  },
  {
   "cell_type": "code",
   "execution_count": null,
   "id": "d60a52a4",
   "metadata": {},
   "outputs": [],
   "source": []
  },
  {
   "cell_type": "code",
   "execution_count": 65,
   "id": "ea53fb39",
   "metadata": {},
   "outputs": [
    {
     "data": {
      "text/plain": [
       "['https://www.goodhousekeeping.com/health/diet-nutrition/g28511617/healthiest-fruits/',\n",
       " 'https://www.pinterest.com/pin/641340803167435998/',\n",
       " 'https://www.healthyeating.org/nutrition-topics/general/food-groups/fruits',\n",
       " 'https://onlymyenglish.com/fruits-name-english/',\n",
       " 'https://www.eatthis.com/best-fruits-to-eat-after-50/',\n",
       " 'https://in.pinterest.com/pin/649081365039047796/',\n",
       " 'https://www.unlockfood.ca/en/Articles/Cooking-Food-Preparation/How-to-store-fruit-to-keep-them-fresh.aspx',\n",
       " 'https://www.freepik.com/free-photos-vectors/fruits-drawing',\n",
       " 'https://www.vocabulary.cl/english/fruit.htm',\n",
       " 'https://engdic.org/5-fruits-names-with-pictures/']"
      ]
     },
     "execution_count": 65,
     "metadata": {},
     "output_type": "execute_result"
    }
   ],
   "source": [
    "fruit_url"
   ]
  },
  {
   "cell_type": "code",
   "execution_count": 67,
   "id": "e3c135c3",
   "metadata": {},
   "outputs": [
    {
     "ename": "SyntaxError",
     "evalue": "unexpected EOF while parsing (1974753269.py, line 6)",
     "output_type": "error",
     "traceback": [
      "\u001b[1;36m  Input \u001b[1;32mIn [67]\u001b[1;36m\u001b[0m\n\u001b[1;33m    Fruits.append(img.get_attribute('src'))\u001b[0m\n\u001b[1;37m                                           ^\u001b[0m\n\u001b[1;31mSyntaxError\u001b[0m\u001b[1;31m:\u001b[0m unexpected EOF while parsing\n"
     ]
    }
   ],
   "source": [
    "for i in fruit_url:\n",
    "    driver.get(i)\n",
    "    time.sleep(2)\n",
    "try:\n",
    "    brand = driver.find_element(By.XPATH,'//div[@class=\"bRMDJf islir\"]/img')    \n",
    "    Fruits.append(img.get_attribute('src'))"
   ]
  },
  {
   "cell_type": "markdown",
   "id": "c49d5e6a",
   "metadata": {},
   "source": [
    "#### Car Search"
   ]
  },
  {
   "cell_type": "code",
   "execution_count": null,
   "id": "b047d96c",
   "metadata": {},
   "outputs": [],
   "source": [
    "# enter search\n",
    "car_img=driver.find_elements(By.XPATH,'//input[@class=\"gLFyf gsfi\"]')\n",
    "car_img.send_keys(\"Cars and Machine learning\")\n",
    "\n",
    "# find search\n",
    "search=driver.find_element(By.XPATH,'//div[@class=\"zgAlFc\"]')\n",
    "search.click()"
   ]
  },
  {
   "cell_type": "code",
   "execution_count": null,
   "id": "c9563a3f",
   "metadata": {},
   "outputs": [],
   "source": [
    "car_url=[]\n",
    "url=driver.find_elements(By.XPATH,'//a[@class=\"wXeWr islib nfEiy\"]')\n",
    "\n",
    "for i in url[:10]:\n",
    "    car_url.append(img.Element.getAttribute('src'))"
   ]
  },
  {
   "cell_type": "code",
   "execution_count": null,
   "id": "08516142",
   "metadata": {},
   "outputs": [],
   "source": [
    "for i in car_url:\n",
    "Cars=[]\n",
    "for i in range(0,1):\n",
    "    car_title=driver.find_elements(By.XPATH,'//div[@class=\"bRMDJf islir\"]')[:10]\n",
    "    \n",
    "    #next append\n",
    "    for i in car_title:\n",
    "        Cars.append(i.get_attribute('img'))\n",
    "Cars"
   ]
  },
  {
   "cell_type": "markdown",
   "id": "d663bc43",
   "metadata": {},
   "source": [
    "#### Machine Learning Search"
   ]
  },
  {
   "cell_type": "code",
   "execution_count": null,
   "id": "eb02cfe3",
   "metadata": {},
   "outputs": [],
   "source": [
    "# enter search\n",
    "MachineL_img=driver.find_element(By.XPATH,'//input[@class=\"gLFyf gsfi\"]')\n",
    "machineL_img.send_keys(\"Machine Learning\")\n",
    "# find search\n",
    "search=driver.find_element(By.XPATH,'//div[@class=\"zgAlFc\"]')\n",
    "search.click()\n",
    "\n",
    "#download search\n",
    "Machine_Learning=[]\n",
    "for i in range(0,1):\n",
    "    machine_title=driver.find_elements(By.XPATH,'//div[@class=\"bRMDJf islir\"]')[:10]\n",
    "    \n",
    "    #next append\n",
    "    for i in machine_title:\n",
    "        Machine_Learning.append(i.get_attribute('img'))\n",
    "Machine_Learning"
   ]
  },
  {
   "cell_type": "markdown",
   "id": "8ec2f410",
   "metadata": {},
   "source": [
    "#### Guiter Search"
   ]
  },
  {
   "cell_type": "code",
   "execution_count": null,
   "id": "ce0395a9",
   "metadata": {},
   "outputs": [],
   "source": [
    "# enter search\n",
    "Guitar_img=driver.find_element(By.XPATH,'//input[@class=\"gLFyf gsfi\"]')\n",
    "Guitar_img.send_keys(\"Guitar\")\n",
    "# find search\n",
    "search=driver.find_element(By.XPATH,'//div[@class=\"zgAlFc\"]')\n",
    "search.click()\n",
    "\n",
    "#download search\n",
    "Guiters=[]\n",
    "for i in range(0,1):\n",
    "    guiter_title=driver.find_elements(By.XPATH,'//div[@class=\"bRMDJf islir\"]')[:10]\n",
    "    \n",
    "    #next append\n",
    "    for i in guiter_title:\n",
    "        Guiters.append(i.get_attribute('img'))\n",
    "Guiters"
   ]
  },
  {
   "cell_type": "markdown",
   "id": "103b8cba",
   "metadata": {},
   "source": [
    "#### Cake Search"
   ]
  },
  {
   "cell_type": "code",
   "execution_count": null,
   "id": "d7758d68",
   "metadata": {},
   "outputs": [],
   "source": [
    "# enter search\n",
    "Cakes_img=driver.find_element(By.XPATH,'//input[@class=\"gLFyf gsfi\"]')\n",
    "Cakes_img.send_keys(\"Cakes\")\n",
    "# find search\n",
    "search=driver.find_element(By.XPATH,'//div[@class=\"zgAlFc\"]')\n",
    "search.click()\n",
    "\n",
    "#download search\n",
    "Cakes=[]\n",
    "for i in range(0,1):\n",
    "    cake_title=driver.find_elements(By.XPATH,'//div[@class=\"bRMDJf islir\"]')[:10]\n",
    "    \n",
    "    #next append\n",
    "    for i in cake_title:\n",
    "        Cakes.append(i.get_attribute('img'))\n",
    "Cakes"
   ]
  },
  {
   "cell_type": "code",
   "execution_count": null,
   "id": "50e13b06",
   "metadata": {},
   "outputs": [],
   "source": [
    "driver.close()"
   ]
  },
  {
   "cell_type": "markdown",
   "id": "23b7db17",
   "metadata": {},
   "source": [
    "# Q4"
   ]
  },
  {
   "cell_type": "markdown",
   "id": "1c9742c7",
   "metadata": {},
   "source": [
    "Write a python program to search for a smartphone(e.g.: Oneplus Nord, pixel 4A, etc.) on www.flipkart.com and scrape following details for all the search results displayed on 1st page. Details to be scraped: \n",
    "1. Brand Name\n",
    "2. Smartphone name\n",
    "3. Colour \n",
    "4. RAM \n",
    "5. Storage(ROM)\n",
    "6. Primary Camera\n",
    "7. Secondary Camera,\n",
    "8. Display Size\n",
    "9. Battery Capacity\n",
    "10. Price\n",
    "11. Product URL\n",
    "Incase if any of the details is missing then replace it by “- “.Save your results in a dataframe and CSV."
   ]
  },
  {
   "cell_type": "code",
   "execution_count": 177,
   "id": "b9e581ef",
   "metadata": {},
   "outputs": [],
   "source": [
    "import selenium\n",
    "from selenium import webdriver\n",
    "from selenium.webdriver.common.by import By\n",
    "from selenium.webdriver.support.ui import WebDriverWait\n",
    "from selenium.webdriver.support import expected_conditions as EC\n",
    "from selenium.common.exceptions import NoSuchElementException, StaleElementReferenceException\n",
    "import time\n",
    "import pandas as pd"
   ]
  },
  {
   "cell_type": "code",
   "execution_count": 178,
   "id": "fe163df0",
   "metadata": {},
   "outputs": [],
   "source": [
    "driver=webdriver.Edge(r'C:\\Users\\jitsa\\Downloads\\msedgedriver.exe')\n",
    "driver.get(r'https://www.flipkart.com')"
   ]
  },
  {
   "cell_type": "code",
   "execution_count": 179,
   "id": "e8f41a44",
   "metadata": {},
   "outputs": [],
   "source": [
    "# closing unwanted pop-out\n",
    "close_tab=driver.find_element(By.XPATH,'/html/body/div[2]/div/div/button')\n",
    "close_tab.click()"
   ]
  },
  {
   "cell_type": "code",
   "execution_count": 180,
   "id": "11961ca9",
   "metadata": {},
   "outputs": [
    {
     "name": "stdout",
     "output_type": "stream",
     "text": [
      "Please Enter the search One Plus\n"
     ]
    }
   ],
   "source": [
    "def search_desire():\n",
    "    search=driver.find_element(By.CLASS_NAME,\"_3704LK\")\n",
    "    find=str(input(\"Please Enter the search \"))\n",
    "    search.send_keys(find)\n",
    "    \n",
    "    path=driver.find_element(By.XPATH,'/html/body/div[1]/div/div[1]/div[1]/div[2]/div[2]/form/div/button')\n",
    "    path.click()\n",
    "    return\n",
    "search_desire()"
   ]
  },
  {
   "cell_type": "code",
   "execution_count": 181,
   "id": "043af8e0",
   "metadata": {},
   "outputs": [],
   "source": [
    "#fetching link from sets.\n",
    "Mobile_url=[]\n",
    "url=driver.find_elements(By.XPATH,'//a[@class=\"_2rpwqI\"]')\n",
    "for i in url:\n",
    "    Mobile_url.append(i.get_attribute(\"href\"))"
   ]
  },
  {
   "cell_type": "code",
   "execution_count": 182,
   "id": "7727a56c",
   "metadata": {},
   "outputs": [],
   "source": [
    "mobile_clk=driver.find_element(By.XPATH,'//a[@class=\"s1Q9rs\"]')\n",
    "mobile_clk.click()"
   ]
  },
  {
   "cell_type": "code",
   "execution_count": 185,
   "id": "9ed0169a",
   "metadata": {},
   "outputs": [],
   "source": [
    "B_Name=[]\n",
    "\n",
    "for i in Mobile_url[0:2]:\n",
    "    driver.get(i)\n",
    "    time.sleep(2)\n",
    "    \n",
    "    try:\n",
    "        bran=driver.find_element(By.XPATH,'//*[@id=\"container\"]/div/div[3]/div[1]/div[2]/div[8]/div[4]/div/div[2]/div/div[1]/table/tbody/tr[3]/td[2]/ul/li')\n",
    "        B_Name.append(bran.text.strip(\"\"))\n",
    "    except NoSuchElementException:\n",
    "        B_Name.append('-')\n",
    "        \n",
    "        #//span[@class=\"B_NuCI\"]"
   ]
  },
  {
   "cell_type": "code",
   "execution_count": 186,
   "id": "3f40ec9f",
   "metadata": {},
   "outputs": [
    {
     "data": {
      "text/plain": [
       "['Nord CE 2 Lite 5G', '-']"
      ]
     },
     "execution_count": 186,
     "metadata": {},
     "output_type": "execute_result"
    }
   ],
   "source": [
    "B_Name"
   ]
  },
  {
   "cell_type": "code",
   "execution_count": 187,
   "id": "7277cb98",
   "metadata": {},
   "outputs": [
    {
     "data": {
      "text/plain": [
       "2"
      ]
     },
     "execution_count": 187,
     "metadata": {},
     "output_type": "execute_result"
    }
   ],
   "source": [
    "len(B_Name)"
   ]
  },
  {
   "cell_type": "code",
   "execution_count": 188,
   "id": "1ff8afdb",
   "metadata": {},
   "outputs": [],
   "source": [
    "Model_N=[]\n",
    "for i in Mobile_url[0:2]:\n",
    "    driver.get(i)\n",
    "    time.sleep(2)\n",
    "    \n",
    "    try:\n",
    "        bran=driver.find_element(By.XPATH,'//*[@id=\"container\"]/div/div[3]/div[1]/div[2]/div[8]/div[4]/div/div[2]/div[1]/div[1]/table/tbody/tr[2]/td[2]/ul/li')\n",
    "        Model_N.append(bran.text.split())\n",
    "    except NoSuchElementException:\n",
    "        Model_N.append('-')"
   ]
  },
  {
   "cell_type": "code",
   "execution_count": 189,
   "id": "79b8919f",
   "metadata": {},
   "outputs": [
    {
     "data": {
      "text/plain": [
       "[['CPH2381'], '-']"
      ]
     },
     "execution_count": 189,
     "metadata": {},
     "output_type": "execute_result"
    }
   ],
   "source": [
    "Model_N"
   ]
  },
  {
   "cell_type": "code",
   "execution_count": 196,
   "id": "f7931c0e",
   "metadata": {},
   "outputs": [
    {
     "data": {
      "text/plain": [
       "[['Black', 'Dusk'], '-']"
      ]
     },
     "execution_count": 196,
     "metadata": {},
     "output_type": "execute_result"
    }
   ],
   "source": [
    "Colour=[]\n",
    "for i in Mobile_url[0:2]:\n",
    "    driver.get(i)\n",
    "    time.sleep(2)\n",
    "    \n",
    "    try:\n",
    "        col=driver.find_element(By.XPATH,'//*[@id=\"container\"]/div/div[3]/div[1]/div[2]/div[8]/div[4]/div/div[2]/div[1]/div[1]/table/tbody/tr[4]/td[2]')\n",
    "        Colour.append(col.text.split())\n",
    "    except NoSuchElementException:\n",
    "        Colour.append('-')\n",
    "Colour"
   ]
  },
  {
   "cell_type": "code",
   "execution_count": 197,
   "id": "50b6f761",
   "metadata": {},
   "outputs": [
    {
     "data": {
      "text/plain": [
       "[[], '-']"
      ]
     },
     "execution_count": 197,
     "metadata": {},
     "output_type": "execute_result"
    }
   ],
   "source": [
    "RAM=[]\n",
    "for i in Mobile_url[0:2]:\n",
    "    driver.get(i)\n",
    "    time.sleep(2)\n",
    "    \n",
    "    try:\n",
    "        ram=driver.find_element(By.XPATH,'')\n",
    "        RAM.append(ram.text.split())\n",
    "    except NoSuchElementException:\n",
    "        RAM.append('-')\n",
    "RAM"
   ]
  },
  {
   "cell_type": "code",
   "execution_count": 204,
   "id": "f02a4df6",
   "metadata": {},
   "outputs": [
    {
     "ename": "AttributeError",
     "evalue": "'list' object has no attribute 'text'",
     "output_type": "error",
     "traceback": [
      "\u001b[1;31m---------------------------------------------------------------------------\u001b[0m",
      "\u001b[1;31mAttributeError\u001b[0m                            Traceback (most recent call last)",
      "Input \u001b[1;32mIn [204]\u001b[0m, in \u001b[0;36m<cell line: 2>\u001b[1;34m()\u001b[0m\n\u001b[0;32m      6\u001b[0m \u001b[38;5;28;01mtry\u001b[39;00m:\n\u001b[0;32m      7\u001b[0m     ram\u001b[38;5;241m=\u001b[39mdriver\u001b[38;5;241m.\u001b[39mfind_elements(By\u001b[38;5;241m.\u001b[39mXPATH,\u001b[38;5;124m'\u001b[39m\u001b[38;5;124m//*[@id=\u001b[39m\u001b[38;5;124m\"\u001b[39m\u001b[38;5;124mcontainer\u001b[39m\u001b[38;5;124m\"\u001b[39m\u001b[38;5;124m]/div/div[3]/div[1]/div[2]/div[8]/div[4]/div/div[2]/div[1]/div[4]/table/tbody/tr[2]/td[2]/ul/li\u001b[39m\u001b[38;5;124m'\u001b[39m)\n\u001b[1;32m----> 8\u001b[0m     RAM\u001b[38;5;241m.\u001b[39mappend(\u001b[43mram\u001b[49m\u001b[38;5;241;43m.\u001b[39;49m\u001b[43mtext\u001b[49m\u001b[38;5;241m.\u001b[39msplit())\n\u001b[0;32m      9\u001b[0m \u001b[38;5;28;01mexcept\u001b[39;00m NoSuchElementException:\n\u001b[0;32m     10\u001b[0m     RAM\u001b[38;5;241m.\u001b[39mappend(\u001b[38;5;124m'\u001b[39m\u001b[38;5;124m-\u001b[39m\u001b[38;5;124m'\u001b[39m)\n",
      "\u001b[1;31mAttributeError\u001b[0m: 'list' object has no attribute 'text'"
     ]
    }
   ],
   "source": [
    "RAM=[]\n",
    "for i in Mobile_url[0:2]:\n",
    "    driver.get(i)\n",
    "    time.sleep(2)\n",
    "    \n",
    "    try:\n",
    "        ram=driver.find_elements(By.XPATH,'//*[@id=\"container\"]/div/div[3]/div[1]/div[2]/div[8]/div[4]/div/div[2]/div[1]/div[4]/table/tbody/tr[2]/td[2]/ul/li')\n",
    "        RAM.append(ram.text.split())\n",
    "    except NoSuchElementException:\n",
    "        RAM.append('-')\n",
    "RAM"
   ]
  },
  {
   "cell_type": "code",
   "execution_count": 200,
   "id": "63f7db43",
   "metadata": {},
   "outputs": [
    {
     "data": {
      "text/plain": [
       "['', '-']"
      ]
     },
     "execution_count": 200,
     "metadata": {},
     "output_type": "execute_result"
    }
   ],
   "source": [
    "Storage=[]\n",
    "for i in Mobile_url[0:2]:\n",
    "    driver.get(i)\n",
    "    time.sleep(2)\n",
    "    \n",
    "    try:\n",
    "        stor=driver.find_element(By.XPATH,'//*[@id=\"container\"]/div/div[3]/div[1]/div[2]/div[8]/div[4]/div/div[2]/div[1]/div[4]/table/tbody/tr[1]/td[2]/ul/li')\n",
    "        Storage.append(stor.text.strip())\n",
    "    except NoSuchElementException:\n",
    "        Storage.append('-')\n",
    "Storage"
   ]
  },
  {
   "cell_type": "code",
   "execution_count": 202,
   "id": "ec5b9a08",
   "metadata": {},
   "outputs": [
    {
     "ename": "InvalidSelectorException",
     "evalue": "Message: invalid selector: The result of the xpath expression \"/\" is: [object HTMLDocument]. It should be an element.\n  (Session info: MicrosoftEdge=105.0.1343.27)\nStacktrace:\nBacktrace:\n\tMicrosoft::Applications::Events::EventProperties::unpack [0x00007FF75B2B47D2+26370]\n\tMicrosoft::Applications::Events::GUID_t::GUID_t [0x00007FF75B209B32+339106]\n\tOrdinal0 [0x00007FF75AD97821+620577]\n\tOrdinal0 [0x00007FF75AD9AD9A+634266]\n\tOrdinal0 [0x00007FF75AD9AB1B+633627]\n\tOrdinal0 [0x00007FF75AD9AED0+634576]\n\tOrdinal0 [0x00007FF75ADD3B58+867160]\n\tOrdinal0 [0x00007FF75ADD4053+868435]\n\tOrdinal0 [0x00007FF75AE05DB7+1072567]\n\tOrdinal0 [0x00007FF75ADEF48F+980111]\n\tOrdinal0 [0x00007FF75AE0358F+1062287]\n\tOrdinal0 [0x00007FF75ADEF263+979555]\n\tOrdinal0 [0x00007FF75ADC6070+811120]\n\tOrdinal0 [0x00007FF75ADC7668+816744]\n\tMicrosoft::Applications::Events::EventProperty::EventProperty [0x00007FF75B062FF8+128088]\n\tMicrosoft::Applications::Events::EventProperty::EventProperty [0x00007FF75B04C94B+36267]\n\tMicrosoft::Applications::Events::EventProperty::EventProperty [0x00007FF75B04F96C+48588]\n\tMicrosoft::Applications::Events::EventProperty::to_string [0x00007FF75AEA4943+22115]\n\tMicrosoft::Applications::Events::GUID_t::GUID_t [0x00007FF75B21115B+369355]\n\tMicrosoft::Applications::Events::GUID_t::GUID_t [0x00007FF75B215FF4+389476]\n\tMicrosoft::Applications::Events::GUID_t::GUID_t [0x00007FF75B21614D+389821]\n\tMicrosoft::Applications::Events::time_ticks_t::time_ticks_t [0x00007FF75B220BD9+40761]\n\tBaseThreadInitThunk [0x00007FF8EB8B244D+29]\n\tRtlUserThreadStart [0x00007FF8ED52DF78+40]\n",
     "output_type": "error",
     "traceback": [
      "\u001b[1;31m---------------------------------------------------------------------------\u001b[0m",
      "\u001b[1;31mInvalidSelectorException\u001b[0m                  Traceback (most recent call last)",
      "Input \u001b[1;32mIn [202]\u001b[0m, in \u001b[0;36m<cell line: 2>\u001b[1;34m()\u001b[0m\n\u001b[0;32m      4\u001b[0m time\u001b[38;5;241m.\u001b[39msleep(\u001b[38;5;241m2\u001b[39m)\n\u001b[0;32m      6\u001b[0m \u001b[38;5;28;01mtry\u001b[39;00m:\n\u001b[1;32m----> 7\u001b[0m     stor\u001b[38;5;241m=\u001b[39m\u001b[43mdriver\u001b[49m\u001b[38;5;241;43m.\u001b[39;49m\u001b[43mfind_element\u001b[49m\u001b[43m(\u001b[49m\u001b[43mBy\u001b[49m\u001b[38;5;241;43m.\u001b[39;49m\u001b[43mXPATH\u001b[49m\u001b[43m,\u001b[49m\u001b[38;5;124;43m'\u001b[39;49m\u001b[38;5;124;43m//*[@id=\u001b[39;49m\u001b[38;5;124;43m\"\u001b[39;49m\u001b[38;5;124;43mcontainer\u001b[39;49m\u001b[38;5;124;43m\"\u001b[39;49m\u001b[38;5;124;43m]/div/div[3]/div[1]/div[2]/div[8]/div[4]/div/div[2]/div[1]/div[4]/table/tbody/tr[1]/td[2]/ul/li\u001b[39;49m\u001b[38;5;124;43m'\u001b[39;49m\u001b[43m[\u001b[49m\u001b[38;5;241;43m0\u001b[39;49m\u001b[43m:\u001b[49m\u001b[38;5;241;43m1\u001b[39;49m\u001b[43m]\u001b[49m\u001b[43m)\u001b[49m\n\u001b[0;32m      8\u001b[0m     Specifiction\u001b[38;5;241m.\u001b[39mappend(stor\u001b[38;5;241m.\u001b[39mtext\u001b[38;5;241m.\u001b[39mstrip())\n\u001b[0;32m      9\u001b[0m \u001b[38;5;28;01mexcept\u001b[39;00m NoSuchElementException:\n",
      "File \u001b[1;32m~\\anaconda3\\lib\\site-packages\\selenium\\webdriver\\remote\\webdriver.py:856\u001b[0m, in \u001b[0;36mWebDriver.find_element\u001b[1;34m(self, by, value)\u001b[0m\n\u001b[0;32m    853\u001b[0m     by \u001b[38;5;241m=\u001b[39m By\u001b[38;5;241m.\u001b[39mCSS_SELECTOR\n\u001b[0;32m    854\u001b[0m     value \u001b[38;5;241m=\u001b[39m \u001b[38;5;124m'\u001b[39m\u001b[38;5;124m[name=\u001b[39m\u001b[38;5;124m\"\u001b[39m\u001b[38;5;132;01m%s\u001b[39;00m\u001b[38;5;124m\"\u001b[39m\u001b[38;5;124m]\u001b[39m\u001b[38;5;124m'\u001b[39m \u001b[38;5;241m%\u001b[39m value\n\u001b[1;32m--> 856\u001b[0m \u001b[38;5;28;01mreturn\u001b[39;00m \u001b[38;5;28;43mself\u001b[39;49m\u001b[38;5;241;43m.\u001b[39;49m\u001b[43mexecute\u001b[49m\u001b[43m(\u001b[49m\u001b[43mCommand\u001b[49m\u001b[38;5;241;43m.\u001b[39;49m\u001b[43mFIND_ELEMENT\u001b[49m\u001b[43m,\u001b[49m\u001b[43m \u001b[49m\u001b[43m{\u001b[49m\n\u001b[0;32m    857\u001b[0m \u001b[43m    \u001b[49m\u001b[38;5;124;43m'\u001b[39;49m\u001b[38;5;124;43musing\u001b[39;49m\u001b[38;5;124;43m'\u001b[39;49m\u001b[43m:\u001b[49m\u001b[43m \u001b[49m\u001b[43mby\u001b[49m\u001b[43m,\u001b[49m\n\u001b[0;32m    858\u001b[0m \u001b[43m    \u001b[49m\u001b[38;5;124;43m'\u001b[39;49m\u001b[38;5;124;43mvalue\u001b[39;49m\u001b[38;5;124;43m'\u001b[39;49m\u001b[43m:\u001b[49m\u001b[43m \u001b[49m\u001b[43mvalue\u001b[49m\u001b[43m}\u001b[49m\u001b[43m)\u001b[49m[\u001b[38;5;124m'\u001b[39m\u001b[38;5;124mvalue\u001b[39m\u001b[38;5;124m'\u001b[39m]\n",
      "File \u001b[1;32m~\\anaconda3\\lib\\site-packages\\selenium\\webdriver\\remote\\webdriver.py:434\u001b[0m, in \u001b[0;36mWebDriver.execute\u001b[1;34m(self, driver_command, params)\u001b[0m\n\u001b[0;32m    432\u001b[0m response \u001b[38;5;241m=\u001b[39m \u001b[38;5;28mself\u001b[39m\u001b[38;5;241m.\u001b[39mcommand_executor\u001b[38;5;241m.\u001b[39mexecute(driver_command, params)\n\u001b[0;32m    433\u001b[0m \u001b[38;5;28;01mif\u001b[39;00m response:\n\u001b[1;32m--> 434\u001b[0m     \u001b[38;5;28;43mself\u001b[39;49m\u001b[38;5;241;43m.\u001b[39;49m\u001b[43merror_handler\u001b[49m\u001b[38;5;241;43m.\u001b[39;49m\u001b[43mcheck_response\u001b[49m\u001b[43m(\u001b[49m\u001b[43mresponse\u001b[49m\u001b[43m)\u001b[49m\n\u001b[0;32m    435\u001b[0m     response[\u001b[38;5;124m'\u001b[39m\u001b[38;5;124mvalue\u001b[39m\u001b[38;5;124m'\u001b[39m] \u001b[38;5;241m=\u001b[39m \u001b[38;5;28mself\u001b[39m\u001b[38;5;241m.\u001b[39m_unwrap_value(\n\u001b[0;32m    436\u001b[0m         response\u001b[38;5;241m.\u001b[39mget(\u001b[38;5;124m'\u001b[39m\u001b[38;5;124mvalue\u001b[39m\u001b[38;5;124m'\u001b[39m, \u001b[38;5;28;01mNone\u001b[39;00m))\n\u001b[0;32m    437\u001b[0m     \u001b[38;5;28;01mreturn\u001b[39;00m response\n",
      "File \u001b[1;32m~\\anaconda3\\lib\\site-packages\\selenium\\webdriver\\remote\\errorhandler.py:243\u001b[0m, in \u001b[0;36mErrorHandler.check_response\u001b[1;34m(self, response)\u001b[0m\n\u001b[0;32m    241\u001b[0m         alert_text \u001b[38;5;241m=\u001b[39m value[\u001b[38;5;124m'\u001b[39m\u001b[38;5;124malert\u001b[39m\u001b[38;5;124m'\u001b[39m]\u001b[38;5;241m.\u001b[39mget(\u001b[38;5;124m'\u001b[39m\u001b[38;5;124mtext\u001b[39m\u001b[38;5;124m'\u001b[39m)\n\u001b[0;32m    242\u001b[0m     \u001b[38;5;28;01mraise\u001b[39;00m exception_class(message, screen, stacktrace, alert_text)  \u001b[38;5;66;03m# type: ignore[call-arg]  # mypy is not smart enough here\u001b[39;00m\n\u001b[1;32m--> 243\u001b[0m \u001b[38;5;28;01mraise\u001b[39;00m exception_class(message, screen, stacktrace)\n",
      "\u001b[1;31mInvalidSelectorException\u001b[0m: Message: invalid selector: The result of the xpath expression \"/\" is: [object HTMLDocument]. It should be an element.\n  (Session info: MicrosoftEdge=105.0.1343.27)\nStacktrace:\nBacktrace:\n\tMicrosoft::Applications::Events::EventProperties::unpack [0x00007FF75B2B47D2+26370]\n\tMicrosoft::Applications::Events::GUID_t::GUID_t [0x00007FF75B209B32+339106]\n\tOrdinal0 [0x00007FF75AD97821+620577]\n\tOrdinal0 [0x00007FF75AD9AD9A+634266]\n\tOrdinal0 [0x00007FF75AD9AB1B+633627]\n\tOrdinal0 [0x00007FF75AD9AED0+634576]\n\tOrdinal0 [0x00007FF75ADD3B58+867160]\n\tOrdinal0 [0x00007FF75ADD4053+868435]\n\tOrdinal0 [0x00007FF75AE05DB7+1072567]\n\tOrdinal0 [0x00007FF75ADEF48F+980111]\n\tOrdinal0 [0x00007FF75AE0358F+1062287]\n\tOrdinal0 [0x00007FF75ADEF263+979555]\n\tOrdinal0 [0x00007FF75ADC6070+811120]\n\tOrdinal0 [0x00007FF75ADC7668+816744]\n\tMicrosoft::Applications::Events::EventProperty::EventProperty [0x00007FF75B062FF8+128088]\n\tMicrosoft::Applications::Events::EventProperty::EventProperty [0x00007FF75B04C94B+36267]\n\tMicrosoft::Applications::Events::EventProperty::EventProperty [0x00007FF75B04F96C+48588]\n\tMicrosoft::Applications::Events::EventProperty::to_string [0x00007FF75AEA4943+22115]\n\tMicrosoft::Applications::Events::GUID_t::GUID_t [0x00007FF75B21115B+369355]\n\tMicrosoft::Applications::Events::GUID_t::GUID_t [0x00007FF75B215FF4+389476]\n\tMicrosoft::Applications::Events::GUID_t::GUID_t [0x00007FF75B21614D+389821]\n\tMicrosoft::Applications::Events::time_ticks_t::time_ticks_t [0x00007FF75B220BD9+40761]\n\tBaseThreadInitThunk [0x00007FF8EB8B244D+29]\n\tRtlUserThreadStart [0x00007FF8ED52DF78+40]\n"
     ]
    }
   ],
   "source": [
    "Specification=[]\n",
    "for i in Mobile_url[0:2]:\n",
    "    driver.get(i)\n",
    "    time.sleep(2)\n",
    "    \n",
    "    try:\n",
    "        stor=driver.find_element(By.XPATH,'//*[@id=\"container\"]/div/div[3]/div[1]/div[2]/div[8]/div[4]/div/div[2]/div[1]/div[4]/table/tbody/tr[1]/td[2]/ul/li'[0:1])\n",
    "        Specifiction.append(stor.text.strip())\n",
    "    except NoSuchElementException:\n",
    "        Spicification.append('-')\n",
    "Specification"
   ]
  },
  {
   "cell_type": "code",
   "execution_count": 211,
   "id": "c413800c",
   "metadata": {},
   "outputs": [
    {
     "ename": "AttributeError",
     "evalue": "'list' object has no attribute 'text'",
     "output_type": "error",
     "traceback": [
      "\u001b[1;31m---------------------------------------------------------------------------\u001b[0m",
      "\u001b[1;31mAttributeError\u001b[0m                            Traceback (most recent call last)",
      "Input \u001b[1;32mIn [211]\u001b[0m, in \u001b[0;36m<cell line: 2>\u001b[1;34m()\u001b[0m\n\u001b[0;32m      6\u001b[0m \u001b[38;5;28;01mtry\u001b[39;00m:\n\u001b[0;32m      7\u001b[0m     stor\u001b[38;5;241m=\u001b[39mdriver\u001b[38;5;241m.\u001b[39mfind_elements(By\u001b[38;5;241m.\u001b[39mXPATH,\u001b[38;5;124m'\u001b[39m\u001b[38;5;124m//div[@class=\u001b[39m\u001b[38;5;124m\"\u001b[39m\u001b[38;5;124m_1UhVsV\u001b[39m\u001b[38;5;124m\"\u001b[39m\u001b[38;5;124m]\u001b[39m\u001b[38;5;124m'\u001b[39m)\n\u001b[1;32m----> 8\u001b[0m     Specification\u001b[38;5;241m.\u001b[39mappend(\u001b[43mstor\u001b[49m\u001b[38;5;241;43m.\u001b[39;49m\u001b[43mtext\u001b[49m\u001b[38;5;241m.\u001b[39mstrip())\n\u001b[0;32m      9\u001b[0m \u001b[38;5;28;01mexcept\u001b[39;00m NoSuchElementException:\n\u001b[0;32m     10\u001b[0m     Specification\u001b[38;5;241m.\u001b[39mappend(\u001b[38;5;124m'\u001b[39m\u001b[38;5;124m-\u001b[39m\u001b[38;5;124m'\u001b[39m)\n",
      "\u001b[1;31mAttributeError\u001b[0m: 'list' object has no attribute 'text'"
     ]
    }
   ],
   "source": [
    "Specification=[]\n",
    "for i in Mobile_url[0:2]:\n",
    "    driver.get(i)\n",
    "    time.sleep(2)\n",
    "    \n",
    "    try:\n",
    "        stor=driver.find_elements(By.XPATH,'//div[@class=\"_1UhVsV\"]')\n",
    "        Specification.append(stor.text.strip())\n",
    "    except NoSuchElementException:\n",
    "        Specification.append('-')\n",
    "        \n",
    "Specification"
   ]
  },
  {
   "cell_type": "code",
   "execution_count": null,
   "id": "c1a12e14",
   "metadata": {},
   "outputs": [],
   "source": [
    "Specifications"
   ]
  },
  {
   "cell_type": "code",
   "execution_count": 63,
   "id": "36840721",
   "metadata": {},
   "outputs": [
    {
     "ename": "TypeError",
     "evalue": "'list' object cannot be interpreted as an integer",
     "output_type": "error",
     "traceback": [
      "\u001b[1;31m---------------------------------------------------------------------------\u001b[0m",
      "\u001b[1;31mTypeError\u001b[0m                                 Traceback (most recent call last)",
      "Input \u001b[1;32mIn [63]\u001b[0m, in \u001b[0;36m<cell line: 2>\u001b[1;34m()\u001b[0m\n\u001b[0;32m      1\u001b[0m Brand\u001b[38;5;241m=\u001b[39m[]\n\u001b[1;32m----> 2\u001b[0m \u001b[38;5;28;01mfor\u001b[39;00m i \u001b[38;5;129;01min\u001b[39;00m (\u001b[38;5;28;43mrange\u001b[39;49m\u001b[43m(\u001b[49m\u001b[43mB_Name\u001b[49m\u001b[43m)\u001b[49m):\n\u001b[0;32m      3\u001b[0m     Brand\u001b[38;5;241m.\u001b[39mappend(B_Name[i])   \n\u001b[0;32m      4\u001b[0m Brand\n",
      "\u001b[1;31mTypeError\u001b[0m: 'list' object cannot be interpreted as an integer"
     ]
    }
   ],
   "source": [
    "Brand=[]\n",
    "for i in (range(B_Name)):\n",
    "    Brand.append(B_Name[i])   \n",
    "Brand"
   ]
  },
  {
   "cell_type": "code",
   "execution_count": null,
   "id": "fa8ec944",
   "metadata": {},
   "outputs": [],
   "source": []
  },
  {
   "cell_type": "code",
   "execution_count": null,
   "id": "882ddf2e",
   "metadata": {},
   "outputs": [],
   "source": []
  },
  {
   "cell_type": "code",
   "execution_count": null,
   "id": "e476f050",
   "metadata": {},
   "outputs": [],
   "source": []
  },
  {
   "cell_type": "markdown",
   "id": "461b4707",
   "metadata": {},
   "source": [
    "### Q5.Write a program to scrap geospatial coordinates (latitude, longitude) of a city searched on google maps."
   ]
  },
  {
   "cell_type": "code",
   "execution_count": 75,
   "id": "65a94542",
   "metadata": {},
   "outputs": [],
   "source": [
    "import selenium \n",
    "from selenium import webdriver\n",
    "from selenium.webdriver.common.by import By\n",
    "from selenium.webdriver.support.ui import WebDriverWait\n",
    "from selenium.webdriver.support import expected_conditions as EC\n",
    "from selenium.common.exceptions import NoSuchElementException, StaleElementReferenceException\n",
    "import time\n",
    "import pandas as pd"
   ]
  },
  {
   "cell_type": "code",
   "execution_count": 76,
   "id": "a33825f9",
   "metadata": {},
   "outputs": [],
   "source": [
    "driver=webdriver.Edge(r'msedgedriver.exe')\n",
    "driver.get('https://www.google.co.in/maps')"
   ]
  },
  {
   "cell_type": "code",
   "execution_count": 77,
   "id": "37eeb843",
   "metadata": {},
   "outputs": [],
   "source": [
    "# search and find\n",
    "\n",
    "search_place=driver.find_element(By.XPATH,'//input[@autofocus=\"autofocus\"]')\n",
    "search_place.send_keys('Kolkata')"
   ]
  },
  {
   "cell_type": "code",
   "execution_count": 78,
   "id": "67a5683b",
   "metadata": {},
   "outputs": [],
   "source": [
    "search=driver.find_element(By.XPATH,'//button[@aria-label=\"Search\"]')\n",
    "search.click()"
   ]
  },
  {
   "cell_type": "code",
   "execution_count": 79,
   "id": "90acb0c5",
   "metadata": {},
   "outputs": [
    {
     "ename": "SyntaxError",
     "evalue": "unexpected EOF while parsing (181907800.py, line 5)",
     "output_type": "error",
     "traceback": [
      "\u001b[1;36m  Input \u001b[1;32mIn [79]\u001b[1;36m\u001b[0m\n\u001b[1;33m    last_lng=re.findall(r'@(.*)data',url_string)\u001b[0m\n\u001b[1;37m                                                ^\u001b[0m\n\u001b[1;31mSyntaxError\u001b[0m\u001b[1;31m:\u001b[0m unexpected EOF while parsing\n"
     ]
    }
   ],
   "source": [
    "try:\n",
    "    url_string =driver.current_url #getting current url string in url_string\n",
    "    \n",
    "    print(\"url Extracted: \",url_string)#print link\n",
    "    last_lng=re.findall(r'@(.*)data',url_string)"
   ]
  },
  {
   "cell_type": "code",
   "execution_count": null,
   "id": "d14ae2d7",
   "metadata": {},
   "outputs": [],
   "source": []
  },
  {
   "cell_type": "code",
   "execution_count": 74,
   "id": "f83c7641",
   "metadata": {},
   "outputs": [],
   "source": [
    "driver.close()"
   ]
  },
  {
   "cell_type": "markdown",
   "id": "eeb1f09d",
   "metadata": {},
   "source": [
    "## Q6. Write a program to scrap details of all the funding deals for second quarter (i.e Jan 21 – March 21) from trak.in."
   ]
  },
  {
   "cell_type": "code",
   "execution_count": 81,
   "id": "653ef229",
   "metadata": {},
   "outputs": [],
   "source": [
    "import selenium \n",
    "from selenium import webdriver\n",
    "from selenium.webdriver.common.by import By\n",
    "from selenium.webdriver.support.ui import WebDriverWait\n",
    "from selenium.webdriver.support import expected_conditions as EC\n",
    "from selenium.common.exceptions import NoSuchElementException, StaleElementReferenceException\n",
    "import time\n",
    "import pandas as pd"
   ]
  },
  {
   "cell_type": "code",
   "execution_count": 90,
   "id": "47ab0291",
   "metadata": {},
   "outputs": [],
   "source": [
    "driver=webdriver.Edge(\"msedgedriver.exe\")\n",
    "driver.get(r\"https://trak.in/\")"
   ]
  },
  {
   "cell_type": "code",
   "execution_count": 93,
   "id": "445caaaa",
   "metadata": {},
   "outputs": [],
   "source": [
    "funding_deal=driver.find_element(By.XPATH,'//li[@id=\"menu-item-51510\"]')\n",
    "funding_deal.click()"
   ]
  },
  {
   "cell_type": "code",
   "execution_count": 97,
   "id": "0d2eb114",
   "metadata": {},
   "outputs": [
    {
     "ename": "NoSuchElementException",
     "evalue": "Message: no such element: Unable to locate element: {\"method\":\"xpath\",\"selector\":\"//span[@x-score=\"1\"]\"}\n  (Session info: MicrosoftEdge=105.0.1343.27)\nStacktrace:\nBacktrace:\n\tMicrosoft::Applications::Events::EventProperties::unpack [0x00007FF6ADF847D2+26370]\n\tMicrosoft::Applications::Events::GUID_t::GUID_t [0x00007FF6ADED9B32+339106]\n\tOrdinal0 [0x00007FF6ADA67821+620577]\n\tOrdinal0 [0x00007FF6ADAA3E41+867905]\n\tOrdinal0 [0x00007FF6ADAA4053+868435]\n\tOrdinal0 [0x00007FF6ADAD5DB7+1072567]\n\tOrdinal0 [0x00007FF6ADABF48F+980111]\n\tOrdinal0 [0x00007FF6ADAD358F+1062287]\n\tOrdinal0 [0x00007FF6ADABF263+979555]\n\tOrdinal0 [0x00007FF6ADA96070+811120]\n\tOrdinal0 [0x00007FF6ADA97668+816744]\n\tMicrosoft::Applications::Events::EventProperty::EventProperty [0x00007FF6ADD32FF8+128088]\n\tMicrosoft::Applications::Events::EventProperty::EventProperty [0x00007FF6ADD1C94B+36267]\n\tMicrosoft::Applications::Events::EventProperty::EventProperty [0x00007FF6ADD1F96C+48588]\n\tMicrosoft::Applications::Events::EventProperty::to_string [0x00007FF6ADB74943+22115]\n\tMicrosoft::Applications::Events::GUID_t::GUID_t [0x00007FF6ADEE115B+369355]\n\tMicrosoft::Applications::Events::GUID_t::GUID_t [0x00007FF6ADEE5FF4+389476]\n\tMicrosoft::Applications::Events::GUID_t::GUID_t [0x00007FF6ADEE614D+389821]\n\tMicrosoft::Applications::Events::time_ticks_t::time_ticks_t [0x00007FF6ADEF0BD9+40761]\n\tBaseThreadInitThunk [0x00007FF8EB8B244D+29]\n\tRtlUserThreadStart [0x00007FF8ED52DF78+40]\n",
     "output_type": "error",
     "traceback": [
      "\u001b[1;31m---------------------------------------------------------------------------\u001b[0m",
      "\u001b[1;31mNoSuchElementException\u001b[0m                    Traceback (most recent call last)",
      "Input \u001b[1;32mIn [97]\u001b[0m, in \u001b[0;36m<cell line: 1>\u001b[1;34m()\u001b[0m\n\u001b[1;32m----> 1\u001b[0m pop_message\u001b[38;5;241m=\u001b[39m\u001b[43mdriver\u001b[49m\u001b[38;5;241;43m.\u001b[39;49m\u001b[43mfind_element\u001b[49m\u001b[43m(\u001b[49m\u001b[43mBy\u001b[49m\u001b[38;5;241;43m.\u001b[39;49m\u001b[43mXPATH\u001b[49m\u001b[43m,\u001b[49m\u001b[38;5;124;43m'\u001b[39;49m\u001b[38;5;124;43m//span[@x-score=\u001b[39;49m\u001b[38;5;124;43m\"\u001b[39;49m\u001b[38;5;124;43m1\u001b[39;49m\u001b[38;5;124;43m\"\u001b[39;49m\u001b[38;5;124;43m]\u001b[39;49m\u001b[38;5;124;43m'\u001b[39;49m\u001b[43m)\u001b[49m\n\u001b[0;32m      2\u001b[0m pop_message\u001b[38;5;241m.\u001b[39mclick()\n",
      "File \u001b[1;32m~\\anaconda3\\lib\\site-packages\\selenium\\webdriver\\remote\\webdriver.py:856\u001b[0m, in \u001b[0;36mWebDriver.find_element\u001b[1;34m(self, by, value)\u001b[0m\n\u001b[0;32m    853\u001b[0m     by \u001b[38;5;241m=\u001b[39m By\u001b[38;5;241m.\u001b[39mCSS_SELECTOR\n\u001b[0;32m    854\u001b[0m     value \u001b[38;5;241m=\u001b[39m \u001b[38;5;124m'\u001b[39m\u001b[38;5;124m[name=\u001b[39m\u001b[38;5;124m\"\u001b[39m\u001b[38;5;132;01m%s\u001b[39;00m\u001b[38;5;124m\"\u001b[39m\u001b[38;5;124m]\u001b[39m\u001b[38;5;124m'\u001b[39m \u001b[38;5;241m%\u001b[39m value\n\u001b[1;32m--> 856\u001b[0m \u001b[38;5;28;01mreturn\u001b[39;00m \u001b[38;5;28;43mself\u001b[39;49m\u001b[38;5;241;43m.\u001b[39;49m\u001b[43mexecute\u001b[49m\u001b[43m(\u001b[49m\u001b[43mCommand\u001b[49m\u001b[38;5;241;43m.\u001b[39;49m\u001b[43mFIND_ELEMENT\u001b[49m\u001b[43m,\u001b[49m\u001b[43m \u001b[49m\u001b[43m{\u001b[49m\n\u001b[0;32m    857\u001b[0m \u001b[43m    \u001b[49m\u001b[38;5;124;43m'\u001b[39;49m\u001b[38;5;124;43musing\u001b[39;49m\u001b[38;5;124;43m'\u001b[39;49m\u001b[43m:\u001b[49m\u001b[43m \u001b[49m\u001b[43mby\u001b[49m\u001b[43m,\u001b[49m\n\u001b[0;32m    858\u001b[0m \u001b[43m    \u001b[49m\u001b[38;5;124;43m'\u001b[39;49m\u001b[38;5;124;43mvalue\u001b[39;49m\u001b[38;5;124;43m'\u001b[39;49m\u001b[43m:\u001b[49m\u001b[43m \u001b[49m\u001b[43mvalue\u001b[49m\u001b[43m}\u001b[49m\u001b[43m)\u001b[49m[\u001b[38;5;124m'\u001b[39m\u001b[38;5;124mvalue\u001b[39m\u001b[38;5;124m'\u001b[39m]\n",
      "File \u001b[1;32m~\\anaconda3\\lib\\site-packages\\selenium\\webdriver\\remote\\webdriver.py:434\u001b[0m, in \u001b[0;36mWebDriver.execute\u001b[1;34m(self, driver_command, params)\u001b[0m\n\u001b[0;32m    432\u001b[0m response \u001b[38;5;241m=\u001b[39m \u001b[38;5;28mself\u001b[39m\u001b[38;5;241m.\u001b[39mcommand_executor\u001b[38;5;241m.\u001b[39mexecute(driver_command, params)\n\u001b[0;32m    433\u001b[0m \u001b[38;5;28;01mif\u001b[39;00m response:\n\u001b[1;32m--> 434\u001b[0m     \u001b[38;5;28;43mself\u001b[39;49m\u001b[38;5;241;43m.\u001b[39;49m\u001b[43merror_handler\u001b[49m\u001b[38;5;241;43m.\u001b[39;49m\u001b[43mcheck_response\u001b[49m\u001b[43m(\u001b[49m\u001b[43mresponse\u001b[49m\u001b[43m)\u001b[49m\n\u001b[0;32m    435\u001b[0m     response[\u001b[38;5;124m'\u001b[39m\u001b[38;5;124mvalue\u001b[39m\u001b[38;5;124m'\u001b[39m] \u001b[38;5;241m=\u001b[39m \u001b[38;5;28mself\u001b[39m\u001b[38;5;241m.\u001b[39m_unwrap_value(\n\u001b[0;32m    436\u001b[0m         response\u001b[38;5;241m.\u001b[39mget(\u001b[38;5;124m'\u001b[39m\u001b[38;5;124mvalue\u001b[39m\u001b[38;5;124m'\u001b[39m, \u001b[38;5;28;01mNone\u001b[39;00m))\n\u001b[0;32m    437\u001b[0m     \u001b[38;5;28;01mreturn\u001b[39;00m response\n",
      "File \u001b[1;32m~\\anaconda3\\lib\\site-packages\\selenium\\webdriver\\remote\\errorhandler.py:243\u001b[0m, in \u001b[0;36mErrorHandler.check_response\u001b[1;34m(self, response)\u001b[0m\n\u001b[0;32m    241\u001b[0m         alert_text \u001b[38;5;241m=\u001b[39m value[\u001b[38;5;124m'\u001b[39m\u001b[38;5;124malert\u001b[39m\u001b[38;5;124m'\u001b[39m]\u001b[38;5;241m.\u001b[39mget(\u001b[38;5;124m'\u001b[39m\u001b[38;5;124mtext\u001b[39m\u001b[38;5;124m'\u001b[39m)\n\u001b[0;32m    242\u001b[0m     \u001b[38;5;28;01mraise\u001b[39;00m exception_class(message, screen, stacktrace, alert_text)  \u001b[38;5;66;03m# type: ignore[call-arg]  # mypy is not smart enough here\u001b[39;00m\n\u001b[1;32m--> 243\u001b[0m \u001b[38;5;28;01mraise\u001b[39;00m exception_class(message, screen, stacktrace)\n",
      "\u001b[1;31mNoSuchElementException\u001b[0m: Message: no such element: Unable to locate element: {\"method\":\"xpath\",\"selector\":\"//span[@x-score=\"1\"]\"}\n  (Session info: MicrosoftEdge=105.0.1343.27)\nStacktrace:\nBacktrace:\n\tMicrosoft::Applications::Events::EventProperties::unpack [0x00007FF6ADF847D2+26370]\n\tMicrosoft::Applications::Events::GUID_t::GUID_t [0x00007FF6ADED9B32+339106]\n\tOrdinal0 [0x00007FF6ADA67821+620577]\n\tOrdinal0 [0x00007FF6ADAA3E41+867905]\n\tOrdinal0 [0x00007FF6ADAA4053+868435]\n\tOrdinal0 [0x00007FF6ADAD5DB7+1072567]\n\tOrdinal0 [0x00007FF6ADABF48F+980111]\n\tOrdinal0 [0x00007FF6ADAD358F+1062287]\n\tOrdinal0 [0x00007FF6ADABF263+979555]\n\tOrdinal0 [0x00007FF6ADA96070+811120]\n\tOrdinal0 [0x00007FF6ADA97668+816744]\n\tMicrosoft::Applications::Events::EventProperty::EventProperty [0x00007FF6ADD32FF8+128088]\n\tMicrosoft::Applications::Events::EventProperty::EventProperty [0x00007FF6ADD1C94B+36267]\n\tMicrosoft::Applications::Events::EventProperty::EventProperty [0x00007FF6ADD1F96C+48588]\n\tMicrosoft::Applications::Events::EventProperty::to_string [0x00007FF6ADB74943+22115]\n\tMicrosoft::Applications::Events::GUID_t::GUID_t [0x00007FF6ADEE115B+369355]\n\tMicrosoft::Applications::Events::GUID_t::GUID_t [0x00007FF6ADEE5FF4+389476]\n\tMicrosoft::Applications::Events::GUID_t::GUID_t [0x00007FF6ADEE614D+389821]\n\tMicrosoft::Applications::Events::time_ticks_t::time_ticks_t [0x00007FF6ADEF0BD9+40761]\n\tBaseThreadInitThunk [0x00007FF8EB8B244D+29]\n\tRtlUserThreadStart [0x00007FF8ED52DF78+40]\n"
     ]
    }
   ],
   "source": [
    "pop_message=driver.find_element(By.XPATH,'//span[@x-score=\"1\"]')\n",
    "pop_message.click()"
   ]
  },
  {
   "cell_type": "markdown",
   "id": "e5f5c327",
   "metadata": {},
   "source": [
    "## Q7. Write a program to scrap all the available details of best gaming laptops from digit.in."
   ]
  },
  {
   "cell_type": "code",
   "execution_count": 98,
   "id": "6c4819ad",
   "metadata": {},
   "outputs": [],
   "source": [
    "import selenium \n",
    "from selenium import webdriver\n",
    "from selenium.webdriver.common.by import By\n",
    "from selenium.webdriver.support.ui import WebDriverWait\n",
    "from selenium.webdriver.support import expected_conditions as EC\n",
    "from selenium.common.exceptions import NoSuchElementException, StaleElementReferenceException\n",
    "import time\n",
    "import pandas as pd"
   ]
  },
  {
   "cell_type": "code",
   "execution_count": 99,
   "id": "0632c95b",
   "metadata": {},
   "outputs": [],
   "source": [
    "driver=webdriver.Edge(r\"msedgedriver.exe\")\n",
    "driver.get(r'https://www.digit.in/')"
   ]
  },
  {
   "cell_type": "code",
   "execution_count": 101,
   "id": "37777c88",
   "metadata": {},
   "outputs": [],
   "source": [
    "top10=driver.find_element(By.XPATH,\"/html/body/div[1]/div/div[4]/ul/li[4]\")\n",
    "top10.click()"
   ]
  },
  {
   "cell_type": "code",
   "execution_count": 102,
   "id": "3eb950b7",
   "metadata": {},
   "outputs": [],
   "source": [
    "laptop=driver.find_element(By.XPATH,\"/html/body/div[3]/div/div/div[2]/div[5]/div[1]/div/button[2]\")\n",
    "laptop.click()"
   ]
  },
  {
   "cell_type": "code",
   "execution_count": 103,
   "id": "95a7d31e",
   "metadata": {},
   "outputs": [],
   "source": [
    "lap_10=driver.find_element(By.XPATH,'//*[@id=\"laptops\"]/div[1]/a/div[2]')\n",
    "lap_10.click()"
   ]
  },
  {
   "cell_type": "code",
   "execution_count": 119,
   "id": "e43da7d7",
   "metadata": {},
   "outputs": [],
   "source": [
    "Product=[]\n",
    "product=driver.find_elements(By.XPATH,'/html/body/div[5]/div[1]/div[3]/table')\n",
    "\n",
    "for i in product:\n",
    "    Product.append((i.text.strip()).replace(\"\\n\",\"  \"))\n",
    "    "
   ]
  },
  {
   "cell_type": "code",
   "execution_count": 120,
   "id": "e68f42cc",
   "metadata": {},
   "outputs": [
    {
     "data": {
      "text/plain": [
       "['PRODUCT NAME SELLER PRICE  Apple 16-Inch MacBook Pro M1 Max Amazon ₹ 309,490  Dell XPS 13 (9310) - 2021 Croma ₹ 177,490  ASUS ROG Flow x13 Croma ₹ 240,490  Apple MacBook Air M1 Tatacliq ₹ 88,255  Lenovo Yoga Slim 7i Carbon Amazon ₹ 122,990  ASUS ExpertBook B9400 Croma ₹ 167,994  .Acer Nitro 5 Amazon ₹ 85,900  Acer Aspire 7 Gaming Croma ₹ 53,490  MSI Pulse GL66 Amazon ₹ 114,990  ASUS ROG Zephyrus G14 Croma ₹ 131,990']"
      ]
     },
     "execution_count": 120,
     "metadata": {},
     "output_type": "execute_result"
    }
   ],
   "source": [
    "Product"
   ]
  },
  {
   "cell_type": "code",
   "execution_count": 117,
   "id": "9148b564",
   "metadata": {},
   "outputs": [
    {
     "data": {
      "text/plain": [
       "[]"
      ]
     },
     "execution_count": 117,
     "metadata": {},
     "output_type": "execute_result"
    }
   ],
   "source": [
    "Brand=[]\n",
    "\n",
    "for i in range(1,len(Product),2):\n",
    "    Brand.append(Product[i])\n",
    "    \n",
    "Brand"
   ]
  },
  {
   "cell_type": "code",
   "execution_count": 123,
   "id": "c3e33ac8",
   "metadata": {},
   "outputs": [],
   "source": [
    "driver.close()"
   ]
  },
  {
   "cell_type": "markdown",
   "id": "acebad3e",
   "metadata": {},
   "source": [
    "### Q8 Write a python program to scrape the details for all billionaires from www.forbes.com. Details to be scrapped: “Rank”, “Name”, “Net worth”, “Age”, “Citizenship”, “Source”, “Industry”."
   ]
  },
  {
   "cell_type": "code",
   "execution_count": 122,
   "id": "4160af85",
   "metadata": {},
   "outputs": [],
   "source": [
    "import selenium\n",
    "from selenium import webdriver\n",
    "from selenium.webdriver.common.by import By\n",
    "from selenium.webdriver.support.ui import WebDriverWait\n",
    "from selenium.webdriver.support import expected_conditions as EC\n",
    "from selenium.common.exceptions import NoSuchElementException, StaleElementReferenceException\n",
    "import time\n",
    "import pandas as pd"
   ]
  },
  {
   "cell_type": "code",
   "execution_count": 125,
   "id": "ad5a540e",
   "metadata": {},
   "outputs": [],
   "source": [
    "driver=webdriver.Edge(r\"msedgedriver.exe\")\n",
    "driver.get(r'https://www.forbes.com/')"
   ]
  },
  {
   "cell_type": "code",
   "execution_count": 127,
   "id": "71b9f495",
   "metadata": {},
   "outputs": [],
   "source": [
    "pop=driver.find_element(By.XPATH,'/html/body/div[1]/header/nav/div[1]/div/div/div[1]')\n",
    "pop.click()"
   ]
  },
  {
   "cell_type": "code",
   "execution_count": 128,
   "id": "9e4d3a77",
   "metadata": {},
   "outputs": [],
   "source": [
    "bili=driver.find_element(By.XPATH,'/html/body/div[1]/header/nav/div[1]/div/div/div[2]/ul/li[1]/div[1]')\n",
    "bili.click()"
   ]
  },
  {
   "cell_type": "code",
   "execution_count": 129,
   "id": "cd39de37",
   "metadata": {},
   "outputs": [],
   "source": [
    "w_bili=driver.find_element(By.XPATH,'/html/body/div[1]/header/nav/div[1]/div/div/div[2]/ul/li[1]/div[2]/div[2]/ul/li[1]')\n",
    "w_bili.click()"
   ]
  },
  {
   "cell_type": "code",
   "execution_count": 135,
   "id": "5152c1c1",
   "metadata": {},
   "outputs": [],
   "source": [
    "rich_world=driver.find_elements(By.XPATH,'//div[@class=\"table-row-group__container\"]')[0:10]\n",
    "Rich_World=[]\n",
    "for i in rich_world:\n",
    "    Rich_World.append((i.text.strip(\" \")).replace(\"\\n\",\" \"))"
   ]
  },
  {
   "cell_type": "code",
   "execution_count": 136,
   "id": "addd91e2",
   "metadata": {},
   "outputs": [
    {
     "data": {
      "text/plain": [
       "[\"1. Elon Musk $219 B United States Tesla, SpaceX I operate on the physics approach to analysis. You boil things down to the first principles or fundamental truths in a particular area and then you reason up from there. ELON MUSK Elon Musk cofounded six companies including electric car maker Tesla, rocket producer SpaceX and tunneling startup Boring Company. FULL PROFILE WEALTH HISTORY CLICK TO REVEAL NET WORTH BY YEAR NET WORTH $219 B ON FORBES LISTS #1Billionaires 2022 #2Forbes 400 2021 #2Billionaires 2021 #7Forbes 400 2020 #31Billionaires 2020 2. Jeff Bezos $171 B United States Amazon 3. Bernard Arnault & family $158 B France LVMH 4. Bill Gates $129 B United States Microsoft 5. Warren Buffett $118 B United States Berkshire Hathaway 6. Larry Page $111 B United States Google 7. Sergey Brin $107 B United States Google 8. Larry Ellison $106 B United States software 9. Steve Ballmer $91.4 B United States Microsoft 10. Mukesh Ambani $90.7 B India diversified 11. Gautam Adani & family $90 B India infrastructure, commodities 12. Michael Bloomberg $82 B United States Bloomberg LP 13. Carlos Slim Helu & family $81.2 B Mexico telecom 14. Francoise Bettencourt Meyers & family $74.8 B France L'Oréal 15. Mark Zuckerberg $67.3 B United States Facebook\",\n",
       " '16. Jim Walton $66.2 B United States Walmart 17. Zhong Shanshan $65.7 B China beverages, pharmaceuticals 18. Alice Walton $65.3 B United States Walmart 19. Rob Walton $65 B United States Walmart 19. Changpeng Zhao $65 B Canada cryptocurrency exchange 21. Charles Koch $60 B United States Koch Industries 21. Julia Koch & family $60 B United States Koch Industries 23. Amancio Ortega $59.6 B Spain Zara 24. Michael Dell $55.1 B United States Dell computers 25. Zhang Yiming $50 B China TikTok 26. David Thomson & family $49.2 B Canada media 27. Phil Knight & family $47.3 B United States Nike 28. Dieter Schwarz $47.1 B Germany retail 29. Robin Zeng $44.8 B Hong Kong batteries 30. MacKenzie Scott $43.6 B United States Amazon',\n",
       " '31. Rodolphe Saadé & family $41.4 B France shipping 32. François Pinault & family $40.4 B France luxury goods 33. Klaus-Michael Kuehne $37.3 B Germany shipping 34. Ma Huateng $37.2 B China internet media 35. Beate Heister & Karl Albrecht Jr. & family $36.8 B Germany supermarkets 36. Giovanni Ferrero $36.2 B Italy Nutella, chocolates 37. Li Ka-shing $34.8 B Hong Kong diversified 37. Stephen Schwarzman $34.8 B United States investments 39. Lee Shau Kee $32.6 B Hong Kong real estate 40. Len Blavatnik $32.5 B United States music, chemicals 41. Jacqueline Mars $31.7 B United States candy, pet food 41. John Mars $31.7 B United States candy, pet food 43. Alain Wertheimer $31.2 B France Chanel 43. Gerard Wertheimer $31.2 B France Chanel 45. German Larrea Mota Velasco & family $30.8 B Mexico mining',\n",
       " '46. Gina Rinehart $30.2 B Australia mining 47. Shiv Nadar $28.7 B India software services 48. Jim Simons $28.6 B United States hedge funds 49. He Xiangjian $28.3 B China home appliances 50. Miriam Adelson $27.5 B United States casinos 51. Dietrich Mateschitz $27.4 B Austria Red Bull 52. Leonardo Del Vecchio & family $27.3 B Italy eyeglasses 53. Ken Griffin $27.2 B United States hedge funds 54. Tadashi Yanai & family $26.1 B Japan fashion retail 55. William Lei Ding $25.2 B China online games 56. Susanne Klatten $24.3 B Germany BMW, pharmaceuticals 56. Cyrus Poonawalla $24.3 B India vaccines 56. Wang Wei $24.3 B China package delivery 59. Qin Yinglin $24.1 B China pig breeding 60. Sam Bankman-Fried $24 B United States cryptocurrency exchange',\n",
       " '61. Takemitsu Takizaki $23.9 B Japan sensors 62. Li Shufu $23.7 B China automobiles 63. Emmanuel Besnier $23.5 B France cheese 64. R. Budi Hartono $23.2 B Indonesia banking, tobacco 65. Leonard Lauder $23.1 B United States Estee Lauder 66. Guillaume Pousaz $23 B Switzerland fintech 67. Iris Fontbona & family $22.8 B Chile mining 67. Jack Ma $22.8 B China e-commerce 69. Michael Hartono $22.3 B Indonesia banking, tobacco 70. Eric Schmidt $22.1 B United States Google 71. Ray Dalio $22 B United States hedge funds 71. Daniel Gilbert $22 B United States Quicken Loans 73. Thomas Frist, Jr. & family $21.8 B United States hospitals 74. Masayoshi Son $21.3 B Japan internet, telecom 75. Abigail Johnson $21.2 B United States money management',\n",
       " \"76. Rupert Murdoch & family $20.8 B United States newspapers, TV network 77. Stefan Quandt $20.7 B Germany BMW 78. Jensen Huang $20.6 B United States semiconductors 79. Huang Shilin $20.3 B China batteries 80. Thomas Peterffy $20.1 B United States discount brokerage 81. Radhakishan Damani $20 B India retail, investments 82. Pang Kang $19.6 B China soy sauce 83. Wang Chuanfu $19.5 B China batteries, automobiles 84. Reinhold Wuerth & family $19 B Germany fasteners 85. Theo Albrecht, Jr. & family $18.7 B Germany Aldi, Trader Joe's 85. Yang Huiyan & family $18.7 B China real estate 87. Vladimir Lisin $18.4 B Russia steel, transport 88. Fan Hongwei & family $18.2 B China petrochemicals 89. Lakshmi Mittal $17.9 B India steel 90. Andrew Forrest $17.8 B Australia mining\",\n",
       " '91. Jiang Rensheng & family $17.7 B China vaccines 91. Savitri Jindal & family $17.7 B India steel 91. Wang Wenyin $17.7 B China mining, copper products 94. Li Xiting $17.6 B Singapore medical devices 94. Stefan Persson $17.6 B Sweden H&M 96. Steve Cohen $17.4 B United States hedge funds 97. Vladimir Potanin $17.3 B Russia metals 98. Harold Hamm & family $17.2 B United States oil & gas 99. Sun Piaoyang $17.1 B China pharmaceuticals 100. Luo Liguo & family $17 B China chemicals 100. Peter Woo $17 B Hong Kong real estate 102. Gianluigi & Rafaela Aponte $16.8 B Switzerland Shipping 103. David Tepper $16.7 B United States hedge funds 104. Renata Kellnerova & family $16.6 B Czechia finance, telecommunications 104. John Menard, Jr. $16.6 B United States home improvement stores',\n",
       " '106. Kumar Birla $16.5 B India commodities 106. Carl Icahn $16.5 B United States investments 106. Hank & Doug Meijer $16.5 B United States supermarkets 106. Lukas Walton $16.5 B United States Walmart 110. Laurene Powell Jobs & family $16.4 B United States Apple, Disney 111. James Ratcliffe $16.3 B United Kingdom chemicals 112. Donald Bren $16.2 B United States real estate 113. Xu Hang $16.1 B Hong Kong medical devices 114. Lu Xiangyang $15.7 B China automobiles, batteries 115. Dilip Shanghvi $15.6 B India pharmaceuticals 116. Wei Jianjun & family $15.5 B China automobiles 117. Jorge Paulo Lemann & family $15.4 B Brazil beer 117. Eyal Ofer $15.4 B Israel real estate, shipping 119. Mike Cannon-Brookes $15.3 B Australia software 119. Wu Yajun $15.3 B China real estate',\n",
       " '121. Charlene de Carvalho-Heineken & family $15.2 B Netherlands Heineken 121. Michael Platt $15.2 B United Kingdom hedge funds 123. Pavel Durov $15.1 B United Arab Emirates messaging app 123. Scott Farquhar $15.1 B Australia software 125. Pallonji Mistry $15 B Ireland construction 126. Dang Yanbao $14.8 B China coal 127. Robert Pera $14.6 B United States wireless networking gear 128. Donald Newhouse $14.4 B United States media 129. Uday Kotak $14.3 B India banking 130. Aliko Dangote $14 B Nigeria cement, sugar 130. Leonid Mikhelson $14 B Russia gas, chemicals 132. Sunil Mittal & family $13.9 B India telecom 133. Robert & Philip Ng $13.7 B Singapore real estate 134. Liu Hanyuan $13.65 B China agribusiness 135. Joseph Lau $13.6 B Hong Kong real estate',\n",
       " '135. Anders Holch Povlsen $13.6 B Denmark fashion retail 137. Dhanin Chearavanont $13.5 B Thailand diversified 138. Gong Hongjia & family $13.2 B Hong Kong video surveillance 138. Liu Yongxing $13.2 B China diversified 138. Alexey Mordashov $13.2 B Russia steel, investments 138. Wang Jianlin $13.2 B China real estate 142. David Duffield $12.9 B United States business software 142. Li Zhenguo & family $12.9 B China solar wafers and modules 144. Harry Triguboff $12.8 B Australia real estate 144. Zhang Zhidong $12.8 B China internet media 146. Chen Bang $12.7 B China hospitals 146. John Doerr $12.7 B United States venture capital 146. Hinduja brothers $12.7 B United Kingdom diversified 149. Kwong Siu-hing $12.6 B Hong Kong real estate 150. Pei Zhenhua $12.5 B China batteries']"
      ]
     },
     "execution_count": 136,
     "metadata": {},
     "output_type": "execute_result"
    }
   ],
   "source": [
    "Rich_World"
   ]
  },
  {
   "cell_type": "code",
   "execution_count": 137,
   "id": "d6b7b3c3",
   "metadata": {},
   "outputs": [],
   "source": [
    "driver.close()"
   ]
  },
  {
   "cell_type": "markdown",
   "id": "2c7ee1bb",
   "metadata": {},
   "source": [
    "# Q9.Write a program to extract at least 500 Comments, Comment upvote and time when comment was posted from any YouTube Video"
   ]
  },
  {
   "cell_type": "code",
   "execution_count": 141,
   "id": "9ce0cbc1",
   "metadata": {},
   "outputs": [],
   "source": [
    "import selenium\n",
    "from selenium import webdriver\n",
    "from selenium.webdriver.common.by import By\n",
    "from selenium.webdriver.support.ui import WebDriverWait\n",
    "from selenium.webdriver.support import expected_conditions as EC\n",
    "from selenium.common.exceptions import NoSuchElementException,StaleElementReferenceException\n",
    "import time\n",
    "import pandas as pd"
   ]
  },
  {
   "cell_type": "code",
   "execution_count": 142,
   "id": "b650fa84",
   "metadata": {},
   "outputs": [],
   "source": [
    "driver=webdriver.Edge(\"msedgedriver.exe\")\n",
    "driver.get(\"https://www.youtube.com/\")"
   ]
  },
  {
   "cell_type": "code",
   "execution_count": 160,
   "id": "95ac0c76",
   "metadata": {},
   "outputs": [
    {
     "ename": "JavascriptException",
     "evalue": "Message: javascript error: missing ) after argument list\n  (Session info: MicrosoftEdge=105.0.1343.27)\nStacktrace:\nBacktrace:\n\tMicrosoft::Applications::Events::EventProperties::unpack [0x00007FF6ADF847D2+26370]\n\tMicrosoft::Applications::Events::GUID_t::GUID_t [0x00007FF6ADED9B32+339106]\n\tOrdinal0 [0x00007FF6ADA67821+620577]\n\tOrdinal0 [0x00007FF6ADA6AD9A+634266]\n\tOrdinal0 [0x00007FF6ADA6AB1B+633627]\n\tOrdinal0 [0x00007FF6ADA6BA16+637462]\n\tOrdinal0 [0x00007FF6ADAD43FA+1065978]\n\tOrdinal0 [0x00007FF6ADABF44A+980042]\n\tOrdinal0 [0x00007FF6ADAD358F+1062287]\n\tOrdinal0 [0x00007FF6ADABF263+979555]\n\tOrdinal0 [0x00007FF6ADA96070+811120]\n\tOrdinal0 [0x00007FF6ADA97668+816744]\n\tMicrosoft::Applications::Events::EventProperty::EventProperty [0x00007FF6ADD32FF8+128088]\n\tMicrosoft::Applications::Events::EventProperty::EventProperty [0x00007FF6ADD1C94B+36267]\n\tMicrosoft::Applications::Events::EventProperty::EventProperty [0x00007FF6ADD1F96C+48588]\n\tMicrosoft::Applications::Events::EventProperty::to_string [0x00007FF6ADB74943+22115]\n\tMicrosoft::Applications::Events::GUID_t::GUID_t [0x00007FF6ADEE115B+369355]\n\tMicrosoft::Applications::Events::GUID_t::GUID_t [0x00007FF6ADEE5FF4+389476]\n\tMicrosoft::Applications::Events::GUID_t::GUID_t [0x00007FF6ADEE614D+389821]\n\tMicrosoft::Applications::Events::time_ticks_t::time_ticks_t [0x00007FF6ADEF0BD9+40761]\n\tBaseThreadInitThunk [0x00007FF8EB8B244D+29]\n\tRtlUserThreadStart [0x00007FF8ED52DF78+40]\n",
     "output_type": "error",
     "traceback": [
      "\u001b[1;31m---------------------------------------------------------------------------\u001b[0m",
      "\u001b[1;31mJavascriptException\u001b[0m                       Traceback (most recent call last)",
      "Input \u001b[1;32mIn [160]\u001b[0m, in \u001b[0;36m<cell line: 3>\u001b[1;34m()\u001b[0m\n\u001b[0;32m      2\u001b[0m Comments\u001b[38;5;241m=\u001b[39m[]\n\u001b[0;32m      3\u001b[0m \u001b[38;5;28;01mfor\u001b[39;00m _ \u001b[38;5;129;01min\u001b[39;00m \u001b[38;5;28mrange\u001b[39m(\u001b[38;5;241m1000\u001b[39m):\n\u001b[1;32m----> 4\u001b[0m     \u001b[43mdriver\u001b[49m\u001b[38;5;241;43m.\u001b[39;49m\u001b[43mexecute_script\u001b[49m\u001b[43m(\u001b[49m\u001b[38;5;124;43m\"\u001b[39;49m\u001b[38;5;124;43mwindow.scrollBy(0:1000)\u001b[39;49m\u001b[38;5;124;43m\"\u001b[39;49m\u001b[43m)\u001b[49m\n\u001b[0;32m      5\u001b[0m     \u001b[38;5;28;01mfor\u001b[39;00m i \u001b[38;5;129;01min\u001b[39;00m comments:\n\u001b[0;32m      6\u001b[0m         Comments\u001b[38;5;241m.\u001b[39mappend((i\u001b[38;5;241m.\u001b[39mtext\u001b[38;5;241m.\u001b[39mstrip())\u001b[38;5;241m.\u001b[39mreplace(\u001b[38;5;124m\"\u001b[39m\u001b[38;5;130;01m\\n\u001b[39;00m\u001b[38;5;124m\"\u001b[39m,\u001b[38;5;124m\"\u001b[39m\u001b[38;5;124m \u001b[39m\u001b[38;5;124m\"\u001b[39m))\n",
      "File \u001b[1;32m~\\anaconda3\\lib\\site-packages\\selenium\\webdriver\\remote\\webdriver.py:492\u001b[0m, in \u001b[0;36mWebDriver.execute_script\u001b[1;34m(self, script, *args)\u001b[0m\n\u001b[0;32m    489\u001b[0m converted_args \u001b[38;5;241m=\u001b[39m \u001b[38;5;28mlist\u001b[39m(args)\n\u001b[0;32m    490\u001b[0m command \u001b[38;5;241m=\u001b[39m Command\u001b[38;5;241m.\u001b[39mW3C_EXECUTE_SCRIPT\n\u001b[1;32m--> 492\u001b[0m \u001b[38;5;28;01mreturn\u001b[39;00m \u001b[38;5;28;43mself\u001b[39;49m\u001b[38;5;241;43m.\u001b[39;49m\u001b[43mexecute\u001b[49m\u001b[43m(\u001b[49m\u001b[43mcommand\u001b[49m\u001b[43m,\u001b[49m\u001b[43m \u001b[49m\u001b[43m{\u001b[49m\n\u001b[0;32m    493\u001b[0m \u001b[43m    \u001b[49m\u001b[38;5;124;43m'\u001b[39;49m\u001b[38;5;124;43mscript\u001b[39;49m\u001b[38;5;124;43m'\u001b[39;49m\u001b[43m:\u001b[49m\u001b[43m \u001b[49m\u001b[43mscript\u001b[49m\u001b[43m,\u001b[49m\n\u001b[0;32m    494\u001b[0m \u001b[43m    \u001b[49m\u001b[38;5;124;43m'\u001b[39;49m\u001b[38;5;124;43margs\u001b[39;49m\u001b[38;5;124;43m'\u001b[39;49m\u001b[43m:\u001b[49m\u001b[43m \u001b[49m\u001b[43mconverted_args\u001b[49m\u001b[43m}\u001b[49m\u001b[43m)\u001b[49m[\u001b[38;5;124m'\u001b[39m\u001b[38;5;124mvalue\u001b[39m\u001b[38;5;124m'\u001b[39m]\n",
      "File \u001b[1;32m~\\anaconda3\\lib\\site-packages\\selenium\\webdriver\\remote\\webdriver.py:434\u001b[0m, in \u001b[0;36mWebDriver.execute\u001b[1;34m(self, driver_command, params)\u001b[0m\n\u001b[0;32m    432\u001b[0m response \u001b[38;5;241m=\u001b[39m \u001b[38;5;28mself\u001b[39m\u001b[38;5;241m.\u001b[39mcommand_executor\u001b[38;5;241m.\u001b[39mexecute(driver_command, params)\n\u001b[0;32m    433\u001b[0m \u001b[38;5;28;01mif\u001b[39;00m response:\n\u001b[1;32m--> 434\u001b[0m     \u001b[38;5;28;43mself\u001b[39;49m\u001b[38;5;241;43m.\u001b[39;49m\u001b[43merror_handler\u001b[49m\u001b[38;5;241;43m.\u001b[39;49m\u001b[43mcheck_response\u001b[49m\u001b[43m(\u001b[49m\u001b[43mresponse\u001b[49m\u001b[43m)\u001b[49m\n\u001b[0;32m    435\u001b[0m     response[\u001b[38;5;124m'\u001b[39m\u001b[38;5;124mvalue\u001b[39m\u001b[38;5;124m'\u001b[39m] \u001b[38;5;241m=\u001b[39m \u001b[38;5;28mself\u001b[39m\u001b[38;5;241m.\u001b[39m_unwrap_value(\n\u001b[0;32m    436\u001b[0m         response\u001b[38;5;241m.\u001b[39mget(\u001b[38;5;124m'\u001b[39m\u001b[38;5;124mvalue\u001b[39m\u001b[38;5;124m'\u001b[39m, \u001b[38;5;28;01mNone\u001b[39;00m))\n\u001b[0;32m    437\u001b[0m     \u001b[38;5;28;01mreturn\u001b[39;00m response\n",
      "File \u001b[1;32m~\\anaconda3\\lib\\site-packages\\selenium\\webdriver\\remote\\errorhandler.py:243\u001b[0m, in \u001b[0;36mErrorHandler.check_response\u001b[1;34m(self, response)\u001b[0m\n\u001b[0;32m    241\u001b[0m         alert_text \u001b[38;5;241m=\u001b[39m value[\u001b[38;5;124m'\u001b[39m\u001b[38;5;124malert\u001b[39m\u001b[38;5;124m'\u001b[39m]\u001b[38;5;241m.\u001b[39mget(\u001b[38;5;124m'\u001b[39m\u001b[38;5;124mtext\u001b[39m\u001b[38;5;124m'\u001b[39m)\n\u001b[0;32m    242\u001b[0m     \u001b[38;5;28;01mraise\u001b[39;00m exception_class(message, screen, stacktrace, alert_text)  \u001b[38;5;66;03m# type: ignore[call-arg]  # mypy is not smart enough here\u001b[39;00m\n\u001b[1;32m--> 243\u001b[0m \u001b[38;5;28;01mraise\u001b[39;00m exception_class(message, screen, stacktrace)\n",
      "\u001b[1;31mJavascriptException\u001b[0m: Message: javascript error: missing ) after argument list\n  (Session info: MicrosoftEdge=105.0.1343.27)\nStacktrace:\nBacktrace:\n\tMicrosoft::Applications::Events::EventProperties::unpack [0x00007FF6ADF847D2+26370]\n\tMicrosoft::Applications::Events::GUID_t::GUID_t [0x00007FF6ADED9B32+339106]\n\tOrdinal0 [0x00007FF6ADA67821+620577]\n\tOrdinal0 [0x00007FF6ADA6AD9A+634266]\n\tOrdinal0 [0x00007FF6ADA6AB1B+633627]\n\tOrdinal0 [0x00007FF6ADA6BA16+637462]\n\tOrdinal0 [0x00007FF6ADAD43FA+1065978]\n\tOrdinal0 [0x00007FF6ADABF44A+980042]\n\tOrdinal0 [0x00007FF6ADAD358F+1062287]\n\tOrdinal0 [0x00007FF6ADABF263+979555]\n\tOrdinal0 [0x00007FF6ADA96070+811120]\n\tOrdinal0 [0x00007FF6ADA97668+816744]\n\tMicrosoft::Applications::Events::EventProperty::EventProperty [0x00007FF6ADD32FF8+128088]\n\tMicrosoft::Applications::Events::EventProperty::EventProperty [0x00007FF6ADD1C94B+36267]\n\tMicrosoft::Applications::Events::EventProperty::EventProperty [0x00007FF6ADD1F96C+48588]\n\tMicrosoft::Applications::Events::EventProperty::to_string [0x00007FF6ADB74943+22115]\n\tMicrosoft::Applications::Events::GUID_t::GUID_t [0x00007FF6ADEE115B+369355]\n\tMicrosoft::Applications::Events::GUID_t::GUID_t [0x00007FF6ADEE5FF4+389476]\n\tMicrosoft::Applications::Events::GUID_t::GUID_t [0x00007FF6ADEE614D+389821]\n\tMicrosoft::Applications::Events::time_ticks_t::time_ticks_t [0x00007FF6ADEF0BD9+40761]\n\tBaseThreadInitThunk [0x00007FF8EB8B244D+29]\n\tRtlUserThreadStart [0x00007FF8ED52DF78+40]\n"
     ]
    }
   ],
   "source": [
    "comments=driver.find_elements(By.XPATH,'//*[@id=\"sections\"]')\n",
    "Comments=[]\n",
    "for _ in range(1000):\n",
    "    driver.execute_script(\"window.scrollBy(0:1000)\")\n",
    "    for i in comments:\n",
    "        Comments.append((i.text.strip()).replace(\"\\n\",\" \"))\n",
    "Comments"
   ]
  },
  {
   "cell_type": "markdown",
   "id": "382830fa",
   "metadata": {},
   "source": [
    "code taught in dought class i tried but i couldn't run"
   ]
  },
  {
   "cell_type": "code",
   "execution_count": 162,
   "id": "454c20d8",
   "metadata": {},
   "outputs": [
    {
     "data": {
      "text/plain": [
       "['',\n",
       " '',\n",
       " '1,511 Comments SORT BY Add a comment... Zeba Zeba 13 days ago ️️ 10 REPLY soniya joshi 2 days ago I love this song very much 2 REPLY zohaib king143 12 days ago Soo nice song 4 REPLY Gaurav Thakur 2 weeks ago Lyrically Perfect  29 REPLY 🚨WATCH MY LAST VIDEO🚨 1 day ago No one can beat the magical voice of Arijit Singh 6 REPLY View reply Dipak Sonawane 7 days ago Nice song  1 REPLY New Hindi Songs 🧡 2 weeks ago Arijit is not just singing this type of songs, he is protecting Bollywood\\'s melodies also.  37 REPLY Suman Lata 1 day ago Amazing song 1 REPLY Tcherak Feriel 8 days ago Very beautiful song  1 REPLY MD Akash 1 day ago Nice song 1 REPLY Abdullah Mamun 9 days ago i love this song 1 REPLY laxman singh rana 13 days ago Evergreen song of ArijitSingh  35 REPLY View 3 replies Friends Love Story 3 days ago Nice song ️ 1 REPLY P S CREATIVE MUSIC 13 days ago Magical Voice ️ 36 REPLY Priya Nayak 2 days ago Nice and lovely song  1 REPLY Sanskar Mishra 2 weeks ago This masterpiece will always attached to my heart ️️ 59 REPLY View 3 replies Neera Srivastava 13 days ago As ever ....his voice  48 REPLY View 2 replies Fitness Print 13 days ago Arijit Singh is the legend of this generation...no words to say.. extremely great song 61 REPLY View reply SS GAMING 2 days ago nice song 2 REPLY ᴅᴇᴇᴘᴀᴋ sᴀɴᴅɪʟʏᴀ 13 days ago Arijit is the king of melodious voice.. 41 REPLY View 3 replies Ajakeys - Topic 9 days ago Music gives a soul to the universe, wings to the mind, flight to the imagination and life to everything 7 REPLY View reply SOUHARDYA CHATTERJEE 4 days ago This song is a trap. It\\'s very difficult to not get addicted to this masterpiece. Hail Arijit Singh and his touching voice as always! 1 REPLY LabibaRose 12 days ago (edited) Heart touching voice. How melodious Arijits voice is!  There are many stars but he is the pole star. He is a wonder of the world. Arijit\\'s songs have a different feeling. His songs soothe our mind and heart.   Many many respects for Arijit sir. And thanks for giving these  heart touching songs. ️️️ 56 REPLY nitishrandhwa 12 days ago Nice  2 REPLY View reply Shubham Pc 98 13 days ago Magic in your voice  12 REPLY santu fluentgrid 1 day ago NY favorite song  ️ 2 REPLY Tara Sharafudheen 12 days ago The cut and paste ending in the video breaks up the beautifully sung ending where Arijit builds up the emotions and then sings the key lines slowly and holds the last note like forever.  Takes your heart ️ 18 REPLY GAMING A 10 days ago Loved the  song was just amazing perfect ️ 5 REPLY obos iwa 2 weeks ago \"The voice of Magical\" Arijit Singh your voice is Miracle  45 REPLY View reply Keshav Kumar Sah 2 weeks ago Thank you so much for releasing the lyrics..has been searching for it here nd there.... 16 REPLY View reply Pankaj ahiwar 2 weeks ago This trio always gives masterpiece songs - Pritam + Arijit + Amitabh..️ 41 REPLY View 2 replies Bhakti Wala 13 days ago Jay hind ️, One best thing about dude is that he never takes credit for himself when he achieves something. He always respect us the audience .we are congratulations ourselves on this️... 17 REPLY Tara Sharafudheen 4 days ago What a beautiful ending the song has sung with such emotion by Arijit !!! . 3 REPLY FACTS MASTER 2 weeks ago Arijit Singh is a gem of India I wish he never gets old so that we can listen to him for life ️️️️️ 73 REPLY View 3 replies Rã Ñÿa 9 days ago When you see that Arijit is the singer you already know it\\'s a masterpiece  70 REPLY View 7 replies Varun Gamex XD 13 days ago This song + traveling with bus + heavy rain ️ ️ masterpiece 42 REPLY View 3 replies 1k Challenge Without Video 11 days ago Finally the song is out. i just love this song.Once again Arjit singh winns our heart with his amazing voice.love it️ Hats off the whole team.... 25 REPLY Zack Deka 5 hours ago #It_seems_like_Arijit_is_singing_ #every_beat_of_a_heart_that_recently_fell_in_love_ #Teaching_the_Heartz_to_love_one_another_ REPLY THUG MEMES YT 2 weeks ago I respect to everyone who were involved in this, Seriously the best piece that I\\' ve ever seen on YouTube, HATS OFF TO WELL ALL ! LOVE YOUR VIDEOS!! .... 6 REPLY SHREYA the EXPLORER 13 days ago We really got into \\'Ishq\\' with \\'Kesariya\\'   51 REPLY View 4 replies Sufiya Hayat 4 days ago Khatarnaak song ️ 1 REPLY Satyam patel𒊹︎︎︎ 2 weeks ago (edited) Arijit Sir voice will rule forever our heart. Gem of music Arijit Sir. A beautiful masterpiece song . This song will be remember for centuries. ️️️ 62 REPLY View 3 replies Sangita Mante 2 weeks ago Arijit Singh is second heart of All People ️ 24 REPLY motivational_station01 9 days ago Worth the wait <3 1 REPLY MD mizan Miza 7 days ago I love this song REPLY Baisakhi Nath 7 hours ago My favourite song ️️ REPLY pratik 2 weeks ago CAN\\'T BLAME GRAVITY TO FALL IN LOVE WITH THIS SONG ️️ 51 REPLY View 2 replies harrryy.21 2 weeks ago Arijit\\'s melody save the Bollywood  42 REPLY View 3 replies Anshu Sharma 13 days ago This song is mind blowing  26 REPLY Anil Vaghela 13 days ago Magical voice  21 REPLY View 4 replies BISWAJIT DEY 13 days ago Where there is Arijit Singh there is magic️ 15 REPLY View reply Vijay Kumar 1 hour ago ️️ I love my song nice song  1 REPLY Qamar nadeem Ansari 12 days ago Evergreen songs of Arijit Singh sir ️ 3 REPLY View reply Rehan Jajam 4 days ago Very very nice voice good  1 REPLY Bollywood Romantic Songs 2 weeks ago Beautiful voice. Great music. I am ready to listen indefinitely. 42 REPLY View 3 replies Indra Pratap Singh Chhotu 5 days ago Beautifull Song  REPLY Nayak Rahul 7 days ago Awesome song bro ️ REPLY shahaji bhosale 5 days ago My fevrite song  1 REPLY Ronaldinho GUACHO 13 days ago Beautiful song I love this song 13 REPLY View 2 replies Maar Epic Tracks 2 weeks ago The old classical vibe of music is back with Arijit Singh  181 REPLY View 5 replies Preeti Purohit 2 weeks ago Magical voice song oppp vibing since it\\'s released 13 REPLY View reply Anamika Vaishnaw 2 weeks ago I love this song ️ 19 REPLY View reply Jagan 2 weeks ago The voice work like a medicine for love birds & broken heart, couples   All 47 REPLY View reply Shivani Kotnala 1 day ago Beautiful song REPLY Lalita Kantilal Gendot 1 day ago ️nice song REPLY Punam Choudhary 8 days ago So beautiful song ️  ️ 3 REPLY Rahis ali 5 days ago nice fantastik When you are single and listening Arjit sing songs you wanna be mingle.  All the vibes ..  What a lyric.   Wowww REPLY niranjan patil 10 days ago Pritam never disappoints 3 REPLY Chanda Dutta Majumder 1 day ago (edited) Falling in love with this song #kesariya REPLY Kadir Hussain 2 weeks ago (edited) Beutiful melodious song come to after long time...️️ 13 REPLY View reply Vloger Raj . 228k . Views . 2hours ago 12 days ago No one beat the magical  voice of Arjit singh 21 REPLY View reply Crazy janu yt 11 days ago Heart touching song ️️️love you arijit singh REPLY shikha suman 11 days ago love it........️️️ 8 REPLY Abrar Gazi 2 weeks ago If Hindi language was international, then Arijit Singh would have the highest number of followers.️️️ 83 REPLY View 6 replies Hedaya Nuha 10 days ago Arijit\\'s voice  2 REPLY Ranjeeta Singh 13 days ago Arjit singh is oxygen of bollwood music industry  5 REPLY View reply Vishal Tripathi 13 days ago Lyric video of this song is trending also ️ Arijit Singh ️ 5 REPLY Arijit Mondal vlog 13 days ago Emotion = Arijit magical voice ️ 44 REPLY View 6 replies Paul Subhajit 3 days ago Lots of love to Arijit really create magical feelings through his romantic voice 4 REPLY ROCKSTAR 13 days ago Kesariya song  2 REPLY ARCHISMAN BAGCHI 9 days ago Sid sriram voice is sweet and done a great job in Telugu and Tamil versions. But Arijit \\'s emotions take this one to a whole new level 3 REPLY Moloy Sarkar 12 days ago Splendid  2 REPLY Thory Gaming 12 days ago \"\"\"\"I Respect every one who were involved in this, seriously the best piece that I\\'ve ever seen on YouTube, hats off to well all  ! Love your videos   16 REPLY View 3 replies CHIRMI VLOGS 2 hours ago Soothing  REPLY Hm Kw 13 days ago After a long time, Bollywood made memorable adorable song..... 8 REPLY SKbabu002 2 weeks ago Arijit Singh  2 REPLY Dinesh Singh 2 weeks ago Arijit singh voice is amazing  16 REPLY View reply Preeti Tiwari 12 days ago Amazing video  ️️️️ 1 REPLY Natasha Bali 2 weeks ago Just love this song. On repeat all day.. can’t wait for the movie  14 REPLY View reply SHREYA the EXPLORER 12 days ago Arijit Singh is an emotion ️ 2 REPLY Dhiraj Gogoi 12 days ago Now i am use to \"lovestoriya\"...its no longer sounds odd  to me 8 REPLY View reply oneoveall 2 weeks ago This one is the magical what a versatil singer arijit  8 REPLY Smith Kirpekar 12 days ago # Arijit...️️ 2 REPLY AMIT RAJ 2 weeks ago Eagerly waiting for this Masterpiece  21 REPLY View 3 replies Aastha Manekar 8 days ago Arijit Singh really nailed it 2 REPLY Aditya Dhruw 2 weeks ago Arjit singh voice is magical  15 REPLY cg video 13 days ago Nice  2 REPLY View 2 replies CARTOON ENTERTAINMENT 9 days ago One of the best things about dude is that he  never takes credit for himself where he achieves something.He always respect us, the audience and his team he is police  In all his video \\'\\'\\' 🇮🇳🇮🇳🇮🇳 1 REPLY Anupama Maurya 13 days ago Awesome song 1 REPLY View reply TunTun S Technology\\'s 11 days ago \"Yesterday is history\"  \"Tomorrow is Mystery\"\" \"Today is gift\" \"That\\'s why it is called Present\" 12 REPLY Mukesh Jagrat 6 days ago Osm voice  REPLY India is the best 🥰 13 days ago (edited) Kesariya means? Last line sad lag raha  4 REPLY kheshari music sk 11 days ago No one can beat the magical voice of Arjit singh 13 REPLY View 3 replies Jaspal Kumar 14 hours ago So sweet and lovely song 1 REPLY Ashish Sarkar 13 days ago Best song of this year without any doubt 6 REPLY View reply Stacy Julian 8 days ago I love the singer himself am in love because of his song 1 REPLY Ashish Acharya 2 weeks ago I think everyone has started loving ‘love storiyan’ now. 16 REPLY View 2 replies MD IRSHAAD 5 days ago Mast 2 REPLY Fab R 9 days ago 1:50  , literally loved it 2 REPLY View reply Harsh Ydv 13 days ago Lovely Song  8 REPLY View reply Row Nak 3 days ago Hermosa  1 REPLY Md Hemel 2 days ago There is no 2nd person who can copy such mesmerizing voice of Arijit Singh sir REPLY Md Jubair Ahmad 12 days ago ️ 2 REPLY amit 2 weeks ago Best song of the year ️️ 7 REPLY View reply Diptanu Choudhuri 11 days ago Legend Arijit Singh Dada ️  1 REPLY Mariyam khan 💖 13 days ago So lovely song  I love it  22 REPLY View 2 replies 𝙒𝙞𝙣𝙎𝙞𝙣𝙜💜 4 hours ago This song   REPLY Anmta Akhtar 11 days ago keep it up arjit sir 1 REPLY Bapi Day 11 days ago Nice song..  REPLY Bad Boy RICKY 11 days ago Really God of music  Arijit Singh ️️️️️ 4 REPLY View reply Kabita Roy 12 days ago Very good song I like it  1 REPLY View 3 replies Pyar Ke Pal 2 weeks ago Beautiful Song ️ 10 REPLY View 2 replies offical_shoyab.05 1 day ago beautiful song REPLY Neha Shinde 11 days ago I love this song ️ 2 REPLY Sunita Ghanghoriya 2 weeks ago East ya West Arijit sir is best 7 REPLY View 2 replies Amrita Prodhan 12 days ago Wow,,,just wow......️ 3 REPLY Nusrat Jahan 13 days ago 3 REPLY View 2 replies Chhavi Rakheja 7 days ago Who suddenly remember this song and come here to listen️ 19 REPLY View 2 replies Foyshal mahmudul Arfine 2 days ago favourite song  REPLY SANCHARI CHAKRABORTY 12 days ago very nice arijit singh god bless you 1 REPLY View reply Ruma Ghosh 4 days ago This song is so good 1 REPLY SHIVAM 7 days ago Arijit sir voice miracle for present music industry ,, REPLY YT Edits 10 days ago \"\"\"One of the best things about dude is that he never takes Credit for himself when he achieves something He always Respect us, the audience, and his team, and he is always polite in all\\' of his video. We congratulate our selves on this achievement More to Come and every thing to come,... 13 REPLY View 3 replies Debraj Upadhyay 13 days ago Arijitian rise your hands    3 REPLY Alish Wahab 13 days ago This song is same different vibe every time is listen i am in love  2 REPLY View reply stuti Singh 7 days ago I love this song too much  1 REPLY View reply Pankaj ahiwar 2 weeks ago Arijit Singh voice is Heavan for all us, without him this music industry is incomplete..️ 63 REPLY View 3 replies Mini Pori 7 days ago One and only Arijit Singh... ️ REPLY PRATIK RANJAN DEY 13 days ago For those who call it a copied song.... What can be more original and beautiful than Arijit\\'s voice... No song can be even close to this good️️️ 194 REPLY View 19 replies Shriram Pardikar 7 days ago डर के आगे जीत है और जो EX की याद दिलाये वो अरिजीत है!!️ 1 REPLY Shahin Kadam 13 days ago #Arijitsir voice singing style ️️️️️EACH one every song always makes feel us AnAmazing AnAmazing AnAmazing AnAmazing AnAmazing AnAmazing AnAmazing AnAmazing AnAmazing AnAmazing AnAmazing AnAmazing AnAmazing AnAmazing AnAmazing AnAmazing AnAmazing AnAmazing AnAmazing AnAmazing AnAmazing 1 REPLY View reply Nagoji Oulkar 3 days ago I like this  REPLY Festival\\'s Dhamaka 12 days ago Arjit singh can make a world a melodious heaven... 11 REPLY View 2 replies Dinesh Kumar 2 weeks ago Love Anthem Of The Year 17 REPLY View 3 replies Kukalakutala Subhashini 13 days ago Ruling every one hearts ...... Kesariya  2 REPLY OM Namo Shivay 3 days ago great song REPLY ST D 12 days ago ️️️ 1 REPLY Yogesh Baghel 2 weeks ago I think love storyaan is perfect 2 REPLY Debajyoti Rajwar 11 days ago Ranbir Kapoor + Arijit Singh ️ Always Favourite ️ 16 REPLY Hindi Romantic Songs 12 days ago Don\\'t know if someone is reading this, but if you are: You are amazing and beautiful! I believe in you!  4 REPLY Brahmarakshas Studio 12 days ago it\\'s a magical performance by arijit sir Love You Singh saab tussi great ho  #beat 1 REPLY View reply Muhit Alom 2 weeks ago Bhai Nice wow  2 REPLY snehal patil 6 hours ago just love arjit singh songs..... REPLY Utkarsh Prajapati 2 weeks ago Bhut badhiya... Phle se to bhut jyada acha hai song ️️️️️️️️️️️️️️️️ 2 REPLY AlifNur Roza 13 days ago I am only listening and liked the song because of Arijit Singh ️ 4 REPLY View reply FF CLOWN 1 day ago Best song REPLY #K@shi Thakur77 2 weeks ago Awesome song  2 REPLY kr..## khushi rajput😎😎 12 days ago Song  1 REPLY View reply Shiv Dev 12 days ago Arijit_singh love good voice  love u.. Sir.  1 REPLY View reply RVR03 13 days ago Arijit  1 REPLY Amma 12 days ago I respect to everyone who were involved in this , Seriously the best piece that I\\'ve ever seen on YouTube , HATS OFF TO WELL ALL ! LOVE YOUR VIDEOS !! ....... 4 REPLY Quran se shifa 3 days ago Nice song ️️️ 1 REPLY Biswajit Das 8 days ago Behind this voice = so many sacrifice+two three decades passed with single goal+day night passionate wow 2 REPLY View reply কিছু মুহূর্ত 6 days ago Awesome REPLY Aziza AzimovnaGulomova 8 hours ago I\\'m from Uzbekistan, I love so much Arijit Singh, Pritam, Shrey Ghoshal, Neha Kakkar️ REPLY View reply Shradha Deshpande 12 days ago I like it 1 REPLY Muskan 13 days ago Grande hermano sigue adelante y mucha suerte con todo tu es lo mejor sigue así eres el mejor saludos desde Saltillo el Nenuco.... 11 REPLY View 2 replies Moumita pati 3 days ago Abar sai voice ...love this..arijit Singh..magical voice..love u REPLY Ahad Ali 10 days ago This song is my favourite  1 REPLY View reply Challenge 10k with 0 Video 13 days ago Always  2 REPLY Tricky Freaky 3 days ago Totally addicted  #Kesariya  11 REPLY Crazy Panda Gaming Yt 9 days ago Best singer  of bollywood arijit singh  REPLY Doctor K 2 weeks ago Wish this song was made in KK\\'s fluent and optimistic+positive voice ️️ KK ️️ 5 REPLY Vedik Purohit 2 weeks ago Current best future best and decade best song will be loved and vibe it since it\\'s released 7 REPLY Sayan Roy 2 weeks ago #Kesariya...#Arijit 1 REPLY Dibyendu Das 12 days ago Arijit Singh ️ 2 REPLY Shubham Pc 98 13 days ago Very Very Nice Voice  1 REPLY View reply stayhappylittle mermaid 2 weeks ago If you will start choosing to do what you know is right, your feelings will catch up with its 8 REPLY View reply INDIAN VIEW 12 days ago Let\\'s see who love  this song And our #NATION 2 REPLY View reply stuti Singh 7 days ago Whenever I listen this i missing someone REPLY Mulkala Sunil Kumar 2 weeks ago Vocals are  7 REPLY View reply Dhanraj Kohpare 4 days ago My favourite songs REPLY AKASH BERA 2 weeks ago Jitni baar Dekho Kam hai 3 REPLY I Santosh 2 weeks ago I Love You  Arijit Singh Voice  9 REPLY View reply Raju Saha 12 days ago Arijit Singh and his best  1 REPLY Mijan Hussain 12 days ago 1 REPLY Reena Sharma 13 days ago Always good combination of arijit & pritam 1 REPLY View reply MRメMĀJØM๛ YT 2 days ago Nice REPLY Khushi Chauhan 13 days ago Very nice ️ 3 REPLY kkrk 1 day ago Nice song 1 REPLY Saul 13 days ago No one can beat the magical voice of Arijit Singh 15 REPLY Zehra Burhuddin 3 hours ago I love this song REPLY OP Gamerz 4 hours ago nice song REPLY MUSIC MASALA (M²) 2 weeks ago ️️ 1 REPLY SK music vlogs 1 day ago Nice song 1 REPLY Bindeshwar Mishra 4 days ago Nice song 1 REPLY MOG TV 7 days ago Nice song REPLY Sanskar Mishra 13 days ago No one can beat the magical voice of Arijit Singh 115 REPLY View 9 replies Bidyut Mondal 2 weeks ago ️️ 1 REPLY Abdullah Mamun 9 days ago mind blowing song REPLY Biswajit Shil 2 weeks ago Amezing fellings ️️️️ 2 REPLY View reply Ravindra Parkhe 6 days ago Really you vioce has magical powers I love your voice hyy mana apka sabhe song nahi dekha par ya apka first song which I love Arijit sir voice  1 REPLY View reply Joynul Hussain 7 days ago When you are single and listening Arjit sing songs you wanna be mingle. All the vibes .. What a lyric.  Wowww 14 REPLY View reply Sanchari Das 13 days ago Arijit Singh  1 REPLY amit Vishwakarma 2 weeks ago Arijit Singh 3 REPLY Believe In yourself 2 weeks ago The greatest of all time arijit singh. 6 REPLY View reply अंकित कुमार 9 days ago I\\'m not a emotional person but this song made me emotional REPLY VIKKI 10 days ago I\\'m here is only for Arjit Singh ️️ 1 REPLY Sutiya Hala 2 weeks ago Always king arijit sir  4 REPLY Hasil Soni 13 days ago Love Storiyaan ️ 1 REPLY View reply Kunal Prince 2 weeks ago Is film ke kuch part hindu dharm se liye gye hai. Isiliye log isko Lal Singh Chadda jaisa boycott nhi krenge. Yeh film tbhi flop ho skti hai jb yeh film wakai mein kharab nikle.  Agar koi boycott krega toh log kahenge hindu dharm ke against hai. Agar koi boycott nhi krega toh log kahenge bollywood aur nepotism ko support krta hai. Read more 3 REPLY Sandip Das 13 days ago Arijit singh sir is another level  1 REPLY View reply syed aizaz 13 days ago Nice song ️ 5 REPLY View reply ankit dwivedi 12 days ago Arijit fire hai  2 REPLY sazzad ahmed 12 days ago (edited) My Favorite Song... ️️️️️️️️️️ 3 REPLY View reply Pinki world 3 hours ago Nyc song REPLY Vansh Tanwar 13 days ago Big fan of ranbir kapoor  3 REPLY Mahaesthetica 2 weeks ago This masterpiece  +arijit = peace ..... 5 REPLY View reply Kanta Chanti 7 days ago Super voice sir.... REPLY Guru nath 2 days ago My lovely song REPLY kr..## khushi rajput😎😎 12 days ago Amazing  1 REPLY View reply Pyar Ke Pal 2 weeks ago Arijit Singh ️ 2 REPLY Angelina! 11 days ago I don’t understand a thing but I love this song 4 REPLY Love Status 2 weeks ago Sweet Arijit Singh Voice  8 REPLY View reply Shariful\\'s AGRI VLOG 1 day ago Just wow ️ 2 REPLY Arya D 12 days ago Arjit singh always ️ ️   best....but song wise 6 out of 10...sorry this is my opinion   1 REPLY Bikki CH 2 days ago Love this songs ️ 1 REPLY Sagor Deb 8 days ago Love from Bangladesh 🇧🇩️ REPLY Subhranil Sinha 2 weeks ago everyone\\'s trolling love storiyaan. But no one is admiring the beauty of \"patjhar ke mausam me tu rangeen chanaaro jaisi\". 3 REPLY Divyanshu Kumar 2 weeks ago Extended version really great too  6 REPLY View reply Music Lover 13 days ago Arijit singh my favorite singerArijit singh voice tuch my heart heart broken songthe most beautiful song 2 REPLY View 2 replies ♡ romantic song ♡ 10 hours ago Osm 1 REPLY Perfect GamerZ 2 days ago Arijit is Doctor of all broken hearts REPLY Dharun Lal 12 days ago Feeling like something  special 1 REPLY View reply Subroto Kumer 2 weeks ago Arijit Singh Is King Of Playback Singing 3 REPLY Shakti Solanki 6 days ago REPLY Kundan Kumar 2 weeks ago Lovely Arijit sir 1 REPLY shailendra vlog 01 5 days ago Nice REPLY John Cina 2 weeks ago Arijit Singh is the best singer I have ever seen 10 REPLY View reply Arshhhhhh4 5 days ago Nice REPLY Kashboina Siddhartha 2 weeks ago Wating for movie  3 REPLY View reply T-Series-tools 7 days ago Arijit Singh + Pritam = Best Singer And Musical In India Arijit Singh India Legend  Singer REPLY XIi 8 C LAKSHIT LAVANYA KUMAR 7 days ago Arijit Singh is a legend REPLY abbee khan 11 days ago Arijit Mean Magician   1 REPLY Shubham Thakur 10 days ago Arjit is just like as LIC, break up ke pahle bhi break up ke baad bhi 1 REPLY Gudluck kumar 12 days ago Super 1 REPLY youtubeveer 2 weeks ago 18 days left.. Can\\'t wait to see this movie 6 REPLY View reply Suraj Ꮶ. 2 weeks ago Song of the year...... Kesariya Tera Ishq Hai Piya ️ 13 REPLY View reply Amrendra Pratap Singh 2 weeks ago Arijit Singh voice  4 REPLY View reply SHASHI CREATION 13 days ago Arijit Singh ️ 1 REPLY Bhakti Wala 13 days ago Jay hind ️, One best thing about dude is that he never takes credit for himself when he achieves something. He always respect us the audience .we are congratulations ourselves on this️... 4 REPLY View reply adiptya Nath 2 weeks ago 1 REPLY DVD- Decius Videos Daily 2 weeks ago Arijit Singh Jaisa Koi Nahi Love u  Maa Saraswati blesses you Arijit 40 REPLY View reply KUMAR INDIAN 🇮🇳 2 weeks ago Voice of Arijit Singh  6 REPLY View reply Pyar Ke Pal 2 weeks ago Arijit songs   3 REPLY Naveen Asati 13 days ago best music in world 1 REPLY Dcarolg 12 days ago Fans Perú 🇵🇪 esperando con ansias ver la película i love 3 REPLY View reply Ratneswar Basak 11 days ago I love song nice bituful 2 REPLY Rahul Singh 13 days ago Ranbir and Alia 3 REPLY View reply Arijit Singh 13 days ago Arijit Singh sir one of the best ️️️️️️️ 2 REPLY View reply Srinivas Garapati 2 weeks ago Wow just awesome   5 REPLY Arabul Middhe 2 weeks ago Arijit Singh  2 REPLY Singing Nawab Arsh 2 weeks ago no any more best voice arijit and atif 8 REPLY Raj Singh 12 days ago ️ 1 REPLY 🐇Aditi অদিতি🐇 2 weeks ago Shaadi ke par husband wife eksath first time...Sooo romantic song them.Mujhe lagti he they may be bhool chuki ki shooting chalrahi hey.Every line of the song ek dusre se dedicate kia man se... 15 REPLY Gautam Pahwa 9 days ago Heart breaking sng REPLY Technophile Mr. Jeph 9 days ago Arijit and jubin are two gems of indian musical industry  12 REPLY View 4 replies Triangle Story 2 weeks ago ️ 1 REPLY Vibhanshu 2 days ago Arijit singh is very (soulful singer)yaar #Arijit Singh # REPLY Pyar Ke Pal 13 days ago (edited) kesariya song Flower nhi fair hai boss Arijit Singh ️ 1 REPLY Mubarak TEGGI 13 days ago (edited) 1:10 1:20 just wow 4 REPLY View reply Radiant RoyalSparkle 2 weeks ago ️ this song and visuals  ELITE!! 2 REPLY JAY KHANDARE GAMING 2 weeks ago Best ever  2 REPLY View reply MITASHI SMART 9 days ago Nicely  REPLY S K Sisodiya 13 days ago I respect to everyone who were involved in this , Seriously the best piece that I\\'ve ever seen on YouTube , HATS OFF TO WELL ALL ! LOVE YOUR VIDEOS !! .... 3 REPLY GURU DEV SAFA HOUSE 13 days ago Nice video sir ji    superhit video 1 REPLY Shubham Salkar 2 weeks ago Welcome to the Arijit Singh world  8 REPLY View reply Gupta Ashish 2 weeks ago Arijit Singh ki Voice Dil ko sukoon deti hai aur Rooh ko Raahat️ 22 REPLY View 2 replies Nashrin Pathan 6 days ago Beautiful REPLY Mayank shaw 1 day ago Best song REPLY Anu Anu 8 days ago Arijit Singh is the brightest star in the sky REPLY Nidhi Shree 11 days ago Arijit Singh  1 REPLY The Pranker 2 weeks ago I love my India so so much Jai Hind 5 REPLY Shubhangi Mankar 9 days ago Best song ever REPLY Aarti Gupta 2 weeks ago Love this song ️ 1 REPLY View reply কিছু মুহূর্ত 6 days ago Nice song REPLY View reply Kaustav Chakraborty 12 days ago (edited) অদ্ভুত এক মাদকতা আছে অরিজিতের কন্ঠে! 1 REPLY View reply AKASH KUSUM GHOSAL 11 days ago Kesariya  Deva deva  Dance ka bhoot  Read more 2 REPLY View 2 replies prince verma 2 weeks ago Kisko ye gana achch laga wo like kro 3 REPLY BISWAJEET CREATIONS 3 days ago My favourite song... 5 REPLY 100k challenge with 0 video 11 days ago माता-पिता वह हस्ती है, जिनके पसीने की एक बूंद का कर्ज भी, औलाद नहीं चुका सकती । ️  To be in someone\\'s gallery is cool, But to be in someone\\'s prayer is priceless... REPLY Sanjay Crystal 10 days ago (edited) Movie kaise bhi ho koi fark Nahin padta Love Arjit Singh  REPLY Md Sahab Uddin Ayath 2 weeks ago Arijit Sir Ai Kiya Kordiya,, Pura Jagat ka Dil Mei Aa Jata din din,,Heartbreak Song Kesariya By Arijit Sir 3 REPLY Sumit Sharma 2 weeks ago .      Arjit singh.......1000 1 REPLY ArijitSingh_Music_World 2 weeks ago King of melody 5 REPLY Mind blowing Fact 12 days ago Master piece Song By Sweet voice Arijit Singh... 1 REPLY View 2 replies Karsyn Eat my Mangos💦 1 day ago Totally addicted  #Kesariya REPLY Mangal Chauhan 13 days ago Love you Arijit ️️️️️ 3 REPLY View 2 replies Friends Love Story 3 days ago ️️️ REPLY NULLA GAMER 13 days ago Ek tha kishore kumar aur ek hein yeah arijit singh the legends️ 11 REPLY View 4 replies ABArijit Singh123 13 days ago I love Arijit Singh ️️️️ 2 REPLY View 2 replies Deha Bora 13 days ago Arjit da is the best 4 REPLY View reply Dhairya Ahuja 5 days ago Arijit sir your voice is melodious 1 REPLY View reply Ananya 2 weeks ago Mujhko itna bataye koi Kaise tujhse Dil na lagaye koi.. Favourite lines of this song! ️ 3 REPLY View reply official fitness@wassu💪 12 days ago I love this song arijit singh brother 1 REPLY Narufan599 2 weeks ago Alia and Ranbir have magical chemistry 15 REPLY Technology Prism (All in one) 5 days ago Mood freshing songs :-  1. Tum hi ho bandhu  2. Soorja dooba hai   3. Sau aasaman Read more REPLY Kumar Raj 2 weeks ago Arijit Singh sir ️🇮🇳️ 5 REPLY View reply ALISHAN KING BRO 10 days ago Very nice song bhai ji  इनकी आवाज में कोई तो जादू है तभी तो लाखों करोड़ों के दिल में यह बसते हैं ️ zee 9 REPLY Mohit Chauhan 3 days ago Arijit Singh and b praak dono best hai ️ REPLY Dhir Varu 13 days ago Arijit Singh  1 REPLY # SP RATHOR 13 days ago So happy song ️️ 2 REPLY offical_shoyab.05 1 day ago Realy Nice Voice REPLY Veezash Ali 2 weeks ago Im thanksfull tO see nO onE Boycotted persoN heRe ️ 3 REPLY View reply Chinnu Hiremani 13 days ago Just love  dis couple 2 REPLY Nabajyoti Barman 11 days ago Ajrit sing voice is beautiful  I love you REPLY Arijitians 13 days ago Arijit, Ranbir, Alia..............lets go...️ 2 REPLY MI JAUNPURIYA 1 day ago Very nice song & voice Arjit Shinh  4 REPLY East Bengal Army 10 days ago Arijit Singh My Favorite Singer 🇮🇳 From BANGLADESH 🇧🇩 REPLY rishabh sahu 2 weeks ago brahmastra will biggest block buster movie of ranbir and alia . Wish whole team for making movie like this 21 REPLY View 4 replies Hindi Romantic Songs 2 weeks ago Don\\'t know if someone is reading this, but if you are: You are amazing and beautiful! I believe in you!  29 REPLY View 2 replies SREEHARI SANDRA 8 days ago (edited) Kesariya Read more 1 REPLY Pratik Asodariya 10 days ago Nice REPLY Kiran Ch 8 days ago Best hindi song ... We r waiting for the sept9.. best day REPLY Raj Roshan 13 days ago (edited) Brahmastra All Album Song Arijit Singh :- Kesariya + Deva Deva + Bhoot ka Dance + Upcoming song :- ? 2 REPLY Arvind_K_ Jadhav 13 days ago Nice Song 6 REPLY New Hindi Songs 2 weeks ago Don\\'t know if someone is reading this, but if you are: You are amazing and beautiful! I believe in you!  3 REPLY Tahmina Islam 2 weeks ago I wish this song had more lyrics 3 REPLY Jeet 11 days ago Waw what a song Har har Mahadev 2 REPLY Code with RSV 2 weeks ago True line ...... ️️ भाईयों  और बहनों कभी हार मत मानना क्योंकि आपकी मां आपकी जीत की उम्मीद लगाए हुए बौठे हैं 5 REPLY Big Fan Of B2K 13 days ago One & only for Arijit Singh k liye main  Aayi️️ 1 REPLY Tara singh 2 weeks ago Arijit Singh song best wishes ️ thanks for the best singer Arijit Singh ️ 3 REPLY Jaya Sharma 12 days ago This song is spread like a fire 1 REPLY View reply Subhash Kasota 2 weeks ago every time arijit with new magic  3 REPLY View reply Mohammad Zharu 2 days ago So nice 1 REPLY dhruv malik 2 weeks ago Arijit Singh\\'s domination  12 REPLY Avdhesh Dixit 2 weeks ago Arijit singh is the best singer 2 REPLY ꧁⊱NAYRA꧁NAYRA꧂ 2 weeks ago (edited) Wow that’s beautiful soft song love it guy’s nice couple song that’s awesome 3 REPLY Pritesh Patel 2 weeks ago Arijit Singh is Arijit Singh...koi uske aaspass bhi ny.....great singer in the world..... 5 REPLY Ritik_Raj_ZONE 10 days ago Arijit Singh is dominating in bollywood REPLY Manoj Patra 13 days ago Arijit Singh ️️️️ 2 REPLY View reply Aanchal Agarwal 5 days ago Beautiful song  1 REPLY Adventure Facts 4u 13 days ago गर्व से बोलो हम भारतीय हैं 🇮🇳️. 1 REPLY Sunny Kashyap 2 weeks ago Arijit sir ️ 5 REPLY badal kumar 9 days ago Nice song️️️ 1 REPLY imthu salman 2 weeks ago Addicted 2 REPLY SGxSUSHALhorra 13 days ago 1 REPLY Preeti Tiwari 12 days ago So lovely song   I love it ️️️ 2 REPLY Moral Arijit 7 days ago Lyrical Video Gonna Trending   REPLY Sonup Gond 2 weeks ago Nice song 3 REPLY Subek Chhetri 13 days ago Hope that this movie will be a superhit 1 REPLY View reply Mani Gupta 2 weeks ago There is only one person can save Bollywood\\'s melodies songs that is Arijit Singh   123 REPLY View 18 replies sandip roy 3 days ago Wow this song REPLY Salman Jaman Faysal 2 weeks ago My favourite song️️ 3 REPLY Gorakhnath Dubey 8 days ago REPLY Krishna 2 weeks ago they have released the song because of boycott trend they wanted to show us that their film is not against hinduism 3 REPLY Pankaj Kumar 12 days ago very nice song  2 REPLY SHREYA the EXPLORER 13 days ago (edited) #Kesariya  #ArijitSingh ️ #Ranalia  #Brahmāstra ️\\u200d 4 REPLY View reply Smooth GαMe® 11 days ago Love you Arijit bro REPLY Xavier 3 days ago This trio always gives masterpiece songs - Pritam + Arijit + Amitabh.. 228 REPLY View 30 replies Sanduni Rathnayake 9 days ago Awwwwss Alia is such a cute doll. Lucky Ranbir 1 REPLY Dipankar Mondal YT 11 days ago Nice video ️ 3 REPLY RRH SHORTS 13 days ago Arjit sir ohhhhhhhhh yaar ️️  voice is soo heart touching ️️ 13 REPLY View reply Gautam Nayak 2 weeks ago Legend Arijit Singh  3 REPLY View reply Suman Lata 1 day ago REPLY Shubham Salkar 2 weeks ago No one beat the magical voice of Arijit Singh  366 REPLY View 57 replies Shahin Kadam 13 days ago All️️️️Always Awesome cute, Mesmerizing Hit, Trending combination  1 REPLY sobita das 2 weeks ago So nicee magical voice 5 REPLY fanz pranbir 11 days ago My favorite song️️️️️️ 5 REPLY ALINA FF 2 weeks ago I respect to everyone who were involved in this, Seriously the best piece that I\\' ve ever seen on YouTube, HATS OFF TO WELL ALL ! LOVE YOUR  VIDEO!!! 7 REPLY Zeeshan_turki870 12 days ago Wow so cute yaar  1 REPLY Er.M.S 12 days ago This song doesn\\'t deserve them, they need more deserved actor 1 REPLY View reply yash pandey 7 days ago #WESUPPORTBRAHAMSTRA 2 REPLY kan\\'t close the eyes 2 weeks ago First show I have to watch 4 REPLY Soumyasubhra Panja 2 weeks ago Chanda bhi deewana hai Arijit Singh ka . Lots of love from Kolkata ️. 13 REPLY View 2 replies Khalid Rana 13 days ago Best song of the year ever 2 REPLY View reply Monica Fernandes 2 weeks ago 1 REPLY Pratik Sanjot 2 weeks ago My favourite song ️ 3 REPLY Music video song PB 2 weeks ago Arijit Singh ️ 1 REPLY Rishav Kumar 2 weeks ago Kesariya Tera Awaz h Bhaiyaa ... Bhand ho jaau mai to pie bina bhi.. 3 REPLY Jay k 12 days ago This is soulful 1 REPLY Preeti Tiwari 12 days ago Very nice song  10 REPLY RK STAR FF RS 12 days ago 1 REPLY sojeeb Barmon 2 weeks ago Beautiful 1 REPLY Vipin Shah 11 days ago ️️️️️️ REPLY akash kadambi 2 weeks ago 0:45 aw shit here we go again. 4 REPLY Trending Channel 🔇 13 days ago Superb Song..... 1 REPLY Krishna Ready 2 weeks ago 1 REPLY কিছু মুহূর্ত 6 days ago ️️️️ REPLY New Hindi Songs 2 weeks ago Never ignore a person who loves you, cares for you, misses you. Because one day, you might wake up from your sleep and realize that you lost the moon while counting the stars 29 REPLY View 4 replies The Kingmaker 5 days ago Then - Hawayein Now - Kesariya 1 REPLY Akansha Srivastava 2 weeks ago (edited) Variation badiya tha 4 REPLY View reply Priya Gaming FF 13 days ago Very nice song bhai ji  इनकी आवाज में कोई तो जादू है तभी तो लाखों करोड़ों के दिल में यह बसते हैं ️ 39 REPLY View 9 replies s k roy 2 weeks ago They should have fixed \\'love storiyan\\' this time...other things are just perfect. Perfect video,perfect music,perfect vibe,perfect visuals and perfect singer️️️ 5 REPLY View 2 replies Xlt 12 days ago Pritam always op 2 REPLY Bilal Yasir Official 2 weeks ago (edited) Arijit Singh can sing anything So many Popular Actors in this film but comments mein sirf unki taareef hai Thats the Magic of him 84 REPLY View 8 replies RAUJA KHATUN 12 days ago 1 REPLY ANOOP KUMAR 2 weeks ago Arijit singh ️️ 4 REPLY Alon Rai 2 weeks ago Arijit singh is the best singer from indian musical industry. 1 REPLY Mahaesthetica 2 weeks ago Bestest song  1 REPLY PRAVIN BHANDARE 3 days ago REPLY BDB ShortS 2 weeks ago Something unique in this singer 1 REPLY Syeda faryal 13 days ago 1 REPLY Majnu Creation 2 weeks ago I Love You Arijit Singh ️ 3 REPLY CYBER SC GAMING 2 weeks ago Arijit ️️ 3 REPLY Phillip Myers 2 weeks ago Despite the economic downturn, I\\'m happy ️. I have been earning $60,200 returns from my $10,000 investment every 13 days 3 REPLY View 17 replies H.P. GAMING 999 4 days ago Best songs mst ️️️️ REPLY Deepak Nayal 13 days ago Arijit bhai what a song. 1 REPLY Diksha 1 day ago ️ REPLY Ravy kk 2 weeks ago Sad part iz logo ne Love storiyan prr tym waste kia jbki vo sirf do baar aaya pure song me but baaki Lyrics ko ignore kia jo itna perfectly sync kia gya...such a beautiful song connection with Shiv and Parvati  15 REPLY View reply Tanu Aaseri 2 weeks ago The king one n only arijit Singh  2 REPLY Mahesh Dewangan 13 days ago Very nice 2 REPLY View reply Sita Ram Meena 13 days ago love u Arijit 2 REPLY View reply ◉गुरुज्ञान◉Academy 12 days ago No boycott 4 REPLY Sanjay Duarah 6 days ago Top song 1 REPLY Ansh Gupta 3 days ago Wow awesome vice 1 REPLY Md Aanish 2 weeks ago Arijit singh is back  All singers are hack  5 REPLY Devkumar Kumardev 12 days ago Very nice song friends 1 REPLY Death Fighter 2 weeks ago ️ 1 REPLY Shamol HowlaDer 13 days ago Arjit singh always best 4 REPLY sundar king 3 days ago Super song Macha REPLY AKTA DIJITAL R 12 days ago  nice sog hidi 1 REPLY Gudluck kumar 12 days ago Nice song 3 REPLY View reply Manikant Pandey 2 weeks ago I am here   Well that\\'s was the best but I have listened full version already and here for just video and that last part  2 REPLY View reply memon arman 5 days ago Superb 1 REPLY View reply Areeba Merab Vlogs 12 days ago my favorite song 4 REPLY View reply 1k Challenge Without Video 11 days ago I hope ke jitni hype banayi gayi hai..movie usse kai guna acchi nikle!️ REPLY Subham Mitra 2 weeks ago Arijit is arijit 1 REPLY Gopal Das 2 weeks ago ️️️️️️️ Arijit Singh ️️️️️️️ 3 REPLY View reply hariom youtuber 13 days ago  नाइस सॉन्ग 1 REPLY Ratan Chandra 13 days ago Arijit Singh  1 REPLY Pankaj ahiwar 2 weeks ago Heart of Brahmashtra - Kesariya Soul of Brahmashtra - Deva Deva Music of Brahmashtra - Pritam Voice of Brahmashtra - Arijit Read more 23 REPLY View 4 replies shashi shrivastava 10 days ago Arijit singh  1 REPLY nitishrandhwa 12 days ago Nice  2 REPLY maya 13 days ago Rang jau jab-2main tujhe sunu ...#arijitsingh  5 REPLY View reply Arshhhhhh4 5 days ago Super REPLY Ayan Vaidya 2 weeks ago FULL VERSION!!!! 1 REPLY Muhit Alom 2 weeks ago Nice wow  3 REPLY puja soni puja soni 5 days ago Very nice super song.... REPLY Arshhhhhh4 5 days ago Gajab REPLY ADITYA SANKHLA 2 weeks ago Arijit Singh ️ 3 REPLY Rekha Santra 6 days ago ️️ REPLY View reply Krishna Ready 2 weeks ago 2 REPLY Nusrat Jahan 13 days ago ️️️️ 4 REPLY Hiran official 11 days ago Nice song and acting 2 REPLY View reply Devkumar Kumardev 12 days ago  very nice song friends  1 REPLY durjoy kumer 2 weeks ago #ArijitSingh️ 3 REPLY Sidak Preet Singh 20EAREC067 12 days ago 1 REPLY Roushan Kumar 13 days ago अरिजित सिंह the legend 1 REPLY बनारसी बबुआ 10 days ago Rabba ne tujhko bnanane me kr di husn ki khali tijoriya........ 1 REPLY Arvind Soni 12 days ago Arjit Singh  1 REPLY ß Đ 12 days ago 141M on kesariya ️ 1 REPLY Subrata 2 weeks ago ️️ 2 REPLY Amit GaminG 🤗 12 days ago # Boycottbramhashatra 3 REPLY PranRath 2 weeks ago (edited) *LOVE STORIYA* 2 REPLY Bittu Mandal Vlogs 13 days ago #arijitsingh️ 1 REPLY AKASH KUSUM GHOSAL 2 weeks ago Chanda bhi deewana hain tera jalti hain tujhse saari chakoriyan ️️️ 3 REPLY Mughato Sumi 13 days ago Mujhko itna bataaye koi Kaise tujhse dil na lagaaye koi Rabba ne tujhko banaane mein Kar di hai husan ki khaali tijoriya Read more 1 REPLY Sarit Sarkar 12 days ago Arijit Singh......great song......mein gane ke liye acha bola 1 REPLY A1 Creation 2 weeks ago Arijit op  15 REPLY factlover 1 day ago ️️Arijit Singh REPLY Jilubha Darbar 13 days ago ️️️️️️️ 1 REPLY Yadav_rai_offical 12 days ago गर्व से बोलो हम हिंदुस्तानी हैं🇮🇳 7 REPLY View reply NT Bollywood Songs 9 days ago Legends are those whose exams are near but still listening songs  1 REPLY Nazma Begum 2 days ago Nice song year REPLY William Reang 2 weeks ago (edited) Arijit Singh >> 3 REPLY Srimit 2 days ago Rabba na tujhko banane mein  ....  1 REPLY 07Bodo Status 5 days ago अभी इस वक्त जो मेरा कमेंट पढ़ रहा रही है हम एक दूसरे के लिए अनजान हैं फिर भी हम भगवान से प्रार्थना करते हैं कि हम सभी के जीवन में हरदम खुशियां ही मिले ️ 1 REPLY RDX Rocha 11 days ago Nice song 3 REPLY Amit Kumar 12 days ago India ka no1 singer Arijit Singh 1 REPLY Somnath Mathapadia 10 days ago Arijit Singh is legend REPLY nalendra kumar 2 weeks ago Nice song 3 REPLY Deepak Kumar 7 days ago 🇮🇳🇮🇳🇮🇳 REPLY Shirajul Islam 7 days ago REPLY WhatsApp status 13 days ago Nice song 3 REPLY Iqbal Hasan 12 days ago This is so beautiful song is ever 1 REPLY View reply Sarwana Jahan Vlogs 5 days ago This song is wow 1 REPLY View reply om Wagh 2 weeks ago (edited) Whole world can\\'t beat arjit singh 3 REPLY View reply Sahin Islam 2 weeks ago My favorite song 2 REPLY Najima Sultana 7 days ago Arjit singh best song ever 1 REPLY Sam James 2 weeks ago I Respect Everyone who were involved in this , Seriously the best piece that I\\' ve ever seen but I m a fan of Hammad Khatri . He is hearing impaired Youtuber. No one noticed him. His channel name Hammad Khatri 4 REPLY কিছু মুহূর্ত 6 days ago ️️️️ REPLY View reply The Buiseness Devloper 5 days ago Super 1 REPLY View reply study group IAS 2 weeks ago Indian best\\'singer Arijit Singh 3 REPLY Sk vanshi63 13 days ago Naice video  1 REPLY deepak kumar 2 weeks ago Only arijit singh can save the bollywood 1 REPLY Babu Kalita 2 weeks ago Nice  song 4 REPLY New Naga kyk 3 days ago My favorite hero Rba REPLY kamil coking boy 9 days ago nice REPLY sapna 12 days ago Nice song  2 REPLY View reply Useful Knowledge 11 days ago लम्हे फुर्सत के आएं तो, रंजिशें भुला देना दोस्तों, किसी को नहीं खबर कि सांसों  की मोहलत कहाँ तक है ॥ 1 REPLY pritam biswas 11 days ago nice REPLY Anil sharma 9 days ago Mast REPLY Indrani Das 11 days ago Verygoodsong REPLY Raviii Choudhary... 3 days ago Hyeee ye song ️ REPLY YOUR LOVER BHAI 12 days ago Voice Is Like Sweeet 1 REPLY View reply shreya Bajaj 13 days ago ,️️️️️️️️️,️️️ 1 REPLY View reply Washim TV Channel 2 weeks ago Hello kesariya song is good aendea nice 2 REPLY Ava RoSe Sᴇx Cʜᴀɴɴᴇʟ 21 1 day ago No one can beat the magical voice of Arijit Singh 4 REPLY Chandrakant Kumar 8 days ago I wating for this movie 1 REPLY AKASH KUSUM GHOSAL 2 weeks ago Please add this song on ads 2 REPLY Smith Kirpekar 12 days ago Kitno ki Love story ya .️ 2 REPLY Bubul Sarma 1 day ago Fav song ban geya hai REPLY anwesh poojary 2 hours ago gg song REPLY Smita Kushwaha 6 days ago ️ REPLY View reply J M Jony 12 days ago Love you so much 1 REPLY aaryan limbu 12 days ago How could we ignore ranbeer movies 1 REPLY Sumit Roy 2 weeks ago Such a huge film with brilliant topic is just 2 full weeks away but no serious promotion here.   They are still pushing Kesariya lyric version instead of launching new songs or themes.    The made a teaser public 5 days ago but no full song yet.  They released Deva Deva without proper info and time.    Never expected this.  Now it looks like they themselves are not confident with this project.  So unfortunate.  I\\'m loosing the hype. 1 REPLY Shridhar Banage 4 hours ago Arijit. Rocks REPLY cook with me 😌 11 days ago Arijit Singh ، REPLY BTS Girl 4 days ago Woww REPLY Jitu Maghav 12 days ago 1 REPLY Sourav Joshi Fans 1.1k Please Complete 12 days ago गर्व से बोलो हम सब भारती हैं 🇮🇳️ 1 REPLY Priyesh Yadav INS 6 days ago न पूछो ज़माने को क्या हमारी कहानी है, हमारी पहचान तो सिर्फ ये है कि हम सिर्फ हिन्दुस्तानी हैं..!! ️Like करो Follow करो️ 1 REPLY hari aravind 8 days ago Pritam is underrated REPLY manwendra singh 1 day ago Arjit k awaz k chlte Sunana pad gya 1 REPLY BrightSky Production 13 days ago Best Arijit Singh song 2022 2 REPLY View reply もえ 4 days ago なんて言ってるんかは分からんけどいい曲やね REPLY Kul Bahadur Budhathoki 12 days ago Am I only the one who disliked \\'love storiyaan\\' in this song and now it feels incomplete without it in the song. 1 REPLY Shaik Riyaz 2 weeks ago Nice pic 2 REPLY Munno Clips 11 days ago .75× 2 REPLY Akash Bali 13 days ago Comeback movi of bollywood 1 REPLY All Entertainment 10 days ago Mammi Papa Ki Kasam Like Kar Dunga +Subscribe Jarur Karunga , .       , . . : 2 REPLY DJ_Nandkishor__Bharti _N_R 9 days ago Hard truth :Bollywood cant make any movie without hindi ongs REPLY Vishalkumar Kevat 2 weeks ago Jaadu hai ye to 2 REPLY sumitmeena@555* 12 days ago Mujko hitna bataye koi️ pyaar bi  kitni tut ta he  1 REPLY nihit mishra 2 weeks ago Play it on 1.25x. thanks me later 1 REPLY 07Bodo Status 5 days ago अभी इस वक्त जो मेरा कमेंट पढ़ रहा रही है हम एक दूसरे के लिए अनजान हैं फिर भी हम भगवान से प्रार्थना करते हैं कि हम सभी के जीवन में हरदम खुशियां ही मिले ️ REPLY IMGB 12 days ago जोप्यारी प्यारी आँखे मेरा यह सुंदर कमेंट पढ रहे है या रही है भगवान उनके माता-पिता का लंबी उम्र दे और उन्हे हमेसा-तरक्की दे Love you all 1 REPLY IMGB 12 days ago जोप्यारी प्यारी आँखे मेरा यह सुंदर कमेंट पढ रहे है या रही है भगवान उनके माता-पिता का लंबी उम्र दे और उन्हे हमेसा-तरक्की दे Love you all 1 REPLY Dinesh Singh 11 days ago King arijit singh 1 REPLY मनेश गावित 2 days ago जो भी इस वक्त मेरा कॉमेंट पढ़ रहा / रही है हम सब एक दूसरे के लिए अंजान है पर फिर भी मैं भगवान से A. प्रार्थना करता हूं कि आपकी लाइफ में अभी कोई टेंशन चल रही हो तो वह दूर हो जाए आप हमेशा खुश रहें!! REPLY Sangita Wadadare 8 days ago Arijit Singh rocks REPLY Mafiya killer king love status 13 days ago Mafiya killer king love status 2 REPLY Mahesh 8 days ago THANKYOU. 1 REPLY Cribek 12 days ago ये जो प्यारी आँखे कमेन्ट पढ़ रही है भगवान उनके माता पिता को लम्बी उम्र दे । 1 REPLY Sajjad Hussain 9 days ago loved it 2 REPLY RDX 10 days ago Feel song mind totally  peas 1 REPLY Goya Wechlz 13 days ago Is movie me ranbir ki jagah kisi aur ko lena tha agar ye movie flop hoti hai to uska kaaran yahi hoga 1 REPLY Sm Telecom 12 days ago We proud arijet singh 1 REPLY R RAJU Gill 13 days ago Bahut badhiya badhiya song milenge aapko 1 REPLY Riya Thakur 11 days ago Hi guy\\'s मै गॉड से प्राथना करती हु की आप और आप का पुरा परिवार हमेसा खुस रहे Thank you and love you 1 REPLY Mousumi Ghosh 4 days ago IT IS VERY NICE 1 REPLY View reply Akhil lingwal 1 day ago I am waiting for that person who say Legend are watching in 2022  1 REPLY P N 13 days ago Nice nice nice niceeeee 1 REPLY Akansha Srivastava 2 weeks ago Ye bhi 100 million jaega 2 REPLY Rohan Grover 2 weeks ago Magic h yaar ️ 1 REPLY Christianah Salami 8 days ago I don\\'t a thing but I love it. REPLY Ganpat Sa 2 weeks ago A1 1 REPLY Mr pankaj1.2 10 days ago Keep songs Omg 1m view\\'s itna fast  दसरा वीडियो डालो आप हम with कर रहे  क्या कहती public wait कर रहे न सब वीडियो का इनके next? 1 REPLY Md Hemel 3 days ago ️️Arijit️️ REPLY Akshay Aggarwal 5 days ago Bahi frustation mein sunne ke baad jo rest milta hai na…. Ahaaahhhhh REPLY Md Rezaul 2 weeks ago Thanks full song aplote 2 REPLY Vedik Purohit 12 days ago Trending 2 REPLY ANGRY PRASH BHAKTA 7 days ago Arijit Singh is bap of all singars 1 REPLY Amy Lopez 2 days ago Good REPLY Samira begum 7 days ago Finally REPLY Lee min ho 12 days ago (edited) 99.9999999999999999999999999% Talking about Arijit singh 2 REPLY it\\'s me Kunal 2 weeks ago Very bad editing ️️ but the song is  1 REPLY Mahir Prajapati 13 days ago Brahmastra till does not released but this song is brahmastra 1 REPLY Everest travels shillong 10 days ago No one best Arijit Singh. 1 REPLY Mixing Ke Dose 12 days ago  इस song को Remix किया जाए ️ Comment करो ️ 1 REPLY Hritik Jagtap 2 weeks ago whoever edited this really doesn\\'t seem a pro! 1 REPLY Maths by Satyam Singh 2 days ago Arijit Singh ke Karan ye song chal gya h 1 REPLY Paulson P 9 days ago Arijit ka awaz bhi sun sun ke paka diya. REPLY Md.suhail 8 days ago MƳ ƑƦƬ ƧƠƝƓ.. ƛƦƖʆƖƬ ƧƖƝƓ.. REPLY DR. DeV 9 days ago Awesome song. Shame for Alia REPLY Co2 11 days ago Arijit hai to bollywood hai. REPLY Ashraf Khan 12 days ago Song accha  par na jana Kyo ya actor  ab accha nahi lagta...crush bollywood...New talent should come 1 REPLY RM TIMLI LOVERS 13 days ago गर्व से बोलो हम सब भारतीय है l🇨🇮 2 REPLY CRAZY Shivam143 8 days ago जो भी प्यारी आंखो से मेरा कमेंट पढ़ रहा /रही है उसके आंखो और उसके माता पिता की उम्र लंबी हो  REPLY ABHISHEK TIRKEY 2 weeks ago Arijit Singh 1 REPLY Cute girl 3 days ago जो भी इन प्यारी आखों से कमेन्ट पढ़ रहा / रही हैं उसके और उसके माता पिता की लंबी उम्र हों REPLY 02. Shubham. Nitin Agrawal 13 days ago Hello sir , goods afternoon thanks for the updates 1 REPLY nagendra kumar 4 days ago NICE SONG THIS TIME VVVVVV..VIRY NICE REPLY Chahat Sharma 2 weeks ago Arijit Singh woww  2 REPLY kd wild 13 days ago Is time-travelling legal? 1 REPLY Suraj Jayswal 12 days ago Now daily listeners make sure here 1 REPLY Kunal kumar 6 days ago Kuch singers aate hai instant famous hote hai fr khatam.... But अरिजीत सर ka jawab nahi REPLY Sagar Kumar 12 days ago Yrr movie ko boycott nhi karo please 1 REPLY View reply Siddhant Pawal 7 hours ago Dar lag raha hai kahi ye bhi na flop ho jayenepotism trend chalu karo REPLY Farooq Syed 13 days ago Jane kitnu ki love storiyan 2 REPLY Anika Tahsin 11 days ago Miss U kk  REPLY Monica Fernandes 2 weeks ago 1 REPLY Aanav Sood 12 days ago How many here for love storiyan 1 REPLY Ayush Kumar Pandey 12 days ago Ab real life couples ho gaye hai sir description sahi kar dijiye. 2 REPLY Sayani Jana 6 days ago Arijit Singh ne bacha liya sabko REPLY Crazy Panda Gaming Yt 9 days ago Like on arijit sir fan jo jo ho  REPLY Mr pankaj1.2 10 days ago Keep songs Omg 1m view\\'s itna fast  दसरा वीडियो डालो आप हम with कर रहे  क्या कहती public wait कर रहे न सब वीडियो का इनके next??? REPLY Harbendra Sabar 12 days ago One like for arijit singh 1 REPLY comedy x6 2 weeks ago Love  1 REPLY ANUPAMA SHUKLA 3 days ago Alia di look cute and beautiful REPLY Raj Singh 12 days ago Like for Arjit singh 1 REPLY mehndi designer and other content 1 day ago Who watching after ranbiraliya marriage like 1 REPLY Six Idiots Official 3 days ago Mst REPLY Fawad Azam 2 weeks ago (edited) It\\'s a nice  song  who liked my comment . 1 REPLY muhammad noval 1 day ago (edited) Ise pyaar karana️️️ REPLY Jay k 12 days ago Junnnoniii song 1 REPLY Nupur Akter 2 days ago love u REPLY Saniya Banu 2 days ago Wase ye fast song h jisme lovly fill hora h wase accha h ️️ REPLY MRメMĀJØM๛ YT 2 days ago Nice to REPLY Sushan Panta 2 weeks ago 1 REPLY VIKASH HACKER VLOGS 12 days ago जय शिव 1 REPLY Abhinand pk 2 weeks ago Arijit Singh The Brand Name️️ 1 REPLY amazing sid 5 days ago If you don\\'t i am know who loves his mother REPLY Alpa Davra 7 days ago , good REPLY ESSAY WRITING Solutions 13 days ago Is movie main agar sukhwinder singh ji ka gaana na ho to maja nahi aayega 1 REPLY Jithin Jasin 2 weeks ago ️️ 2 REPLY Surabhi Mukherjee 7 days ago Requesting you all to watch #SahanaChanda \\'s songs  1 REPLY Bhakti music 3 days ago Dharma productions ka Boycott karo इसने ही हिंदू ऐक्टर वो को बैन किया है और हिंदू धर्म को बदनाम किया है फिल्म देखने से अच्छा boycott करने में ज्यादा मज़ा आता है REPLY Dipak Karmakar 2 weeks ago Love you Arijit da  2 REPLY Arvind Singh 12 days ago Seems like they changed this song a bit. 1 REPLY gaurav kala 13 days ago 2:42  2 REPLY Kuntal Ghatak 5 days ago Requesting you all to watch #SahanaChanda \\'s songs  1 REPLY KEWIES 11 days ago Ab to lyrics bhi trend kr rhe hai 1 REPLY Zoxal Melodies 11 days ago (edited) Please mera cover song ek baar sun lo please 2 REPLY 3.14K suscriber challenge without any video 4 days ago Why this song is controversial? REPLY WESTERN EXPLAINER 12 days ago जो भी मेरा comment like करेगा उसके माता पिता को भगवान लंबी और खुशियों भरी जिन्दगी दे ये मेरी प्रार्थना है तो कौन कौन लाइक करेगा??::तो करिए और जादू देखिए ???&₹ 1 REPLY Goru Horse 6 days ago ️pallab REPLY View reply সাবিহা মির্জা 2 weeks ago Alia you are a master of killing man love you alia mam your smile is killing me   Love you my crash alia you are a doll 2 REPLY Gaming with Ibrahim Brother 9 days ago Brother, I made a hard video but the video went viral 1 REPLY Balkishan Vyas 12 days ago MODI & ME AT CORNER :- MAJJA NAHI AAYA  2 REPLY Atul Sharma 6 days ago So much Arabic and Urdu in even those songs which r said to be related to culture . I think Bollywood doesn\\'t like pure Hindi n that\\'s what Karan Johar has said too REPLY Ali Ghazanfar Ghaznavi 1 hour ago CHECK OUT how Ranbir Kapoor proposed Alia Bhatt during BRAMHASTRA https://www.youtube.com/watch?v=MVqRmW4XsKU REPLY sahil kewat 13 days ago #justice_for_ssr. 1 REPLY Appann Patil 12 days ago Op 2 REPLY 😂 11 days ago Bolo juban kesari.... 1 REPLY WESTERN EXPLAINER 12 days ago जो भी मेरा comment like करेगा उसके माता पिता को भगवान लंबी और खुशियों भरी जिन्दगी दे ये मेरी प्रार्थना है तो कौन कौन लाइक करेगा??::तो करिए और जादू देखिए @११३ 1 REPLY 𝐒𝐡𝐢𝐯 𝐁𝐮𝐧𝐭𝐲 𝐊𝐫ツ 2 weeks ago 𝐇𝐢𝐭𝐬 𝐝𝐢𝐟𝐟𝐞𝐫𝐞𝐧𝐭...️ 1 REPLY Bhanu Saini 8 days ago (edited) Song is Good but Movie to hum nahi dekhnege  Love for Amitabh Ji and Arijit ji. #Boycott_KaranJohar Remind Student of the Year\\'s song about Goddess Radha ji, Kick out Urdu Words from Bollywood. 1 REPLY GOWTHAM M 9 days ago Any தமிழ் மக்கள் here REPLY Unmarried Couple life 12 days ago Hi ️ 1 REPLY Unmarried Couple life 12 days ago Hi ️ 1 REPLY technical gaming abhi gamerz 2 days ago song REPLY Sai Vaibhav 2 weeks ago This movie is going to be biggest ---------------------? 1 REPLY Nawal Nawal 2 weeks ago ️️️️ 2 REPLY AS700 Blogs 11 days ago Nice ️ 2 REPLY View reply All in one 13 days ago The editing has made the song worst at last lines 2 REPLY Maar Epic Tracks 2 weeks ago Kesariya  1 REPLY @Taylor.. 2 weeks ago (edited) \"\" 1 REPLY Soumyakant Patel 2 days ago Boycott wale koi nahi dikh raha yahan 1 REPLY Bibek Yadav 2 days ago Love You joti REPLY Maar Epic Tracks 2 weeks ago Arijit Singh...Kesariya  2 REPLY DACHTH 2 days ago Tu jaane na x Tera hone Laga hoon Atif Aslam ️ ranbir kapoor https://youtu.be/P62mNhLHAL8 REPLY Rohit raj Bhatta 6 days ago Stock me Paisa double  1 REPLY Anik Rahman 2 weeks ago Arijit singh ️️️ 1 REPLY Abhishek Pandey 2 weeks ago Iski shooting Banaras me huyi hai.. 2 REPLY Rinal Sinha 13 days ago Is this a song   Aisa lag raha jaise poem gaa raha hai. REPLY 𝐒𝐫𝐚𝐛𝐨𝐧 𝐊𝐡𝐚𝐧 2 weeks ago Kesariya ️ 2 REPLY Heni Sumarni 2 weeks ago Love you salam dari indonesia 1 REPLY Nora fatehi Sam 2 weeks ago Arijit singh  2 REPLY Fatima Nazeer 2 weeks ago Arijiiiiiitttttt isssssss lovvvveeee love from 🇵🇰 1 REPLY Jay Joseph 13 days ago legends know that this is a copy 1 REPLY Vaggy 29 13 days ago : 1 REPLY Saddam 02 12 hours ago Hi REPLY AK S 2 weeks ago ️ 1 REPLY Sanjay Sin 1 day ago Song acha he par muje ranveer or Aliya pasand nhi kyoki Mee inki Boycott karta hu kuki inke vajha se ache ache young new logo ki moka nhi milta 1 REPLY View 2 replies zara 1 day ago 0:50 REPLY MrTechnomantra 11 days ago Boycott Bollywood and nepotism 1 REPLY Pushpa Chaurasia 11 days ago Atif can beat REPLY Branded Music 4 days ago Kesariya 8D  is here  https://youtu.be/ya28XdcSGJo REPLY V.S creator 12 days ago Boycott brahmastra 1 REPLY ex secular 13 days ago Only for arijit singh not for jihadi wood 1 REPLY Dr.Rizwan Ahmed 7 days ago #Boycott_Brahamashtra_And_Ranveer_Kapoor 1 REPLY FF ERROR GAMING 402 13 days ago Op 1 REPLY Debvansh De 2 weeks ago ️️️️ 1 REPLY music Maja sk 13 days ago Nice song 2 REPLY View reply YASH FF 9 days ago गर्मी के मोसम मे पुरे दिन मे सिर्फ आधा घंटा निकाल के घर बहार बे जुबा चिडिया को दाना डालो और कुते,गाय को एक रोटी खिलदो बस इत्ना कार्लो आपकौ भगवान खुब आशीर्वाद देंगे धन्यवाद। REPLY View reply BIKKI Singh 22 hours ago Is gaane me kuch naya mujhe nahi laga REPLY nine1six 12 days ago Suiiiiiiiiiiiiiiiiiii 1 REPLY Nilesh Anjana 13 days ago Arjit 1 REPLY Bidesh kumar Naskar 3 days ago Chummu 1 REPLY Rahul Paswan 13 days ago Yah Jo Tum lyrical video nikal rahe ho isase badhiya koi chhote singer ki video Apne channel per upload kar do 1 REPLY suniljaiswal1974 11 days ago Radheee radheer 1 REPLY Majnu Creation 2 weeks ago Arijit Singh, Armaan Malik, Atif Aslam, Ankit Tiwari, Mohit Chauhan, Udit Narayan, Sonu Nigam, AR Rahman, KK  2 REPLY View reply ALONE SHORTS 2 weeks ago Kesariya  2 REPLY Maar Epic Tracks 2 weeks ago Arijit singh 1 REPLY Lakhan Kumar 8 hours ago 1 REPLY SK Gamer 1942 12 days ago Hello 1 REPLY Mohammad Shahid 8 days ago Kesariya tera jhant hai piya REPLY Joshi Hoque 5 days ago Joshi sasa love story REPLY View reply 爪卂ㄥㄖㄒ卄ㄥ卂ㄥㄩ卩尺卂丂卂ᗪ 5 days ago REPLY A Kumar 12 days ago I think U are copied of your father  1 REPLY AKASH KUSUM GHOSAL 2 weeks ago Views got freezed 2 REPLY Pappu Khan-Vinci-Gandhi-Neharu 11 days ago #boycottMe _ #aalia_phat 2 REPLY Sarit Sarkar 12 days ago Mein is film dekhunga.ssr ke liye kharab lag rahe hain. 1 REPLY VIRTUAL GAMING 11 days ago यही सब देखने के लिए तो मैं रिचार्ज करवाता हूँ।  मुझे वीडियो देखने से ज्यादा कॉमेंट पढ़ने में मजा आता है। आप सभी एक्सपर्ट  लोगो की राय जानने के लिए मैं आतुर रहता हूँ। धन्यवाद REPLY Jay k 12 days ago Holly 1 REPLY Rakesh Kumar Kumar 30 minutes ago A REPLY srishti maddheshiya 2 weeks ago Arijit singh  2 REPLY Mohd abdul Mujeeb 23 hours ago i wish this movie be the biggest disaster of the indian film industry bcoz this film hurt hindu sentiments...bycott this movie REPLY Ayush Singh 9 days ago Ayush singh REPLY FF YT 2 days ago Arijit app sukanto ko jante ho REPLY Nitin kumar Nitin kumar 1 minute ago Boycott Boycott ️️️ REPLY YouTube ooo 3 days ago I am new youtuber tomake jarurat Padega REPLY k2 khesari fans 11 days ago Bhagwan Bollywood ki atma ko Shanti de  2 REPLY Vivek Mishra 1 day ago This side vivek mishra REPLY Abishek Rakwal 10 days ago Boycott 1 REPLY Muhit Alom 2 weeks ago Hlo Nice wow  2 REPLY adarsh vishwakarma 12 days ago Boycott Bollywood REPLY A MORDEL editer44 13 days ago Tusi great ho ji 1 REPLY View reply Prince king 2M 2 days ago Priyanshi Thakur REPLY jagadeesh e 12 days ago Ready to boycott  REPLY Pankaj Kumar 2 weeks ago Me 1 REPLY Afsar Ahmed 2 weeks ago 2 REPLY kan\\'t close the eyes 2 weeks ago Varanasi  2 REPLY Aakash Ch 2 weeks ago बावसिर बना दिया है REPLY Chibi Toodles 2 weeks ago Vimal 1 REPLY Aashish Singh Rawal 2 days ago Arjit sing is just wow REPLY Dawar edit official 13 days ago iswar Dawar 1 REPLY Rajesh Lovely 2 weeks ago Super song I have listened 1 REPLY Mrinal Roy 13 days ago Arijit Singh ️ 2 REPLY View reply Amazing Facts 2 weeks ago ️️️️ 1 REPLY Deepak kumar Radhe Raj Satar 13 days ago मैं यूट्यूब पर बनना चाहता हूं 1 REPLY Soumalya Mukhopadhyay 2 weeks ago Legend #arijitsingh 1 REPLY Love short video 12 days ago Nice video 2 REPLY prabha shankar maurya 8 hours ago Bakwas REPLY Aasheesh dhurwey 12 days ago I am aaseesh dj saund sarvice chunpathri 2 REPLY Aasheesh dhurwey 12 days ago I am aaseesh dj saund sarvice chunpathri 2 REPLY']"
      ]
     },
     "execution_count": 162,
     "metadata": {},
     "output_type": "execute_result"
    }
   ],
   "source": [
    "comments=driver.find_elements(By.XPATH,'//*[@id=\"sections\"]')[0:500]\n",
    "Comments=[]\n",
    "for i in comments:\n",
    "    Comments.append((i.text.strip()).replace(\"\\n\",\" \"))\n",
    "Comments"
   ]
  },
  {
   "cell_type": "markdown",
   "id": "1e46c49c",
   "metadata": {},
   "source": [
    "### 10. Write a python program to scrape a data for all available Hostels from https://www.hostelworld.com/ in “London” location. You have to scrape hostel name, distance from city centre, ratings, total reviews, overall reviews, privates from price, dorms from price, facilities and property description"
   ]
  },
  {
   "cell_type": "code",
   "execution_count": 212,
   "id": "1977ec3c",
   "metadata": {},
   "outputs": [],
   "source": [
    "import selenium\n",
    "from selenium import webdriver\n",
    "from selenium.webdriver.common.by import By\n",
    "from selenium.webdriver.support.ui import WebDriverWait\n",
    "from selenium.webdriver.support import expected_conditions as EC\n",
    "from selenium.common.exceptions import NoSuchElementException,StaleElementReferenceException\n",
    "import time\n",
    "import pandas as pd"
   ]
  },
  {
   "cell_type": "code",
   "execution_count": 230,
   "id": "e5b9de6e",
   "metadata": {},
   "outputs": [],
   "source": [
    "driver=webdriver.Edge(r\"msedgedriver.exe\")\n",
    "driver.get(r\"https://www.hostelworld.com/\")"
   ]
  },
  {
   "cell_type": "code",
   "execution_count": 239,
   "id": "c1bfa034",
   "metadata": {},
   "outputs": [],
   "source": [
    "search=driver.find_element(By.XPATH,'//input[@id=\"search-input-field\"]')\n",
    "search.send_keys(\"London\")"
   ]
  },
  {
   "cell_type": "code",
   "execution_count": 240,
   "id": "3f5d5b80",
   "metadata": {},
   "outputs": [],
   "source": [
    "find_search=driver.find_element(By.XPATH,'//div[@class=\"search-button\"]')\n",
    "find_search.click()"
   ]
  },
  {
   "cell_type": "code",
   "execution_count": 241,
   "id": "828092e6",
   "metadata": {},
   "outputs": [],
   "source": [
    "Hotel=[]\n",
    "for i in driver.find_elements(By.XPATH,'//h2[@class=\"title title-6\"]'):\n",
    "    Hotel.append(i.text.strip())"
   ]
  },
  {
   "cell_type": "code",
   "execution_count": 242,
   "id": "18f5537a",
   "metadata": {},
   "outputs": [
    {
     "data": {
      "text/plain": [
       "['Palmers Lodge - Swiss Cottage',\n",
       " \"St Christopher's Village\",\n",
       " 'Selina Camden',\n",
       " \"Wombat's City Hostel London\",\n",
       " 'Generator London',\n",
       " 'Urbany Hostel London',\n",
       " 'Safestay London Elephant & Castle',\n",
       " 'Pickwick Hall',\n",
       " 'No.8 Willesden Hostel London',\n",
       " 'YHA London Oxford Street',\n",
       " 'Smart Russell Square Hostel',\n",
       " 'No.8 Seven Sisters',\n",
       " 'London Backpackers',\n",
       " 'Barmy Badger Backpackers',\n",
       " 'Safestay London Kensington Holland Park',\n",
       " 'Prime Backpackers Angel',\n",
       " 'Phoenix Hostel',\n",
       " 'Smart Hyde Park View Hostel',\n",
       " 'Queen Elizabeth Chelsea',\n",
       " 'YHA London Central',\n",
       " 'Smart Hyde Park Inn Hostel',\n",
       " 'NX London Hostel',\n",
       " 'Hostel One Notting Hill',\n",
       " \"St Christopher's Hammersmith\",\n",
       " \"St Christopher's Camden\",\n",
       " 'London Waterloo Hostel',\n",
       " 'PubLove @ The White Ferry, Victoria',\n",
       " 'Clink261',\n",
       " \"St Christopher's Greenwich\",\n",
       " 'PubLove @ The Steam Engine, Waterloo']"
      ]
     },
     "execution_count": 242,
     "metadata": {},
     "output_type": "execute_result"
    }
   ],
   "source": [
    "Hotel"
   ]
  },
  {
   "cell_type": "code",
   "execution_count": 244,
   "id": "579e4961",
   "metadata": {},
   "outputs": [],
   "source": [
    "Distance=[]\n",
    "for i in driver.find_elements(By.XPATH,'//span[@class=\"description\"]'):\n",
    "    Distance.append(i.text.strip())"
   ]
  },
  {
   "cell_type": "code",
   "execution_count": 245,
   "id": "f541b19d",
   "metadata": {},
   "outputs": [
    {
     "data": {
      "text/plain": [
       "['Hostel - 6.5km from city centre',\n",
       " 'Hostel - 1.8km from city centre',\n",
       " 'Hostel - 5.5km from city centre',\n",
       " 'Hostel - 3.6km from city centre',\n",
       " 'Hostel - 3km from city centre',\n",
       " 'Hostel - 5.4km from city centre',\n",
       " 'Hostel - 1.7km from city centre',\n",
       " 'Hostel - 2.3km from city centre',\n",
       " 'Hostel - 10km from city centre',\n",
       " 'Hostel - 2.1km from city centre',\n",
       " 'Hostel - 2.6km from city centre',\n",
       " 'Hostel - 9km from city centre',\n",
       " 'Hostel - 11.9km from city centre',\n",
       " 'Hostel - 5.5km from city centre',\n",
       " 'Hostel - 5.9km from city centre',\n",
       " 'Hostel - 3.6km from city centre',\n",
       " 'Hostel - 4.2km from city centre',\n",
       " 'Hostel - 5km from city centre',\n",
       " 'Hostel - 5.7km from city centre',\n",
       " 'Hostel - 2.9km from city centre',\n",
       " 'Hostel - 5km from city centre',\n",
       " 'Hostel - 6.1km from city centre',\n",
       " 'Hostel - 5.5km from city centre',\n",
       " 'Hostel - 7.5km from city centre',\n",
       " 'Hostel - 4.3km from city centre',\n",
       " 'Hostel - 0.7km from city centre',\n",
       " 'Hostel - 2.4km from city centre',\n",
       " 'Hostel - 3.2km from city centre',\n",
       " 'Hostel - 7.6km from city centre',\n",
       " 'Hostel - 0.5km from city centre']"
      ]
     },
     "execution_count": 245,
     "metadata": {},
     "output_type": "execute_result"
    }
   ],
   "source": [
    "Distance"
   ]
  },
  {
   "cell_type": "code",
   "execution_count": 256,
   "id": "2012bf25",
   "metadata": {},
   "outputs": [],
   "source": [
    "Ratings=[]\n",
    "for i in driver.find_elements(By.XPATH,'//div[@class=\"score orange big\"]'):\n",
    "    Ratings.append(i.text.strip())\n",
    "    "
   ]
  },
  {
   "cell_type": "code",
   "execution_count": 257,
   "id": "78cb9e94",
   "metadata": {},
   "outputs": [
    {
     "data": {
      "text/plain": [
       "['8.7',\n",
       " '8.2',\n",
       " '8.6',\n",
       " '9.0',\n",
       " '7.8',\n",
       " '9.3',\n",
       " '7.0',\n",
       " '8.5',\n",
       " '6.6',\n",
       " '8.8',\n",
       " '7.1',\n",
       " '8.2',\n",
       " '9.0',\n",
       " '6.5',\n",
       " '8.4',\n",
       " '7.4',\n",
       " '8.0',\n",
       " '6.6',\n",
       " '8.8',\n",
       " '7.0',\n",
       " '7.4',\n",
       " '9.3',\n",
       " '7.8',\n",
       " '8.3',\n",
       " '6.2',\n",
       " '8.1',\n",
       " '7.7',\n",
       " '7.0',\n",
       " '8.3']"
      ]
     },
     "execution_count": 257,
     "metadata": {},
     "output_type": "execute_result"
    }
   ],
   "source": [
    "Ratings"
   ]
  },
  {
   "cell_type": "code",
   "execution_count": 253,
   "id": "95ab85aa",
   "metadata": {},
   "outputs": [],
   "source": [
    "review=[]\n",
    "for i in driver.find_elements(By.XPATH,'//div[@class=\"reviews\"]'):\n",
    "    review.append(i.text.strip())"
   ]
  },
  {
   "cell_type": "code",
   "execution_count": 254,
   "id": "47fd79f0",
   "metadata": {},
   "outputs": [
    {
     "data": {
      "text/plain": [
       "['15569 Total Reviews',\n",
       " '11489 Total Reviews',\n",
       " '36 Total Reviews',\n",
       " '14016 Total Reviews',\n",
       " '7139 Total Reviews',\n",
       " '454 Total Reviews',\n",
       " '4478 Total Reviews',\n",
       " '2447 Total Reviews',\n",
       " '4831 Total Reviews',\n",
       " '4567 Total Reviews',\n",
       " '9748 Total Reviews',\n",
       " '3850 Total Reviews',\n",
       " '4320 Total Reviews',\n",
       " '1813 Total Reviews',\n",
       " '1306 Total Reviews',\n",
       " '639 Total Reviews',\n",
       " '3744 Total Reviews',\n",
       " '4594 Total Reviews',\n",
       " '3319 Total Reviews',\n",
       " '4756 Total Reviews',\n",
       " '6351 Total Reviews',\n",
       " '1219 Total Reviews',\n",
       " '1488 Total Reviews',\n",
       " '4106 Total Reviews',\n",
       " '3833 Total Reviews',\n",
       " '2510 Total Reviews',\n",
       " '286 Total Reviews',\n",
       " '129 Total Reviews',\n",
       " '3240 Total Reviews',\n",
       " '307 Total Reviews']"
      ]
     },
     "execution_count": 254,
     "metadata": {},
     "output_type": "execute_result"
    }
   ],
   "source": [
    "review"
   ]
  },
  {
   "cell_type": "code",
   "execution_count": 267,
   "id": "030bae6b",
   "metadata": {},
   "outputs": [],
   "source": [
    "Privates=[]\n",
    "\n",
    "for i in driver.find_elements(By.XPATH,'//div[@class=\"price title-5\"]'):\n",
    "    Privates.append(i.text.strip())"
   ]
  },
  {
   "cell_type": "code",
   "execution_count": 268,
   "id": "91ab2959",
   "metadata": {},
   "outputs": [
    {
     "data": {
      "text/plain": [
       "['Rs36979',\n",
       " 'Rs8720.46 Rs7412',\n",
       " 'Rs2136',\n",
       " 'Rs1401.62 Rs1261',\n",
       " 'Rs21147.41 Rs15861',\n",
       " 'Rs3240.01 Rs2430',\n",
       " 'Rs6955',\n",
       " 'Rs1864',\n",
       " 'Rs10746',\n",
       " 'Rs2149',\n",
       " 'Rs6623',\n",
       " 'Rs1242',\n",
       " 'Rs12878',\n",
       " 'Rs915',\n",
       " 'Rs9107',\n",
       " 'Rs946',\n",
       " 'Rs1601',\n",
       " 'Rs8003',\n",
       " 'Rs7039',\n",
       " 'Rs1325',\n",
       " 'Rs2428',\n",
       " 'Rs1625.12 Rs1463',\n",
       " 'Rs13609',\n",
       " 'Rs1223',\n",
       " 'Rs15548',\n",
       " 'Rs1821.36 Rs1639',\n",
       " 'Rs7984.55 Rs6388',\n",
       " 'Rs2079.7 Rs1664',\n",
       " 'Rs11756',\n",
       " 'Rs2844',\n",
       " 'Rs1317.47 Rs1186',\n",
       " 'Rs1998.18 Rs1798',\n",
       " 'Rs1590',\n",
       " 'Rs1778',\n",
       " 'Rs1746.74 Rs1572',\n",
       " 'Rs1317.47 Rs1186',\n",
       " 'Rs3066',\n",
       " 'Rs1392.42 Rs1253']"
      ]
     },
     "execution_count": 268,
     "metadata": {},
     "output_type": "execute_result"
    }
   ],
   "source": [
    "Privates"
   ]
  },
  {
   "cell_type": "code",
   "execution_count": null,
   "id": "8739eddd",
   "metadata": {},
   "outputs": [],
   "source": []
  }
 ],
 "metadata": {
  "kernelspec": {
   "display_name": "Python 3 (ipykernel)",
   "language": "python",
   "name": "python3"
  },
  "language_info": {
   "codemirror_mode": {
    "name": "ipython",
    "version": 3
   },
   "file_extension": ".py",
   "mimetype": "text/x-python",
   "name": "python",
   "nbconvert_exporter": "python",
   "pygments_lexer": "ipython3",
   "version": "3.9.12"
  }
 },
 "nbformat": 4,
 "nbformat_minor": 5
}
