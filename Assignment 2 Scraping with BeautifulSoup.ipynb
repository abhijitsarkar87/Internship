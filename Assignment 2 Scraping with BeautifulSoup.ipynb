{
 "cells": [
  {
   "cell_type": "code",
   "execution_count": 1,
   "id": "d4b57a98",
   "metadata": {},
   "outputs": [],
   "source": [
    "#Write a python program to display all the header tags from wikipedia.org."
   ]
  },
  {
   "cell_type": "code",
   "execution_count": 2,
   "id": "8782311d",
   "metadata": {},
   "outputs": [
    {
     "data": {
      "text/plain": [
       "<Response [200]>"
      ]
     },
     "execution_count": 2,
     "metadata": {},
     "output_type": "execute_result"
    }
   ],
   "source": [
    "from bs4 import BeautifulSoup\n",
    "import requests\n",
    "import pandas as pd\n",
    "\n",
    "page=requests.get(\"https://en.wikipedia.org/wiki/Main_Page\")\n",
    "soup1=BeautifulSoup(page.content)\n",
    "page"
   ]
  },
  {
   "cell_type": "code",
   "execution_count": 3,
   "id": "95e6de38",
   "metadata": {},
   "outputs": [],
   "source": [
    "Wik_head=[]\n",
    "\n",
    "for i in soup1.find_all(\"span\",class_=\"mw-headline\"):\n",
    "    Wik_head.append(i.text.strip())"
   ]
  },
  {
   "cell_type": "code",
   "execution_count": 4,
   "id": "968d3a16",
   "metadata": {},
   "outputs": [
    {
     "data": {
      "text/plain": [
       "['Welcome to Wikipedia',\n",
       " \"From today's featured article\",\n",
       " 'Did you know\\xa0...',\n",
       " 'In the news',\n",
       " 'On this day',\n",
       " \"Today's featured picture\",\n",
       " 'Other areas of Wikipedia',\n",
       " \"Wikipedia's sister projects\",\n",
       " 'Wikipedia languages']"
      ]
     },
     "execution_count": 4,
     "metadata": {},
     "output_type": "execute_result"
    }
   ],
   "source": [
    "Wik_head"
   ]
  },
  {
   "cell_type": "code",
   "execution_count": 5,
   "id": "c23d0793",
   "metadata": {},
   "outputs": [
    {
     "data": {
      "text/plain": [
       "9"
      ]
     },
     "execution_count": 5,
     "metadata": {},
     "output_type": "execute_result"
    }
   ],
   "source": [
    "len(Wik_head)"
   ]
  },
  {
   "cell_type": "code",
   "execution_count": 6,
   "id": "150e2af8",
   "metadata": {},
   "outputs": [],
   "source": [
    "df=pd.DataFrame(data=Wik_head,columns=['Heading'])"
   ]
  },
  {
   "cell_type": "code",
   "execution_count": 7,
   "id": "24bee846",
   "metadata": {},
   "outputs": [
    {
     "data": {
      "text/html": [
       "<div>\n",
       "<style scoped>\n",
       "    .dataframe tbody tr th:only-of-type {\n",
       "        vertical-align: middle;\n",
       "    }\n",
       "\n",
       "    .dataframe tbody tr th {\n",
       "        vertical-align: top;\n",
       "    }\n",
       "\n",
       "    .dataframe thead th {\n",
       "        text-align: right;\n",
       "    }\n",
       "</style>\n",
       "<table border=\"1\" class=\"dataframe\">\n",
       "  <thead>\n",
       "    <tr style=\"text-align: right;\">\n",
       "      <th></th>\n",
       "      <th>Heading</th>\n",
       "    </tr>\n",
       "  </thead>\n",
       "  <tbody>\n",
       "    <tr>\n",
       "      <th>0</th>\n",
       "      <td>Welcome to Wikipedia</td>\n",
       "    </tr>\n",
       "    <tr>\n",
       "      <th>1</th>\n",
       "      <td>From today's featured article</td>\n",
       "    </tr>\n",
       "    <tr>\n",
       "      <th>2</th>\n",
       "      <td>Did you know ...</td>\n",
       "    </tr>\n",
       "    <tr>\n",
       "      <th>3</th>\n",
       "      <td>In the news</td>\n",
       "    </tr>\n",
       "    <tr>\n",
       "      <th>4</th>\n",
       "      <td>On this day</td>\n",
       "    </tr>\n",
       "    <tr>\n",
       "      <th>5</th>\n",
       "      <td>Today's featured picture</td>\n",
       "    </tr>\n",
       "    <tr>\n",
       "      <th>6</th>\n",
       "      <td>Other areas of Wikipedia</td>\n",
       "    </tr>\n",
       "    <tr>\n",
       "      <th>7</th>\n",
       "      <td>Wikipedia's sister projects</td>\n",
       "    </tr>\n",
       "    <tr>\n",
       "      <th>8</th>\n",
       "      <td>Wikipedia languages</td>\n",
       "    </tr>\n",
       "  </tbody>\n",
       "</table>\n",
       "</div>"
      ],
      "text/plain": [
       "                         Heading\n",
       "0           Welcome to Wikipedia\n",
       "1  From today's featured article\n",
       "2               Did you know ...\n",
       "3                    In the news\n",
       "4                    On this day\n",
       "5       Today's featured picture\n",
       "6       Other areas of Wikipedia\n",
       "7    Wikipedia's sister projects\n",
       "8            Wikipedia languages"
      ]
     },
     "execution_count": 7,
     "metadata": {},
     "output_type": "execute_result"
    }
   ],
   "source": [
    "df"
   ]
  },
  {
   "cell_type": "raw",
   "id": "fef7cb62",
   "metadata": {},
   "source": []
  },
  {
   "cell_type": "markdown",
   "id": "9981f90a",
   "metadata": {},
   "source": [
    "Write a python program to display IMDB’s Top rated 100 movies’ data (i.e. name, rating, year of release)\n",
    "and make data frame."
   ]
  },
  {
   "cell_type": "code",
   "execution_count": 8,
   "id": "d3df0fd1",
   "metadata": {},
   "outputs": [
    {
     "data": {
      "text/plain": [
       "<Response [200]>"
      ]
     },
     "execution_count": 8,
     "metadata": {},
     "output_type": "execute_result"
    }
   ],
   "source": [
    "from bs4 import BeautifulSoup\n",
    "import requests\n",
    "import pandas as pd\n",
    "\n",
    "page=requests.get(\"https://www.imdb.com/search/title/?groups=top_100&sort=user_rating,desc\")\n",
    "soup2=BeautifulSoup(page.content)\n",
    "page"
   ]
  },
  {
   "cell_type": "code",
   "execution_count": 9,
   "id": "e93103e4",
   "metadata": {},
   "outputs": [],
   "source": [
    "# movie page1(1 to 50) "
   ]
  },
  {
   "cell_type": "code",
   "execution_count": 10,
   "id": "bcf6cc30",
   "metadata": {},
   "outputs": [],
   "source": [
    "Movie_page1=[]\n",
    "for i in soup2.find_all(\"h3\",class_=\"lister-item-header\"):\n",
    "    Movie_page1.append(i.find(\"a\").text.strip())\n",
    "\n",
    "Year=[]\n",
    "\n",
    "for i in soup2.find_all(\"span\",class_=\"lister-item-year text-muted unbold\"):\n",
    "    Year.append(i.text.strip(\"()\"))\n",
    "\n",
    "Rating=[]\n",
    "\n",
    "for i in soup2.find_all(\"div\",class_=\"inline-block ratings-imdb-rating\"):\n",
    "    Rating.append(i.text.strip())"
   ]
  },
  {
   "cell_type": "code",
   "execution_count": 11,
   "id": "223c68e7",
   "metadata": {},
   "outputs": [
    {
     "name": "stdout",
     "output_type": "stream",
     "text": [
      "['9.3', '9.2', '9.0', '9.0', '9.0', '9.0', '9.0', '8.9', '8.8', '8.8', '8.8', '8.8', '8.8', '8.8', '8.7', '8.7', '8.7', '8.7', '8.6', '8.6', '8.6', '8.6', '8.6', '8.6', '8.6', '8.6', '8.6', '8.6', '8.6', '8.6', '8.6', '8.6', '8.5', '8.5', '8.5', '8.5', '8.5', '8.5', '8.5', '8.5', '8.5', '8.5', '8.5', '8.5', '8.5', '8.5', '8.5', '8.5', '8.5', '8.5']\n"
     ]
    }
   ],
   "source": [
    "print(Rating)"
   ]
  },
  {
   "cell_type": "code",
   "execution_count": 12,
   "id": "de03779b",
   "metadata": {},
   "outputs": [
    {
     "name": "stdout",
     "output_type": "stream",
     "text": [
      "['1994', '1972', '2008', '2003', '1993', '1974', '1957', '1994', '2010', '2002', '1999', '2001', '1994', '1966', '1999', '1990', '1980', '1975', '2022', '2014', '2002', '2001', '1998', '1999', '1997', '1995', '1991', '1991', '1977', '1962', '1954', '1946', '2019', '2014', '2011', '2006', '2006', '2002', '2000', '1998', '1995', '1994', '1994', '1988', '1988', '1985', '1979', '1979', '1968', '1960']\n"
     ]
    }
   ],
   "source": [
    "print(Year)"
   ]
  },
  {
   "cell_type": "code",
   "execution_count": 13,
   "id": "d778e5e1",
   "metadata": {},
   "outputs": [
    {
     "name": "stdout",
     "output_type": "stream",
     "text": [
      "['The Shawshank Redemption', 'The Godfather', 'The Dark Knight', 'The Lord of the Rings: The Return of the King', \"Schindler's List\", 'The Godfather Part II', '12 Angry Men', 'Pulp Fiction', 'Inception', 'The Lord of the Rings: The Two Towers', 'Fight Club', 'The Lord of the Rings: The Fellowship of the Ring', 'Forrest Gump', 'Il buono, il brutto, il cattivo', 'The Matrix', 'Goodfellas', 'The Empire Strikes Back', \"One Flew Over the Cuckoo's Nest\", 'Top Gun: Maverick', 'Interstellar', 'Cidade de Deus', 'Sen to Chihiro no kamikakushi', 'Saving Private Ryan', 'The Green Mile', 'La vita è bella', 'Se7en', 'Terminator 2: Judgment Day', 'The Silence of the Lambs', 'Star Wars', 'Seppuku', 'Shichinin no samurai', \"It's a Wonderful Life\", 'Gisaengchung', 'Whiplash', 'The Intouchables', 'The Prestige', 'The Departed', 'The Pianist', 'Gladiator', 'American History X', 'The Usual Suspects', 'Léon', 'The Lion King', 'Nuovo Cinema Paradiso', 'Hotaru no haka', 'Back to the Future', 'Apocalypse Now', 'Alien', 'Once Upon a Time in the West', 'Psycho']\n"
     ]
    }
   ],
   "source": [
    "print(Movie_page1)"
   ]
  },
  {
   "cell_type": "code",
   "execution_count": 14,
   "id": "c3a7fef5",
   "metadata": {},
   "outputs": [
    {
     "name": "stdout",
     "output_type": "stream",
     "text": [
      "50 50 50\n"
     ]
    }
   ],
   "source": [
    "print(len(Movie_page1),len(Rating),len(Year))"
   ]
  },
  {
   "cell_type": "code",
   "execution_count": 15,
   "id": "579ddd3d",
   "metadata": {},
   "outputs": [],
   "source": [
    "df1=pd.DataFrame({\"Movie_Name\":Movie_page1,\"Rating\":Rating,\"Year_Of_Release\":Year})"
   ]
  },
  {
   "cell_type": "code",
   "execution_count": 16,
   "id": "8ad31d3d",
   "metadata": {},
   "outputs": [
    {
     "data": {
      "text/html": [
       "<div>\n",
       "<style scoped>\n",
       "    .dataframe tbody tr th:only-of-type {\n",
       "        vertical-align: middle;\n",
       "    }\n",
       "\n",
       "    .dataframe tbody tr th {\n",
       "        vertical-align: top;\n",
       "    }\n",
       "\n",
       "    .dataframe thead th {\n",
       "        text-align: right;\n",
       "    }\n",
       "</style>\n",
       "<table border=\"1\" class=\"dataframe\">\n",
       "  <thead>\n",
       "    <tr style=\"text-align: right;\">\n",
       "      <th></th>\n",
       "      <th>Movie_Name</th>\n",
       "      <th>Rating</th>\n",
       "      <th>Year_Of_Release</th>\n",
       "    </tr>\n",
       "  </thead>\n",
       "  <tbody>\n",
       "    <tr>\n",
       "      <th>45</th>\n",
       "      <td>Back to the Future</td>\n",
       "      <td>8.5</td>\n",
       "      <td>1985</td>\n",
       "    </tr>\n",
       "    <tr>\n",
       "      <th>46</th>\n",
       "      <td>Apocalypse Now</td>\n",
       "      <td>8.5</td>\n",
       "      <td>1979</td>\n",
       "    </tr>\n",
       "    <tr>\n",
       "      <th>47</th>\n",
       "      <td>Alien</td>\n",
       "      <td>8.5</td>\n",
       "      <td>1979</td>\n",
       "    </tr>\n",
       "    <tr>\n",
       "      <th>48</th>\n",
       "      <td>Once Upon a Time in the West</td>\n",
       "      <td>8.5</td>\n",
       "      <td>1968</td>\n",
       "    </tr>\n",
       "    <tr>\n",
       "      <th>49</th>\n",
       "      <td>Psycho</td>\n",
       "      <td>8.5</td>\n",
       "      <td>1960</td>\n",
       "    </tr>\n",
       "  </tbody>\n",
       "</table>\n",
       "</div>"
      ],
      "text/plain": [
       "                      Movie_Name Rating Year_Of_Release\n",
       "45            Back to the Future    8.5            1985\n",
       "46                Apocalypse Now    8.5            1979\n",
       "47                         Alien    8.5            1979\n",
       "48  Once Upon a Time in the West    8.5            1968\n",
       "49                        Psycho    8.5            1960"
      ]
     },
     "execution_count": 16,
     "metadata": {},
     "output_type": "execute_result"
    }
   ],
   "source": [
    "df1.tail()"
   ]
  },
  {
   "cell_type": "code",
   "execution_count": 17,
   "id": "ac43fc3d",
   "metadata": {},
   "outputs": [
    {
     "data": {
      "text/plain": [
       "<Response [200]>"
      ]
     },
     "execution_count": 17,
     "metadata": {},
     "output_type": "execute_result"
    }
   ],
   "source": [
    "page2=requests.get(\"https://www.imdb.com/search/title/?groups=top_100&sort=user_rating,desc&start=51&ref_=adv_nxt\")\n",
    "soup2A=BeautifulSoup(page2.content)\n",
    "page2"
   ]
  },
  {
   "cell_type": "code",
   "execution_count": 18,
   "id": "c2705c49",
   "metadata": {},
   "outputs": [],
   "source": [
    "Movie_2=[]\n",
    "\n",
    "for i in soup2A.find_all(\"h3\",class_=\"lister-item-header\"):\n",
    "    Movie_2.append(i.find(\"a\").text.strip())\n",
    "\n",
    "Year=[]\n",
    "for i in soup2A.find_all(\"span\",class_=\"lister-item-year text-muted unbold\"):\n",
    "    Year.append(i.text.strip(\"()\"))\n",
    "\n",
    "Rating=[]\n",
    "for i in soup2A.find_all(\"div\",class_=\"inline-block ratings-imdb-rating\"):\n",
    "    Rating.append(i.text.strip())\n"
   ]
  },
  {
   "cell_type": "code",
   "execution_count": 19,
   "id": "289f9f73",
   "metadata": {},
   "outputs": [
    {
     "name": "stdout",
     "output_type": "stream",
     "text": [
      "['Rear Window', 'Casablanca', 'Modern Times', 'City Lights', 'Capharnaüm', 'Joker', 'Kimi no na wa.', 'Spider-Man: Into the Spider-Verse', 'Avengers: Endgame', 'Avengers: Infinity War', 'Coco', 'Django Unchained', 'The Dark Knight Rises', '3 Idiots', 'WALL·E', 'The Lives of Others', 'Oldeuboi', 'Memento', 'American Beauty', 'Mononoke-hime', 'Braveheart', 'Idi i smotri', 'Aliens', 'Amadeus', 'Raiders of the Lost Ark', 'Das Boot', 'The Shining', 'Tengoku to jigoku', 'Dr. Strangelove or: How I Learned to Stop Worrying and Love the Bomb', 'Witness for the Prosecution', 'Paths of Glory', 'Sunset Blvd.', 'The Great Dictator', 'Jagten', 'Toy Story 3', 'Inglourious Basterds', 'Eternal Sunshine of the Spotless Mind', 'Requiem for a Dream', 'Good Will Hunting', 'Toy Story', 'Reservoir Dogs', 'Once Upon a Time in America', 'Star Wars: Episode VI - Return of the Jedi', '2001: A Space Odyssey', 'Lawrence of Arabia', 'North by Northwest', 'Vertigo', \"Singin' in the Rain\", 'Citizen Kane', 'M - Eine Stadt sucht einen Mörder'] ['1954', '1942', '1936', '1931', '2018', 'I) (2019', '2016', '2018', '2019', '2018', 'I) (2017', '2012', '2012', '2009', '2008', '2006', '2003', '2000', '1999', '1997', '1995', '1985', '1986', '1984', '1981', '1981', '1980', '1963', '1964', '1957', '1957', '1950', '1940', '2012', '2010', '2009', '2004', '2000', '1997', '1995', '1992', '1984', '1983', '1968', '1962', '1959', '1958', '1952', '1941', '1931'] ['8.5', '8.5', '8.5', '8.5', '8.4', '8.4', '8.4', '8.4', '8.4', '8.4', '8.4', '8.4', '8.4', '8.4', '8.4', '8.4', '8.4', '8.4', '8.4', '8.4', '8.4', '8.4', '8.4', '8.4', '8.4', '8.4', '8.4', '8.4', '8.4', '8.4', '8.4', '8.4', '8.4', '8.3', '8.3', '8.3', '8.3', '8.3', '8.3', '8.3', '8.3', '8.3', '8.3', '8.3', '8.3', '8.3', '8.3', '8.3', '8.3', '8.3']\n",
      "50 50 50\n"
     ]
    }
   ],
   "source": [
    "print(Movie_2,Year,Rating)\n",
    "print(len(Movie_2),len(Year),len(Rating))"
   ]
  },
  {
   "cell_type": "code",
   "execution_count": 20,
   "id": "7ddb1ed7",
   "metadata": {},
   "outputs": [],
   "source": [
    "df2=pd.DataFrame({\"Movie_Name\":Movie_2,\"Rating\":Rating,\"Year_Of_Release\":Year})"
   ]
  },
  {
   "cell_type": "code",
   "execution_count": 21,
   "id": "df33297b",
   "metadata": {},
   "outputs": [
    {
     "data": {
      "text/html": [
       "<div>\n",
       "<style scoped>\n",
       "    .dataframe tbody tr th:only-of-type {\n",
       "        vertical-align: middle;\n",
       "    }\n",
       "\n",
       "    .dataframe tbody tr th {\n",
       "        vertical-align: top;\n",
       "    }\n",
       "\n",
       "    .dataframe thead th {\n",
       "        text-align: right;\n",
       "    }\n",
       "</style>\n",
       "<table border=\"1\" class=\"dataframe\">\n",
       "  <thead>\n",
       "    <tr style=\"text-align: right;\">\n",
       "      <th></th>\n",
       "      <th>Movie_Name</th>\n",
       "      <th>Rating</th>\n",
       "      <th>Year_Of_Release</th>\n",
       "    </tr>\n",
       "  </thead>\n",
       "  <tbody>\n",
       "    <tr>\n",
       "      <th>0</th>\n",
       "      <td>Rear Window</td>\n",
       "      <td>8.5</td>\n",
       "      <td>1954</td>\n",
       "    </tr>\n",
       "    <tr>\n",
       "      <th>1</th>\n",
       "      <td>Casablanca</td>\n",
       "      <td>8.5</td>\n",
       "      <td>1942</td>\n",
       "    </tr>\n",
       "    <tr>\n",
       "      <th>2</th>\n",
       "      <td>Modern Times</td>\n",
       "      <td>8.5</td>\n",
       "      <td>1936</td>\n",
       "    </tr>\n",
       "    <tr>\n",
       "      <th>3</th>\n",
       "      <td>City Lights</td>\n",
       "      <td>8.5</td>\n",
       "      <td>1931</td>\n",
       "    </tr>\n",
       "    <tr>\n",
       "      <th>4</th>\n",
       "      <td>Capharnaüm</td>\n",
       "      <td>8.4</td>\n",
       "      <td>2018</td>\n",
       "    </tr>\n",
       "    <tr>\n",
       "      <th>5</th>\n",
       "      <td>Joker</td>\n",
       "      <td>8.4</td>\n",
       "      <td>I) (2019</td>\n",
       "    </tr>\n",
       "    <tr>\n",
       "      <th>6</th>\n",
       "      <td>Kimi no na wa.</td>\n",
       "      <td>8.4</td>\n",
       "      <td>2016</td>\n",
       "    </tr>\n",
       "    <tr>\n",
       "      <th>7</th>\n",
       "      <td>Spider-Man: Into the Spider-Verse</td>\n",
       "      <td>8.4</td>\n",
       "      <td>2018</td>\n",
       "    </tr>\n",
       "    <tr>\n",
       "      <th>8</th>\n",
       "      <td>Avengers: Endgame</td>\n",
       "      <td>8.4</td>\n",
       "      <td>2019</td>\n",
       "    </tr>\n",
       "    <tr>\n",
       "      <th>9</th>\n",
       "      <td>Avengers: Infinity War</td>\n",
       "      <td>8.4</td>\n",
       "      <td>2018</td>\n",
       "    </tr>\n",
       "    <tr>\n",
       "      <th>10</th>\n",
       "      <td>Coco</td>\n",
       "      <td>8.4</td>\n",
       "      <td>I) (2017</td>\n",
       "    </tr>\n",
       "    <tr>\n",
       "      <th>11</th>\n",
       "      <td>Django Unchained</td>\n",
       "      <td>8.4</td>\n",
       "      <td>2012</td>\n",
       "    </tr>\n",
       "    <tr>\n",
       "      <th>12</th>\n",
       "      <td>The Dark Knight Rises</td>\n",
       "      <td>8.4</td>\n",
       "      <td>2012</td>\n",
       "    </tr>\n",
       "    <tr>\n",
       "      <th>13</th>\n",
       "      <td>3 Idiots</td>\n",
       "      <td>8.4</td>\n",
       "      <td>2009</td>\n",
       "    </tr>\n",
       "    <tr>\n",
       "      <th>14</th>\n",
       "      <td>WALL·E</td>\n",
       "      <td>8.4</td>\n",
       "      <td>2008</td>\n",
       "    </tr>\n",
       "    <tr>\n",
       "      <th>15</th>\n",
       "      <td>The Lives of Others</td>\n",
       "      <td>8.4</td>\n",
       "      <td>2006</td>\n",
       "    </tr>\n",
       "    <tr>\n",
       "      <th>16</th>\n",
       "      <td>Oldeuboi</td>\n",
       "      <td>8.4</td>\n",
       "      <td>2003</td>\n",
       "    </tr>\n",
       "    <tr>\n",
       "      <th>17</th>\n",
       "      <td>Memento</td>\n",
       "      <td>8.4</td>\n",
       "      <td>2000</td>\n",
       "    </tr>\n",
       "    <tr>\n",
       "      <th>18</th>\n",
       "      <td>American Beauty</td>\n",
       "      <td>8.4</td>\n",
       "      <td>1999</td>\n",
       "    </tr>\n",
       "    <tr>\n",
       "      <th>19</th>\n",
       "      <td>Mononoke-hime</td>\n",
       "      <td>8.4</td>\n",
       "      <td>1997</td>\n",
       "    </tr>\n",
       "    <tr>\n",
       "      <th>20</th>\n",
       "      <td>Braveheart</td>\n",
       "      <td>8.4</td>\n",
       "      <td>1995</td>\n",
       "    </tr>\n",
       "    <tr>\n",
       "      <th>21</th>\n",
       "      <td>Idi i smotri</td>\n",
       "      <td>8.4</td>\n",
       "      <td>1985</td>\n",
       "    </tr>\n",
       "    <tr>\n",
       "      <th>22</th>\n",
       "      <td>Aliens</td>\n",
       "      <td>8.4</td>\n",
       "      <td>1986</td>\n",
       "    </tr>\n",
       "    <tr>\n",
       "      <th>23</th>\n",
       "      <td>Amadeus</td>\n",
       "      <td>8.4</td>\n",
       "      <td>1984</td>\n",
       "    </tr>\n",
       "    <tr>\n",
       "      <th>24</th>\n",
       "      <td>Raiders of the Lost Ark</td>\n",
       "      <td>8.4</td>\n",
       "      <td>1981</td>\n",
       "    </tr>\n",
       "    <tr>\n",
       "      <th>25</th>\n",
       "      <td>Das Boot</td>\n",
       "      <td>8.4</td>\n",
       "      <td>1981</td>\n",
       "    </tr>\n",
       "    <tr>\n",
       "      <th>26</th>\n",
       "      <td>The Shining</td>\n",
       "      <td>8.4</td>\n",
       "      <td>1980</td>\n",
       "    </tr>\n",
       "    <tr>\n",
       "      <th>27</th>\n",
       "      <td>Tengoku to jigoku</td>\n",
       "      <td>8.4</td>\n",
       "      <td>1963</td>\n",
       "    </tr>\n",
       "    <tr>\n",
       "      <th>28</th>\n",
       "      <td>Dr. Strangelove or: How I Learned to Stop Worr...</td>\n",
       "      <td>8.4</td>\n",
       "      <td>1964</td>\n",
       "    </tr>\n",
       "    <tr>\n",
       "      <th>29</th>\n",
       "      <td>Witness for the Prosecution</td>\n",
       "      <td>8.4</td>\n",
       "      <td>1957</td>\n",
       "    </tr>\n",
       "    <tr>\n",
       "      <th>30</th>\n",
       "      <td>Paths of Glory</td>\n",
       "      <td>8.4</td>\n",
       "      <td>1957</td>\n",
       "    </tr>\n",
       "    <tr>\n",
       "      <th>31</th>\n",
       "      <td>Sunset Blvd.</td>\n",
       "      <td>8.4</td>\n",
       "      <td>1950</td>\n",
       "    </tr>\n",
       "    <tr>\n",
       "      <th>32</th>\n",
       "      <td>The Great Dictator</td>\n",
       "      <td>8.4</td>\n",
       "      <td>1940</td>\n",
       "    </tr>\n",
       "    <tr>\n",
       "      <th>33</th>\n",
       "      <td>Jagten</td>\n",
       "      <td>8.3</td>\n",
       "      <td>2012</td>\n",
       "    </tr>\n",
       "    <tr>\n",
       "      <th>34</th>\n",
       "      <td>Toy Story 3</td>\n",
       "      <td>8.3</td>\n",
       "      <td>2010</td>\n",
       "    </tr>\n",
       "    <tr>\n",
       "      <th>35</th>\n",
       "      <td>Inglourious Basterds</td>\n",
       "      <td>8.3</td>\n",
       "      <td>2009</td>\n",
       "    </tr>\n",
       "    <tr>\n",
       "      <th>36</th>\n",
       "      <td>Eternal Sunshine of the Spotless Mind</td>\n",
       "      <td>8.3</td>\n",
       "      <td>2004</td>\n",
       "    </tr>\n",
       "    <tr>\n",
       "      <th>37</th>\n",
       "      <td>Requiem for a Dream</td>\n",
       "      <td>8.3</td>\n",
       "      <td>2000</td>\n",
       "    </tr>\n",
       "    <tr>\n",
       "      <th>38</th>\n",
       "      <td>Good Will Hunting</td>\n",
       "      <td>8.3</td>\n",
       "      <td>1997</td>\n",
       "    </tr>\n",
       "    <tr>\n",
       "      <th>39</th>\n",
       "      <td>Toy Story</td>\n",
       "      <td>8.3</td>\n",
       "      <td>1995</td>\n",
       "    </tr>\n",
       "    <tr>\n",
       "      <th>40</th>\n",
       "      <td>Reservoir Dogs</td>\n",
       "      <td>8.3</td>\n",
       "      <td>1992</td>\n",
       "    </tr>\n",
       "    <tr>\n",
       "      <th>41</th>\n",
       "      <td>Once Upon a Time in America</td>\n",
       "      <td>8.3</td>\n",
       "      <td>1984</td>\n",
       "    </tr>\n",
       "    <tr>\n",
       "      <th>42</th>\n",
       "      <td>Star Wars: Episode VI - Return of the Jedi</td>\n",
       "      <td>8.3</td>\n",
       "      <td>1983</td>\n",
       "    </tr>\n",
       "    <tr>\n",
       "      <th>43</th>\n",
       "      <td>2001: A Space Odyssey</td>\n",
       "      <td>8.3</td>\n",
       "      <td>1968</td>\n",
       "    </tr>\n",
       "    <tr>\n",
       "      <th>44</th>\n",
       "      <td>Lawrence of Arabia</td>\n",
       "      <td>8.3</td>\n",
       "      <td>1962</td>\n",
       "    </tr>\n",
       "    <tr>\n",
       "      <th>45</th>\n",
       "      <td>North by Northwest</td>\n",
       "      <td>8.3</td>\n",
       "      <td>1959</td>\n",
       "    </tr>\n",
       "    <tr>\n",
       "      <th>46</th>\n",
       "      <td>Vertigo</td>\n",
       "      <td>8.3</td>\n",
       "      <td>1958</td>\n",
       "    </tr>\n",
       "    <tr>\n",
       "      <th>47</th>\n",
       "      <td>Singin' in the Rain</td>\n",
       "      <td>8.3</td>\n",
       "      <td>1952</td>\n",
       "    </tr>\n",
       "    <tr>\n",
       "      <th>48</th>\n",
       "      <td>Citizen Kane</td>\n",
       "      <td>8.3</td>\n",
       "      <td>1941</td>\n",
       "    </tr>\n",
       "    <tr>\n",
       "      <th>49</th>\n",
       "      <td>M - Eine Stadt sucht einen Mörder</td>\n",
       "      <td>8.3</td>\n",
       "      <td>1931</td>\n",
       "    </tr>\n",
       "  </tbody>\n",
       "</table>\n",
       "</div>"
      ],
      "text/plain": [
       "                                           Movie_Name Rating Year_Of_Release\n",
       "0                                         Rear Window    8.5            1954\n",
       "1                                          Casablanca    8.5            1942\n",
       "2                                        Modern Times    8.5            1936\n",
       "3                                         City Lights    8.5            1931\n",
       "4                                          Capharnaüm    8.4            2018\n",
       "5                                               Joker    8.4        I) (2019\n",
       "6                                      Kimi no na wa.    8.4            2016\n",
       "7                   Spider-Man: Into the Spider-Verse    8.4            2018\n",
       "8                                   Avengers: Endgame    8.4            2019\n",
       "9                              Avengers: Infinity War    8.4            2018\n",
       "10                                               Coco    8.4        I) (2017\n",
       "11                                   Django Unchained    8.4            2012\n",
       "12                              The Dark Knight Rises    8.4            2012\n",
       "13                                           3 Idiots    8.4            2009\n",
       "14                                             WALL·E    8.4            2008\n",
       "15                                The Lives of Others    8.4            2006\n",
       "16                                           Oldeuboi    8.4            2003\n",
       "17                                            Memento    8.4            2000\n",
       "18                                    American Beauty    8.4            1999\n",
       "19                                      Mononoke-hime    8.4            1997\n",
       "20                                         Braveheart    8.4            1995\n",
       "21                                       Idi i smotri    8.4            1985\n",
       "22                                             Aliens    8.4            1986\n",
       "23                                            Amadeus    8.4            1984\n",
       "24                            Raiders of the Lost Ark    8.4            1981\n",
       "25                                           Das Boot    8.4            1981\n",
       "26                                        The Shining    8.4            1980\n",
       "27                                  Tengoku to jigoku    8.4            1963\n",
       "28  Dr. Strangelove or: How I Learned to Stop Worr...    8.4            1964\n",
       "29                        Witness for the Prosecution    8.4            1957\n",
       "30                                     Paths of Glory    8.4            1957\n",
       "31                                       Sunset Blvd.    8.4            1950\n",
       "32                                 The Great Dictator    8.4            1940\n",
       "33                                             Jagten    8.3            2012\n",
       "34                                        Toy Story 3    8.3            2010\n",
       "35                               Inglourious Basterds    8.3            2009\n",
       "36              Eternal Sunshine of the Spotless Mind    8.3            2004\n",
       "37                                Requiem for a Dream    8.3            2000\n",
       "38                                  Good Will Hunting    8.3            1997\n",
       "39                                          Toy Story    8.3            1995\n",
       "40                                     Reservoir Dogs    8.3            1992\n",
       "41                        Once Upon a Time in America    8.3            1984\n",
       "42         Star Wars: Episode VI - Return of the Jedi    8.3            1983\n",
       "43                              2001: A Space Odyssey    8.3            1968\n",
       "44                                 Lawrence of Arabia    8.3            1962\n",
       "45                                 North by Northwest    8.3            1959\n",
       "46                                            Vertigo    8.3            1958\n",
       "47                                Singin' in the Rain    8.3            1952\n",
       "48                                       Citizen Kane    8.3            1941\n",
       "49                  M - Eine Stadt sucht einen Mörder    8.3            1931"
      ]
     },
     "execution_count": 21,
     "metadata": {},
     "output_type": "execute_result"
    }
   ],
   "source": [
    "df2"
   ]
  },
  {
   "cell_type": "code",
   "execution_count": 22,
   "id": "a79cf895",
   "metadata": {},
   "outputs": [],
   "source": [
    "final=[df1,df2]\n",
    "\n",
    "final_df=pd.concat(final ,join='outer',ignore_index=True)"
   ]
  },
  {
   "cell_type": "code",
   "execution_count": 23,
   "id": "1dbd0a3c",
   "metadata": {},
   "outputs": [
    {
     "data": {
      "text/html": [
       "<div>\n",
       "<style scoped>\n",
       "    .dataframe tbody tr th:only-of-type {\n",
       "        vertical-align: middle;\n",
       "    }\n",
       "\n",
       "    .dataframe tbody tr th {\n",
       "        vertical-align: top;\n",
       "    }\n",
       "\n",
       "    .dataframe thead th {\n",
       "        text-align: right;\n",
       "    }\n",
       "</style>\n",
       "<table border=\"1\" class=\"dataframe\">\n",
       "  <thead>\n",
       "    <tr style=\"text-align: right;\">\n",
       "      <th></th>\n",
       "      <th>Movie_Name</th>\n",
       "      <th>Rating</th>\n",
       "      <th>Year_Of_Release</th>\n",
       "    </tr>\n",
       "  </thead>\n",
       "  <tbody>\n",
       "    <tr>\n",
       "      <th>0</th>\n",
       "      <td>The Shawshank Redemption</td>\n",
       "      <td>9.3</td>\n",
       "      <td>1994</td>\n",
       "    </tr>\n",
       "    <tr>\n",
       "      <th>1</th>\n",
       "      <td>The Godfather</td>\n",
       "      <td>9.2</td>\n",
       "      <td>1972</td>\n",
       "    </tr>\n",
       "    <tr>\n",
       "      <th>2</th>\n",
       "      <td>The Dark Knight</td>\n",
       "      <td>9.0</td>\n",
       "      <td>2008</td>\n",
       "    </tr>\n",
       "    <tr>\n",
       "      <th>3</th>\n",
       "      <td>The Lord of the Rings: The Return of the King</td>\n",
       "      <td>9.0</td>\n",
       "      <td>2003</td>\n",
       "    </tr>\n",
       "    <tr>\n",
       "      <th>4</th>\n",
       "      <td>Schindler's List</td>\n",
       "      <td>9.0</td>\n",
       "      <td>1993</td>\n",
       "    </tr>\n",
       "    <tr>\n",
       "      <th>...</th>\n",
       "      <td>...</td>\n",
       "      <td>...</td>\n",
       "      <td>...</td>\n",
       "    </tr>\n",
       "    <tr>\n",
       "      <th>95</th>\n",
       "      <td>North by Northwest</td>\n",
       "      <td>8.3</td>\n",
       "      <td>1959</td>\n",
       "    </tr>\n",
       "    <tr>\n",
       "      <th>96</th>\n",
       "      <td>Vertigo</td>\n",
       "      <td>8.3</td>\n",
       "      <td>1958</td>\n",
       "    </tr>\n",
       "    <tr>\n",
       "      <th>97</th>\n",
       "      <td>Singin' in the Rain</td>\n",
       "      <td>8.3</td>\n",
       "      <td>1952</td>\n",
       "    </tr>\n",
       "    <tr>\n",
       "      <th>98</th>\n",
       "      <td>Citizen Kane</td>\n",
       "      <td>8.3</td>\n",
       "      <td>1941</td>\n",
       "    </tr>\n",
       "    <tr>\n",
       "      <th>99</th>\n",
       "      <td>M - Eine Stadt sucht einen Mörder</td>\n",
       "      <td>8.3</td>\n",
       "      <td>1931</td>\n",
       "    </tr>\n",
       "  </tbody>\n",
       "</table>\n",
       "<p>100 rows × 3 columns</p>\n",
       "</div>"
      ],
      "text/plain": [
       "                                       Movie_Name Rating Year_Of_Release\n",
       "0                        The Shawshank Redemption    9.3            1994\n",
       "1                                   The Godfather    9.2            1972\n",
       "2                                 The Dark Knight    9.0            2008\n",
       "3   The Lord of the Rings: The Return of the King    9.0            2003\n",
       "4                                Schindler's List    9.0            1993\n",
       "..                                            ...    ...             ...\n",
       "95                             North by Northwest    8.3            1959\n",
       "96                                        Vertigo    8.3            1958\n",
       "97                            Singin' in the Rain    8.3            1952\n",
       "98                                   Citizen Kane    8.3            1941\n",
       "99              M - Eine Stadt sucht einen Mörder    8.3            1931\n",
       "\n",
       "[100 rows x 3 columns]"
      ]
     },
     "execution_count": 23,
     "metadata": {},
     "output_type": "execute_result"
    }
   ],
   "source": [
    "final_df"
   ]
  },
  {
   "cell_type": "raw",
   "id": "d7eaaa76",
   "metadata": {},
   "source": []
  },
  {
   "cell_type": "markdown",
   "id": "9339989c",
   "metadata": {},
   "source": [
    "Write a python program to display IMDB’s Top rated 100 Indian movies’ data (i.e. name, rating, year of\n",
    "release) and make data frame."
   ]
  },
  {
   "cell_type": "code",
   "execution_count": 24,
   "id": "b30ab0c1",
   "metadata": {},
   "outputs": [
    {
     "data": {
      "text/plain": [
       "<Response [200]>"
      ]
     },
     "execution_count": 24,
     "metadata": {},
     "output_type": "execute_result"
    }
   ],
   "source": [
    "from bs4 import BeautifulSoup\n",
    "import requests\n",
    "import pandas as pd\n",
    "\n",
    "page=requests.get(\"https://www.imdb.com/list/ls009997493/\")\n",
    "soup3=BeautifulSoup(page.content)\n",
    "page"
   ]
  },
  {
   "cell_type": "code",
   "execution_count": 25,
   "id": "2e87a766",
   "metadata": {},
   "outputs": [],
   "source": [
    "H_Movie=[]\n",
    "H_rating=[]\n",
    "H_year=[]\n",
    "\n",
    "for i in soup3.find_all(\"h3\",class_=\"lister-item-header\"):\n",
    "    H_Movie.append(i.find(\"a\").text.strip())\n",
    "\n",
    "for i in soup3.find_all(\"span\",class_=\"lister-item-year text-muted unbold\"):\n",
    "    H_year.append(i.text.strip(\"()\"))\n",
    "\n",
    "for i in soup3.find_all(\"div\",class_=\"ipl-rating-star small\"):\n",
    "    H_rating.append(i.text.strip())"
   ]
  },
  {
   "cell_type": "code",
   "execution_count": 26,
   "id": "eec1f95a",
   "metadata": {},
   "outputs": [
    {
     "name": "stdout",
     "output_type": "stream",
     "text": [
      "100 100 100\n"
     ]
    }
   ],
   "source": [
    "print(len(H_Movie),len(H_rating),len(H_year))"
   ]
  },
  {
   "cell_type": "code",
   "execution_count": 27,
   "id": "1d71a0a4",
   "metadata": {},
   "outputs": [
    {
     "name": "stdout",
     "output_type": "stream",
     "text": [
      "Movie ['Rang De Basanti', '3 Idiots', 'Taare Zameen Par', 'Dil Chahta Hai', 'Swades: We, the People', 'Lagaan: Once Upon a Time in India', 'Gangs of Wasseypur', 'Barfi!', 'Anand', 'Munna Bhai M.B.B.S.', 'A Wednesday', 'Andaz Apna Apna', 'Sholay', 'Bhaag Milkha Bhaag', 'Hera Pheri', 'Udaan', 'Kahaani', 'Black', 'Chak De! India', 'Khosla Ka Ghosla!', 'Jo Jeeta Wohi Sikandar', 'Zindagi Na Milegi Dobara', 'Paan Singh Tomar', 'Dilwale Dulhania Le Jayenge', 'Omkara', 'Lage Raho Munna Bhai', 'Iqbal', 'The Lunchbox', 'Black Friday', 'Company', 'Golmaal', 'Dev.D', 'Jaane Bhi Do Yaaro', 'OMG: Oh My God!', 'Mughal-E-Azam', 'Gulaal', 'Dor', 'Jab We Met', 'Pyaasa', 'The Legend of Bhagat Singh', 'Masoom', 'Salaam Bombay!', 'Satya', 'Vicky Donor', 'Lakshya', 'Vaastav: The Reality', 'Kal Ho Naa Ho', 'Oye Lucky! Lucky Oye!', 'Sarfarosh', 'Gangaajal', 'Angoor', 'Madras Cafe', 'English Vinglish', 'Chupke Chupke', 'Johnny Gaddaar', 'Maqbool', 'Hazaaron Khwaishein Aisi', 'Rock On!!', 'Don', 'Chhoti Si Baat', 'Guide', 'Raanjhanaa', 'Deewaar', 'Special Chabbis', 'Padosan', 'Mumbai Meri Jaan', 'Ab Tak Chhappan', 'Kai po che!', 'Awaara', 'Shree 420', 'Earth', 'Gunda', 'Parinda', 'Dasvidaniya', 'Hey Ram', 'Pinjar: Beyond Boundaries...', 'Socha Na Tha', 'Guru', 'Bawarchi', 'Manorama: Six Feet Under', 'Mr. India', 'Aamir', 'Zakhm', 'Water', 'Stanley Ka Dabba', 'Agneepath', 'My Name Is Khan', 'Qayamat Se Qayamat Tak', '3 Deewarein', 'Abhimaan', 'Sarkar', 'Bheja Fry', 'Mother India', 'Jaane Tu... Ya Jaane Na', 'Delhi Belly', 'Wake Up Sid', 'Rangeela', 'Shatranj Ke Khilari', 'Pyaar Ka Punchnama', 'Ek Hasina Thi']\n",
      "\n",
      " Ratings ['8.1', '8.4', '8.3', '8.1', '8.1', '8.1', '8.2', '8.1', '8.1', '8.1', '8.1', '8', '8.1', '8.2', '8.1', '8.1', '8.1', '8.1', '8.1', '8.3', '8.2', '8.1', '8.2', '8', '8.1', '8', '8.1', '7.8', '8.4', '8', '8.5', '7.9', '8.3', '8.1', '8.1', '8', '7.9', '7.9', '8.3', '8.1', '8.4', '7.9', '8.3', '7.8', '7.8', '8', '7.9', '7.7', '8.1', '7.8', '8.3', '7.6', '7.8', '8.3', '7.9', '8', '7.9', '7.7', '7.7', '8.3', '8.4', '7.6', '8', '8', '8', '7.7', '7.8', '7.7', '7.8', '7.9', '7.6', '7.3', '7.8', '7.8', '7.9', '7.9', '7.4', '7.7', '8.1', '7.6', '7.7', '7.6', '7.9', '7.7', '7.8', '7.6', '7.9', '7.4', '7.8', '7.8', '7.6', '7.6', '7.8', '7.4', '7.5', '7.6', '7.4', '7.5', '7.6', '7.5']\n",
      "\n",
      " Release ['2006', '2009', '2007', '2001', '2004', '2001', '2012', '2012', '1971', '2003', '2008', '1994', '1975', '2013', '2000', '2010', '2012', '2005', '2007', '2006', '1992', '2011', '2012', '1995', '2006', '2006', '2005', '2013', '2004', '2002', '1979', '2009', '1983', '2012', '1960', '2009', '2006', '2007', '1957', '2002', '1983', '1988', '1998', '2012', '2004', '1999', '2003', '2008', '1999', '2003', '1982', '2013', '2012', '1975', '2007', '2003', '2003', '2008', '1978', '1976', '1965', '2013', '1975', '2013', '1968', '2008', '2004', '2013', '1951', '1955', '1999', '1998', '1989', '2008', '2000', '2003', '2005', '2007', '1972', '2007', '1987', '2008', '1998', 'I) (2005', '2011', '1990', '2010', '1988', '2003', '1973', '2005', '2007', '1957', '2008', '2011', '2009', '1995', '1977', '2011', '2004']\n"
     ]
    }
   ],
   "source": [
    "print(\"Movie\",H_Movie)\n",
    "print(\"\\n Ratings\",H_rating)\n",
    "print(\"\\n Release\",H_year)"
   ]
  },
  {
   "cell_type": "code",
   "execution_count": 28,
   "id": "082c47b5",
   "metadata": {},
   "outputs": [],
   "source": [
    "df3=pd.DataFrame({\"Movie_Name\" : H_Movie,\"Ratings\": H_rating, \"Year of release\": H_year})"
   ]
  },
  {
   "cell_type": "code",
   "execution_count": 29,
   "id": "f4648aea",
   "metadata": {},
   "outputs": [
    {
     "data": {
      "text/html": [
       "<div>\n",
       "<style scoped>\n",
       "    .dataframe tbody tr th:only-of-type {\n",
       "        vertical-align: middle;\n",
       "    }\n",
       "\n",
       "    .dataframe tbody tr th {\n",
       "        vertical-align: top;\n",
       "    }\n",
       "\n",
       "    .dataframe thead th {\n",
       "        text-align: right;\n",
       "    }\n",
       "</style>\n",
       "<table border=\"1\" class=\"dataframe\">\n",
       "  <thead>\n",
       "    <tr style=\"text-align: right;\">\n",
       "      <th></th>\n",
       "      <th>Movie_Name</th>\n",
       "      <th>Ratings</th>\n",
       "      <th>Year of release</th>\n",
       "    </tr>\n",
       "  </thead>\n",
       "  <tbody>\n",
       "    <tr>\n",
       "      <th>0</th>\n",
       "      <td>Rang De Basanti</td>\n",
       "      <td>8.1</td>\n",
       "      <td>2006</td>\n",
       "    </tr>\n",
       "    <tr>\n",
       "      <th>1</th>\n",
       "      <td>3 Idiots</td>\n",
       "      <td>8.4</td>\n",
       "      <td>2009</td>\n",
       "    </tr>\n",
       "    <tr>\n",
       "      <th>2</th>\n",
       "      <td>Taare Zameen Par</td>\n",
       "      <td>8.3</td>\n",
       "      <td>2007</td>\n",
       "    </tr>\n",
       "    <tr>\n",
       "      <th>3</th>\n",
       "      <td>Dil Chahta Hai</td>\n",
       "      <td>8.1</td>\n",
       "      <td>2001</td>\n",
       "    </tr>\n",
       "    <tr>\n",
       "      <th>4</th>\n",
       "      <td>Swades: We, the People</td>\n",
       "      <td>8.1</td>\n",
       "      <td>2004</td>\n",
       "    </tr>\n",
       "    <tr>\n",
       "      <th>...</th>\n",
       "      <td>...</td>\n",
       "      <td>...</td>\n",
       "      <td>...</td>\n",
       "    </tr>\n",
       "    <tr>\n",
       "      <th>95</th>\n",
       "      <td>Wake Up Sid</td>\n",
       "      <td>7.6</td>\n",
       "      <td>2009</td>\n",
       "    </tr>\n",
       "    <tr>\n",
       "      <th>96</th>\n",
       "      <td>Rangeela</td>\n",
       "      <td>7.4</td>\n",
       "      <td>1995</td>\n",
       "    </tr>\n",
       "    <tr>\n",
       "      <th>97</th>\n",
       "      <td>Shatranj Ke Khilari</td>\n",
       "      <td>7.5</td>\n",
       "      <td>1977</td>\n",
       "    </tr>\n",
       "    <tr>\n",
       "      <th>98</th>\n",
       "      <td>Pyaar Ka Punchnama</td>\n",
       "      <td>7.6</td>\n",
       "      <td>2011</td>\n",
       "    </tr>\n",
       "    <tr>\n",
       "      <th>99</th>\n",
       "      <td>Ek Hasina Thi</td>\n",
       "      <td>7.5</td>\n",
       "      <td>2004</td>\n",
       "    </tr>\n",
       "  </tbody>\n",
       "</table>\n",
       "<p>100 rows × 3 columns</p>\n",
       "</div>"
      ],
      "text/plain": [
       "                Movie_Name Ratings Year of release\n",
       "0          Rang De Basanti     8.1            2006\n",
       "1                 3 Idiots     8.4            2009\n",
       "2         Taare Zameen Par     8.3            2007\n",
       "3           Dil Chahta Hai     8.1            2001\n",
       "4   Swades: We, the People     8.1            2004\n",
       "..                     ...     ...             ...\n",
       "95             Wake Up Sid     7.6            2009\n",
       "96                Rangeela     7.4            1995\n",
       "97     Shatranj Ke Khilari     7.5            1977\n",
       "98      Pyaar Ka Punchnama     7.6            2011\n",
       "99           Ek Hasina Thi     7.5            2004\n",
       "\n",
       "[100 rows x 3 columns]"
      ]
     },
     "execution_count": 29,
     "metadata": {},
     "output_type": "execute_result"
    }
   ],
   "source": [
    "df3"
   ]
  },
  {
   "cell_type": "raw",
   "id": "dca48f89",
   "metadata": {},
   "source": []
  },
  {
   "cell_type": "markdown",
   "id": "cd4d441c",
   "metadata": {},
   "source": [
    "Write s python program to display list of respected former presidents of India(i.e. Name , Term of office)\n",
    "\n",
    "from https://presidentofindia.nic.in/former-presidents.htm"
   ]
  },
  {
   "cell_type": "code",
   "execution_count": 30,
   "id": "32c399ec",
   "metadata": {},
   "outputs": [
    {
     "data": {
      "text/plain": [
       "<Response [200]>"
      ]
     },
     "execution_count": 30,
     "metadata": {},
     "output_type": "execute_result"
    }
   ],
   "source": [
    "import requests\n",
    "from bs4 import BeautifulSoup\n",
    "import pandas as pd\n",
    "page=requests.get(\"https://presidentofindia.nic.in/former-presidents.htm\")\n",
    "soup4=BeautifulSoup(page.content)\n",
    "page"
   ]
  },
  {
   "cell_type": "code",
   "execution_count": 31,
   "id": "d86a402b",
   "metadata": {},
   "outputs": [],
   "source": [
    "Name=[]\n",
    "\n",
    "for i in soup4.find_all(\"div\",class_=\"presidentListing\"):\n",
    "    Name.append(i.find(\"h3\").text.strip())"
   ]
  },
  {
   "cell_type": "code",
   "execution_count": 32,
   "id": "25b308b2",
   "metadata": {},
   "outputs": [
    {
     "data": {
      "text/plain": [
       "['Shri Ram Nath Kovind (birth - 1945)',\n",
       " 'Shri Pranab Mukherjee (1935-2020)',\n",
       " 'Smt Pratibha Devisingh Patil (birth - 1934)',\n",
       " 'DR. A.P.J. Abdul Kalam (1931-2015)',\n",
       " 'Shri K. R. Narayanan (1920 - 2005)',\n",
       " 'Dr Shankar Dayal Sharma (1918-1999)',\n",
       " 'Shri R Venkataraman (1910-2009)',\n",
       " 'Giani Zail Singh (1916-1994)',\n",
       " 'Shri Neelam Sanjiva Reddy (1913-1996)',\n",
       " 'Dr. Fakhruddin Ali Ahmed (1905-1977)',\n",
       " 'Shri Varahagiri Venkata Giri (1894-1980)',\n",
       " 'Dr. Zakir Husain (1897-1969)',\n",
       " 'Dr. Sarvepalli Radhakrishnan (1888-1975)',\n",
       " 'Dr. Rajendra Prasad (1884-1963)']"
      ]
     },
     "execution_count": 32,
     "metadata": {},
     "output_type": "execute_result"
    }
   ],
   "source": [
    "Name"
   ]
  },
  {
   "cell_type": "code",
   "execution_count": 33,
   "id": "719d4e6d",
   "metadata": {},
   "outputs": [],
   "source": [
    "Terms=[]\n",
    "\n",
    "for i in soup4.find_all(\"div\",class_=\"presidentListing\"):\n",
    "    Terms.append(i.find(\"p\").text.strip()[15:])"
   ]
  },
  {
   "cell_type": "code",
   "execution_count": 34,
   "id": "6822f864",
   "metadata": {},
   "outputs": [
    {
     "data": {
      "text/plain": [
       "[' 25 July, 2017 to 25 July, 2022',\n",
       " ' 25 July, 2012 to 25 July, 2017',\n",
       " ' 25 July, 2007 to 25 July, 2012',\n",
       " ' 25 July, 2002 to 25 July, 2007',\n",
       " ' 25 July, 1997 to 25 July, 2002',\n",
       " ' 25 July, 1992 to 25 July, 1997',\n",
       " ' 25 July, 1987 to 25 July, 1992',\n",
       " ' 25 July, 1982 to 25 July, 1987',\n",
       " ' 25 July, 1977 to 25 July, 1982',\n",
       " ' 24 August, 1974 to 11 February, 1977',\n",
       " ' 3 May, 1969 to 20 July, 1969 and 24 August, 1969 to 24 August, 1974',\n",
       " ' 13 May, 1967 to 3 May, 1969',\n",
       " ' 13 May, 1962 to 13 May, 1967',\n",
       " ' 26 January, 1950 to 13 May, 1962']"
      ]
     },
     "execution_count": 34,
     "metadata": {},
     "output_type": "execute_result"
    }
   ],
   "source": [
    "Terms"
   ]
  },
  {
   "cell_type": "code",
   "execution_count": 35,
   "id": "047b39d5",
   "metadata": {},
   "outputs": [
    {
     "name": "stdout",
     "output_type": "stream",
     "text": [
      "14 14\n"
     ]
    }
   ],
   "source": [
    "print(len(Name),len(Terms))"
   ]
  },
  {
   "cell_type": "code",
   "execution_count": 36,
   "id": "8a6fa8e5",
   "metadata": {},
   "outputs": [],
   "source": [
    "df4=pd.DataFrame({\"President Name\": Name,\"Term of Office\": Terms})"
   ]
  },
  {
   "cell_type": "code",
   "execution_count": 37,
   "id": "93f44736",
   "metadata": {},
   "outputs": [
    {
     "data": {
      "text/html": [
       "<div>\n",
       "<style scoped>\n",
       "    .dataframe tbody tr th:only-of-type {\n",
       "        vertical-align: middle;\n",
       "    }\n",
       "\n",
       "    .dataframe tbody tr th {\n",
       "        vertical-align: top;\n",
       "    }\n",
       "\n",
       "    .dataframe thead th {\n",
       "        text-align: right;\n",
       "    }\n",
       "</style>\n",
       "<table border=\"1\" class=\"dataframe\">\n",
       "  <thead>\n",
       "    <tr style=\"text-align: right;\">\n",
       "      <th></th>\n",
       "      <th>President Name</th>\n",
       "      <th>Term of Office</th>\n",
       "    </tr>\n",
       "  </thead>\n",
       "  <tbody>\n",
       "    <tr>\n",
       "      <th>0</th>\n",
       "      <td>Shri Ram Nath Kovind (birth - 1945)</td>\n",
       "      <td>25 July, 2017 to 25 July, 2022</td>\n",
       "    </tr>\n",
       "    <tr>\n",
       "      <th>1</th>\n",
       "      <td>Shri Pranab Mukherjee (1935-2020)</td>\n",
       "      <td>25 July, 2012 to 25 July, 2017</td>\n",
       "    </tr>\n",
       "    <tr>\n",
       "      <th>2</th>\n",
       "      <td>Smt Pratibha Devisingh Patil (birth - 1934)</td>\n",
       "      <td>25 July, 2007 to 25 July, 2012</td>\n",
       "    </tr>\n",
       "    <tr>\n",
       "      <th>3</th>\n",
       "      <td>DR. A.P.J. Abdul Kalam (1931-2015)</td>\n",
       "      <td>25 July, 2002 to 25 July, 2007</td>\n",
       "    </tr>\n",
       "    <tr>\n",
       "      <th>4</th>\n",
       "      <td>Shri K. R. Narayanan (1920 - 2005)</td>\n",
       "      <td>25 July, 1997 to 25 July, 2002</td>\n",
       "    </tr>\n",
       "    <tr>\n",
       "      <th>5</th>\n",
       "      <td>Dr Shankar Dayal Sharma (1918-1999)</td>\n",
       "      <td>25 July, 1992 to 25 July, 1997</td>\n",
       "    </tr>\n",
       "    <tr>\n",
       "      <th>6</th>\n",
       "      <td>Shri R Venkataraman (1910-2009)</td>\n",
       "      <td>25 July, 1987 to 25 July, 1992</td>\n",
       "    </tr>\n",
       "    <tr>\n",
       "      <th>7</th>\n",
       "      <td>Giani Zail Singh (1916-1994)</td>\n",
       "      <td>25 July, 1982 to 25 July, 1987</td>\n",
       "    </tr>\n",
       "    <tr>\n",
       "      <th>8</th>\n",
       "      <td>Shri Neelam Sanjiva Reddy (1913-1996)</td>\n",
       "      <td>25 July, 1977 to 25 July, 1982</td>\n",
       "    </tr>\n",
       "    <tr>\n",
       "      <th>9</th>\n",
       "      <td>Dr. Fakhruddin Ali Ahmed (1905-1977)</td>\n",
       "      <td>24 August, 1974 to 11 February, 1977</td>\n",
       "    </tr>\n",
       "    <tr>\n",
       "      <th>10</th>\n",
       "      <td>Shri Varahagiri Venkata Giri (1894-1980)</td>\n",
       "      <td>3 May, 1969 to 20 July, 1969 and 24 August, 1...</td>\n",
       "    </tr>\n",
       "    <tr>\n",
       "      <th>11</th>\n",
       "      <td>Dr. Zakir Husain (1897-1969)</td>\n",
       "      <td>13 May, 1967 to 3 May, 1969</td>\n",
       "    </tr>\n",
       "    <tr>\n",
       "      <th>12</th>\n",
       "      <td>Dr. Sarvepalli Radhakrishnan (1888-1975)</td>\n",
       "      <td>13 May, 1962 to 13 May, 1967</td>\n",
       "    </tr>\n",
       "    <tr>\n",
       "      <th>13</th>\n",
       "      <td>Dr. Rajendra Prasad (1884-1963)</td>\n",
       "      <td>26 January, 1950 to 13 May, 1962</td>\n",
       "    </tr>\n",
       "  </tbody>\n",
       "</table>\n",
       "</div>"
      ],
      "text/plain": [
       "                                 President Name  \\\n",
       "0           Shri Ram Nath Kovind (birth - 1945)   \n",
       "1             Shri Pranab Mukherjee (1935-2020)   \n",
       "2   Smt Pratibha Devisingh Patil (birth - 1934)   \n",
       "3            DR. A.P.J. Abdul Kalam (1931-2015)   \n",
       "4            Shri K. R. Narayanan (1920 - 2005)   \n",
       "5           Dr Shankar Dayal Sharma (1918-1999)   \n",
       "6               Shri R Venkataraman (1910-2009)   \n",
       "7                  Giani Zail Singh (1916-1994)   \n",
       "8         Shri Neelam Sanjiva Reddy (1913-1996)   \n",
       "9          Dr. Fakhruddin Ali Ahmed (1905-1977)   \n",
       "10     Shri Varahagiri Venkata Giri (1894-1980)   \n",
       "11                 Dr. Zakir Husain (1897-1969)   \n",
       "12     Dr. Sarvepalli Radhakrishnan (1888-1975)   \n",
       "13              Dr. Rajendra Prasad (1884-1963)   \n",
       "\n",
       "                                       Term of Office  \n",
       "0                      25 July, 2017 to 25 July, 2022  \n",
       "1                      25 July, 2012 to 25 July, 2017  \n",
       "2                      25 July, 2007 to 25 July, 2012  \n",
       "3                      25 July, 2002 to 25 July, 2007  \n",
       "4                      25 July, 1997 to 25 July, 2002  \n",
       "5                      25 July, 1992 to 25 July, 1997  \n",
       "6                      25 July, 1987 to 25 July, 1992  \n",
       "7                      25 July, 1982 to 25 July, 1987  \n",
       "8                      25 July, 1977 to 25 July, 1982  \n",
       "9                24 August, 1974 to 11 February, 1977  \n",
       "10   3 May, 1969 to 20 July, 1969 and 24 August, 1...  \n",
       "11                        13 May, 1967 to 3 May, 1969  \n",
       "12                       13 May, 1962 to 13 May, 1967  \n",
       "13                   26 January, 1950 to 13 May, 1962  "
      ]
     },
     "execution_count": 37,
     "metadata": {},
     "output_type": "execute_result"
    }
   ],
   "source": [
    "df4"
   ]
  },
  {
   "cell_type": "raw",
   "id": "25a2c9a6",
   "metadata": {},
   "source": []
  },
  {
   "cell_type": "code",
   "execution_count": 38,
   "id": "d874c515",
   "metadata": {},
   "outputs": [],
   "source": [
    "# 5_a) Top 10 ODI teams in men’s cricket along with the records for matches, points and rating."
   ]
  },
  {
   "cell_type": "code",
   "execution_count": 39,
   "id": "576041cd",
   "metadata": {},
   "outputs": [
    {
     "data": {
      "text/plain": [
       "<Response [200]>"
      ]
     },
     "execution_count": 39,
     "metadata": {},
     "output_type": "execute_result"
    }
   ],
   "source": [
    "import requests\n",
    "from bs4 import BeautifulSoup\n",
    "import pandas as pd\n",
    "page=requests.get(\"https://www.icc-cricket.com/rankings/mens/team-rankings/odi\")\n",
    "soup5a=BeautifulSoup(page.content,\"html.parser\")\n",
    "page"
   ]
  },
  {
   "cell_type": "code",
   "execution_count": 40,
   "id": "ed11d9bd",
   "metadata": {},
   "outputs": [],
   "source": [
    "team1=[]\n",
    "rating1=[]\n",
    "point1=[]\n",
    "matches1=[]\n",
    "\n",
    "name=soup5a.find(\"span\",class_=\"u-hide-phablet\")\n",
    "team1.append(name.text.strip(\"[]\"))\n",
    "\n",
    "rate=soup5a.find('td',class_=\"rankings-block__banner--matches\")\n",
    "rating1.append(rate.text.strip(\"\"))\n",
    "\n",
    "point=soup5a.find('td',class_=\"rankings-block__banner--points\")\n",
    "point1.append(point.text.strip(\"\")[:5])\n",
    "\n",
    "match=soup5a.find('td',class_=\"rankings-block__banner--rating u-text-right\")\n",
    "matches1.append(match.text.strip()[0:3])\n"
   ]
  },
  {
   "cell_type": "code",
   "execution_count": 41,
   "id": "8dee031d",
   "metadata": {},
   "outputs": [
    {
     "name": "stdout",
     "output_type": "stream",
     "text": [
      "['New Zealand'] ['16'] ['2,051'] ['128']\n"
     ]
    }
   ],
   "source": [
    "print(team1,rating1,point1,matches1)"
   ]
  },
  {
   "cell_type": "code",
   "execution_count": 42,
   "id": "9f02356a",
   "metadata": {},
   "outputs": [],
   "source": [
    "df5_1a=pd.DataFrame({\"Team\":team1,\"Team_Match\":matches1,\"Point\":point1,\"Team_Rating\":rating1})"
   ]
  },
  {
   "cell_type": "code",
   "execution_count": 43,
   "id": "88135006",
   "metadata": {},
   "outputs": [
    {
     "name": "stdout",
     "output_type": "stream",
     "text": [
      "          Team Team_Match  Point Team_Rating\n",
      "0  New Zealand        128  2,051          16\n"
     ]
    }
   ],
   "source": [
    "print(df5_1a)"
   ]
  },
  {
   "cell_type": "code",
   "execution_count": 44,
   "id": "9e7b9166",
   "metadata": {},
   "outputs": [],
   "source": [
    "team=[]\n",
    "rating=[]\n",
    "\n",
    "for i in soup5a.find_all(\"span\",class_=\"u-hide-phablet\")[1:]:\n",
    "    team.append(i.text.strip())\n",
    "    \n",
    "for i in soup5a.find_all(\"td\",class_=\"table-body__cell u-text-right rating\"):\n",
    "    rating.append(i.text.strip())"
   ]
  },
  {
   "cell_type": "code",
   "execution_count": 45,
   "id": "e93cf966",
   "metadata": {},
   "outputs": [
    {
     "name": "stdout",
     "output_type": "stream",
     "text": [
      "\n",
      " ['3,226', '3,085', '2,005', '2,325', '2,111', '2,639', '2,658', '2,621', '1,238', '1,214', '1,025', '733', '603', '539', '919', '544', '369', '331', '134'] \n",
      " ['27', '28', '19', '23', '21', '27', '29', '38', '18', '23', '23', '19', '18', '17', '30', '20', '15', '22', '22']\n"
     ]
    }
   ],
   "source": [
    "Matches_Points=[]\n",
    "for i in soup5a.find_all(\"td\",class_=\"table-body__cell u-center-text\"):\n",
    "    Matches_Points.append(i.text.strip())\n",
    "    \n",
    "Points=[]\n",
    "\n",
    "for i in range(1,len(Matches_Points),2):\n",
    "    Points.append(Matches_Points[i])\n",
    "\n",
    "Matches=[]\n",
    "for i in range(0,len(Matches_Points),2):\n",
    "    Matches.append(Matches_Points[i])\n",
    "\n",
    "print(\"\\n\",Points,\"\\n\",Matches)"
   ]
  },
  {
   "cell_type": "code",
   "execution_count": 46,
   "id": "26363e00",
   "metadata": {},
   "outputs": [
    {
     "name": "stdout",
     "output_type": "stream",
     "text": [
      "19 19 19 19\n"
     ]
    }
   ],
   "source": [
    "print(len(team),len(rating),len(Points),len(Matches))"
   ]
  },
  {
   "cell_type": "code",
   "execution_count": 47,
   "id": "0680e8fd",
   "metadata": {},
   "outputs": [],
   "source": [
    "df5_2a=pd.DataFrame({\"Team\":team,\"Team_Match\":Matches,\"Point\":Points,\"Team_Rating\":rating})"
   ]
  },
  {
   "cell_type": "code",
   "execution_count": 48,
   "id": "b274f64a",
   "metadata": {},
   "outputs": [
    {
     "data": {
      "text/html": [
       "<div>\n",
       "<style scoped>\n",
       "    .dataframe tbody tr th:only-of-type {\n",
       "        vertical-align: middle;\n",
       "    }\n",
       "\n",
       "    .dataframe tbody tr th {\n",
       "        vertical-align: top;\n",
       "    }\n",
       "\n",
       "    .dataframe thead th {\n",
       "        text-align: right;\n",
       "    }\n",
       "</style>\n",
       "<table border=\"1\" class=\"dataframe\">\n",
       "  <thead>\n",
       "    <tr style=\"text-align: right;\">\n",
       "      <th></th>\n",
       "      <th>Team</th>\n",
       "      <th>Team_Match</th>\n",
       "      <th>Point</th>\n",
       "      <th>Team_Rating</th>\n",
       "    </tr>\n",
       "  </thead>\n",
       "  <tbody>\n",
       "    <tr>\n",
       "      <th>14</th>\n",
       "      <td>Oman</td>\n",
       "      <td>30</td>\n",
       "      <td>919</td>\n",
       "      <td>31</td>\n",
       "    </tr>\n",
       "    <tr>\n",
       "      <th>15</th>\n",
       "      <td>United States</td>\n",
       "      <td>20</td>\n",
       "      <td>544</td>\n",
       "      <td>27</td>\n",
       "    </tr>\n",
       "    <tr>\n",
       "      <th>16</th>\n",
       "      <td>Namibia</td>\n",
       "      <td>15</td>\n",
       "      <td>369</td>\n",
       "      <td>25</td>\n",
       "    </tr>\n",
       "    <tr>\n",
       "      <th>17</th>\n",
       "      <td>Nepal</td>\n",
       "      <td>22</td>\n",
       "      <td>331</td>\n",
       "      <td>15</td>\n",
       "    </tr>\n",
       "    <tr>\n",
       "      <th>18</th>\n",
       "      <td>Papua New Guinea</td>\n",
       "      <td>22</td>\n",
       "      <td>134</td>\n",
       "      <td>6</td>\n",
       "    </tr>\n",
       "  </tbody>\n",
       "</table>\n",
       "</div>"
      ],
      "text/plain": [
       "                Team Team_Match Point Team_Rating\n",
       "14              Oman         30   919          31\n",
       "15     United States         20   544          27\n",
       "16           Namibia         15   369          25\n",
       "17             Nepal         22   331          15\n",
       "18  Papua New Guinea         22   134           6"
      ]
     },
     "execution_count": 48,
     "metadata": {},
     "output_type": "execute_result"
    }
   ],
   "source": [
    "df5_2a.tail()"
   ]
  },
  {
   "cell_type": "code",
   "execution_count": 49,
   "id": "fde17436",
   "metadata": {},
   "outputs": [],
   "source": [
    "frame=[df5_1a[0:],df5_2a[:9]]"
   ]
  },
  {
   "cell_type": "code",
   "execution_count": 50,
   "id": "a6bb6764",
   "metadata": {},
   "outputs": [],
   "source": [
    "final_5a=pd.concat(frame,ignore_index=True)"
   ]
  },
  {
   "cell_type": "code",
   "execution_count": 51,
   "id": "b3701054",
   "metadata": {},
   "outputs": [
    {
     "data": {
      "text/html": [
       "<div>\n",
       "<style scoped>\n",
       "    .dataframe tbody tr th:only-of-type {\n",
       "        vertical-align: middle;\n",
       "    }\n",
       "\n",
       "    .dataframe tbody tr th {\n",
       "        vertical-align: top;\n",
       "    }\n",
       "\n",
       "    .dataframe thead th {\n",
       "        text-align: right;\n",
       "    }\n",
       "</style>\n",
       "<table border=\"1\" class=\"dataframe\">\n",
       "  <thead>\n",
       "    <tr style=\"text-align: right;\">\n",
       "      <th></th>\n",
       "      <th>Team</th>\n",
       "      <th>Team_Match</th>\n",
       "      <th>Point</th>\n",
       "      <th>Team_Rating</th>\n",
       "    </tr>\n",
       "  </thead>\n",
       "  <tbody>\n",
       "    <tr>\n",
       "      <th>0</th>\n",
       "      <td>New Zealand</td>\n",
       "      <td>128</td>\n",
       "      <td>2,051</td>\n",
       "      <td>16</td>\n",
       "    </tr>\n",
       "    <tr>\n",
       "      <th>1</th>\n",
       "      <td>England</td>\n",
       "      <td>27</td>\n",
       "      <td>3,226</td>\n",
       "      <td>119</td>\n",
       "    </tr>\n",
       "    <tr>\n",
       "      <th>2</th>\n",
       "      <td>India</td>\n",
       "      <td>28</td>\n",
       "      <td>3,085</td>\n",
       "      <td>110</td>\n",
       "    </tr>\n",
       "    <tr>\n",
       "      <th>3</th>\n",
       "      <td>Pakistan</td>\n",
       "      <td>19</td>\n",
       "      <td>2,005</td>\n",
       "      <td>106</td>\n",
       "    </tr>\n",
       "    <tr>\n",
       "      <th>4</th>\n",
       "      <td>Australia</td>\n",
       "      <td>23</td>\n",
       "      <td>2,325</td>\n",
       "      <td>101</td>\n",
       "    </tr>\n",
       "    <tr>\n",
       "      <th>5</th>\n",
       "      <td>South Africa</td>\n",
       "      <td>21</td>\n",
       "      <td>2,111</td>\n",
       "      <td>101</td>\n",
       "    </tr>\n",
       "    <tr>\n",
       "      <th>6</th>\n",
       "      <td>Bangladesh</td>\n",
       "      <td>27</td>\n",
       "      <td>2,639</td>\n",
       "      <td>98</td>\n",
       "    </tr>\n",
       "    <tr>\n",
       "      <th>7</th>\n",
       "      <td>Sri Lanka</td>\n",
       "      <td>29</td>\n",
       "      <td>2,658</td>\n",
       "      <td>92</td>\n",
       "    </tr>\n",
       "    <tr>\n",
       "      <th>8</th>\n",
       "      <td>West Indies</td>\n",
       "      <td>38</td>\n",
       "      <td>2,621</td>\n",
       "      <td>69</td>\n",
       "    </tr>\n",
       "    <tr>\n",
       "      <th>9</th>\n",
       "      <td>Afghanistan</td>\n",
       "      <td>18</td>\n",
       "      <td>1,238</td>\n",
       "      <td>69</td>\n",
       "    </tr>\n",
       "  </tbody>\n",
       "</table>\n",
       "</div>"
      ],
      "text/plain": [
       "           Team Team_Match  Point Team_Rating\n",
       "0   New Zealand        128  2,051          16\n",
       "1       England         27  3,226         119\n",
       "2         India         28  3,085         110\n",
       "3      Pakistan         19  2,005         106\n",
       "4     Australia         23  2,325         101\n",
       "5  South Africa         21  2,111         101\n",
       "6    Bangladesh         27  2,639          98\n",
       "7     Sri Lanka         29  2,658          92\n",
       "8   West Indies         38  2,621          69\n",
       "9   Afghanistan         18  1,238          69"
      ]
     },
     "execution_count": 51,
     "metadata": {},
     "output_type": "execute_result"
    }
   ],
   "source": [
    "final_5a"
   ]
  },
  {
   "cell_type": "raw",
   "id": "f046a85c",
   "metadata": {},
   "source": []
  },
  {
   "cell_type": "code",
   "execution_count": 52,
   "id": "612958ac",
   "metadata": {},
   "outputs": [],
   "source": [
    "#5B.. Top 10 ODI Batsmen along with the records of their team and rating"
   ]
  },
  {
   "cell_type": "code",
   "execution_count": 53,
   "id": "64fa19f1",
   "metadata": {},
   "outputs": [
    {
     "data": {
      "text/plain": [
       "<Response [200]>"
      ]
     },
     "execution_count": 53,
     "metadata": {},
     "output_type": "execute_result"
    }
   ],
   "source": [
    "page=requests.get(\"https://www.icc-cricket.com/rankings/mens/player-rankings/odi/batting\")\n",
    "soup5b=BeautifulSoup(page.content)\n",
    "page"
   ]
  },
  {
   "cell_type": "code",
   "execution_count": 54,
   "id": "d28f0218",
   "metadata": {},
   "outputs": [
    {
     "name": "stdout",
     "output_type": "stream",
     "text": [
      "['Babar Azam'] ['PAK'] ['892']\n"
     ]
    }
   ],
   "source": [
    "name1=[]\n",
    "team1=[]\n",
    "rate1=[]\n",
    "\n",
    "name=soup5b.find(\"div\",class_=\"rankings-block__banner--name-large\")\n",
    "name1.append(name.text.strip()[0:16])\n",
    "\n",
    "team=soup5b.find(\"div\",class_=\"rankings-block__banner--nationality\")\n",
    "team1.append(team.text.strip()[0:3])\n",
    "\n",
    "rating=soup5b.find(\"div\",class_=\"rankings-block__banner--rating\")\n",
    "rate1.append(rating.text.strip())\n",
    "\n",
    "print(name1,team1,rate1)"
   ]
  },
  {
   "cell_type": "code",
   "execution_count": 55,
   "id": "e5aad53b",
   "metadata": {},
   "outputs": [
    {
     "name": "stdout",
     "output_type": "stream",
     "text": [
      "1 1 1\n"
     ]
    }
   ],
   "source": [
    "print(len(name1),len(team1),len(rate1))"
   ]
  },
  {
   "cell_type": "code",
   "execution_count": 56,
   "id": "a99cf819",
   "metadata": {},
   "outputs": [],
   "source": [
    "df5_1b=pd.DataFrame({\"Player_Name\":name1,\"Team\":team1,\"Rating\":rate1})"
   ]
  },
  {
   "cell_type": "code",
   "execution_count": 57,
   "id": "69312ec0",
   "metadata": {},
   "outputs": [
    {
     "data": {
      "text/html": [
       "<div>\n",
       "<style scoped>\n",
       "    .dataframe tbody tr th:only-of-type {\n",
       "        vertical-align: middle;\n",
       "    }\n",
       "\n",
       "    .dataframe tbody tr th {\n",
       "        vertical-align: top;\n",
       "    }\n",
       "\n",
       "    .dataframe thead th {\n",
       "        text-align: right;\n",
       "    }\n",
       "</style>\n",
       "<table border=\"1\" class=\"dataframe\">\n",
       "  <thead>\n",
       "    <tr style=\"text-align: right;\">\n",
       "      <th></th>\n",
       "      <th>Player_Name</th>\n",
       "      <th>Team</th>\n",
       "      <th>Rating</th>\n",
       "    </tr>\n",
       "  </thead>\n",
       "  <tbody>\n",
       "    <tr>\n",
       "      <th>0</th>\n",
       "      <td>Babar Azam</td>\n",
       "      <td>PAK</td>\n",
       "      <td>892</td>\n",
       "    </tr>\n",
       "  </tbody>\n",
       "</table>\n",
       "</div>"
      ],
      "text/plain": [
       "  Player_Name Team Rating\n",
       "0  Babar Azam  PAK    892"
      ]
     },
     "execution_count": 57,
     "metadata": {},
     "output_type": "execute_result"
    }
   ],
   "source": [
    "df5_1b"
   ]
  },
  {
   "cell_type": "code",
   "execution_count": 58,
   "id": "66e033d0",
   "metadata": {},
   "outputs": [
    {
     "name": "stdout",
     "output_type": "stream",
     "text": [
      "10 10 10\n"
     ]
    }
   ],
   "source": [
    "name2=[]\n",
    "team2=[]\n",
    "rate2=[]\n",
    "\n",
    "for i in soup5b.find_all(\"td\",class_=\"table-body__cell rating\")[:10]:\n",
    "    rate2.append(i.text.strip())\n",
    "    \n",
    "for i in soup5b.find_all(\"td\",class_=\"table-body__cell rankings-table__name name\")[:10]:\n",
    "    name2.append(i.text.strip())\n",
    "\n",
    "for i in soup5b.find_all(\"span\",class_=\"table-body__logo-text\")[:10]:\n",
    "    team2.append(i.text.strip())\n",
    "print(len(name2),len(team2),len(rate2))"
   ]
  },
  {
   "cell_type": "code",
   "execution_count": 59,
   "id": "a867569f",
   "metadata": {},
   "outputs": [
    {
     "name": "stdout",
     "output_type": "stream",
     "text": [
      "['Imam-ul-Haq', 'Rassie van der Dussen', 'Quinton de Kock', 'Virat Kohli', 'Rohit Sharma', 'Ross Taylor', 'David Warner', 'Jonny Bairstow', 'Aaron Finch', 'Fakhar Zaman'] \n",
      " ['PAK', 'SA', 'SA', 'IND', 'IND', 'NZ', 'AUS', 'ENG', 'AUS', 'PAK'] \n",
      " ['815', '789', '784', '767', '763', '744', '737', '732', '715', '701'] \n",
      "\n"
     ]
    }
   ],
   "source": [
    "print(name2,\"\\n\",\n",
    "     team2,\"\\n\",\n",
    "     rate2,\"\\n\")"
   ]
  },
  {
   "cell_type": "code",
   "execution_count": 60,
   "id": "54ae80dc",
   "metadata": {},
   "outputs": [],
   "source": [
    "df5_2b=pd.DataFrame({\"Player_Name\":name2,\"Team\":team2,\"Rating\":rate2})"
   ]
  },
  {
   "cell_type": "code",
   "execution_count": 61,
   "id": "741d19c3",
   "metadata": {},
   "outputs": [
    {
     "data": {
      "text/html": [
       "<div>\n",
       "<style scoped>\n",
       "    .dataframe tbody tr th:only-of-type {\n",
       "        vertical-align: middle;\n",
       "    }\n",
       "\n",
       "    .dataframe tbody tr th {\n",
       "        vertical-align: top;\n",
       "    }\n",
       "\n",
       "    .dataframe thead th {\n",
       "        text-align: right;\n",
       "    }\n",
       "</style>\n",
       "<table border=\"1\" class=\"dataframe\">\n",
       "  <thead>\n",
       "    <tr style=\"text-align: right;\">\n",
       "      <th></th>\n",
       "      <th>Player_Name</th>\n",
       "      <th>Team</th>\n",
       "      <th>Rating</th>\n",
       "    </tr>\n",
       "  </thead>\n",
       "  <tbody>\n",
       "    <tr>\n",
       "      <th>0</th>\n",
       "      <td>Imam-ul-Haq</td>\n",
       "      <td>PAK</td>\n",
       "      <td>815</td>\n",
       "    </tr>\n",
       "    <tr>\n",
       "      <th>1</th>\n",
       "      <td>Rassie van der Dussen</td>\n",
       "      <td>SA</td>\n",
       "      <td>789</td>\n",
       "    </tr>\n",
       "    <tr>\n",
       "      <th>2</th>\n",
       "      <td>Quinton de Kock</td>\n",
       "      <td>SA</td>\n",
       "      <td>784</td>\n",
       "    </tr>\n",
       "    <tr>\n",
       "      <th>3</th>\n",
       "      <td>Virat Kohli</td>\n",
       "      <td>IND</td>\n",
       "      <td>767</td>\n",
       "    </tr>\n",
       "    <tr>\n",
       "      <th>4</th>\n",
       "      <td>Rohit Sharma</td>\n",
       "      <td>IND</td>\n",
       "      <td>763</td>\n",
       "    </tr>\n",
       "    <tr>\n",
       "      <th>5</th>\n",
       "      <td>Ross Taylor</td>\n",
       "      <td>NZ</td>\n",
       "      <td>744</td>\n",
       "    </tr>\n",
       "    <tr>\n",
       "      <th>6</th>\n",
       "      <td>David Warner</td>\n",
       "      <td>AUS</td>\n",
       "      <td>737</td>\n",
       "    </tr>\n",
       "    <tr>\n",
       "      <th>7</th>\n",
       "      <td>Jonny Bairstow</td>\n",
       "      <td>ENG</td>\n",
       "      <td>732</td>\n",
       "    </tr>\n",
       "    <tr>\n",
       "      <th>8</th>\n",
       "      <td>Aaron Finch</td>\n",
       "      <td>AUS</td>\n",
       "      <td>715</td>\n",
       "    </tr>\n",
       "    <tr>\n",
       "      <th>9</th>\n",
       "      <td>Fakhar Zaman</td>\n",
       "      <td>PAK</td>\n",
       "      <td>701</td>\n",
       "    </tr>\n",
       "  </tbody>\n",
       "</table>\n",
       "</div>"
      ],
      "text/plain": [
       "             Player_Name Team Rating\n",
       "0            Imam-ul-Haq  PAK    815\n",
       "1  Rassie van der Dussen   SA    789\n",
       "2        Quinton de Kock   SA    784\n",
       "3            Virat Kohli  IND    767\n",
       "4           Rohit Sharma  IND    763\n",
       "5            Ross Taylor   NZ    744\n",
       "6           David Warner  AUS    737\n",
       "7         Jonny Bairstow  ENG    732\n",
       "8            Aaron Finch  AUS    715\n",
       "9           Fakhar Zaman  PAK    701"
      ]
     },
     "execution_count": 61,
     "metadata": {},
     "output_type": "execute_result"
    }
   ],
   "source": [
    "df5_2b"
   ]
  },
  {
   "cell_type": "code",
   "execution_count": 62,
   "id": "6437a5f3",
   "metadata": {},
   "outputs": [],
   "source": [
    "frame=[df5_1b[0:],df5_2b[0:9]]\n",
    "final_df5b=pd.concat(frame,ignore_index=True,)"
   ]
  },
  {
   "cell_type": "code",
   "execution_count": 63,
   "id": "10d3b3a6",
   "metadata": {},
   "outputs": [
    {
     "data": {
      "text/html": [
       "<div>\n",
       "<style scoped>\n",
       "    .dataframe tbody tr th:only-of-type {\n",
       "        vertical-align: middle;\n",
       "    }\n",
       "\n",
       "    .dataframe tbody tr th {\n",
       "        vertical-align: top;\n",
       "    }\n",
       "\n",
       "    .dataframe thead th {\n",
       "        text-align: right;\n",
       "    }\n",
       "</style>\n",
       "<table border=\"1\" class=\"dataframe\">\n",
       "  <thead>\n",
       "    <tr style=\"text-align: right;\">\n",
       "      <th></th>\n",
       "      <th>Player_Name</th>\n",
       "      <th>Team</th>\n",
       "      <th>Rating</th>\n",
       "    </tr>\n",
       "  </thead>\n",
       "  <tbody>\n",
       "    <tr>\n",
       "      <th>0</th>\n",
       "      <td>Babar Azam</td>\n",
       "      <td>PAK</td>\n",
       "      <td>892</td>\n",
       "    </tr>\n",
       "    <tr>\n",
       "      <th>1</th>\n",
       "      <td>Imam-ul-Haq</td>\n",
       "      <td>PAK</td>\n",
       "      <td>815</td>\n",
       "    </tr>\n",
       "    <tr>\n",
       "      <th>2</th>\n",
       "      <td>Rassie van der Dussen</td>\n",
       "      <td>SA</td>\n",
       "      <td>789</td>\n",
       "    </tr>\n",
       "    <tr>\n",
       "      <th>3</th>\n",
       "      <td>Quinton de Kock</td>\n",
       "      <td>SA</td>\n",
       "      <td>784</td>\n",
       "    </tr>\n",
       "    <tr>\n",
       "      <th>4</th>\n",
       "      <td>Virat Kohli</td>\n",
       "      <td>IND</td>\n",
       "      <td>767</td>\n",
       "    </tr>\n",
       "    <tr>\n",
       "      <th>5</th>\n",
       "      <td>Rohit Sharma</td>\n",
       "      <td>IND</td>\n",
       "      <td>763</td>\n",
       "    </tr>\n",
       "    <tr>\n",
       "      <th>6</th>\n",
       "      <td>Ross Taylor</td>\n",
       "      <td>NZ</td>\n",
       "      <td>744</td>\n",
       "    </tr>\n",
       "    <tr>\n",
       "      <th>7</th>\n",
       "      <td>David Warner</td>\n",
       "      <td>AUS</td>\n",
       "      <td>737</td>\n",
       "    </tr>\n",
       "    <tr>\n",
       "      <th>8</th>\n",
       "      <td>Jonny Bairstow</td>\n",
       "      <td>ENG</td>\n",
       "      <td>732</td>\n",
       "    </tr>\n",
       "    <tr>\n",
       "      <th>9</th>\n",
       "      <td>Aaron Finch</td>\n",
       "      <td>AUS</td>\n",
       "      <td>715</td>\n",
       "    </tr>\n",
       "  </tbody>\n",
       "</table>\n",
       "</div>"
      ],
      "text/plain": [
       "             Player_Name Team Rating\n",
       "0             Babar Azam  PAK    892\n",
       "1            Imam-ul-Haq  PAK    815\n",
       "2  Rassie van der Dussen   SA    789\n",
       "3        Quinton de Kock   SA    784\n",
       "4            Virat Kohli  IND    767\n",
       "5           Rohit Sharma  IND    763\n",
       "6            Ross Taylor   NZ    744\n",
       "7           David Warner  AUS    737\n",
       "8         Jonny Bairstow  ENG    732\n",
       "9            Aaron Finch  AUS    715"
      ]
     },
     "execution_count": 63,
     "metadata": {},
     "output_type": "execute_result"
    }
   ],
   "source": [
    "final_df5b"
   ]
  },
  {
   "cell_type": "raw",
   "id": "9fb511c6",
   "metadata": {},
   "source": []
  },
  {
   "cell_type": "code",
   "execution_count": 64,
   "id": "ea118a68",
   "metadata": {},
   "outputs": [],
   "source": [
    "#5C Top 10 ODI bowlers along with the records of their team and rating."
   ]
  },
  {
   "cell_type": "code",
   "execution_count": 65,
   "id": "23b039e4",
   "metadata": {},
   "outputs": [
    {
     "data": {
      "text/plain": [
       "<Response [200]>"
      ]
     },
     "execution_count": 65,
     "metadata": {},
     "output_type": "execute_result"
    }
   ],
   "source": [
    "page=requests.get(\"https://www.icc-cricket.com/rankings/mens/player-rankings/odi/bowling\")\n",
    "soup_5C=BeautifulSoup(page.content)\n",
    "page"
   ]
  },
  {
   "cell_type": "code",
   "execution_count": 66,
   "id": "a6d15466",
   "metadata": {},
   "outputs": [],
   "source": [
    "name3=[]\n",
    "team3=[]\n",
    "rate3=[]\n",
    "\n",
    "name=soup_5C.find(\"div\",class_=\"rankings-block__banner--name-large\")\n",
    "name3.append(name.text.strip())\n",
    "\n",
    "team=soup_5C.find(\"div\",class_=\"rankings-block__banner--nationality\")\n",
    "team3.append(team.text.strip())\n",
    "\n",
    "rate=soup_5C.find(\"div\",class_=\"rankings-block__banner--rating\")\n",
    "rate3.append(rate.text.strip())"
   ]
  },
  {
   "cell_type": "code",
   "execution_count": 67,
   "id": "912860c7",
   "metadata": {},
   "outputs": [
    {
     "name": "stdout",
     "output_type": "stream",
     "text": [
      "['Trent Boult'] ['NZ'] ['697']\n"
     ]
    }
   ],
   "source": [
    "print(name3,team3,rate3)"
   ]
  },
  {
   "cell_type": "code",
   "execution_count": 68,
   "id": "c32e8045",
   "metadata": {},
   "outputs": [],
   "source": [
    "df=pd.DataFrame({\"Bowler_Name\":name3,\"Team\":team3,\"Rating\":rate3})"
   ]
  },
  {
   "cell_type": "code",
   "execution_count": 69,
   "id": "21ca6c51",
   "metadata": {},
   "outputs": [],
   "source": [
    "Name_3=[]\n",
    "Team_3=[]\n",
    "Rate_3=[]\n",
    "\n",
    "for i in soup_5C.find_all(\"td\",class_=\"table-body__cell rankings-table__name name\")[:9]:\n",
    "    Name_3.append(i.text.strip())\n",
    "    \n",
    "for i in soup_5C.find_all(\"span\",class_=\"table-body__logo-text\")[:9]:\n",
    "    Team_3.append(i.text.strip())\n",
    "    \n",
    "for i in soup_5C.find_all(\"td\",class_=\"table-body__cell rating\")[:9]:\n",
    "    Rate_3.append(i.text.strip())"
   ]
  },
  {
   "cell_type": "code",
   "execution_count": 70,
   "id": "a576c7d1",
   "metadata": {},
   "outputs": [
    {
     "name": "stdout",
     "output_type": "stream",
     "text": [
      "['Jasprit Bumrah', 'Shaheen Afridi', 'Josh Hazlewood', 'Mujeeb Ur Rahman', 'Mehedi Hasan', 'Matt Henry', 'Mohammad Nabi', 'Rashid Khan', 'Chris Woakes'] ['IND', 'PAK', 'AUS', 'AFG', 'BAN', 'NZ', 'AFG', 'AFG', 'ENG'] ['682', '681', '679', '676', '672', '663', '657', '651', '640']\n"
     ]
    }
   ],
   "source": [
    "print(Name_3,Team_3,Rate_3)"
   ]
  },
  {
   "cell_type": "code",
   "execution_count": 71,
   "id": "ff7802bc",
   "metadata": {},
   "outputs": [
    {
     "name": "stdout",
     "output_type": "stream",
     "text": [
      "9 9 9\n"
     ]
    }
   ],
   "source": [
    "print(len(Name_3),(len(Team_3)),(len(Rate_3)))"
   ]
  },
  {
   "cell_type": "code",
   "execution_count": 72,
   "id": "36edab3b",
   "metadata": {},
   "outputs": [],
   "source": [
    "df2=pd.DataFrame({\"Bowler_Name\":Name_3,\"Team\":Team_3,\"Rating\":Rate_3})"
   ]
  },
  {
   "cell_type": "code",
   "execution_count": 73,
   "id": "944f66f0",
   "metadata": {},
   "outputs": [
    {
     "data": {
      "text/html": [
       "<div>\n",
       "<style scoped>\n",
       "    .dataframe tbody tr th:only-of-type {\n",
       "        vertical-align: middle;\n",
       "    }\n",
       "\n",
       "    .dataframe tbody tr th {\n",
       "        vertical-align: top;\n",
       "    }\n",
       "\n",
       "    .dataframe thead th {\n",
       "        text-align: right;\n",
       "    }\n",
       "</style>\n",
       "<table border=\"1\" class=\"dataframe\">\n",
       "  <thead>\n",
       "    <tr style=\"text-align: right;\">\n",
       "      <th></th>\n",
       "      <th>Bowler_Name</th>\n",
       "      <th>Team</th>\n",
       "      <th>Rating</th>\n",
       "    </tr>\n",
       "  </thead>\n",
       "  <tbody>\n",
       "    <tr>\n",
       "      <th>0</th>\n",
       "      <td>Jasprit Bumrah</td>\n",
       "      <td>IND</td>\n",
       "      <td>682</td>\n",
       "    </tr>\n",
       "    <tr>\n",
       "      <th>1</th>\n",
       "      <td>Shaheen Afridi</td>\n",
       "      <td>PAK</td>\n",
       "      <td>681</td>\n",
       "    </tr>\n",
       "    <tr>\n",
       "      <th>2</th>\n",
       "      <td>Josh Hazlewood</td>\n",
       "      <td>AUS</td>\n",
       "      <td>679</td>\n",
       "    </tr>\n",
       "    <tr>\n",
       "      <th>3</th>\n",
       "      <td>Mujeeb Ur Rahman</td>\n",
       "      <td>AFG</td>\n",
       "      <td>676</td>\n",
       "    </tr>\n",
       "    <tr>\n",
       "      <th>4</th>\n",
       "      <td>Mehedi Hasan</td>\n",
       "      <td>BAN</td>\n",
       "      <td>672</td>\n",
       "    </tr>\n",
       "    <tr>\n",
       "      <th>5</th>\n",
       "      <td>Matt Henry</td>\n",
       "      <td>NZ</td>\n",
       "      <td>663</td>\n",
       "    </tr>\n",
       "    <tr>\n",
       "      <th>6</th>\n",
       "      <td>Mohammad Nabi</td>\n",
       "      <td>AFG</td>\n",
       "      <td>657</td>\n",
       "    </tr>\n",
       "    <tr>\n",
       "      <th>7</th>\n",
       "      <td>Rashid Khan</td>\n",
       "      <td>AFG</td>\n",
       "      <td>651</td>\n",
       "    </tr>\n",
       "    <tr>\n",
       "      <th>8</th>\n",
       "      <td>Chris Woakes</td>\n",
       "      <td>ENG</td>\n",
       "      <td>640</td>\n",
       "    </tr>\n",
       "  </tbody>\n",
       "</table>\n",
       "</div>"
      ],
      "text/plain": [
       "        Bowler_Name Team Rating\n",
       "0    Jasprit Bumrah  IND    682\n",
       "1    Shaheen Afridi  PAK    681\n",
       "2    Josh Hazlewood  AUS    679\n",
       "3  Mujeeb Ur Rahman  AFG    676\n",
       "4      Mehedi Hasan  BAN    672\n",
       "5        Matt Henry   NZ    663\n",
       "6     Mohammad Nabi  AFG    657\n",
       "7       Rashid Khan  AFG    651\n",
       "8      Chris Woakes  ENG    640"
      ]
     },
     "execution_count": 73,
     "metadata": {},
     "output_type": "execute_result"
    }
   ],
   "source": [
    "df2"
   ]
  },
  {
   "cell_type": "code",
   "execution_count": 74,
   "id": "6657b8d7",
   "metadata": {},
   "outputs": [],
   "source": [
    "frame=[df,df2]"
   ]
  },
  {
   "cell_type": "code",
   "execution_count": 75,
   "id": "b988ec51",
   "metadata": {},
   "outputs": [],
   "source": [
    "finaldf_5c=pd.concat(frame,ignore_index=True)"
   ]
  },
  {
   "cell_type": "code",
   "execution_count": 76,
   "id": "8728219d",
   "metadata": {},
   "outputs": [
    {
     "data": {
      "text/html": [
       "<div>\n",
       "<style scoped>\n",
       "    .dataframe tbody tr th:only-of-type {\n",
       "        vertical-align: middle;\n",
       "    }\n",
       "\n",
       "    .dataframe tbody tr th {\n",
       "        vertical-align: top;\n",
       "    }\n",
       "\n",
       "    .dataframe thead th {\n",
       "        text-align: right;\n",
       "    }\n",
       "</style>\n",
       "<table border=\"1\" class=\"dataframe\">\n",
       "  <thead>\n",
       "    <tr style=\"text-align: right;\">\n",
       "      <th></th>\n",
       "      <th>Bowler_Name</th>\n",
       "      <th>Team</th>\n",
       "      <th>Rating</th>\n",
       "    </tr>\n",
       "  </thead>\n",
       "  <tbody>\n",
       "    <tr>\n",
       "      <th>0</th>\n",
       "      <td>Trent Boult</td>\n",
       "      <td>NZ</td>\n",
       "      <td>697</td>\n",
       "    </tr>\n",
       "    <tr>\n",
       "      <th>1</th>\n",
       "      <td>Jasprit Bumrah</td>\n",
       "      <td>IND</td>\n",
       "      <td>682</td>\n",
       "    </tr>\n",
       "    <tr>\n",
       "      <th>2</th>\n",
       "      <td>Shaheen Afridi</td>\n",
       "      <td>PAK</td>\n",
       "      <td>681</td>\n",
       "    </tr>\n",
       "    <tr>\n",
       "      <th>3</th>\n",
       "      <td>Josh Hazlewood</td>\n",
       "      <td>AUS</td>\n",
       "      <td>679</td>\n",
       "    </tr>\n",
       "    <tr>\n",
       "      <th>4</th>\n",
       "      <td>Mujeeb Ur Rahman</td>\n",
       "      <td>AFG</td>\n",
       "      <td>676</td>\n",
       "    </tr>\n",
       "    <tr>\n",
       "      <th>5</th>\n",
       "      <td>Mehedi Hasan</td>\n",
       "      <td>BAN</td>\n",
       "      <td>672</td>\n",
       "    </tr>\n",
       "    <tr>\n",
       "      <th>6</th>\n",
       "      <td>Matt Henry</td>\n",
       "      <td>NZ</td>\n",
       "      <td>663</td>\n",
       "    </tr>\n",
       "    <tr>\n",
       "      <th>7</th>\n",
       "      <td>Mohammad Nabi</td>\n",
       "      <td>AFG</td>\n",
       "      <td>657</td>\n",
       "    </tr>\n",
       "    <tr>\n",
       "      <th>8</th>\n",
       "      <td>Rashid Khan</td>\n",
       "      <td>AFG</td>\n",
       "      <td>651</td>\n",
       "    </tr>\n",
       "    <tr>\n",
       "      <th>9</th>\n",
       "      <td>Chris Woakes</td>\n",
       "      <td>ENG</td>\n",
       "      <td>640</td>\n",
       "    </tr>\n",
       "  </tbody>\n",
       "</table>\n",
       "</div>"
      ],
      "text/plain": [
       "        Bowler_Name Team Rating\n",
       "0       Trent Boult   NZ    697\n",
       "1    Jasprit Bumrah  IND    682\n",
       "2    Shaheen Afridi  PAK    681\n",
       "3    Josh Hazlewood  AUS    679\n",
       "4  Mujeeb Ur Rahman  AFG    676\n",
       "5      Mehedi Hasan  BAN    672\n",
       "6        Matt Henry   NZ    663\n",
       "7     Mohammad Nabi  AFG    657\n",
       "8       Rashid Khan  AFG    651\n",
       "9      Chris Woakes  ENG    640"
      ]
     },
     "execution_count": 76,
     "metadata": {},
     "output_type": "execute_result"
    }
   ],
   "source": [
    "finaldf_5c"
   ]
  },
  {
   "cell_type": "raw",
   "id": "6ae19df4",
   "metadata": {},
   "source": []
  },
  {
   "cell_type": "code",
   "execution_count": 77,
   "id": "dadc573b",
   "metadata": {},
   "outputs": [],
   "source": [
    "#Q6. Top 10 ODI teams in women’s cricket along with the records for matches, points and rating."
   ]
  },
  {
   "cell_type": "code",
   "execution_count": 78,
   "id": "f6c02ca2",
   "metadata": {},
   "outputs": [
    {
     "data": {
      "text/plain": [
       "<Response [200]>"
      ]
     },
     "execution_count": 78,
     "metadata": {},
     "output_type": "execute_result"
    }
   ],
   "source": [
    "from bs4 import BeautifulSoup\n",
    "import requests\n",
    "import pandas as pd\n",
    "\n",
    "page=requests.get(\"https://www.icc-cricket.com/rankings/womens/team-rankings/odi\")\n",
    "soup6=BeautifulSoup(page.content)\n",
    "page"
   ]
  },
  {
   "cell_type": "code",
   "execution_count": 79,
   "id": "7374f7fe",
   "metadata": {},
   "outputs": [],
   "source": [
    "Team=[]\n",
    "Rate=[]\n",
    "\n",
    "for i in soup6.find_all(\"span\",class_=\"u-hide-phablet\")[1:]:\n",
    "    Team.append(i.text.strip())\n",
    "\n",
    "for i in soup6.find_all(\"td\",class_=\"table-body__cell u-text-right rating\"):\n",
    "    Rate.append(i.text.strip())\n",
    "    "
   ]
  },
  {
   "cell_type": "code",
   "execution_count": 80,
   "id": "9bf0892f",
   "metadata": {},
   "outputs": [
    {
     "name": "stdout",
     "output_type": "stream",
     "text": [
      "['England', 'South Africa', 'India', 'New Zealand', 'West Indies', 'Bangladesh', 'Pakistan', 'Sri Lanka', 'Ireland', 'Zimbabwe'] \n",
      " ['123', '119', '101', '97', '92', '78', '65', '45', '44', '0']\n"
     ]
    }
   ],
   "source": [
    "print(Team,\"\\n\",Rate)"
   ]
  },
  {
   "cell_type": "code",
   "execution_count": 81,
   "id": "9e6979e5",
   "metadata": {},
   "outputs": [],
   "source": [
    "Match=[]\n",
    "for i in soup6.find_all(\"td\",class_=\"table-body__cell u-center-text\"):\n",
    "    Match.append(i.text.strip())"
   ]
  },
  {
   "cell_type": "code",
   "execution_count": 82,
   "id": "53e636b9",
   "metadata": {},
   "outputs": [
    {
     "name": "stdout",
     "output_type": "stream",
     "text": [
      "['33', '4,046', '35', '4,157', '32', '3,219', '31', '3,019', '30', '2,768', '12', '930', '30', '1,962', '11', '495', '8', '351', '8', '0']\n"
     ]
    }
   ],
   "source": [
    "print(Match)"
   ]
  },
  {
   "cell_type": "code",
   "execution_count": 83,
   "id": "3627d29f",
   "metadata": {},
   "outputs": [
    {
     "name": "stdout",
     "output_type": "stream",
     "text": [
      "['4,046', '4,157', '3,219', '3,019', '2,768', '930', '1,962', '495', '351', '0'] \n",
      " \n",
      " ['33', '35', '32', '31', '30', '12', '30', '11', '8', '8']\n"
     ]
    }
   ],
   "source": [
    "Points=[]\n",
    "for i in range(1,len(Match),2):\n",
    "    Points.append(Match[i])\n",
    "\n",
    "Matches=[]\n",
    "\n",
    "for i in range(0,len(Match),2):\n",
    "    Matches.append(Match[i])\n",
    "    \n",
    "print(Points,\"\\n \\n\",Matches)"
   ]
  },
  {
   "cell_type": "code",
   "execution_count": 84,
   "id": "cabe2e28",
   "metadata": {},
   "outputs": [
    {
     "name": "stdout",
     "output_type": "stream",
     "text": [
      "10 10 10 10\n"
     ]
    }
   ],
   "source": [
    "print(len(Team),len(Points),len(Matches),len(Rate))"
   ]
  },
  {
   "cell_type": "code",
   "execution_count": 85,
   "id": "292c9279",
   "metadata": {},
   "outputs": [],
   "source": [
    "df6_1a=pd.DataFrame({\"Team_Name\":Team,\"Matches\":Matches,\"Points\":Points,\"Rating\":Rate})"
   ]
  },
  {
   "cell_type": "code",
   "execution_count": 86,
   "id": "abf7ed82",
   "metadata": {},
   "outputs": [
    {
     "data": {
      "text/html": [
       "<div>\n",
       "<style scoped>\n",
       "    .dataframe tbody tr th:only-of-type {\n",
       "        vertical-align: middle;\n",
       "    }\n",
       "\n",
       "    .dataframe tbody tr th {\n",
       "        vertical-align: top;\n",
       "    }\n",
       "\n",
       "    .dataframe thead th {\n",
       "        text-align: right;\n",
       "    }\n",
       "</style>\n",
       "<table border=\"1\" class=\"dataframe\">\n",
       "  <thead>\n",
       "    <tr style=\"text-align: right;\">\n",
       "      <th></th>\n",
       "      <th>Team_Name</th>\n",
       "      <th>Matches</th>\n",
       "      <th>Points</th>\n",
       "      <th>Rating</th>\n",
       "    </tr>\n",
       "  </thead>\n",
       "  <tbody>\n",
       "    <tr>\n",
       "      <th>0</th>\n",
       "      <td>England</td>\n",
       "      <td>33</td>\n",
       "      <td>4,046</td>\n",
       "      <td>123</td>\n",
       "    </tr>\n",
       "    <tr>\n",
       "      <th>1</th>\n",
       "      <td>South Africa</td>\n",
       "      <td>35</td>\n",
       "      <td>4,157</td>\n",
       "      <td>119</td>\n",
       "    </tr>\n",
       "    <tr>\n",
       "      <th>2</th>\n",
       "      <td>India</td>\n",
       "      <td>32</td>\n",
       "      <td>3,219</td>\n",
       "      <td>101</td>\n",
       "    </tr>\n",
       "    <tr>\n",
       "      <th>3</th>\n",
       "      <td>New Zealand</td>\n",
       "      <td>31</td>\n",
       "      <td>3,019</td>\n",
       "      <td>97</td>\n",
       "    </tr>\n",
       "    <tr>\n",
       "      <th>4</th>\n",
       "      <td>West Indies</td>\n",
       "      <td>30</td>\n",
       "      <td>2,768</td>\n",
       "      <td>92</td>\n",
       "    </tr>\n",
       "    <tr>\n",
       "      <th>5</th>\n",
       "      <td>Bangladesh</td>\n",
       "      <td>12</td>\n",
       "      <td>930</td>\n",
       "      <td>78</td>\n",
       "    </tr>\n",
       "    <tr>\n",
       "      <th>6</th>\n",
       "      <td>Pakistan</td>\n",
       "      <td>30</td>\n",
       "      <td>1,962</td>\n",
       "      <td>65</td>\n",
       "    </tr>\n",
       "    <tr>\n",
       "      <th>7</th>\n",
       "      <td>Sri Lanka</td>\n",
       "      <td>11</td>\n",
       "      <td>495</td>\n",
       "      <td>45</td>\n",
       "    </tr>\n",
       "    <tr>\n",
       "      <th>8</th>\n",
       "      <td>Ireland</td>\n",
       "      <td>8</td>\n",
       "      <td>351</td>\n",
       "      <td>44</td>\n",
       "    </tr>\n",
       "    <tr>\n",
       "      <th>9</th>\n",
       "      <td>Zimbabwe</td>\n",
       "      <td>8</td>\n",
       "      <td>0</td>\n",
       "      <td>0</td>\n",
       "    </tr>\n",
       "  </tbody>\n",
       "</table>\n",
       "</div>"
      ],
      "text/plain": [
       "      Team_Name Matches Points Rating\n",
       "0       England      33  4,046    123\n",
       "1  South Africa      35  4,157    119\n",
       "2         India      32  3,219    101\n",
       "3   New Zealand      31  3,019     97\n",
       "4   West Indies      30  2,768     92\n",
       "5    Bangladesh      12    930     78\n",
       "6      Pakistan      30  1,962     65\n",
       "7     Sri Lanka      11    495     45\n",
       "8       Ireland       8    351     44\n",
       "9      Zimbabwe       8      0      0"
      ]
     },
     "execution_count": 86,
     "metadata": {},
     "output_type": "execute_result"
    }
   ],
   "source": [
    "df6_1a"
   ]
  },
  {
   "cell_type": "code",
   "execution_count": 87,
   "id": "4df22ca0",
   "metadata": {},
   "outputs": [],
   "source": [
    "team=[]\n",
    "match=[]\n",
    "point=[]\n",
    "rate=[]\n",
    "\n",
    "t=soup6.find(\"span\",class_=\"u-hide-phablet\")\n",
    "team.append(t.text.strip())\n",
    "\n",
    "m=soup6.find(\"td\",class_=\"rankings-block__banner--matches\")\n",
    "match.append(m.text.strip())\n",
    "\n",
    "p=soup6.find(\"td\",class_=\"rankings-block__banner--points\")\n",
    "point.append(p.text.strip())\n",
    "\n",
    "r=soup6.find(\"td\",class_=\"rankings-block__banner--rating u-text-right\")\n",
    "rate.append(r.text.strip())"
   ]
  },
  {
   "cell_type": "code",
   "execution_count": 88,
   "id": "86297e3e",
   "metadata": {},
   "outputs": [
    {
     "name": "stdout",
     "output_type": "stream",
     "text": [
      "['Australia'] ['29'] ['4,837'] ['167']\n"
     ]
    }
   ],
   "source": [
    "print(team,match,point,rate)"
   ]
  },
  {
   "cell_type": "code",
   "execution_count": 89,
   "id": "9e84e2d8",
   "metadata": {},
   "outputs": [],
   "source": [
    "df6_2a=pd.DataFrame({\"Team_Name\":team,\"Matches\":match,\"Points\":point,\"Rating\":rate})"
   ]
  },
  {
   "cell_type": "code",
   "execution_count": 90,
   "id": "b4cd8db8",
   "metadata": {},
   "outputs": [
    {
     "data": {
      "text/html": [
       "<div>\n",
       "<style scoped>\n",
       "    .dataframe tbody tr th:only-of-type {\n",
       "        vertical-align: middle;\n",
       "    }\n",
       "\n",
       "    .dataframe tbody tr th {\n",
       "        vertical-align: top;\n",
       "    }\n",
       "\n",
       "    .dataframe thead th {\n",
       "        text-align: right;\n",
       "    }\n",
       "</style>\n",
       "<table border=\"1\" class=\"dataframe\">\n",
       "  <thead>\n",
       "    <tr style=\"text-align: right;\">\n",
       "      <th></th>\n",
       "      <th>Team_Name</th>\n",
       "      <th>Matches</th>\n",
       "      <th>Points</th>\n",
       "      <th>Rating</th>\n",
       "    </tr>\n",
       "  </thead>\n",
       "  <tbody>\n",
       "    <tr>\n",
       "      <th>0</th>\n",
       "      <td>Australia</td>\n",
       "      <td>29</td>\n",
       "      <td>4,837</td>\n",
       "      <td>167</td>\n",
       "    </tr>\n",
       "  </tbody>\n",
       "</table>\n",
       "</div>"
      ],
      "text/plain": [
       "   Team_Name Matches Points Rating\n",
       "0  Australia      29  4,837    167"
      ]
     },
     "execution_count": 90,
     "metadata": {},
     "output_type": "execute_result"
    }
   ],
   "source": [
    "df6_2a"
   ]
  },
  {
   "cell_type": "code",
   "execution_count": 91,
   "id": "0549cc75",
   "metadata": {},
   "outputs": [],
   "source": [
    "frame=[df6_2a[0:],df6_1a[0:9]]"
   ]
  },
  {
   "cell_type": "code",
   "execution_count": 92,
   "id": "41c73a6f",
   "metadata": {},
   "outputs": [],
   "source": [
    "final_df6=pd.concat(frame,ignore_index=True)"
   ]
  },
  {
   "cell_type": "code",
   "execution_count": 93,
   "id": "f86b73e6",
   "metadata": {},
   "outputs": [
    {
     "data": {
      "text/html": [
       "<div>\n",
       "<style scoped>\n",
       "    .dataframe tbody tr th:only-of-type {\n",
       "        vertical-align: middle;\n",
       "    }\n",
       "\n",
       "    .dataframe tbody tr th {\n",
       "        vertical-align: top;\n",
       "    }\n",
       "\n",
       "    .dataframe thead th {\n",
       "        text-align: right;\n",
       "    }\n",
       "</style>\n",
       "<table border=\"1\" class=\"dataframe\">\n",
       "  <thead>\n",
       "    <tr style=\"text-align: right;\">\n",
       "      <th></th>\n",
       "      <th>Team_Name</th>\n",
       "      <th>Matches</th>\n",
       "      <th>Points</th>\n",
       "      <th>Rating</th>\n",
       "    </tr>\n",
       "  </thead>\n",
       "  <tbody>\n",
       "    <tr>\n",
       "      <th>0</th>\n",
       "      <td>Australia</td>\n",
       "      <td>29</td>\n",
       "      <td>4,837</td>\n",
       "      <td>167</td>\n",
       "    </tr>\n",
       "    <tr>\n",
       "      <th>1</th>\n",
       "      <td>England</td>\n",
       "      <td>33</td>\n",
       "      <td>4,046</td>\n",
       "      <td>123</td>\n",
       "    </tr>\n",
       "    <tr>\n",
       "      <th>2</th>\n",
       "      <td>South Africa</td>\n",
       "      <td>35</td>\n",
       "      <td>4,157</td>\n",
       "      <td>119</td>\n",
       "    </tr>\n",
       "    <tr>\n",
       "      <th>3</th>\n",
       "      <td>India</td>\n",
       "      <td>32</td>\n",
       "      <td>3,219</td>\n",
       "      <td>101</td>\n",
       "    </tr>\n",
       "    <tr>\n",
       "      <th>4</th>\n",
       "      <td>New Zealand</td>\n",
       "      <td>31</td>\n",
       "      <td>3,019</td>\n",
       "      <td>97</td>\n",
       "    </tr>\n",
       "    <tr>\n",
       "      <th>5</th>\n",
       "      <td>West Indies</td>\n",
       "      <td>30</td>\n",
       "      <td>2,768</td>\n",
       "      <td>92</td>\n",
       "    </tr>\n",
       "    <tr>\n",
       "      <th>6</th>\n",
       "      <td>Bangladesh</td>\n",
       "      <td>12</td>\n",
       "      <td>930</td>\n",
       "      <td>78</td>\n",
       "    </tr>\n",
       "    <tr>\n",
       "      <th>7</th>\n",
       "      <td>Pakistan</td>\n",
       "      <td>30</td>\n",
       "      <td>1,962</td>\n",
       "      <td>65</td>\n",
       "    </tr>\n",
       "    <tr>\n",
       "      <th>8</th>\n",
       "      <td>Sri Lanka</td>\n",
       "      <td>11</td>\n",
       "      <td>495</td>\n",
       "      <td>45</td>\n",
       "    </tr>\n",
       "    <tr>\n",
       "      <th>9</th>\n",
       "      <td>Ireland</td>\n",
       "      <td>8</td>\n",
       "      <td>351</td>\n",
       "      <td>44</td>\n",
       "    </tr>\n",
       "  </tbody>\n",
       "</table>\n",
       "</div>"
      ],
      "text/plain": [
       "      Team_Name Matches Points Rating\n",
       "0     Australia      29  4,837    167\n",
       "1       England      33  4,046    123\n",
       "2  South Africa      35  4,157    119\n",
       "3         India      32  3,219    101\n",
       "4   New Zealand      31  3,019     97\n",
       "5   West Indies      30  2,768     92\n",
       "6    Bangladesh      12    930     78\n",
       "7      Pakistan      30  1,962     65\n",
       "8     Sri Lanka      11    495     45\n",
       "9       Ireland       8    351     44"
      ]
     },
     "execution_count": 93,
     "metadata": {},
     "output_type": "execute_result"
    }
   ],
   "source": [
    "final_df6"
   ]
  },
  {
   "cell_type": "code",
   "execution_count": 94,
   "id": "196f59d1",
   "metadata": {},
   "outputs": [],
   "source": [
    "# 6B. Top 10 women’s ODI Batting players along with the records of their team and rating."
   ]
  },
  {
   "cell_type": "code",
   "execution_count": 95,
   "id": "5c30e7e3",
   "metadata": {},
   "outputs": [
    {
     "data": {
      "text/plain": [
       "<Response [200]>"
      ]
     },
     "execution_count": 95,
     "metadata": {},
     "output_type": "execute_result"
    }
   ],
   "source": [
    "page=requests.get(\"https://www.icc-cricket.com/rankings/womens/player-rankings/odi\")\n",
    "soup6b=BeautifulSoup(page.content)\n",
    "page"
   ]
  },
  {
   "cell_type": "code",
   "execution_count": 96,
   "id": "81766ca2",
   "metadata": {},
   "outputs": [],
   "source": [
    "Name=[]\n",
    "Team=[]\n",
    "Rate=[]\n",
    "\n",
    "name=soup6b.find('div',class_=\"rankings-block__banner--name\")\n",
    "Name.append(name.text.strip())\n",
    "\n",
    "team=soup6b.find('div',class_=\"rankings-block__banner--nationality\")\n",
    "Team.append(team.text.replace(\"\\n\",\"\")[:3])\n",
    "\n",
    "rate=soup6b.find('div',class_=\"rankings-block__banner--rating\")\n",
    "Rate.append(rate.text.strip())"
   ]
  },
  {
   "cell_type": "code",
   "execution_count": 97,
   "id": "0fc73e1a",
   "metadata": {},
   "outputs": [
    {
     "name": "stdout",
     "output_type": "stream",
     "text": [
      "['Alyssa Healy'] ['AUS'] ['785']\n"
     ]
    }
   ],
   "source": [
    "print(Name,Team,Rate)"
   ]
  },
  {
   "cell_type": "code",
   "execution_count": 98,
   "id": "d5c1fc19",
   "metadata": {},
   "outputs": [],
   "source": [
    "df6_1b=pd.DataFrame({\"Player_Name\":Name,\"Team\":Team,\"Rating\":Rate})"
   ]
  },
  {
   "cell_type": "code",
   "execution_count": 99,
   "id": "edb77453",
   "metadata": {},
   "outputs": [
    {
     "data": {
      "text/html": [
       "<div>\n",
       "<style scoped>\n",
       "    .dataframe tbody tr th:only-of-type {\n",
       "        vertical-align: middle;\n",
       "    }\n",
       "\n",
       "    .dataframe tbody tr th {\n",
       "        vertical-align: top;\n",
       "    }\n",
       "\n",
       "    .dataframe thead th {\n",
       "        text-align: right;\n",
       "    }\n",
       "</style>\n",
       "<table border=\"1\" class=\"dataframe\">\n",
       "  <thead>\n",
       "    <tr style=\"text-align: right;\">\n",
       "      <th></th>\n",
       "      <th>Player_Name</th>\n",
       "      <th>Team</th>\n",
       "      <th>Rating</th>\n",
       "    </tr>\n",
       "  </thead>\n",
       "  <tbody>\n",
       "    <tr>\n",
       "      <th>0</th>\n",
       "      <td>Alyssa Healy</td>\n",
       "      <td>AUS</td>\n",
       "      <td>785</td>\n",
       "    </tr>\n",
       "  </tbody>\n",
       "</table>\n",
       "</div>"
      ],
      "text/plain": [
       "    Player_Name Team Rating\n",
       "0  Alyssa Healy  AUS    785"
      ]
     },
     "execution_count": 99,
     "metadata": {},
     "output_type": "execute_result"
    }
   ],
   "source": [
    "df6_1b"
   ]
  },
  {
   "cell_type": "code",
   "execution_count": 100,
   "id": "c317c56d",
   "metadata": {},
   "outputs": [],
   "source": [
    "name=[]\n",
    "team=[]\n",
    "rate=[]\n",
    "\n",
    "for i in soup6b.find_all(\"td\",class_=\"table-body__cell name\")[:9]:\n",
    "    name.append(i.text.strip())\n",
    "\n",
    "for i in soup6b.find_all(\"span\",class_=\"table-body__logo-text\")[:9]:\n",
    "    team.append(i.text.strip())\n",
    "    \n",
    "for i in soup6b.find_all(\"td\",class_=\"table-body__cell u-text-right rating\")[:9]:\n",
    "    rate.append(i.text.strip())"
   ]
  },
  {
   "cell_type": "code",
   "execution_count": 101,
   "id": "361b0547",
   "metadata": {},
   "outputs": [
    {
     "name": "stdout",
     "output_type": "stream",
     "text": [
      "['Beth Mooney', 'Natalie Sciver', 'Laura Wolvaardt', 'Meg Lanning', 'Rachael Haynes', 'Amy Satterthwaite', 'Tammy Beaumont', 'Chamari Athapaththu', 'Smriti Mandhana'] \n",
      " \n",
      " ['AUS', 'ENG', 'SA', 'AUS', 'AUS', 'NZ', 'ENG', 'SL', 'IND'] \n",
      " \n",
      " ['749', '747', '732', '710', '701', '681', '667', '655', '649']\n"
     ]
    }
   ],
   "source": [
    "print(name,\"\\n \\n\",team,\"\\n \\n\",rate)"
   ]
  },
  {
   "cell_type": "code",
   "execution_count": 102,
   "id": "1e230407",
   "metadata": {},
   "outputs": [],
   "source": [
    "df6_2b=pd.DataFrame({\"Player_Name\":name,\"Team\":team,\"Rating\":rate})"
   ]
  },
  {
   "cell_type": "code",
   "execution_count": 103,
   "id": "b35a2abe",
   "metadata": {},
   "outputs": [
    {
     "data": {
      "text/html": [
       "<div>\n",
       "<style scoped>\n",
       "    .dataframe tbody tr th:only-of-type {\n",
       "        vertical-align: middle;\n",
       "    }\n",
       "\n",
       "    .dataframe tbody tr th {\n",
       "        vertical-align: top;\n",
       "    }\n",
       "\n",
       "    .dataframe thead th {\n",
       "        text-align: right;\n",
       "    }\n",
       "</style>\n",
       "<table border=\"1\" class=\"dataframe\">\n",
       "  <thead>\n",
       "    <tr style=\"text-align: right;\">\n",
       "      <th></th>\n",
       "      <th>Player_Name</th>\n",
       "      <th>Team</th>\n",
       "      <th>Rating</th>\n",
       "    </tr>\n",
       "  </thead>\n",
       "  <tbody>\n",
       "    <tr>\n",
       "      <th>0</th>\n",
       "      <td>Beth Mooney</td>\n",
       "      <td>AUS</td>\n",
       "      <td>749</td>\n",
       "    </tr>\n",
       "    <tr>\n",
       "      <th>1</th>\n",
       "      <td>Natalie Sciver</td>\n",
       "      <td>ENG</td>\n",
       "      <td>747</td>\n",
       "    </tr>\n",
       "    <tr>\n",
       "      <th>2</th>\n",
       "      <td>Laura Wolvaardt</td>\n",
       "      <td>SA</td>\n",
       "      <td>732</td>\n",
       "    </tr>\n",
       "    <tr>\n",
       "      <th>3</th>\n",
       "      <td>Meg Lanning</td>\n",
       "      <td>AUS</td>\n",
       "      <td>710</td>\n",
       "    </tr>\n",
       "    <tr>\n",
       "      <th>4</th>\n",
       "      <td>Rachael Haynes</td>\n",
       "      <td>AUS</td>\n",
       "      <td>701</td>\n",
       "    </tr>\n",
       "    <tr>\n",
       "      <th>5</th>\n",
       "      <td>Amy Satterthwaite</td>\n",
       "      <td>NZ</td>\n",
       "      <td>681</td>\n",
       "    </tr>\n",
       "    <tr>\n",
       "      <th>6</th>\n",
       "      <td>Tammy Beaumont</td>\n",
       "      <td>ENG</td>\n",
       "      <td>667</td>\n",
       "    </tr>\n",
       "    <tr>\n",
       "      <th>7</th>\n",
       "      <td>Chamari Athapaththu</td>\n",
       "      <td>SL</td>\n",
       "      <td>655</td>\n",
       "    </tr>\n",
       "    <tr>\n",
       "      <th>8</th>\n",
       "      <td>Smriti Mandhana</td>\n",
       "      <td>IND</td>\n",
       "      <td>649</td>\n",
       "    </tr>\n",
       "  </tbody>\n",
       "</table>\n",
       "</div>"
      ],
      "text/plain": [
       "           Player_Name Team Rating\n",
       "0          Beth Mooney  AUS    749\n",
       "1       Natalie Sciver  ENG    747\n",
       "2      Laura Wolvaardt   SA    732\n",
       "3          Meg Lanning  AUS    710\n",
       "4       Rachael Haynes  AUS    701\n",
       "5    Amy Satterthwaite   NZ    681\n",
       "6       Tammy Beaumont  ENG    667\n",
       "7  Chamari Athapaththu   SL    655\n",
       "8      Smriti Mandhana  IND    649"
      ]
     },
     "execution_count": 103,
     "metadata": {},
     "output_type": "execute_result"
    }
   ],
   "source": [
    "df6_2b"
   ]
  },
  {
   "cell_type": "code",
   "execution_count": 104,
   "id": "3b036723",
   "metadata": {},
   "outputs": [],
   "source": [
    "final_df6b=pd.concat([df6_1b,df6_2b],ignore_index=True)"
   ]
  },
  {
   "cell_type": "code",
   "execution_count": 105,
   "id": "29679dbc",
   "metadata": {},
   "outputs": [
    {
     "data": {
      "text/html": [
       "<div>\n",
       "<style scoped>\n",
       "    .dataframe tbody tr th:only-of-type {\n",
       "        vertical-align: middle;\n",
       "    }\n",
       "\n",
       "    .dataframe tbody tr th {\n",
       "        vertical-align: top;\n",
       "    }\n",
       "\n",
       "    .dataframe thead th {\n",
       "        text-align: right;\n",
       "    }\n",
       "</style>\n",
       "<table border=\"1\" class=\"dataframe\">\n",
       "  <thead>\n",
       "    <tr style=\"text-align: right;\">\n",
       "      <th></th>\n",
       "      <th>Player_Name</th>\n",
       "      <th>Team</th>\n",
       "      <th>Rating</th>\n",
       "    </tr>\n",
       "  </thead>\n",
       "  <tbody>\n",
       "    <tr>\n",
       "      <th>0</th>\n",
       "      <td>Alyssa Healy</td>\n",
       "      <td>AUS</td>\n",
       "      <td>785</td>\n",
       "    </tr>\n",
       "    <tr>\n",
       "      <th>1</th>\n",
       "      <td>Beth Mooney</td>\n",
       "      <td>AUS</td>\n",
       "      <td>749</td>\n",
       "    </tr>\n",
       "    <tr>\n",
       "      <th>2</th>\n",
       "      <td>Natalie Sciver</td>\n",
       "      <td>ENG</td>\n",
       "      <td>747</td>\n",
       "    </tr>\n",
       "    <tr>\n",
       "      <th>3</th>\n",
       "      <td>Laura Wolvaardt</td>\n",
       "      <td>SA</td>\n",
       "      <td>732</td>\n",
       "    </tr>\n",
       "    <tr>\n",
       "      <th>4</th>\n",
       "      <td>Meg Lanning</td>\n",
       "      <td>AUS</td>\n",
       "      <td>710</td>\n",
       "    </tr>\n",
       "    <tr>\n",
       "      <th>5</th>\n",
       "      <td>Rachael Haynes</td>\n",
       "      <td>AUS</td>\n",
       "      <td>701</td>\n",
       "    </tr>\n",
       "    <tr>\n",
       "      <th>6</th>\n",
       "      <td>Amy Satterthwaite</td>\n",
       "      <td>NZ</td>\n",
       "      <td>681</td>\n",
       "    </tr>\n",
       "    <tr>\n",
       "      <th>7</th>\n",
       "      <td>Tammy Beaumont</td>\n",
       "      <td>ENG</td>\n",
       "      <td>667</td>\n",
       "    </tr>\n",
       "    <tr>\n",
       "      <th>8</th>\n",
       "      <td>Chamari Athapaththu</td>\n",
       "      <td>SL</td>\n",
       "      <td>655</td>\n",
       "    </tr>\n",
       "    <tr>\n",
       "      <th>9</th>\n",
       "      <td>Smriti Mandhana</td>\n",
       "      <td>IND</td>\n",
       "      <td>649</td>\n",
       "    </tr>\n",
       "  </tbody>\n",
       "</table>\n",
       "</div>"
      ],
      "text/plain": [
       "           Player_Name Team Rating\n",
       "0         Alyssa Healy  AUS    785\n",
       "1          Beth Mooney  AUS    749\n",
       "2       Natalie Sciver  ENG    747\n",
       "3      Laura Wolvaardt   SA    732\n",
       "4          Meg Lanning  AUS    710\n",
       "5       Rachael Haynes  AUS    701\n",
       "6    Amy Satterthwaite   NZ    681\n",
       "7       Tammy Beaumont  ENG    667\n",
       "8  Chamari Athapaththu   SL    655\n",
       "9      Smriti Mandhana  IND    649"
      ]
     },
     "execution_count": 105,
     "metadata": {},
     "output_type": "execute_result"
    }
   ],
   "source": [
    "final_df6b"
   ]
  },
  {
   "cell_type": "code",
   "execution_count": 106,
   "id": "18ac996e",
   "metadata": {},
   "outputs": [
    {
     "data": {
      "text/plain": [
       "<Response [200]>"
      ]
     },
     "execution_count": 106,
     "metadata": {},
     "output_type": "execute_result"
    }
   ],
   "source": [
    "page=requests.get(\"https://www.icc-cricket.com/rankings/womens/player-rankings/odi/all-rounder\")\n",
    "soup6C=BeautifulSoup(page.content)\n",
    "page"
   ]
  },
  {
   "cell_type": "code",
   "execution_count": 107,
   "id": "bbf25638",
   "metadata": {},
   "outputs": [],
   "source": [
    "Name=[]\n",
    "Team=[]\n",
    "Rating=[]\n",
    "\n",
    "name=soup6C.find(\"div\",class_=\"rankings-block__banner--name-large\")\n",
    "Name.append(name.text)\n",
    "\n",
    "team=soup6C.find(\"div\",class_=\"rankings-block__banner--nationality\")\n",
    "Team.append(team.text.strip())\n",
    "\n",
    "rate=soup6C.find(\"div\",class_=\"rankings-block__banner--rating\")\n",
    "Rating.append(rate.text.strip())"
   ]
  },
  {
   "cell_type": "code",
   "execution_count": 108,
   "id": "6697451c",
   "metadata": {},
   "outputs": [
    {
     "data": {
      "text/html": [
       "<div>\n",
       "<style scoped>\n",
       "    .dataframe tbody tr th:only-of-type {\n",
       "        vertical-align: middle;\n",
       "    }\n",
       "\n",
       "    .dataframe tbody tr th {\n",
       "        vertical-align: top;\n",
       "    }\n",
       "\n",
       "    .dataframe thead th {\n",
       "        text-align: right;\n",
       "    }\n",
       "</style>\n",
       "<table border=\"1\" class=\"dataframe\">\n",
       "  <thead>\n",
       "    <tr style=\"text-align: right;\">\n",
       "      <th></th>\n",
       "      <th>All-rounder_Name</th>\n",
       "      <th>Team</th>\n",
       "      <th>Rating</th>\n",
       "    </tr>\n",
       "  </thead>\n",
       "  <tbody>\n",
       "    <tr>\n",
       "      <th>0</th>\n",
       "      <td>Natalie Sciver</td>\n",
       "      <td>ENG</td>\n",
       "      <td>379</td>\n",
       "    </tr>\n",
       "  </tbody>\n",
       "</table>\n",
       "</div>"
      ],
      "text/plain": [
       "  All-rounder_Name Team Rating\n",
       "0   Natalie Sciver  ENG    379"
      ]
     },
     "execution_count": 108,
     "metadata": {},
     "output_type": "execute_result"
    }
   ],
   "source": [
    "df=pd.DataFrame({\"All-rounder_Name\":Name,\"Team\":Team,\"Rating\":Rating})\n",
    "df"
   ]
  },
  {
   "cell_type": "code",
   "execution_count": 109,
   "id": "22c7f2f8",
   "metadata": {},
   "outputs": [],
   "source": [
    "Names=[]\n",
    "Teams=[]\n",
    "Ratings=[]\n",
    "\n",
    "for i in soup6C.find_all(\"td\",class_=\"table-body__cell rankings-table__name name\")[:12]:\n",
    "    Names.append(i.text.strip())\n",
    "\n",
    "for i in soup6C.find_all(\"span\",class_=\"table-body__logo-text\")[:12]:\n",
    "    Teams.append(i.text.strip())\n",
    "    \n",
    "for i in soup6C.find_all(\"td\",class_=\"table-body__cell rating\")[:12]:\n",
    "    Ratings.append(i.text.strip())"
   ]
  },
  {
   "cell_type": "code",
   "execution_count": 110,
   "id": "7dbe5be5",
   "metadata": {},
   "outputs": [
    {
     "name": "stdout",
     "output_type": "stream",
     "text": [
      "12 12 12\n"
     ]
    }
   ],
   "source": [
    "print(len(Names),len(Teams),len(Ratings))"
   ]
  },
  {
   "cell_type": "code",
   "execution_count": 111,
   "id": "be29d8fe",
   "metadata": {},
   "outputs": [
    {
     "data": {
      "text/html": [
       "<div>\n",
       "<style scoped>\n",
       "    .dataframe tbody tr th:only-of-type {\n",
       "        vertical-align: middle;\n",
       "    }\n",
       "\n",
       "    .dataframe tbody tr th {\n",
       "        vertical-align: top;\n",
       "    }\n",
       "\n",
       "    .dataframe thead th {\n",
       "        text-align: right;\n",
       "    }\n",
       "</style>\n",
       "<table border=\"1\" class=\"dataframe\">\n",
       "  <thead>\n",
       "    <tr style=\"text-align: right;\">\n",
       "      <th></th>\n",
       "      <th>All-rounder_Name</th>\n",
       "      <th>Team</th>\n",
       "      <th>Rating</th>\n",
       "    </tr>\n",
       "  </thead>\n",
       "  <tbody>\n",
       "    <tr>\n",
       "      <th>0</th>\n",
       "      <td>Ellyse Perry</td>\n",
       "      <td>AUS</td>\n",
       "      <td>374</td>\n",
       "    </tr>\n",
       "    <tr>\n",
       "      <th>1</th>\n",
       "      <td>Marizanne Kapp</td>\n",
       "      <td>SA</td>\n",
       "      <td>349</td>\n",
       "    </tr>\n",
       "    <tr>\n",
       "      <th>2</th>\n",
       "      <td>Hayley Matthews</td>\n",
       "      <td>WI</td>\n",
       "      <td>339</td>\n",
       "    </tr>\n",
       "    <tr>\n",
       "      <th>3</th>\n",
       "      <td>Amelia Kerr</td>\n",
       "      <td>NZ</td>\n",
       "      <td>336</td>\n",
       "    </tr>\n",
       "    <tr>\n",
       "      <th>4</th>\n",
       "      <td>Ashleigh Gardner</td>\n",
       "      <td>AUS</td>\n",
       "      <td>270</td>\n",
       "    </tr>\n",
       "    <tr>\n",
       "      <th>5</th>\n",
       "      <td>Deepti Sharma</td>\n",
       "      <td>IND</td>\n",
       "      <td>252</td>\n",
       "    </tr>\n",
       "    <tr>\n",
       "      <th>6</th>\n",
       "      <td>Jess Jonassen</td>\n",
       "      <td>AUS</td>\n",
       "      <td>246</td>\n",
       "    </tr>\n",
       "    <tr>\n",
       "      <th>7</th>\n",
       "      <td>Katherine Brunt</td>\n",
       "      <td>ENG</td>\n",
       "      <td>220</td>\n",
       "    </tr>\n",
       "    <tr>\n",
       "      <th>8</th>\n",
       "      <td>Stafanie Taylor</td>\n",
       "      <td>WI</td>\n",
       "      <td>207</td>\n",
       "    </tr>\n",
       "    <tr>\n",
       "      <th>9</th>\n",
       "      <td>Jhulan Goswami</td>\n",
       "      <td>IND</td>\n",
       "      <td>205</td>\n",
       "    </tr>\n",
       "    <tr>\n",
       "      <th>10</th>\n",
       "      <td>Sophie Ecclestone</td>\n",
       "      <td>ENG</td>\n",
       "      <td>202</td>\n",
       "    </tr>\n",
       "    <tr>\n",
       "      <th>11</th>\n",
       "      <td>Sophie Devine</td>\n",
       "      <td>NZ</td>\n",
       "      <td>202</td>\n",
       "    </tr>\n",
       "  </tbody>\n",
       "</table>\n",
       "</div>"
      ],
      "text/plain": [
       "     All-rounder_Name Team Rating\n",
       "0        Ellyse Perry  AUS    374\n",
       "1      Marizanne Kapp   SA    349\n",
       "2     Hayley Matthews   WI    339\n",
       "3         Amelia Kerr   NZ    336\n",
       "4    Ashleigh Gardner  AUS    270\n",
       "5       Deepti Sharma  IND    252\n",
       "6       Jess Jonassen  AUS    246\n",
       "7     Katherine Brunt  ENG    220\n",
       "8     Stafanie Taylor   WI    207\n",
       "9      Jhulan Goswami  IND    205\n",
       "10  Sophie Ecclestone  ENG    202\n",
       "11      Sophie Devine   NZ    202"
      ]
     },
     "execution_count": 111,
     "metadata": {},
     "output_type": "execute_result"
    }
   ],
   "source": [
    "df1=pd.DataFrame({\"All-rounder_Name\":Names,\"Team\":Teams,\"Rating\":Ratings})\n",
    "df1"
   ]
  },
  {
   "cell_type": "code",
   "execution_count": 112,
   "id": "6e474204",
   "metadata": {},
   "outputs": [],
   "source": [
    "final_df=pd.concat([df[:1],df1[:9]],ignore_index=True)"
   ]
  },
  {
   "cell_type": "code",
   "execution_count": 113,
   "id": "682b7737",
   "metadata": {},
   "outputs": [
    {
     "data": {
      "text/html": [
       "<div>\n",
       "<style scoped>\n",
       "    .dataframe tbody tr th:only-of-type {\n",
       "        vertical-align: middle;\n",
       "    }\n",
       "\n",
       "    .dataframe tbody tr th {\n",
       "        vertical-align: top;\n",
       "    }\n",
       "\n",
       "    .dataframe thead th {\n",
       "        text-align: right;\n",
       "    }\n",
       "</style>\n",
       "<table border=\"1\" class=\"dataframe\">\n",
       "  <thead>\n",
       "    <tr style=\"text-align: right;\">\n",
       "      <th></th>\n",
       "      <th>All-rounder_Name</th>\n",
       "      <th>Team</th>\n",
       "      <th>Rating</th>\n",
       "    </tr>\n",
       "  </thead>\n",
       "  <tbody>\n",
       "    <tr>\n",
       "      <th>0</th>\n",
       "      <td>Natalie Sciver</td>\n",
       "      <td>ENG</td>\n",
       "      <td>379</td>\n",
       "    </tr>\n",
       "    <tr>\n",
       "      <th>1</th>\n",
       "      <td>Ellyse Perry</td>\n",
       "      <td>AUS</td>\n",
       "      <td>374</td>\n",
       "    </tr>\n",
       "    <tr>\n",
       "      <th>2</th>\n",
       "      <td>Marizanne Kapp</td>\n",
       "      <td>SA</td>\n",
       "      <td>349</td>\n",
       "    </tr>\n",
       "    <tr>\n",
       "      <th>3</th>\n",
       "      <td>Hayley Matthews</td>\n",
       "      <td>WI</td>\n",
       "      <td>339</td>\n",
       "    </tr>\n",
       "    <tr>\n",
       "      <th>4</th>\n",
       "      <td>Amelia Kerr</td>\n",
       "      <td>NZ</td>\n",
       "      <td>336</td>\n",
       "    </tr>\n",
       "    <tr>\n",
       "      <th>5</th>\n",
       "      <td>Ashleigh Gardner</td>\n",
       "      <td>AUS</td>\n",
       "      <td>270</td>\n",
       "    </tr>\n",
       "    <tr>\n",
       "      <th>6</th>\n",
       "      <td>Deepti Sharma</td>\n",
       "      <td>IND</td>\n",
       "      <td>252</td>\n",
       "    </tr>\n",
       "    <tr>\n",
       "      <th>7</th>\n",
       "      <td>Jess Jonassen</td>\n",
       "      <td>AUS</td>\n",
       "      <td>246</td>\n",
       "    </tr>\n",
       "    <tr>\n",
       "      <th>8</th>\n",
       "      <td>Katherine Brunt</td>\n",
       "      <td>ENG</td>\n",
       "      <td>220</td>\n",
       "    </tr>\n",
       "    <tr>\n",
       "      <th>9</th>\n",
       "      <td>Stafanie Taylor</td>\n",
       "      <td>WI</td>\n",
       "      <td>207</td>\n",
       "    </tr>\n",
       "  </tbody>\n",
       "</table>\n",
       "</div>"
      ],
      "text/plain": [
       "   All-rounder_Name Team Rating\n",
       "0    Natalie Sciver  ENG    379\n",
       "1      Ellyse Perry  AUS    374\n",
       "2    Marizanne Kapp   SA    349\n",
       "3   Hayley Matthews   WI    339\n",
       "4       Amelia Kerr   NZ    336\n",
       "5  Ashleigh Gardner  AUS    270\n",
       "6     Deepti Sharma  IND    252\n",
       "7     Jess Jonassen  AUS    246\n",
       "8   Katherine Brunt  ENG    220\n",
       "9   Stafanie Taylor   WI    207"
      ]
     },
     "execution_count": 113,
     "metadata": {},
     "output_type": "execute_result"
    }
   ],
   "source": [
    "final_df"
   ]
  },
  {
   "cell_type": "raw",
   "id": "2dd07c61",
   "metadata": {},
   "source": []
  },
  {
   "cell_type": "raw",
   "id": "92f4eade",
   "metadata": {},
   "source": [
    "7) Write a python program to scrape mentioned news details from https://www.cnbc.com/world/?region=world :\n",
    "i) Headline\n",
    "ii) Time\n",
    "iii) News Link"
   ]
  },
  {
   "cell_type": "code",
   "execution_count": 114,
   "id": "9e00cacd",
   "metadata": {},
   "outputs": [
    {
     "name": "stdout",
     "output_type": "stream",
     "text": [
      "<Response [200]>\n"
     ]
    }
   ],
   "source": [
    "import requests\n",
    "from bs4 import BeautifulSoup\n",
    "import pandas as pd\n",
    "page=requests.get(\"https://www.cnbc.com/world/?region=world\")\n",
    "soup=BeautifulSoup(page.content, \"html.parser\")\n",
    "print(page)\n",
    "\n",
    "Headline=[]\n",
    "\n",
    "for i in soup.find_all(\"div\",class_=\"LatestNews-container\"):\n",
    "    Headline.append((i.find(\"a\").text.strip()).replace(\" ''\",\"\"))\n",
    "Time=[]\n",
    "\n",
    "for i in soup.find_all(\"time\",class_=\"LatestNews-timestamp\"):\n",
    "    Time.append(i.text.strip())\n",
    "\n",
    "Link=[]\n",
    "\n",
    "for i in soup.find_all(\"div\",class_=\"LatestNews-container\"):\n",
    "    Link.append(i.find(\"a\").get(\"href\").strip(''))"
   ]
  },
  {
   "cell_type": "code",
   "execution_count": 115,
   "id": "5891afd9",
   "metadata": {},
   "outputs": [
    {
     "name": "stdout",
     "output_type": "stream",
     "text": [
      "30 30 30\n"
     ]
    }
   ],
   "source": [
    "print(len(Headline),len(Time),len(Link))"
   ]
  },
  {
   "cell_type": "code",
   "execution_count": 116,
   "id": "e26c7816",
   "metadata": {},
   "outputs": [],
   "source": [
    "df=pd.DataFrame({\"Headlines\":Headline[0:30],\"Time\":Time[0:30],\"News_Link\":Link[0:30]})"
   ]
  },
  {
   "cell_type": "code",
   "execution_count": 117,
   "id": "3b5b3536",
   "metadata": {},
   "outputs": [
    {
     "data": {
      "text/html": [
       "<div>\n",
       "<style scoped>\n",
       "    .dataframe tbody tr th:only-of-type {\n",
       "        vertical-align: middle;\n",
       "    }\n",
       "\n",
       "    .dataframe tbody tr th {\n",
       "        vertical-align: top;\n",
       "    }\n",
       "\n",
       "    .dataframe thead th {\n",
       "        text-align: right;\n",
       "    }\n",
       "</style>\n",
       "<table border=\"1\" class=\"dataframe\">\n",
       "  <thead>\n",
       "    <tr style=\"text-align: right;\">\n",
       "      <th></th>\n",
       "      <th>Headlines</th>\n",
       "      <th>Time</th>\n",
       "      <th>News_Link</th>\n",
       "    </tr>\n",
       "  </thead>\n",
       "  <tbody>\n",
       "    <tr>\n",
       "      <th>0</th>\n",
       "      <td>The best and worst places to live in the world...</td>\n",
       "      <td>2 Hours Ago</td>\n",
       "      <td>https://www.cnbc.com/2022/08/07/global-liveabi...</td>\n",
       "    </tr>\n",
       "    <tr>\n",
       "      <th>1</th>\n",
       "      <td>George Clooney had tequila, Ryan Reynolds gin....</td>\n",
       "      <td>4 Hours Ago</td>\n",
       "      <td>https://www.cnbc.com/2022/08/07/george-clooney...</td>\n",
       "    </tr>\n",
       "    <tr>\n",
       "      <th>2</th>\n",
       "      <td>9 corporate leaders share their best hacks for...</td>\n",
       "      <td>4 Hours Ago</td>\n",
       "      <td>https://www.cnbc.com/2022/08/07/9-busy-people-...</td>\n",
       "    </tr>\n",
       "    <tr>\n",
       "      <th>3</th>\n",
       "      <td>Bethenny Frankel: The most successful people h...</td>\n",
       "      <td>5 Hours Ago</td>\n",
       "      <td>https://www.cnbc.com/2022/08/07/bethenny-frank...</td>\n",
       "    </tr>\n",
       "    <tr>\n",
       "      <th>4</th>\n",
       "      <td>The 7 states with the least credit card debt</td>\n",
       "      <td>5 Hours Ago</td>\n",
       "      <td>https://www.cnbc.com/2022/08/07/states-with-th...</td>\n",
       "    </tr>\n",
       "    <tr>\n",
       "      <th>5</th>\n",
       "      <td></td>\n",
       "      <td>5 Hours Ago</td>\n",
       "      <td>/pro/</td>\n",
       "    </tr>\n",
       "    <tr>\n",
       "      <th>6</th>\n",
       "      <td></td>\n",
       "      <td>5 Hours Ago</td>\n",
       "      <td>/pro/</td>\n",
       "    </tr>\n",
       "    <tr>\n",
       "      <th>7</th>\n",
       "      <td></td>\n",
       "      <td>5 Hours Ago</td>\n",
       "      <td>/pro/</td>\n",
       "    </tr>\n",
       "    <tr>\n",
       "      <th>8</th>\n",
       "      <td>Some consumers are cutting back on restaurant ...</td>\n",
       "      <td>6 Hours Ago</td>\n",
       "      <td>https://www.cnbc.com/2022/08/07/consumers-are-...</td>\n",
       "    </tr>\n",
       "    <tr>\n",
       "      <th>9</th>\n",
       "      <td>Climate change is making some homes to costly ...</td>\n",
       "      <td>6 Hours Ago</td>\n",
       "      <td>https://www.cnbc.com/2022/08/07/climate-change...</td>\n",
       "    </tr>\n",
       "    <tr>\n",
       "      <th>10</th>\n",
       "      <td>Why creating a horror movie haven on Netflix m...</td>\n",
       "      <td>7 Hours Ago</td>\n",
       "      <td>https://www.cnbc.com/2022/08/07/netflix-may-be...</td>\n",
       "    </tr>\n",
       "    <tr>\n",
       "      <th>11</th>\n",
       "      <td>Elon Musk challenges Twitter CEO Parag Agrawal...</td>\n",
       "      <td>21 Hours Ago</td>\n",
       "      <td>https://www.cnbc.com/2022/08/06/elon-musk-chal...</td>\n",
       "    </tr>\n",
       "    <tr>\n",
       "      <th>12</th>\n",
       "      <td>Large Indiana employers Eli Lilly and Cummins ...</td>\n",
       "      <td>22 Hours Ago</td>\n",
       "      <td>https://www.cnbc.com/2022/08/06/eli-lilly-says...</td>\n",
       "    </tr>\n",
       "    <tr>\n",
       "      <th>13</th>\n",
       "      <td>Czech prince raises $300,000 in NFTs to restor...</td>\n",
       "      <td>August 6, 2022</td>\n",
       "      <td>https://www.cnbc.com/2022/08/06/27-year-old-bo...</td>\n",
       "    </tr>\n",
       "    <tr>\n",
       "      <th>14</th>\n",
       "      <td>President Joe Biden tests negative for Covid-1...</td>\n",
       "      <td>August 6, 2022</td>\n",
       "      <td>https://www.cnbc.com/2022/08/06/president-joe-...</td>\n",
       "    </tr>\n",
       "    <tr>\n",
       "      <th>15</th>\n",
       "      <td>Fed Governor Bowman sees 'similarly sized' int...</td>\n",
       "      <td>August 6, 2022</td>\n",
       "      <td>https://www.cnbc.com/2022/08/06/fed-governor-b...</td>\n",
       "    </tr>\n",
       "    <tr>\n",
       "      <th>16</th>\n",
       "      <td>This 39-year-old makes $160K/month in passive ...</td>\n",
       "      <td>August 6, 2022</td>\n",
       "      <td>https://www.cnbc.com/2022/08/06/this-39-year-o...</td>\n",
       "    </tr>\n",
       "    <tr>\n",
       "      <th>17</th>\n",
       "      <td></td>\n",
       "      <td>August 6, 2022</td>\n",
       "      <td>/pro/</td>\n",
       "    </tr>\n",
       "    <tr>\n",
       "      <th>18</th>\n",
       "      <td>5 tips for cutting down on credit card costs a...</td>\n",
       "      <td>August 6, 2022</td>\n",
       "      <td>https://www.cnbc.com/2022/08/06/how-to-curb-cr...</td>\n",
       "    </tr>\n",
       "    <tr>\n",
       "      <th>19</th>\n",
       "      <td>This 41-year-old left the U.S. for Bangkok and...</td>\n",
       "      <td>August 6, 2022</td>\n",
       "      <td>https://www.cnbc.com/2022/08/06/this-digital-n...</td>\n",
       "    </tr>\n",
       "    <tr>\n",
       "      <th>20</th>\n",
       "      <td></td>\n",
       "      <td>August 6, 2022</td>\n",
       "      <td>/pro/</td>\n",
       "    </tr>\n",
       "    <tr>\n",
       "      <th>21</th>\n",
       "      <td>Here's why getting fired from a job you hate c...</td>\n",
       "      <td>August 6, 2022</td>\n",
       "      <td>https://www.cnbc.com/2022/08/06/therapist-gett...</td>\n",
       "    </tr>\n",
       "    <tr>\n",
       "      <th>22</th>\n",
       "      <td>'Stressed out' STD clinics struggle with surge...</td>\n",
       "      <td>August 6, 2022</td>\n",
       "      <td>https://www.cnbc.com/2022/08/06/monkeypox-std-...</td>\n",
       "    </tr>\n",
       "    <tr>\n",
       "      <th>23</th>\n",
       "      <td>Want to build generational wealth? Avoid these...</td>\n",
       "      <td>August 6, 2022</td>\n",
       "      <td>https://www.cnbc.com/2022/08/06/building-gener...</td>\n",
       "    </tr>\n",
       "    <tr>\n",
       "      <th>24</th>\n",
       "      <td></td>\n",
       "      <td>August 6, 2022</td>\n",
       "      <td>/pro/</td>\n",
       "    </tr>\n",
       "    <tr>\n",
       "      <th>25</th>\n",
       "      <td></td>\n",
       "      <td>August 6, 2022</td>\n",
       "      <td>/pro/</td>\n",
       "    </tr>\n",
       "    <tr>\n",
       "      <th>26</th>\n",
       "      <td>Berkshire reports operating earnings surge, bu...</td>\n",
       "      <td>August 6, 2022</td>\n",
       "      <td>https://www.cnbc.com/2022/08/06/berkshire-hath...</td>\n",
       "    </tr>\n",
       "    <tr>\n",
       "      <th>27</th>\n",
       "      <td>Why the best states for business may be the wo...</td>\n",
       "      <td>August 6, 2022</td>\n",
       "      <td>https://www.cnbc.com/2022/08/06/state-worker-p...</td>\n",
       "    </tr>\n",
       "    <tr>\n",
       "      <th>28</th>\n",
       "      <td>Higher prices, skimpier portions and apps — ho...</td>\n",
       "      <td>August 6, 2022</td>\n",
       "      <td>https://www.cnbc.com/2022/08/06/higher-prices-...</td>\n",
       "    </tr>\n",
       "    <tr>\n",
       "      <th>29</th>\n",
       "      <td>What to know before 'unretiring' if you're on ...</td>\n",
       "      <td>August 6, 2022</td>\n",
       "      <td>https://www.cnbc.com/2022/08/06/social-securit...</td>\n",
       "    </tr>\n",
       "  </tbody>\n",
       "</table>\n",
       "</div>"
      ],
      "text/plain": [
       "                                            Headlines            Time  \\\n",
       "0   The best and worst places to live in the world...     2 Hours Ago   \n",
       "1   George Clooney had tequila, Ryan Reynolds gin....     4 Hours Ago   \n",
       "2   9 corporate leaders share their best hacks for...     4 Hours Ago   \n",
       "3   Bethenny Frankel: The most successful people h...     5 Hours Ago   \n",
       "4        The 7 states with the least credit card debt     5 Hours Ago   \n",
       "5                                                         5 Hours Ago   \n",
       "6                                                         5 Hours Ago   \n",
       "7                                                         5 Hours Ago   \n",
       "8   Some consumers are cutting back on restaurant ...     6 Hours Ago   \n",
       "9   Climate change is making some homes to costly ...     6 Hours Ago   \n",
       "10  Why creating a horror movie haven on Netflix m...     7 Hours Ago   \n",
       "11  Elon Musk challenges Twitter CEO Parag Agrawal...    21 Hours Ago   \n",
       "12  Large Indiana employers Eli Lilly and Cummins ...    22 Hours Ago   \n",
       "13  Czech prince raises $300,000 in NFTs to restor...  August 6, 2022   \n",
       "14  President Joe Biden tests negative for Covid-1...  August 6, 2022   \n",
       "15  Fed Governor Bowman sees 'similarly sized' int...  August 6, 2022   \n",
       "16  This 39-year-old makes $160K/month in passive ...  August 6, 2022   \n",
       "17                                                     August 6, 2022   \n",
       "18  5 tips for cutting down on credit card costs a...  August 6, 2022   \n",
       "19  This 41-year-old left the U.S. for Bangkok and...  August 6, 2022   \n",
       "20                                                     August 6, 2022   \n",
       "21  Here's why getting fired from a job you hate c...  August 6, 2022   \n",
       "22  'Stressed out' STD clinics struggle with surge...  August 6, 2022   \n",
       "23  Want to build generational wealth? Avoid these...  August 6, 2022   \n",
       "24                                                     August 6, 2022   \n",
       "25                                                     August 6, 2022   \n",
       "26  Berkshire reports operating earnings surge, bu...  August 6, 2022   \n",
       "27  Why the best states for business may be the wo...  August 6, 2022   \n",
       "28  Higher prices, skimpier portions and apps — ho...  August 6, 2022   \n",
       "29  What to know before 'unretiring' if you're on ...  August 6, 2022   \n",
       "\n",
       "                                            News_Link  \n",
       "0   https://www.cnbc.com/2022/08/07/global-liveabi...  \n",
       "1   https://www.cnbc.com/2022/08/07/george-clooney...  \n",
       "2   https://www.cnbc.com/2022/08/07/9-busy-people-...  \n",
       "3   https://www.cnbc.com/2022/08/07/bethenny-frank...  \n",
       "4   https://www.cnbc.com/2022/08/07/states-with-th...  \n",
       "5                                               /pro/  \n",
       "6                                               /pro/  \n",
       "7                                               /pro/  \n",
       "8   https://www.cnbc.com/2022/08/07/consumers-are-...  \n",
       "9   https://www.cnbc.com/2022/08/07/climate-change...  \n",
       "10  https://www.cnbc.com/2022/08/07/netflix-may-be...  \n",
       "11  https://www.cnbc.com/2022/08/06/elon-musk-chal...  \n",
       "12  https://www.cnbc.com/2022/08/06/eli-lilly-says...  \n",
       "13  https://www.cnbc.com/2022/08/06/27-year-old-bo...  \n",
       "14  https://www.cnbc.com/2022/08/06/president-joe-...  \n",
       "15  https://www.cnbc.com/2022/08/06/fed-governor-b...  \n",
       "16  https://www.cnbc.com/2022/08/06/this-39-year-o...  \n",
       "17                                              /pro/  \n",
       "18  https://www.cnbc.com/2022/08/06/how-to-curb-cr...  \n",
       "19  https://www.cnbc.com/2022/08/06/this-digital-n...  \n",
       "20                                              /pro/  \n",
       "21  https://www.cnbc.com/2022/08/06/therapist-gett...  \n",
       "22  https://www.cnbc.com/2022/08/06/monkeypox-std-...  \n",
       "23  https://www.cnbc.com/2022/08/06/building-gener...  \n",
       "24                                              /pro/  \n",
       "25                                              /pro/  \n",
       "26  https://www.cnbc.com/2022/08/06/berkshire-hath...  \n",
       "27  https://www.cnbc.com/2022/08/06/state-worker-p...  \n",
       "28  https://www.cnbc.com/2022/08/06/higher-prices-...  \n",
       "29  https://www.cnbc.com/2022/08/06/social-securit...  "
      ]
     },
     "execution_count": 117,
     "metadata": {},
     "output_type": "execute_result"
    }
   ],
   "source": [
    "df"
   ]
  },
  {
   "cell_type": "raw",
   "id": "de3d8ea1",
   "metadata": {},
   "source": [
    "Write a python program to scrape the details of most downloaded articles from AI in last 90 days.\n",
    "\n",
    "https://www.journals.elsevier.com/artificial-intelligence/most-downloaded-articles\n",
    "Scrape below mentioned details :\n",
    "\n",
    "i) Paper Title\n",
    "ii) Authors\n",
    "iii) Published Date\n",
    "iv) Paper URL"
   ]
  },
  {
   "cell_type": "code",
   "execution_count": 118,
   "id": "cc70a376",
   "metadata": {},
   "outputs": [
    {
     "data": {
      "text/plain": [
       "<Response [200]>"
      ]
     },
     "execution_count": 118,
     "metadata": {},
     "output_type": "execute_result"
    }
   ],
   "source": [
    "import requests\n",
    "from bs4 import BeautifulSoup\n",
    "import pandas as pd\n",
    "\n",
    "page=requests.get(\"https://www.journals.elsevier.com/artificial-intelligence/most-downloaded-articles\")\n",
    "soup8=BeautifulSoup(page.content,\"html.parser\")\n",
    "page"
   ]
  },
  {
   "cell_type": "code",
   "execution_count": 119,
   "id": "c05592b3",
   "metadata": {},
   "outputs": [
    {
     "data": {
      "text/plain": [
       "['Reward is enough',\n",
       " 'Making sense of raw input',\n",
       " 'Law and logic: A review from an argumentation perspective',\n",
       " 'Creativity and artificial intelligence',\n",
       " 'Artificial cognition for social human–robot interaction: An implementation',\n",
       " 'Explanation in artificial intelligence: Insights from the social sciences',\n",
       " 'Making sense of sensory input',\n",
       " 'Conflict-based search for optimal multi-agent pathfinding',\n",
       " 'Between MDPs and semi-MDPs: A framework for temporal abstraction in reinforcement learning',\n",
       " 'The Hanabi challenge: A new frontier for AI research',\n",
       " 'Evaluating XAI: A comparison of rule-based and example-based explanations',\n",
       " 'Argumentation in artificial intelligence',\n",
       " 'Algorithms for computing strategies in two-player simultaneous move games',\n",
       " 'Multiple object tracking: A literature review',\n",
       " 'Selection of relevant features and examples in machine learning',\n",
       " 'A survey of inverse reinforcement learning: Challenges, methods and progress',\n",
       " 'Explaining individual predictions when features are dependent: More accurate approximations to Shapley values',\n",
       " 'A review of possible effects of cognitive biases on interpretation of rule-based machine learning models',\n",
       " 'Integrating social power into the decision-making of cognitive agents',\n",
       " \"“That's (not) the output I expected!” On the role of end user expectations in creating explanations of AI systems\",\n",
       " 'Explaining black-box classifiers using post-hoc explanations-by-example: The effect of explanations and error-rates in XAI user studies',\n",
       " 'Algorithm runtime prediction: Methods & evaluation',\n",
       " 'Wrappers for feature subset selection',\n",
       " 'Commonsense visual sensemaking for autonomous driving – On generalised neurosymbolic online abduction integrating vision and semantics',\n",
       " 'Quantum computation, quantum theory and AI']"
      ]
     },
     "execution_count": 119,
     "metadata": {},
     "output_type": "execute_result"
    }
   ],
   "source": [
    "PaperTitle=[]\n",
    "\n",
    "for i in soup8.find_all(\"h2\",class_=\"sc-1qrq3sd-1 MKjKb sc-1nmom32-0 sc-1nmom32-1 hqhUYH ebTA-dR\"):\n",
    "    PaperTitle.append(i.text.strip())\n",
    "PaperTitle\n"
   ]
  },
  {
   "cell_type": "code",
   "execution_count": 120,
   "id": "84fed981",
   "metadata": {},
   "outputs": [
    {
     "data": {
      "text/plain": [
       "['Silver, David, Singh, Satinder, Precup, Doina, Sutton, Richard S.',\n",
       " 'Evans, Richard, Bošnjak, Matko and 5 more',\n",
       " 'Prakken, Henry, Sartor, Giovanni',\n",
       " 'Boden, Margaret A.',\n",
       " 'Lemaignan, Séverin, Warnier, Mathieu and 3 more',\n",
       " 'Miller, Tim',\n",
       " 'Evans, Richard, Hernández-Orallo, José and 3 more',\n",
       " 'Sharon, Guni, Stern, Roni, Felner, Ariel, Sturtevant, Nathan R.',\n",
       " 'Sutton, Richard S., Precup, Doina, Singh, Satinder',\n",
       " 'Bard, Nolan, Foerster, Jakob N. and 13 more',\n",
       " 'van der Waa, Jasper, Nieuwburg, Elisabeth, Cremers, Anita, Neerincx, Mark',\n",
       " 'Bench-Capon, T.J.M., Dunne, Paul E.',\n",
       " 'Bošanský, Branislav, Lisý, Viliam and 3 more',\n",
       " 'Luo, Wenhan, Xing, Junliang and 4 more',\n",
       " 'Blum, Avrim L., Langley, Pat',\n",
       " 'Arora, Saurabh, Doshi, Prashant',\n",
       " 'Aas, Kjersti, Jullum, Martin, Løland, Anders',\n",
       " 'Kliegr, Tomáš, Bahník, Štěpán, Fürnkranz, Johannes',\n",
       " 'Pereira, Gonçalo, Prada, Rui, Santos, Pedro A.',\n",
       " 'Riveiro, Maria, Thill, Serge',\n",
       " 'Kenny, Eoin M., Ford, Courtney, Quinn, Molly, Keane, Mark T.',\n",
       " 'Hutter, Frank, Xu, Lin, Hoos, Holger H., Leyton-Brown, Kevin',\n",
       " 'Kohavi, Ron, John, George H.',\n",
       " 'Suchan, Jakob, Bhatt, Mehul, Varadarajan, Srikrishna',\n",
       " 'Ying, Mingsheng']"
      ]
     },
     "execution_count": 120,
     "metadata": {},
     "output_type": "execute_result"
    }
   ],
   "source": [
    "Authors=[]\n",
    "\n",
    "for i in soup8.find_all(\"p\",class_=\"sc-1thf9ly-0 sc-1thf9ly-1 ljBYfY bIzabL\"):\n",
    "    Authors.append(i.find(\"span\").text.strip())\n",
    "Authors"
   ]
  },
  {
   "cell_type": "code",
   "execution_count": 121,
   "id": "bb2e22a6",
   "metadata": {},
   "outputs": [
    {
     "data": {
      "text/plain": [
       "['October 2021',\n",
       " 'October 2021',\n",
       " 'October 2015',\n",
       " 'August 1998',\n",
       " 'June 2017',\n",
       " 'February 2019',\n",
       " 'April 2021',\n",
       " 'February 2015',\n",
       " 'August 1999',\n",
       " 'March 2020',\n",
       " 'February 2021',\n",
       " 'October 2007',\n",
       " 'August 2016',\n",
       " 'April 2021',\n",
       " 'December 1997',\n",
       " 'August 2021',\n",
       " 'September 2021',\n",
       " 'June 2021',\n",
       " 'December 2016',\n",
       " 'September 2021',\n",
       " 'May 2021',\n",
       " 'January 2014',\n",
       " 'December 1997',\n",
       " 'October 2021',\n",
       " 'February 2010']"
      ]
     },
     "execution_count": 121,
     "metadata": {},
     "output_type": "execute_result"
    }
   ],
   "source": [
    "Published=[]\n",
    "\n",
    "for i in soup8.find_all(\"span\",class_=\"sc-1thf9ly-2 bKddwo\"):\n",
    "    Published.append(i.text)\n",
    "    \n",
    "Published"
   ]
  },
  {
   "cell_type": "code",
   "execution_count": 122,
   "id": "09d758ae",
   "metadata": {},
   "outputs": [
    {
     "data": {
      "text/plain": [
       "['https://www.sciencedirect.com/science/article/pii/S0004370221000862',\n",
       " 'https://www.sciencedirect.com/science/article/pii/S0004370221000722',\n",
       " 'https://www.sciencedirect.com/science/article/pii/S0004370215000910',\n",
       " 'https://www.sciencedirect.com/science/article/pii/S0004370298000551',\n",
       " 'https://www.sciencedirect.com/science/article/pii/S0004370216300790',\n",
       " 'https://www.sciencedirect.com/science/article/pii/S0004370218305988',\n",
       " 'https://www.sciencedirect.com/science/article/pii/S0004370220301855',\n",
       " 'https://www.sciencedirect.com/science/article/pii/S0004370214001386',\n",
       " 'https://www.sciencedirect.com/science/article/pii/S0004370299000521',\n",
       " 'https://www.sciencedirect.com/science/article/pii/S0004370219300116',\n",
       " 'https://www.sciencedirect.com/science/article/pii/S0004370220301533',\n",
       " 'https://www.sciencedirect.com/science/article/pii/S0004370207000793',\n",
       " 'https://www.sciencedirect.com/science/article/pii/S0004370216300285',\n",
       " 'https://www.sciencedirect.com/science/article/pii/S0004370220301958',\n",
       " 'https://www.sciencedirect.com/science/article/pii/S0004370297000635',\n",
       " 'https://www.sciencedirect.com/science/article/pii/S0004370221000515',\n",
       " 'https://www.sciencedirect.com/science/article/pii/S0004370221000539',\n",
       " 'https://www.sciencedirect.com/science/article/pii/S0004370221000096',\n",
       " 'https://www.sciencedirect.com/science/article/pii/S0004370216300868',\n",
       " 'https://www.sciencedirect.com/science/article/pii/S0004370221000588',\n",
       " 'https://www.sciencedirect.com/science/article/pii/S0004370221000102',\n",
       " 'https://www.sciencedirect.com/science/article/pii/S0004370213001082',\n",
       " 'https://www.sciencedirect.com/science/article/pii/S000437029700043X',\n",
       " 'https://www.sciencedirect.com/science/article/pii/S0004370221000734',\n",
       " 'https://www.sciencedirect.com/science/article/pii/S0004370209001398']"
      ]
     },
     "execution_count": 122,
     "metadata": {},
     "output_type": "execute_result"
    }
   ],
   "source": [
    "P_link=[]\n",
    "\n",
    "for i in soup8.find_all(\"li\",class_=\"sc-9zxyh7-1 sc-9zxyh7-2 exAXfr jQmQZp\"):\n",
    "    P_link.append(i.find(\"a\").get(\"href\"))\n",
    "P_link"
   ]
  },
  {
   "cell_type": "code",
   "execution_count": 123,
   "id": "4b80bf9c",
   "metadata": {},
   "outputs": [
    {
     "name": "stdout",
     "output_type": "stream",
     "text": [
      "25 25 25 25\n"
     ]
    }
   ],
   "source": [
    "print(len(PaperTitle),len(Authors),len(Published),len(P_link))"
   ]
  },
  {
   "cell_type": "code",
   "execution_count": 124,
   "id": "f752ccc2",
   "metadata": {},
   "outputs": [],
   "source": [
    "df=pd.DataFrame({ \"Paper Title\":PaperTitle,\"Authors\":Authors,\"Published Date\": Published,\"Paper URL\": P_link})"
   ]
  },
  {
   "cell_type": "code",
   "execution_count": 125,
   "id": "f646d56e",
   "metadata": {},
   "outputs": [
    {
     "data": {
      "text/html": [
       "<div>\n",
       "<style scoped>\n",
       "    .dataframe tbody tr th:only-of-type {\n",
       "        vertical-align: middle;\n",
       "    }\n",
       "\n",
       "    .dataframe tbody tr th {\n",
       "        vertical-align: top;\n",
       "    }\n",
       "\n",
       "    .dataframe thead th {\n",
       "        text-align: right;\n",
       "    }\n",
       "</style>\n",
       "<table border=\"1\" class=\"dataframe\">\n",
       "  <thead>\n",
       "    <tr style=\"text-align: right;\">\n",
       "      <th></th>\n",
       "      <th>Paper Title</th>\n",
       "      <th>Authors</th>\n",
       "      <th>Published Date</th>\n",
       "      <th>Paper URL</th>\n",
       "    </tr>\n",
       "  </thead>\n",
       "  <tbody>\n",
       "    <tr>\n",
       "      <th>0</th>\n",
       "      <td>Reward is enough</td>\n",
       "      <td>Silver, David, Singh, Satinder, Precup, Doina,...</td>\n",
       "      <td>October 2021</td>\n",
       "      <td>https://www.sciencedirect.com/science/article/...</td>\n",
       "    </tr>\n",
       "    <tr>\n",
       "      <th>1</th>\n",
       "      <td>Making sense of raw input</td>\n",
       "      <td>Evans, Richard, Bošnjak, Matko and 5 more</td>\n",
       "      <td>October 2021</td>\n",
       "      <td>https://www.sciencedirect.com/science/article/...</td>\n",
       "    </tr>\n",
       "    <tr>\n",
       "      <th>2</th>\n",
       "      <td>Law and logic: A review from an argumentation ...</td>\n",
       "      <td>Prakken, Henry, Sartor, Giovanni</td>\n",
       "      <td>October 2015</td>\n",
       "      <td>https://www.sciencedirect.com/science/article/...</td>\n",
       "    </tr>\n",
       "    <tr>\n",
       "      <th>3</th>\n",
       "      <td>Creativity and artificial intelligence</td>\n",
       "      <td>Boden, Margaret A.</td>\n",
       "      <td>August 1998</td>\n",
       "      <td>https://www.sciencedirect.com/science/article/...</td>\n",
       "    </tr>\n",
       "    <tr>\n",
       "      <th>4</th>\n",
       "      <td>Artificial cognition for social human–robot in...</td>\n",
       "      <td>Lemaignan, Séverin, Warnier, Mathieu and 3 more</td>\n",
       "      <td>June 2017</td>\n",
       "      <td>https://www.sciencedirect.com/science/article/...</td>\n",
       "    </tr>\n",
       "    <tr>\n",
       "      <th>5</th>\n",
       "      <td>Explanation in artificial intelligence: Insigh...</td>\n",
       "      <td>Miller, Tim</td>\n",
       "      <td>February 2019</td>\n",
       "      <td>https://www.sciencedirect.com/science/article/...</td>\n",
       "    </tr>\n",
       "    <tr>\n",
       "      <th>6</th>\n",
       "      <td>Making sense of sensory input</td>\n",
       "      <td>Evans, Richard, Hernández-Orallo, José and 3 more</td>\n",
       "      <td>April 2021</td>\n",
       "      <td>https://www.sciencedirect.com/science/article/...</td>\n",
       "    </tr>\n",
       "    <tr>\n",
       "      <th>7</th>\n",
       "      <td>Conflict-based search for optimal multi-agent ...</td>\n",
       "      <td>Sharon, Guni, Stern, Roni, Felner, Ariel, Stur...</td>\n",
       "      <td>February 2015</td>\n",
       "      <td>https://www.sciencedirect.com/science/article/...</td>\n",
       "    </tr>\n",
       "    <tr>\n",
       "      <th>8</th>\n",
       "      <td>Between MDPs and semi-MDPs: A framework for te...</td>\n",
       "      <td>Sutton, Richard S., Precup, Doina, Singh, Sati...</td>\n",
       "      <td>August 1999</td>\n",
       "      <td>https://www.sciencedirect.com/science/article/...</td>\n",
       "    </tr>\n",
       "    <tr>\n",
       "      <th>9</th>\n",
       "      <td>The Hanabi challenge: A new frontier for AI re...</td>\n",
       "      <td>Bard, Nolan, Foerster, Jakob N. and 13 more</td>\n",
       "      <td>March 2020</td>\n",
       "      <td>https://www.sciencedirect.com/science/article/...</td>\n",
       "    </tr>\n",
       "    <tr>\n",
       "      <th>10</th>\n",
       "      <td>Evaluating XAI: A comparison of rule-based and...</td>\n",
       "      <td>van der Waa, Jasper, Nieuwburg, Elisabeth, Cre...</td>\n",
       "      <td>February 2021</td>\n",
       "      <td>https://www.sciencedirect.com/science/article/...</td>\n",
       "    </tr>\n",
       "    <tr>\n",
       "      <th>11</th>\n",
       "      <td>Argumentation in artificial intelligence</td>\n",
       "      <td>Bench-Capon, T.J.M., Dunne, Paul E.</td>\n",
       "      <td>October 2007</td>\n",
       "      <td>https://www.sciencedirect.com/science/article/...</td>\n",
       "    </tr>\n",
       "    <tr>\n",
       "      <th>12</th>\n",
       "      <td>Algorithms for computing strategies in two-pla...</td>\n",
       "      <td>Bošanský, Branislav, Lisý, Viliam and 3 more</td>\n",
       "      <td>August 2016</td>\n",
       "      <td>https://www.sciencedirect.com/science/article/...</td>\n",
       "    </tr>\n",
       "    <tr>\n",
       "      <th>13</th>\n",
       "      <td>Multiple object tracking: A literature review</td>\n",
       "      <td>Luo, Wenhan, Xing, Junliang and 4 more</td>\n",
       "      <td>April 2021</td>\n",
       "      <td>https://www.sciencedirect.com/science/article/...</td>\n",
       "    </tr>\n",
       "    <tr>\n",
       "      <th>14</th>\n",
       "      <td>Selection of relevant features and examples in...</td>\n",
       "      <td>Blum, Avrim L., Langley, Pat</td>\n",
       "      <td>December 1997</td>\n",
       "      <td>https://www.sciencedirect.com/science/article/...</td>\n",
       "    </tr>\n",
       "    <tr>\n",
       "      <th>15</th>\n",
       "      <td>A survey of inverse reinforcement learning: Ch...</td>\n",
       "      <td>Arora, Saurabh, Doshi, Prashant</td>\n",
       "      <td>August 2021</td>\n",
       "      <td>https://www.sciencedirect.com/science/article/...</td>\n",
       "    </tr>\n",
       "    <tr>\n",
       "      <th>16</th>\n",
       "      <td>Explaining individual predictions when feature...</td>\n",
       "      <td>Aas, Kjersti, Jullum, Martin, Løland, Anders</td>\n",
       "      <td>September 2021</td>\n",
       "      <td>https://www.sciencedirect.com/science/article/...</td>\n",
       "    </tr>\n",
       "    <tr>\n",
       "      <th>17</th>\n",
       "      <td>A review of possible effects of cognitive bias...</td>\n",
       "      <td>Kliegr, Tomáš, Bahník, Štěpán, Fürnkranz, Joha...</td>\n",
       "      <td>June 2021</td>\n",
       "      <td>https://www.sciencedirect.com/science/article/...</td>\n",
       "    </tr>\n",
       "    <tr>\n",
       "      <th>18</th>\n",
       "      <td>Integrating social power into the decision-mak...</td>\n",
       "      <td>Pereira, Gonçalo, Prada, Rui, Santos, Pedro A.</td>\n",
       "      <td>December 2016</td>\n",
       "      <td>https://www.sciencedirect.com/science/article/...</td>\n",
       "    </tr>\n",
       "    <tr>\n",
       "      <th>19</th>\n",
       "      <td>“That's (not) the output I expected!” On the r...</td>\n",
       "      <td>Riveiro, Maria, Thill, Serge</td>\n",
       "      <td>September 2021</td>\n",
       "      <td>https://www.sciencedirect.com/science/article/...</td>\n",
       "    </tr>\n",
       "    <tr>\n",
       "      <th>20</th>\n",
       "      <td>Explaining black-box classifiers using post-ho...</td>\n",
       "      <td>Kenny, Eoin M., Ford, Courtney, Quinn, Molly, ...</td>\n",
       "      <td>May 2021</td>\n",
       "      <td>https://www.sciencedirect.com/science/article/...</td>\n",
       "    </tr>\n",
       "    <tr>\n",
       "      <th>21</th>\n",
       "      <td>Algorithm runtime prediction: Methods &amp; evalua...</td>\n",
       "      <td>Hutter, Frank, Xu, Lin, Hoos, Holger H., Leyto...</td>\n",
       "      <td>January 2014</td>\n",
       "      <td>https://www.sciencedirect.com/science/article/...</td>\n",
       "    </tr>\n",
       "    <tr>\n",
       "      <th>22</th>\n",
       "      <td>Wrappers for feature subset selection</td>\n",
       "      <td>Kohavi, Ron, John, George H.</td>\n",
       "      <td>December 1997</td>\n",
       "      <td>https://www.sciencedirect.com/science/article/...</td>\n",
       "    </tr>\n",
       "    <tr>\n",
       "      <th>23</th>\n",
       "      <td>Commonsense visual sensemaking for autonomous ...</td>\n",
       "      <td>Suchan, Jakob, Bhatt, Mehul, Varadarajan, Srik...</td>\n",
       "      <td>October 2021</td>\n",
       "      <td>https://www.sciencedirect.com/science/article/...</td>\n",
       "    </tr>\n",
       "    <tr>\n",
       "      <th>24</th>\n",
       "      <td>Quantum computation, quantum theory and AI</td>\n",
       "      <td>Ying, Mingsheng</td>\n",
       "      <td>February 2010</td>\n",
       "      <td>https://www.sciencedirect.com/science/article/...</td>\n",
       "    </tr>\n",
       "  </tbody>\n",
       "</table>\n",
       "</div>"
      ],
      "text/plain": [
       "                                          Paper Title  \\\n",
       "0                                    Reward is enough   \n",
       "1                           Making sense of raw input   \n",
       "2   Law and logic: A review from an argumentation ...   \n",
       "3              Creativity and artificial intelligence   \n",
       "4   Artificial cognition for social human–robot in...   \n",
       "5   Explanation in artificial intelligence: Insigh...   \n",
       "6                       Making sense of sensory input   \n",
       "7   Conflict-based search for optimal multi-agent ...   \n",
       "8   Between MDPs and semi-MDPs: A framework for te...   \n",
       "9   The Hanabi challenge: A new frontier for AI re...   \n",
       "10  Evaluating XAI: A comparison of rule-based and...   \n",
       "11           Argumentation in artificial intelligence   \n",
       "12  Algorithms for computing strategies in two-pla...   \n",
       "13      Multiple object tracking: A literature review   \n",
       "14  Selection of relevant features and examples in...   \n",
       "15  A survey of inverse reinforcement learning: Ch...   \n",
       "16  Explaining individual predictions when feature...   \n",
       "17  A review of possible effects of cognitive bias...   \n",
       "18  Integrating social power into the decision-mak...   \n",
       "19  “That's (not) the output I expected!” On the r...   \n",
       "20  Explaining black-box classifiers using post-ho...   \n",
       "21  Algorithm runtime prediction: Methods & evalua...   \n",
       "22              Wrappers for feature subset selection   \n",
       "23  Commonsense visual sensemaking for autonomous ...   \n",
       "24         Quantum computation, quantum theory and AI   \n",
       "\n",
       "                                              Authors  Published Date  \\\n",
       "0   Silver, David, Singh, Satinder, Precup, Doina,...    October 2021   \n",
       "1           Evans, Richard, Bošnjak, Matko and 5 more    October 2021   \n",
       "2                    Prakken, Henry, Sartor, Giovanni    October 2015   \n",
       "3                                  Boden, Margaret A.     August 1998   \n",
       "4     Lemaignan, Séverin, Warnier, Mathieu and 3 more       June 2017   \n",
       "5                                         Miller, Tim   February 2019   \n",
       "6   Evans, Richard, Hernández-Orallo, José and 3 more      April 2021   \n",
       "7   Sharon, Guni, Stern, Roni, Felner, Ariel, Stur...   February 2015   \n",
       "8   Sutton, Richard S., Precup, Doina, Singh, Sati...     August 1999   \n",
       "9         Bard, Nolan, Foerster, Jakob N. and 13 more      March 2020   \n",
       "10  van der Waa, Jasper, Nieuwburg, Elisabeth, Cre...   February 2021   \n",
       "11                Bench-Capon, T.J.M., Dunne, Paul E.    October 2007   \n",
       "12       Bošanský, Branislav, Lisý, Viliam and 3 more     August 2016   \n",
       "13             Luo, Wenhan, Xing, Junliang and 4 more      April 2021   \n",
       "14                       Blum, Avrim L., Langley, Pat   December 1997   \n",
       "15                    Arora, Saurabh, Doshi, Prashant     August 2021   \n",
       "16       Aas, Kjersti, Jullum, Martin, Løland, Anders  September 2021   \n",
       "17  Kliegr, Tomáš, Bahník, Štěpán, Fürnkranz, Joha...       June 2021   \n",
       "18     Pereira, Gonçalo, Prada, Rui, Santos, Pedro A.   December 2016   \n",
       "19                       Riveiro, Maria, Thill, Serge  September 2021   \n",
       "20  Kenny, Eoin M., Ford, Courtney, Quinn, Molly, ...        May 2021   \n",
       "21  Hutter, Frank, Xu, Lin, Hoos, Holger H., Leyto...    January 2014   \n",
       "22                       Kohavi, Ron, John, George H.   December 1997   \n",
       "23  Suchan, Jakob, Bhatt, Mehul, Varadarajan, Srik...    October 2021   \n",
       "24                                    Ying, Mingsheng   February 2010   \n",
       "\n",
       "                                            Paper URL  \n",
       "0   https://www.sciencedirect.com/science/article/...  \n",
       "1   https://www.sciencedirect.com/science/article/...  \n",
       "2   https://www.sciencedirect.com/science/article/...  \n",
       "3   https://www.sciencedirect.com/science/article/...  \n",
       "4   https://www.sciencedirect.com/science/article/...  \n",
       "5   https://www.sciencedirect.com/science/article/...  \n",
       "6   https://www.sciencedirect.com/science/article/...  \n",
       "7   https://www.sciencedirect.com/science/article/...  \n",
       "8   https://www.sciencedirect.com/science/article/...  \n",
       "9   https://www.sciencedirect.com/science/article/...  \n",
       "10  https://www.sciencedirect.com/science/article/...  \n",
       "11  https://www.sciencedirect.com/science/article/...  \n",
       "12  https://www.sciencedirect.com/science/article/...  \n",
       "13  https://www.sciencedirect.com/science/article/...  \n",
       "14  https://www.sciencedirect.com/science/article/...  \n",
       "15  https://www.sciencedirect.com/science/article/...  \n",
       "16  https://www.sciencedirect.com/science/article/...  \n",
       "17  https://www.sciencedirect.com/science/article/...  \n",
       "18  https://www.sciencedirect.com/science/article/...  \n",
       "19  https://www.sciencedirect.com/science/article/...  \n",
       "20  https://www.sciencedirect.com/science/article/...  \n",
       "21  https://www.sciencedirect.com/science/article/...  \n",
       "22  https://www.sciencedirect.com/science/article/...  \n",
       "23  https://www.sciencedirect.com/science/article/...  \n",
       "24  https://www.sciencedirect.com/science/article/...  "
      ]
     },
     "execution_count": 125,
     "metadata": {},
     "output_type": "execute_result"
    }
   ],
   "source": [
    "df"
   ]
  },
  {
   "cell_type": "code",
   "execution_count": 126,
   "id": "9e0206da",
   "metadata": {},
   "outputs": [
    {
     "data": {
      "text/plain": [
       "<Response [200]>"
      ]
     },
     "execution_count": 126,
     "metadata": {},
     "output_type": "execute_result"
    }
   ],
   "source": [
    "import requests\n",
    "from bs4 import BeautifulSoup\n",
    "import pandas as pd\n",
    "\n",
    "page=requests.get(\"https://www.dineout.co.in/kolkata-restaurants?loc=Kolkata\")\n",
    "soup=BeautifulSoup(page.content)\n",
    "page"
   ]
  },
  {
   "cell_type": "code",
   "execution_count": 127,
   "id": "c883fd3c",
   "metadata": {},
   "outputs": [],
   "source": [
    "Restaurant=[]\n",
    "Location=[]\n",
    "Ratings=[]\n",
    "Image=[]\n",
    "\n",
    "for i in soup.find_all(\"div\",class_=\"restnt-info cursor\"):\n",
    "    Restaurant.append(i.find(\"a\").text.split('(')[0])"
   ]
  },
  {
   "cell_type": "code",
   "execution_count": 128,
   "id": "a7c80930",
   "metadata": {},
   "outputs": [],
   "source": [
    "for i in soup.find_all(\"div\",class_=\"restnt-loc ellipsis\"):\n",
    "    Location.append(i.find(\"a\").text.strip(\"(\"))"
   ]
  },
  {
   "cell_type": "code",
   "execution_count": 129,
   "id": "c9b08bdc",
   "metadata": {},
   "outputs": [],
   "source": [
    "Cuisine=[]\n",
    "for i in soup.find_all(\"span\",class_=\"double-line-ellipsis\"):\n",
    "    Cuisine.append((i.text.strip()[23:]).replace(\"|\",\"\"))"
   ]
  },
  {
   "cell_type": "code",
   "execution_count": 130,
   "id": "19944821",
   "metadata": {},
   "outputs": [],
   "source": [
    "for i in soup.find_all(\"div\",class_=\"restnt-rating rating-4\"):\n",
    "    Ratings.append(i.text)"
   ]
  },
  {
   "cell_type": "code",
   "execution_count": 131,
   "id": "248c65dd",
   "metadata": {},
   "outputs": [],
   "source": [
    "for i in soup.find_all(\"img\",class_=\"no-img\"):\n",
    "    Image.append(i[\"data-src\"])"
   ]
  },
  {
   "cell_type": "code",
   "execution_count": 132,
   "id": "04567383",
   "metadata": {},
   "outputs": [],
   "source": [
    "rate=soup.find(\"div\",class_=\"restnt-rating rating-5\")\n",
    "Ratings.insert(5,rate.text)"
   ]
  },
  {
   "cell_type": "code",
   "execution_count": 133,
   "id": "53a5a60d",
   "metadata": {},
   "outputs": [],
   "source": [
    "rate=soup.find(\"div\",class_=\"restnt-rating rating-5\")\n",
    "Ratings.insert(20,rate.text)"
   ]
  },
  {
   "cell_type": "code",
   "execution_count": 134,
   "id": "e3099c87",
   "metadata": {},
   "outputs": [
    {
     "name": "stdout",
     "output_type": "stream",
     "text": [
      "21 21 21 21\n"
     ]
    }
   ],
   "source": [
    "print(len(Restaurant),len(Location),len(Ratings),len(Image))"
   ]
  },
  {
   "cell_type": "code",
   "execution_count": 135,
   "id": "c3a2c237",
   "metadata": {},
   "outputs": [
    {
     "data": {
      "text/html": [
       "<div>\n",
       "<style scoped>\n",
       "    .dataframe tbody tr th:only-of-type {\n",
       "        vertical-align: middle;\n",
       "    }\n",
       "\n",
       "    .dataframe tbody tr th {\n",
       "        vertical-align: top;\n",
       "    }\n",
       "\n",
       "    .dataframe thead th {\n",
       "        text-align: right;\n",
       "    }\n",
       "</style>\n",
       "<table border=\"1\" class=\"dataframe\">\n",
       "  <thead>\n",
       "    <tr style=\"text-align: right;\">\n",
       "      <th></th>\n",
       "      <th>Restaurants</th>\n",
       "      <th>Cuisines</th>\n",
       "      <th>Locations</th>\n",
       "      <th>Ratings</th>\n",
       "      <th>Image_URL</th>\n",
       "    </tr>\n",
       "  </thead>\n",
       "  <tbody>\n",
       "    <tr>\n",
       "      <th>0</th>\n",
       "      <td>Zobet</td>\n",
       "      <td>Modern Indian, Sushi, Fast Food, Asian</td>\n",
       "      <td>Fort Knox Mall,</td>\n",
       "      <td>4.4</td>\n",
       "      <td>https://im1.dineout.co.in/images/uploads/resta...</td>\n",
       "    </tr>\n",
       "    <tr>\n",
       "      <th>1</th>\n",
       "      <td>Pawan Putra</td>\n",
       "      <td>Chinese, North Indian, Continental</td>\n",
       "      <td>Kankurgachhi</td>\n",
       "      <td>4.2</td>\n",
       "      <td>https://im1.dineout.co.in/images/uploads/resta...</td>\n",
       "    </tr>\n",
       "    <tr>\n",
       "      <th>2</th>\n",
       "      <td>Jungle Safari</td>\n",
       "      <td>North Indian, Italian</td>\n",
       "      <td>Mani Square,</td>\n",
       "      <td>4.3</td>\n",
       "      <td>https://im1.dineout.co.in/images/uploads/resta...</td>\n",
       "    </tr>\n",
       "    <tr>\n",
       "      <th>3</th>\n",
       "      <td>Zaairah</td>\n",
       "      <td>North Indian, Chinese, Italian</td>\n",
       "      <td>Salt Lake</td>\n",
       "      <td>4.2</td>\n",
       "      <td>https://im1.dineout.co.in/images/uploads/resta...</td>\n",
       "    </tr>\n",
       "    <tr>\n",
       "      <th>4</th>\n",
       "      <td>Caafe 360 Degree</td>\n",
       "      <td>Fast Food, Chinese, Italian</td>\n",
       "      <td>Kankurgachhi</td>\n",
       "      <td>4.4</td>\n",
       "      <td>https://im1.dineout.co.in/images/uploads/resta...</td>\n",
       "    </tr>\n",
       "    <tr>\n",
       "      <th>5</th>\n",
       "      <td>Fly Kouzina</td>\n",
       "      <td>North Indian, Chinese, Continental</td>\n",
       "      <td>Salt Lake</td>\n",
       "      <td>4.5</td>\n",
       "      <td>https://im1.dineout.co.in/images/uploads/resta...</td>\n",
       "    </tr>\n",
       "    <tr>\n",
       "      <th>6</th>\n",
       "      <td>K Local</td>\n",
       "      <td>Finger Food, North Indian, Fast Food</td>\n",
       "      <td>City Centre 1,</td>\n",
       "      <td>4</td>\n",
       "      <td>https://im1.dineout.co.in/images/uploads/resta...</td>\n",
       "    </tr>\n",
       "    <tr>\n",
       "      <th>7</th>\n",
       "      <td>Goofys Cafe</td>\n",
       "      <td>North Indian, Chinese, Italian, Continental, ...</td>\n",
       "      <td>Maniktala</td>\n",
       "      <td>4.4</td>\n",
       "      <td>https://im1.dineout.co.in/images/uploads/resta...</td>\n",
       "    </tr>\n",
       "    <tr>\n",
       "      <th>8</th>\n",
       "      <td>Flame &amp; Grill</td>\n",
       "      <td>North Indian, Bengali</td>\n",
       "      <td>Mani Square,</td>\n",
       "      <td>4.3</td>\n",
       "      <td>https://im1.dineout.co.in/images/uploads/resta...</td>\n",
       "    </tr>\n",
       "    <tr>\n",
       "      <th>9</th>\n",
       "      <td>The Bikers Cafe</td>\n",
       "      <td>Continental, Italian, North Indian</td>\n",
       "      <td>Platinum Mall,</td>\n",
       "      <td>4.3</td>\n",
       "      <td>https://im1.dineout.co.in/images/uploads/resta...</td>\n",
       "    </tr>\n",
       "    <tr>\n",
       "      <th>10</th>\n",
       "      <td>Uno Pizzeria &amp; Grill</td>\n",
       "      <td>American, Italian, Continental</td>\n",
       "      <td>Kankurgachhi</td>\n",
       "      <td>4.4</td>\n",
       "      <td>https://im1.dineout.co.in/images/uploads/resta...</td>\n",
       "    </tr>\n",
       "    <tr>\n",
       "      <th>11</th>\n",
       "      <td>One8 Commune</td>\n",
       "      <td>North Indian, Italian, Continental</td>\n",
       "      <td>Park Street</td>\n",
       "      <td>4.4</td>\n",
       "      <td>https://im1.dineout.co.in/images/uploads/resta...</td>\n",
       "    </tr>\n",
       "    <tr>\n",
       "      <th>12</th>\n",
       "      <td>The Tunnel</td>\n",
       "      <td>Chinese, North Indian, Continental</td>\n",
       "      <td>Kankurgachhi</td>\n",
       "      <td>4.2</td>\n",
       "      <td>https://im1.dineout.co.in/images/uploads/resta...</td>\n",
       "    </tr>\n",
       "    <tr>\n",
       "      <th>13</th>\n",
       "      <td>Danish Restaurant</td>\n",
       "      <td>Mughlai, North Indian</td>\n",
       "      <td>Machuabazar</td>\n",
       "      <td>4.4</td>\n",
       "      <td>https://im1.dineout.co.in/images/uploads/resta...</td>\n",
       "    </tr>\n",
       "    <tr>\n",
       "      <th>14</th>\n",
       "      <td>Fantastic Food Story</td>\n",
       "      <td>Chinese, North Indian, Continental</td>\n",
       "      <td>Hati Bagan</td>\n",
       "      <td>4.2</td>\n",
       "      <td>https://im1.dineout.co.in/images/uploads/resta...</td>\n",
       "    </tr>\n",
       "    <tr>\n",
       "      <th>15</th>\n",
       "      <td>The Loop Cafe and Restaurant</td>\n",
       "      <td>Italian, Chinese, Fast Food, Mexican</td>\n",
       "      <td>Kankurgachhi</td>\n",
       "      <td>4.3</td>\n",
       "      <td>https://im1.dineout.co.in/images/uploads/resta...</td>\n",
       "    </tr>\n",
       "    <tr>\n",
       "      <th>16</th>\n",
       "      <td>Haka</td>\n",
       "      <td>Chinese</td>\n",
       "      <td>Mani Square,</td>\n",
       "      <td>4.2</td>\n",
       "      <td>https://im1.dineout.co.in/images/uploads/resta...</td>\n",
       "    </tr>\n",
       "    <tr>\n",
       "      <th>17</th>\n",
       "      <td>The Sugarr and Spice</td>\n",
       "      <td>Desserts</td>\n",
       "      <td>Maniktala</td>\n",
       "      <td>3.5</td>\n",
       "      <td>https://im1.dineout.co.in/images/uploads/resta...</td>\n",
       "    </tr>\n",
       "    <tr>\n",
       "      <th>18</th>\n",
       "      <td>Chai Break</td>\n",
       "      <td>Chinese, Italian, Beverages, Fast Food, North ...</td>\n",
       "      <td>Kankurgachhi</td>\n",
       "      <td>4.4</td>\n",
       "      <td>https://im1.dineout.co.in/images/uploads/resta...</td>\n",
       "    </tr>\n",
       "    <tr>\n",
       "      <th>19</th>\n",
       "      <td>Monginis</td>\n",
       "      <td>Desserts, Fast Food</td>\n",
       "      <td>Kankurgachhi</td>\n",
       "      <td>4.4</td>\n",
       "      <td>https://im1.dineout.co.in/images/uploads/resta...</td>\n",
       "    </tr>\n",
       "    <tr>\n",
       "      <th>20</th>\n",
       "      <td>Cloud Social</td>\n",
       "      <td>North Indian, Fast Food, Beverages</td>\n",
       "      <td>Rashbehari Avenue</td>\n",
       "      <td>4.5</td>\n",
       "      <td>https://im1.dineout.co.in/images/uploads/resta...</td>\n",
       "    </tr>\n",
       "  </tbody>\n",
       "</table>\n",
       "</div>"
      ],
      "text/plain": [
       "                     Restaurants  \\\n",
       "0                          Zobet   \n",
       "1                    Pawan Putra   \n",
       "2                  Jungle Safari   \n",
       "3                        Zaairah   \n",
       "4               Caafe 360 Degree   \n",
       "5                    Fly Kouzina   \n",
       "6                        K Local   \n",
       "7                    Goofys Cafe   \n",
       "8                  Flame & Grill   \n",
       "9                The Bikers Cafe   \n",
       "10          Uno Pizzeria & Grill   \n",
       "11                  One8 Commune   \n",
       "12                    The Tunnel   \n",
       "13             Danish Restaurant   \n",
       "14          Fantastic Food Story   \n",
       "15  The Loop Cafe and Restaurant   \n",
       "16                          Haka   \n",
       "17          The Sugarr and Spice   \n",
       "18                    Chai Break   \n",
       "19                      Monginis   \n",
       "20                  Cloud Social   \n",
       "\n",
       "                                             Cuisines          Locations  \\\n",
       "0              Modern Indian, Sushi, Fast Food, Asian    Fort Knox Mall,   \n",
       "1                  Chinese, North Indian, Continental       Kankurgachhi   \n",
       "2                               North Indian, Italian       Mani Square,   \n",
       "3                      North Indian, Chinese, Italian          Salt Lake   \n",
       "4                         Fast Food, Chinese, Italian       Kankurgachhi   \n",
       "5                  North Indian, Chinese, Continental          Salt Lake   \n",
       "6                Finger Food, North Indian, Fast Food     City Centre 1,   \n",
       "7    North Indian, Chinese, Italian, Continental, ...          Maniktala   \n",
       "8                               North Indian, Bengali       Mani Square,   \n",
       "9                  Continental, Italian, North Indian     Platinum Mall,   \n",
       "10                     American, Italian, Continental       Kankurgachhi   \n",
       "11                 North Indian, Italian, Continental        Park Street   \n",
       "12                 Chinese, North Indian, Continental       Kankurgachhi   \n",
       "13                              Mughlai, North Indian        Machuabazar   \n",
       "14                 Chinese, North Indian, Continental         Hati Bagan   \n",
       "15               Italian, Chinese, Fast Food, Mexican       Kankurgachhi   \n",
       "16                                            Chinese       Mani Square,   \n",
       "17                                           Desserts          Maniktala   \n",
       "18  Chinese, Italian, Beverages, Fast Food, North ...       Kankurgachhi   \n",
       "19                                Desserts, Fast Food       Kankurgachhi   \n",
       "20                 North Indian, Fast Food, Beverages  Rashbehari Avenue   \n",
       "\n",
       "   Ratings                                          Image_URL  \n",
       "0      4.4  https://im1.dineout.co.in/images/uploads/resta...  \n",
       "1      4.2  https://im1.dineout.co.in/images/uploads/resta...  \n",
       "2      4.3  https://im1.dineout.co.in/images/uploads/resta...  \n",
       "3      4.2  https://im1.dineout.co.in/images/uploads/resta...  \n",
       "4      4.4  https://im1.dineout.co.in/images/uploads/resta...  \n",
       "5      4.5  https://im1.dineout.co.in/images/uploads/resta...  \n",
       "6        4  https://im1.dineout.co.in/images/uploads/resta...  \n",
       "7      4.4  https://im1.dineout.co.in/images/uploads/resta...  \n",
       "8      4.3  https://im1.dineout.co.in/images/uploads/resta...  \n",
       "9      4.3  https://im1.dineout.co.in/images/uploads/resta...  \n",
       "10     4.4  https://im1.dineout.co.in/images/uploads/resta...  \n",
       "11     4.4  https://im1.dineout.co.in/images/uploads/resta...  \n",
       "12     4.2  https://im1.dineout.co.in/images/uploads/resta...  \n",
       "13     4.4  https://im1.dineout.co.in/images/uploads/resta...  \n",
       "14     4.2  https://im1.dineout.co.in/images/uploads/resta...  \n",
       "15     4.3  https://im1.dineout.co.in/images/uploads/resta...  \n",
       "16     4.2  https://im1.dineout.co.in/images/uploads/resta...  \n",
       "17     3.5  https://im1.dineout.co.in/images/uploads/resta...  \n",
       "18     4.4  https://im1.dineout.co.in/images/uploads/resta...  \n",
       "19     4.4  https://im1.dineout.co.in/images/uploads/resta...  \n",
       "20     4.5  https://im1.dineout.co.in/images/uploads/resta...  "
      ]
     },
     "execution_count": 135,
     "metadata": {},
     "output_type": "execute_result"
    }
   ],
   "source": [
    "pd.DataFrame({\"Restaurants\":Restaurant,\"Cuisines\":Cuisine,\"Locations\":Location,\"Ratings\":Ratings,\"Image_URL\":Image})"
   ]
  },
  {
   "cell_type": "raw",
   "id": "9100bb9a",
   "metadata": {},
   "source": [
    "10) Write a python program to scrape the details of top publications from Google Scholar from\n",
    "https://scholar.google.com/citations?view_op=top_venues&hl=en\n",
    "i) Rank\n",
    "ii) Publication\n",
    "iii) h5-index\n",
    "iv) h5-median"
   ]
  },
  {
   "cell_type": "code",
   "execution_count": 136,
   "id": "2360fc85",
   "metadata": {},
   "outputs": [
    {
     "name": "stdout",
     "output_type": "stream",
     "text": [
      "<Response [200]>\n"
     ]
    }
   ],
   "source": [
    "import requests\n",
    "from bs4 import BeautifulSoup\n",
    "import pandas as pd\n",
    "page=requests.get(\"https://scholar.google.com/citations?view_op=top_venues&hl=en\")\n",
    "print(page)\n",
    "soup=BeautifulSoup(page.content)"
   ]
  },
  {
   "cell_type": "code",
   "execution_count": 137,
   "id": "76048abc",
   "metadata": {},
   "outputs": [],
   "source": [
    "Rank=[]\n",
    "Publications=[]\n",
    "\n",
    "for i in soup.find_all(\"td\",class_=\"gsc_mvt_p\")[0:]:\n",
    "    Rank.append(i.text.strip())"
   ]
  },
  {
   "cell_type": "code",
   "execution_count": 138,
   "id": "45a312f2",
   "metadata": {},
   "outputs": [
    {
     "name": "stdout",
     "output_type": "stream",
     "text": [
      "['Nature', 'The New England Journal of Medicine', 'Science', 'IEEE/CVF Conference on Computer Vision and Pattern Recognition', 'The Lancet', 'Advanced Materials', 'Nature Communications', 'Cell', 'International Conference on Learning Representations', 'Neural Information Processing Systems', 'JAMA', 'Chemical Reviews', 'Proceedings of the National Academy of Sciences', 'Angewandte Chemie', 'Chemical Society Reviews', 'Journal of the American Chemical Society', 'IEEE/CVF International Conference on Computer Vision', 'Nucleic Acids Research', 'International Conference on Machine Learning', 'Nature Medicine', 'Renewable and Sustainable Energy Reviews', 'Science of The Total Environment', 'Advanced Energy Materials', 'Journal of Clinical Oncology', 'ACS Nano', 'Journal of Cleaner Production', 'Advanced Functional Materials', 'Physical Review Letters', 'Scientific Reports', 'The Lancet Oncology', 'Energy & Environmental Science', 'IEEE Access', 'PLoS ONE', 'Science Advances', 'Journal of the American College of Cardiology', 'Applied Catalysis B: Environmental', 'Nature Genetics', 'BMJ', 'Circulation', 'European Conference on Computer Vision', 'International Journal of Molecular Sciences', 'Nature Materials', 'Chemical engineering journal', 'AAAI Conference on Artificial Intelligence', 'Journal of Materials Chemistry A', 'ACS Applied Materials & Interfaces', 'Nature Biotechnology', 'The Lancet Infectious Diseases', 'Frontiers in Immunology', 'Applied Energy', 'Nano Energy', 'Nature Energy', 'Meeting of the Association for Computational Linguistics (ACL)', 'The Astrophysical Journal', 'Gastroenterology', 'Nature Methods', 'IEEE Transactions on Pattern Analysis and Machine Intelligence', 'Cochrane Database of Systematic Reviews', 'Blood', 'Neuron', 'Nano Letters', 'Morbidity and Mortality Weekly Report', 'European Heart Journal', 'Nature Nanotechnology', 'ACS Catalysis', 'Nature Neuroscience', 'American Economic Review', 'Journal of High Energy Physics', 'IEEE Communications Surveys & Tutorials', 'Annals of Oncology', 'Nutrients', 'Accounts of Chemical Research', 'Immunity', 'Environmental Science & Technology', 'Nature Reviews. Molecular Cell Biology', 'Gut', 'Physical Review D', 'ACS Energy Letters', 'Monthly Notices of the Royal Astronomical Society', 'Conference on Empirical Methods in Natural Language Processing (EMNLP)', 'Clinical Infectious Diseases', 'Cell Metabolism', 'Nature Reviews Immunology', 'Joule', 'Nature Photonics', 'International Journal of Environmental Research and Public Health', 'Environmental Pollution', 'Computers in Human Behavior', 'Frontiers in Microbiology', 'Nature Physics', 'Small', 'Cell Reports', 'Molecular Cell', 'Clinical Cancer Research', 'Bioresource Technology', 'Journal of Business Research', 'Molecular Cancer', 'Sensors', 'Nature Climate Change', 'IEEE Internet of Things Journal']\n"
     ]
    }
   ],
   "source": [
    "for i in soup.find_all(\"td\",class_=\"gsc_mvt_t\"):\n",
    "    Publications.append(i.text.strip())\n",
    "print(Publications)"
   ]
  },
  {
   "cell_type": "code",
   "execution_count": 139,
   "id": "e09b7a95",
   "metadata": {},
   "outputs": [],
   "source": [
    "Mixbox=[]\n",
    "\n",
    "for i in soup.find_all(\"td\",class_=\"gsc_mvt_n\"):\n",
    "    Mixbox.append(i.text.strip())"
   ]
  },
  {
   "cell_type": "code",
   "execution_count": 140,
   "id": "4dcbe652",
   "metadata": {},
   "outputs": [],
   "source": [
    "h5_index=[]\n",
    "\n",
    "for i in range(0,len(Mixbox),2):\n",
    "    h5_index.append(Mixbox[i])"
   ]
  },
  {
   "cell_type": "code",
   "execution_count": 141,
   "id": "22f870a2",
   "metadata": {},
   "outputs": [],
   "source": [
    "h5_median=[]\n",
    "\n",
    "for i in range(1,len(Mixbox),2):\n",
    "    h5_median.append(Mixbox[i])"
   ]
  },
  {
   "cell_type": "code",
   "execution_count": 142,
   "id": "3fbf2982",
   "metadata": {},
   "outputs": [
    {
     "name": "stdout",
     "output_type": "stream",
     "text": [
      "100 100 100 100\n"
     ]
    }
   ],
   "source": [
    "print(len(Rank),len(Publications),len(h5_index),len(h5_median))"
   ]
  },
  {
   "cell_type": "code",
   "execution_count": 143,
   "id": "08271744",
   "metadata": {},
   "outputs": [],
   "source": [
    "df=pd.DataFrame({\"Rank\":Rank,\"Publication\":Publications,\"H5-Index\":h5_index,\"H5-Median\":h5_median})"
   ]
  },
  {
   "cell_type": "code",
   "execution_count": 144,
   "id": "fd3ad342",
   "metadata": {},
   "outputs": [
    {
     "data": {
      "text/html": [
       "<div>\n",
       "<style scoped>\n",
       "    .dataframe tbody tr th:only-of-type {\n",
       "        vertical-align: middle;\n",
       "    }\n",
       "\n",
       "    .dataframe tbody tr th {\n",
       "        vertical-align: top;\n",
       "    }\n",
       "\n",
       "    .dataframe thead th {\n",
       "        text-align: right;\n",
       "    }\n",
       "</style>\n",
       "<table border=\"1\" class=\"dataframe\">\n",
       "  <thead>\n",
       "    <tr style=\"text-align: right;\">\n",
       "      <th></th>\n",
       "      <th>Rank</th>\n",
       "      <th>Publication</th>\n",
       "      <th>H5-Index</th>\n",
       "      <th>H5-Median</th>\n",
       "    </tr>\n",
       "  </thead>\n",
       "  <tbody>\n",
       "    <tr>\n",
       "      <th>0</th>\n",
       "      <td>1.</td>\n",
       "      <td>Nature</td>\n",
       "      <td>444</td>\n",
       "      <td>667</td>\n",
       "    </tr>\n",
       "    <tr>\n",
       "      <th>1</th>\n",
       "      <td>2.</td>\n",
       "      <td>The New England Journal of Medicine</td>\n",
       "      <td>432</td>\n",
       "      <td>780</td>\n",
       "    </tr>\n",
       "    <tr>\n",
       "      <th>2</th>\n",
       "      <td>3.</td>\n",
       "      <td>Science</td>\n",
       "      <td>401</td>\n",
       "      <td>614</td>\n",
       "    </tr>\n",
       "    <tr>\n",
       "      <th>3</th>\n",
       "      <td>4.</td>\n",
       "      <td>IEEE/CVF Conference on Computer Vision and Pat...</td>\n",
       "      <td>389</td>\n",
       "      <td>627</td>\n",
       "    </tr>\n",
       "    <tr>\n",
       "      <th>4</th>\n",
       "      <td>5.</td>\n",
       "      <td>The Lancet</td>\n",
       "      <td>354</td>\n",
       "      <td>635</td>\n",
       "    </tr>\n",
       "    <tr>\n",
       "      <th>...</th>\n",
       "      <td>...</td>\n",
       "      <td>...</td>\n",
       "      <td>...</td>\n",
       "      <td>...</td>\n",
       "    </tr>\n",
       "    <tr>\n",
       "      <th>95</th>\n",
       "      <td>96.</td>\n",
       "      <td>Journal of Business Research</td>\n",
       "      <td>145</td>\n",
       "      <td>233</td>\n",
       "    </tr>\n",
       "    <tr>\n",
       "      <th>96</th>\n",
       "      <td>97.</td>\n",
       "      <td>Molecular Cancer</td>\n",
       "      <td>145</td>\n",
       "      <td>209</td>\n",
       "    </tr>\n",
       "    <tr>\n",
       "      <th>97</th>\n",
       "      <td>98.</td>\n",
       "      <td>Sensors</td>\n",
       "      <td>145</td>\n",
       "      <td>201</td>\n",
       "    </tr>\n",
       "    <tr>\n",
       "      <th>98</th>\n",
       "      <td>99.</td>\n",
       "      <td>Nature Climate Change</td>\n",
       "      <td>144</td>\n",
       "      <td>228</td>\n",
       "    </tr>\n",
       "    <tr>\n",
       "      <th>99</th>\n",
       "      <td>100.</td>\n",
       "      <td>IEEE Internet of Things Journal</td>\n",
       "      <td>144</td>\n",
       "      <td>212</td>\n",
       "    </tr>\n",
       "  </tbody>\n",
       "</table>\n",
       "<p>100 rows × 4 columns</p>\n",
       "</div>"
      ],
      "text/plain": [
       "    Rank                                        Publication H5-Index H5-Median\n",
       "0     1.                                             Nature      444       667\n",
       "1     2.                The New England Journal of Medicine      432       780\n",
       "2     3.                                            Science      401       614\n",
       "3     4.  IEEE/CVF Conference on Computer Vision and Pat...      389       627\n",
       "4     5.                                         The Lancet      354       635\n",
       "..   ...                                                ...      ...       ...\n",
       "95   96.                       Journal of Business Research      145       233\n",
       "96   97.                                   Molecular Cancer      145       209\n",
       "97   98.                                            Sensors      145       201\n",
       "98   99.                              Nature Climate Change      144       228\n",
       "99  100.                    IEEE Internet of Things Journal      144       212\n",
       "\n",
       "[100 rows x 4 columns]"
      ]
     },
     "execution_count": 144,
     "metadata": {},
     "output_type": "execute_result"
    }
   ],
   "source": [
    "df"
   ]
  },
  {
   "cell_type": "code",
   "execution_count": null,
   "id": "067a0ae1",
   "metadata": {},
   "outputs": [],
   "source": []
  }
 ],
 "metadata": {
  "kernelspec": {
   "display_name": "Python 3 (ipykernel)",
   "language": "python",
   "name": "python3"
  },
  "language_info": {
   "codemirror_mode": {
    "name": "ipython",
    "version": 3
   },
   "file_extension": ".py",
   "mimetype": "text/x-python",
   "name": "python",
   "nbconvert_exporter": "python",
   "pygments_lexer": "ipython3",
   "version": "3.9.12"
  }
 },
 "nbformat": 4,
 "nbformat_minor": 5
}
