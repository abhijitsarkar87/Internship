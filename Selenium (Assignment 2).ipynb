{
 "cells": [
  {
   "cell_type": "markdown",
   "id": "baff2943",
   "metadata": {},
   "source": [
    "Q1: Write a python program to scrape data for “Data Analyst” Job position in “Bangalore” location. You\n",
    "have to scrape the job-title, job-location, company_name, experience_required. You have to scrape first 10\n",
    "jobs data.\n",
    "\n",
    "    This task will be done in following steps:\n",
    "      1. First get the webpage https://www.naukri.com/\n",
    "      2. Enter “Data Analyst” in “Skill, Designations, Companies” field and enter “Bangalore” in “enter the location” field.\n",
    "      3. Then click the search button.\n",
    "      4. Then scrape the data for the first 10 jobs results you get.\n",
    "      5. Finally create a dataframe of the scraped data."
   ]
  },
  {
   "cell_type": "code",
   "execution_count": 1,
   "id": "d834a985",
   "metadata": {},
   "outputs": [],
   "source": [
    "import selenium\n",
    "import pandas as pd\n",
    "from selenium import webdriver\n",
    "from selenium.webdriver.common.by import By\n",
    "from selenium.common.exceptions import StaleElementReferenceException\n",
    "from selenium.common.exceptions import NoSuchElementException\n",
    "import time\n",
    "import warnings\n",
    "warnings.filterwarnings(\"ignore\")"
   ]
  },
  {
   "cell_type": "code",
   "execution_count": 2,
   "id": "0533fc8d",
   "metadata": {},
   "outputs": [],
   "source": [
    "#calling driver\n",
    "driver=webdriver.Edge(r'C:\\Users\\jitsa\\Downloads\\msedgedriver.exe')\n",
    "driver.get('https://www.naukri.com/')"
   ]
  },
  {
   "cell_type": "code",
   "execution_count": 3,
   "id": "484d8057",
   "metadata": {},
   "outputs": [],
   "source": [
    "#searching Data Analyst\n",
    "designation=driver.find_element(By.XPATH,'/html/body/div[1]/div[2]/div[3]/div/div/div[1]/div/div/div/input')\n",
    "designation.send_keys(\"Data Analyst\")"
   ]
  },
  {
   "cell_type": "code",
   "execution_count": 4,
   "id": "7d347e2d",
   "metadata": {},
   "outputs": [],
   "source": [
    "# Searching by loc\n",
    "location=driver.find_element(By.XPATH,\"/html/body/div[1]/div[2]/div[3]/div/div/div[5]/div/div/div/input\") # Location---> Keys\n",
    "location.send_keys(\"Bangalore\") #location values"
   ]
  },
  {
   "cell_type": "code",
   "execution_count": 5,
   "id": "d692cdfe",
   "metadata": {},
   "outputs": [],
   "source": [
    "#Submit Query\n",
    "search=driver.find_element(By.CLASS_NAME,\"qsbSubmit\")\n",
    "search.click()"
   ]
  },
  {
   "cell_type": "code",
   "execution_count": 6,
   "id": "89e07784",
   "metadata": {},
   "outputs": [],
   "source": [
    "#scrape job\n",
    "Job_title=[]\n",
    "\n",
    "title_tag=driver.find_elements(By.XPATH,'//a[@class=\"title fw500 ellipsis\" ]')\n",
    "for i in title_tag[0:10]:\n",
    "    title=i.text\n",
    "    Job_title.append(title)\n",
    "\n",
    "company_name=[] #scrape company\n",
    "\n",
    "name_tag=driver.find_elements(By.XPATH,'//a[@class=\"subTitle ellipsis fleft\"]')\n",
    "for i in name_tag[0:10]:\n",
    "    name=i.text\n",
    "    company_name.append(name)\n",
    "    \n",
    "job_rating=[] #job_rating\n",
    "\n",
    "rate_tag=driver.find_elements(By.XPATH,'//span[@class=\"starRating fleft dot\"]')\n",
    "for i in rate_tag[0:10]:\n",
    "    rate=i.text\n",
    "    job_rating.append(rate)\n",
    "    \n",
    "job_location=[] #job_location\n",
    "\n",
    "location_tag=driver.find_elements(By.XPATH,'//li[@class=\"fleft grey-text br2 placeHolderLi location\"]')\n",
    "for i in location_tag[0:10]:\n",
    "    loc=i.text\n",
    "    job_location.append(loc)\n",
    "    \n",
    "experience_required=[]#experience_required\n",
    "\n",
    "experience_tag=driver.find_elements(By.XPATH,'//li[@class=\"fleft grey-text br2 placeHolderLi experience\"]')\n",
    "for i in experience_tag[0:10]:\n",
    "    exp=i.text\n",
    "    experience_required.append(exp)"
   ]
  },
  {
   "cell_type": "code",
   "execution_count": 7,
   "id": "0df61c8d",
   "metadata": {},
   "outputs": [
    {
     "name": "stdout",
     "output_type": "stream",
     "text": [
      "10 10 10 10 10\n"
     ]
    }
   ],
   "source": [
    "print(len(Job_title),len(company_name),len(job_rating),len(job_location),len(experience_required))"
   ]
  },
  {
   "cell_type": "code",
   "execution_count": 8,
   "id": "15ff5872",
   "metadata": {},
   "outputs": [],
   "source": [
    "df=pd.DataFrame({'Job_title':Job_title,'Company_name':company_name,'Job_rating':job_rating,'Job_location':job_location,'experience_required':experience_required})"
   ]
  },
  {
   "cell_type": "code",
   "execution_count": 9,
   "id": "21bd20b0",
   "metadata": {},
   "outputs": [
    {
     "data": {
      "text/html": [
       "<div>\n",
       "<style scoped>\n",
       "    .dataframe tbody tr th:only-of-type {\n",
       "        vertical-align: middle;\n",
       "    }\n",
       "\n",
       "    .dataframe tbody tr th {\n",
       "        vertical-align: top;\n",
       "    }\n",
       "\n",
       "    .dataframe thead th {\n",
       "        text-align: right;\n",
       "    }\n",
       "</style>\n",
       "<table border=\"1\" class=\"dataframe\">\n",
       "  <thead>\n",
       "    <tr style=\"text-align: right;\">\n",
       "      <th></th>\n",
       "      <th>Job_title</th>\n",
       "      <th>Company_name</th>\n",
       "      <th>Job_rating</th>\n",
       "      <th>Job_location</th>\n",
       "      <th>experience_required</th>\n",
       "    </tr>\n",
       "  </thead>\n",
       "  <tbody>\n",
       "    <tr>\n",
       "      <th>0</th>\n",
       "      <td>Senior Data Analyst</td>\n",
       "      <td>KrazyBee</td>\n",
       "      <td>4.0</td>\n",
       "      <td>Bangalore/Bengaluru(Old Madras Road)</td>\n",
       "      <td>3-6 Yrs</td>\n",
       "    </tr>\n",
       "    <tr>\n",
       "      <th>1</th>\n",
       "      <td>Sr. Data Analyst</td>\n",
       "      <td>Global Indian School Education Services</td>\n",
       "      <td>4.2</td>\n",
       "      <td>Bangalore/Bengaluru, Pune</td>\n",
       "      <td>6-11 Yrs</td>\n",
       "    </tr>\n",
       "    <tr>\n",
       "      <th>2</th>\n",
       "      <td>Master Data Management Business Analyst</td>\n",
       "      <td>Accenture</td>\n",
       "      <td>4.2</td>\n",
       "      <td>Bangalore/Bengaluru</td>\n",
       "      <td>6-8 Yrs</td>\n",
       "    </tr>\n",
       "    <tr>\n",
       "      <th>3</th>\n",
       "      <td>Senior Data Analyst</td>\n",
       "      <td>Optum</td>\n",
       "      <td>4.1</td>\n",
       "      <td>Bangalore/Bengaluru</td>\n",
       "      <td>5-7 Yrs</td>\n",
       "    </tr>\n",
       "    <tr>\n",
       "      <th>4</th>\n",
       "      <td>Intern Data Analyst</td>\n",
       "      <td>FullStackTechies</td>\n",
       "      <td>4.0</td>\n",
       "      <td>Bangalore/Bengaluru</td>\n",
       "      <td>0-1 Yrs</td>\n",
       "    </tr>\n",
       "    <tr>\n",
       "      <th>5</th>\n",
       "      <td>Data Analyst - Python/Artificial Intelligence</td>\n",
       "      <td>iMindYourBusiness</td>\n",
       "      <td>4.3</td>\n",
       "      <td>Bangalore/Bengaluru, Mumbai, Hyderabad/Secunde...</td>\n",
       "      <td>0-2 Yrs</td>\n",
       "    </tr>\n",
       "    <tr>\n",
       "      <th>6</th>\n",
       "      <td>Lead Data Analyst</td>\n",
       "      <td>McAfee</td>\n",
       "      <td>4.1</td>\n",
       "      <td>Bangalore/Bengaluru</td>\n",
       "      <td>5-9 Yrs</td>\n",
       "    </tr>\n",
       "    <tr>\n",
       "      <th>7</th>\n",
       "      <td>Data Analyst</td>\n",
       "      <td>Bayer</td>\n",
       "      <td>3.7</td>\n",
       "      <td>Bangalore/Bengaluru</td>\n",
       "      <td>2-5 Yrs</td>\n",
       "    </tr>\n",
       "    <tr>\n",
       "      <th>8</th>\n",
       "      <td>Leap COE Intern(Data Analyst)</td>\n",
       "      <td>Info Origin Inc.</td>\n",
       "      <td>4.1</td>\n",
       "      <td>Bangalore/Bengaluru</td>\n",
       "      <td>0-1 Yrs</td>\n",
       "    </tr>\n",
       "    <tr>\n",
       "      <th>9</th>\n",
       "      <td>Forecasting Analyst/ Data Scientist (US Client)</td>\n",
       "      <td>Concentrix</td>\n",
       "      <td>4.6</td>\n",
       "      <td>Bangalore/Bengaluru, Gurgaon/Gurugram\\n(WFH du...</td>\n",
       "      <td>3-8 Yrs</td>\n",
       "    </tr>\n",
       "  </tbody>\n",
       "</table>\n",
       "</div>"
      ],
      "text/plain": [
       "                                         Job_title  \\\n",
       "0                              Senior Data Analyst   \n",
       "1                                 Sr. Data Analyst   \n",
       "2          Master Data Management Business Analyst   \n",
       "3                              Senior Data Analyst   \n",
       "4                              Intern Data Analyst   \n",
       "5    Data Analyst - Python/Artificial Intelligence   \n",
       "6                                Lead Data Analyst   \n",
       "7                                     Data Analyst   \n",
       "8                    Leap COE Intern(Data Analyst)   \n",
       "9  Forecasting Analyst/ Data Scientist (US Client)   \n",
       "\n",
       "                              Company_name Job_rating  \\\n",
       "0                                 KrazyBee        4.0   \n",
       "1  Global Indian School Education Services        4.2   \n",
       "2                                Accenture        4.2   \n",
       "3                                    Optum        4.1   \n",
       "4                         FullStackTechies        4.0   \n",
       "5                        iMindYourBusiness        4.3   \n",
       "6                                   McAfee        4.1   \n",
       "7                                    Bayer        3.7   \n",
       "8                         Info Origin Inc.        4.1   \n",
       "9                               Concentrix        4.6   \n",
       "\n",
       "                                        Job_location experience_required  \n",
       "0               Bangalore/Bengaluru(Old Madras Road)             3-6 Yrs  \n",
       "1                          Bangalore/Bengaluru, Pune            6-11 Yrs  \n",
       "2                                Bangalore/Bengaluru             6-8 Yrs  \n",
       "3                                Bangalore/Bengaluru             5-7 Yrs  \n",
       "4                                Bangalore/Bengaluru             0-1 Yrs  \n",
       "5  Bangalore/Bengaluru, Mumbai, Hyderabad/Secunde...             0-2 Yrs  \n",
       "6                                Bangalore/Bengaluru             5-9 Yrs  \n",
       "7                                Bangalore/Bengaluru             2-5 Yrs  \n",
       "8                                Bangalore/Bengaluru             0-1 Yrs  \n",
       "9  Bangalore/Bengaluru, Gurgaon/Gurugram\\n(WFH du...             3-8 Yrs  "
      ]
     },
     "execution_count": 9,
     "metadata": {},
     "output_type": "execute_result"
    }
   ],
   "source": [
    "df"
   ]
  },
  {
   "cell_type": "markdown",
   "id": "f28a4bb1",
   "metadata": {},
   "source": [
    "Q2:Write a python program to scrape data for “Data Scientist” Job position in “Bangalore” location. You have to scrape the job-title, job-location, company_name. \n",
    "\n",
    "You have to scrape first 10 jobs data.\n",
    "\n",
    "    This task will be done in following steps:\n",
    "    1. First get the webpage https://www.naukri.com/\n",
    "    2. Enter “Data Scientist” in “Skill, Designations, Companies” field and enter “Bangalore” in “enter the\n",
    "       location” field.\n",
    "    3. Then click the search button.\n",
    "    4. Then scrape the data for the first 10 jobs results you get.\n",
    "    5. Finally create a dataframe of the scraped data.\n",
    "    \n",
    "   "
   ]
  },
  {
   "cell_type": "code",
   "execution_count": 1,
   "id": "55b8bae3",
   "metadata": {},
   "outputs": [],
   "source": [
    "import pandas as pd\n",
    "import selenium\n",
    "from selenium import webdriver\n",
    "from selenium.common.exceptions import StaleElementReferenceException, NoSuchElementException\n",
    "from selenium.webdriver.common.by import By\n",
    "import time"
   ]
  },
  {
   "cell_type": "code",
   "execution_count": 3,
   "id": "3cb372ce",
   "metadata": {},
   "outputs": [
    {
     "name": "stderr",
     "output_type": "stream",
     "text": [
      "C:\\Users\\jitsa\\AppData\\Local\\Temp\\ipykernel_4712\\4067547147.py:2: DeprecationWarning: executable_path has been deprecated, please pass in a Service object\n",
      "  driver=webdriver.Edge(r'msedgedriver.exe')\n"
     ]
    }
   ],
   "source": [
    "#locate driver\n",
    "driver=webdriver.Edge(r'msedgedriver.exe')"
   ]
  },
  {
   "cell_type": "code",
   "execution_count": 4,
   "id": "ed023558",
   "metadata": {},
   "outputs": [],
   "source": [
    "#search webpage\n",
    "driver.get(\"https://www.naukri.com/\")"
   ]
  },
  {
   "cell_type": "code",
   "execution_count": 5,
   "id": "a90059a3",
   "metadata": {},
   "outputs": [],
   "source": [
    "# enter search\n",
    "designation=driver.find_element(By.XPATH,'//*[@id=\"root\"]/div[2]/div[3]/div/div/div[1]/div/div/div/input')\n",
    "designation.send_keys('Data Scientist')\n",
    "\n",
    "# enter location\n",
    "location=driver.find_element(By.XPATH,'//*[@id=\"root\"]/div[2]/div[3]/div/div/div[5]/div/div/div/input')\n",
    "location.send_keys(\"Bangalore\")\n",
    "\n",
    "#Submit Query\n",
    "search=driver.find_element(By.XPATH,'//*[@id=\"root\"]/div[2]/div[3]/div/div/div[6]')\n",
    "search.click()"
   ]
  },
  {
   "cell_type": "code",
   "execution_count": 6,
   "id": "cc6855ed",
   "metadata": {},
   "outputs": [],
   "source": [
    "#forming list\n",
    "Job_title=[]\n",
    "Location=[]\n",
    "Experience=[]\n",
    "Rating=[]\n",
    "Company_N=[]"
   ]
  },
  {
   "cell_type": "code",
   "execution_count": 7,
   "id": "24f90b68",
   "metadata": {},
   "outputs": [
    {
     "name": "stdout",
     "output_type": "stream",
     "text": [
      "['TATA CONSULTANCY SERVICES (TCS)', 'PwC', 'Accenture', 'TATA CONSULTANCY SERVICES (TCS)', 'Wipro', 'NTT DATA Business Solutions Private Limited', 'Wipro', 'Conduent', 'CitiusTech', 'ZS Associates']\n"
     ]
    }
   ],
   "source": [
    "Company=driver.find_elements(By.XPATH,'//a[@class=\"subTitle ellipsis fleft\"]')\n",
    "for i in Company[0:10]:\n",
    "    Company_N.append(i.text)\n",
    "print(Company_N)"
   ]
  },
  {
   "cell_type": "code",
   "execution_count": 8,
   "id": "370572f7",
   "metadata": {},
   "outputs": [],
   "source": [
    "#Job title\n",
    "job_title=driver.find_elements(By.XPATH,'//a[@class=\"title fw500 ellipsis\"]')\n",
    "for i in job_title[0:10]:\n",
    "    job=i.text\n",
    "    Job_title.append(job)\n",
    "\n",
    "# Job location\n",
    "loc_title=driver.find_elements(By.XPATH,'//li[@class=\"fleft grey-text br2 placeHolderLi location\"]//span')\n",
    "for i in loc_title[0:10]:\n",
    "    loc=i.text\n",
    "    Location.append(loc)\n",
    "\n",
    "# Job experience\n",
    "Exp_title=driver.find_elements(By.XPATH,'//li[@class=\"fleft grey-text br2 placeHolderLi experience\"]//span')\n",
    "for i in Exp_title[0:10]:\n",
    "    Exp=i.text\n",
    "    Experience.append(Exp)\n",
    "    \n",
    "#Job rating\n",
    "rate_job=driver.find_elements(By.XPATH,'//span[@class=\"starRating fleft dot\"]')\n",
    "for i in rate_job[0:10]:\n",
    "    rate=i.text\n",
    "    Rating.append(rate)              "
   ]
  },
  {
   "cell_type": "code",
   "execution_count": 9,
   "id": "6b1597a0",
   "metadata": {},
   "outputs": [
    {
     "name": "stdout",
     "output_type": "stream",
     "text": [
      "10 10 10 10 10\n"
     ]
    }
   ],
   "source": [
    "print(len(Company_N),len(Job_title),len(Location),len(Experience),len(Rating))"
   ]
  },
  {
   "cell_type": "code",
   "execution_count": 10,
   "id": "38cb6107",
   "metadata": {},
   "outputs": [],
   "source": [
    "df2=pd.DataFrame({'Company_Name':Company_N,'JOB_TITLE':Job_title,'Rating':Rating,'Location':Location,'Experience':Experience})"
   ]
  },
  {
   "cell_type": "code",
   "execution_count": 11,
   "id": "f0b651f9",
   "metadata": {},
   "outputs": [
    {
     "data": {
      "text/html": [
       "<div>\n",
       "<style scoped>\n",
       "    .dataframe tbody tr th:only-of-type {\n",
       "        vertical-align: middle;\n",
       "    }\n",
       "\n",
       "    .dataframe tbody tr th {\n",
       "        vertical-align: top;\n",
       "    }\n",
       "\n",
       "    .dataframe thead th {\n",
       "        text-align: right;\n",
       "    }\n",
       "</style>\n",
       "<table border=\"1\" class=\"dataframe\">\n",
       "  <thead>\n",
       "    <tr style=\"text-align: right;\">\n",
       "      <th></th>\n",
       "      <th>Company_Name</th>\n",
       "      <th>JOB_TITLE</th>\n",
       "      <th>Rating</th>\n",
       "      <th>Location</th>\n",
       "      <th>Experience</th>\n",
       "    </tr>\n",
       "  </thead>\n",
       "  <tbody>\n",
       "    <tr>\n",
       "      <th>0</th>\n",
       "      <td>TATA CONSULTANCY SERVICES (TCS)</td>\n",
       "      <td>Tcs Hiring For Data Scientist</td>\n",
       "      <td>3.9</td>\n",
       "      <td>Bangalore/Bengaluru, Chennai, Mumbai (All Areas)</td>\n",
       "      <td>3-8 Yrs</td>\n",
       "    </tr>\n",
       "    <tr>\n",
       "      <th>1</th>\n",
       "      <td>PwC</td>\n",
       "      <td>Senior Manager - EmTech - Machine Learning - P&amp;T</td>\n",
       "      <td>3.8</td>\n",
       "      <td>Bangalore/Bengaluru, Mumbai, Hyderabad/Secunde...</td>\n",
       "      <td>5-12 Yrs</td>\n",
       "    </tr>\n",
       "    <tr>\n",
       "      <th>2</th>\n",
       "      <td>Accenture</td>\n",
       "      <td>Analystics &amp; Modeling Specialist</td>\n",
       "      <td>4.2</td>\n",
       "      <td>Bangalore/Bengaluru, Kolkata, Mumbai, Hyderaba...</td>\n",
       "      <td>6-8 Yrs</td>\n",
       "    </tr>\n",
       "    <tr>\n",
       "      <th>3</th>\n",
       "      <td>TATA CONSULTANCY SERVICES (TCS)</td>\n",
       "      <td>Data scientist _Tata Consultancy Services(Tcs)</td>\n",
       "      <td>3.9</td>\n",
       "      <td>Bangalore/Bengaluru, Kochi/Cochin, Indore, New...</td>\n",
       "      <td>9-14 Yrs</td>\n",
       "    </tr>\n",
       "    <tr>\n",
       "      <th>4</th>\n",
       "      <td>Wipro</td>\n",
       "      <td>Job||Job Opening For AI Technologist - Data Sc...</td>\n",
       "      <td>3.9</td>\n",
       "      <td>Bangalore/Bengaluru, New Delhi, Hyderabad/Secu...</td>\n",
       "      <td>5-10 Yrs</td>\n",
       "    </tr>\n",
       "    <tr>\n",
       "      <th>5</th>\n",
       "      <td>NTT DATA Business Solutions Private Limited</td>\n",
       "      <td>Hiring For DATA Scientist @ NTT DATA Business ...</td>\n",
       "      <td>3.9</td>\n",
       "      <td>Bangalore/Bengaluru, Noida, Hyderabad/Secunder...</td>\n",
       "      <td>4-9 Yrs</td>\n",
       "    </tr>\n",
       "    <tr>\n",
       "      <th>6</th>\n",
       "      <td>Wipro</td>\n",
       "      <td>Urgent Job Opening For AI Practitioner - Data ...</td>\n",
       "      <td>3.9</td>\n",
       "      <td>Bangalore/Bengaluru, Kochi/Cochin, New Delhi, ...</td>\n",
       "      <td>11-20 Yrs</td>\n",
       "    </tr>\n",
       "    <tr>\n",
       "      <th>7</th>\n",
       "      <td>Conduent</td>\n",
       "      <td>Data Scientist Python</td>\n",
       "      <td>3.6</td>\n",
       "      <td>Bangalore/Bengaluru, Hyderabad/Secunderabad</td>\n",
       "      <td>3-7 Yrs</td>\n",
       "    </tr>\n",
       "    <tr>\n",
       "      <th>8</th>\n",
       "      <td>CitiusTech</td>\n",
       "      <td>Assistant Manager - Data Science</td>\n",
       "      <td>4.0</td>\n",
       "      <td>Bangalore/Bengaluru, Mumbai, Pune</td>\n",
       "      <td>5-9 Yrs</td>\n",
       "    </tr>\n",
       "    <tr>\n",
       "      <th>9</th>\n",
       "      <td>ZS Associates</td>\n",
       "      <td>Data Scientist</td>\n",
       "      <td>3.8</td>\n",
       "      <td>Bangalore/Bengaluru, New Delhi, Pune, Gurgaon/...</td>\n",
       "      <td>5-8 Yrs</td>\n",
       "    </tr>\n",
       "  </tbody>\n",
       "</table>\n",
       "</div>"
      ],
      "text/plain": [
       "                                  Company_Name  \\\n",
       "0              TATA CONSULTANCY SERVICES (TCS)   \n",
       "1                                          PwC   \n",
       "2                                    Accenture   \n",
       "3              TATA CONSULTANCY SERVICES (TCS)   \n",
       "4                                        Wipro   \n",
       "5  NTT DATA Business Solutions Private Limited   \n",
       "6                                        Wipro   \n",
       "7                                     Conduent   \n",
       "8                                   CitiusTech   \n",
       "9                                ZS Associates   \n",
       "\n",
       "                                           JOB_TITLE Rating  \\\n",
       "0                      Tcs Hiring For Data Scientist    3.9   \n",
       "1   Senior Manager - EmTech - Machine Learning - P&T    3.8   \n",
       "2                   Analystics & Modeling Specialist    4.2   \n",
       "3     Data scientist _Tata Consultancy Services(Tcs)    3.9   \n",
       "4  Job||Job Opening For AI Technologist - Data Sc...    3.9   \n",
       "5  Hiring For DATA Scientist @ NTT DATA Business ...    3.9   \n",
       "6  Urgent Job Opening For AI Practitioner - Data ...    3.9   \n",
       "7                              Data Scientist Python    3.6   \n",
       "8                   Assistant Manager - Data Science    4.0   \n",
       "9                                     Data Scientist    3.8   \n",
       "\n",
       "                                            Location Experience  \n",
       "0   Bangalore/Bengaluru, Chennai, Mumbai (All Areas)    3-8 Yrs  \n",
       "1  Bangalore/Bengaluru, Mumbai, Hyderabad/Secunde...   5-12 Yrs  \n",
       "2  Bangalore/Bengaluru, Kolkata, Mumbai, Hyderaba...    6-8 Yrs  \n",
       "3  Bangalore/Bengaluru, Kochi/Cochin, Indore, New...   9-14 Yrs  \n",
       "4  Bangalore/Bengaluru, New Delhi, Hyderabad/Secu...   5-10 Yrs  \n",
       "5  Bangalore/Bengaluru, Noida, Hyderabad/Secunder...    4-9 Yrs  \n",
       "6  Bangalore/Bengaluru, Kochi/Cochin, New Delhi, ...  11-20 Yrs  \n",
       "7        Bangalore/Bengaluru, Hyderabad/Secunderabad    3-7 Yrs  \n",
       "8                  Bangalore/Bengaluru, Mumbai, Pune    5-9 Yrs  \n",
       "9  Bangalore/Bengaluru, New Delhi, Pune, Gurgaon/...    5-8 Yrs  "
      ]
     },
     "execution_count": 11,
     "metadata": {},
     "output_type": "execute_result"
    }
   ],
   "source": [
    "df2"
   ]
  },
  {
   "cell_type": "raw",
   "id": "7d7d801c",
   "metadata": {},
   "source": [
    "Q3: In this question you have to scrape data using the filters available on the webpage as shown below:\n",
    "\n",
    "1.You have to use the location and salary filter.\n",
    "2.You have to scrape data for “Data Scientist” designation for first 10 job results.\n",
    "3.You have to scrape the job-title, job-location, company name, experience required.\n",
    "4.The location filter to be used is “Delhi/NCR”. The salary filter to be used is “3-6” lakhs"
   ]
  },
  {
   "cell_type": "code",
   "execution_count": 1,
   "id": "bbd190b1",
   "metadata": {},
   "outputs": [],
   "source": [
    "import selenium\n",
    "from selenium import webdriver\n",
    "from selenium.webdriver.common.by import By\n",
    "from selenium.common.exceptions import StaleElementReferenceException, NoSuchElementException\n",
    "import pandas as pd\n",
    "import time\n",
    "import warnings\n",
    "warnings.filterwarnings(\"ignore\")"
   ]
  },
  {
   "cell_type": "code",
   "execution_count": 2,
   "id": "688959d2",
   "metadata": {},
   "outputs": [],
   "source": [
    "#driver\n",
    "driver=webdriver.Edge('msedgedriver.exe')"
   ]
  },
  {
   "cell_type": "code",
   "execution_count": 3,
   "id": "9c361f69",
   "metadata": {},
   "outputs": [],
   "source": [
    "# locate webpage\n",
    "driver.get(\"https://www.naukri.com/\")"
   ]
  },
  {
   "cell_type": "code",
   "execution_count": 4,
   "id": "af0b8cb8",
   "metadata": {},
   "outputs": [],
   "source": [
    "#Enter Search\n",
    "designation=driver.find_element(By.CLASS_NAME,\"suggestor-input \")\n",
    "designation.send_keys('Data Scientist')\n",
    "\n",
    "#submit Query\n",
    "Search=driver.find_element(By.CLASS_NAME,\"qsbSubmit\")\n",
    "Search.click()"
   ]
  },
  {
   "cell_type": "code",
   "execution_count": 5,
   "id": "4ebd8df0",
   "metadata": {},
   "outputs": [],
   "source": [
    "#filter location\n",
    "loc=driver.find_element(By.XPATH,\"//*[@id='root']/div[3]/div[2]/section[1]/div[2]/div[5]/div[2]/div[5]/a\")\n",
    "loc.click()"
   ]
  },
  {
   "cell_type": "code",
   "execution_count": 6,
   "id": "991609c5",
   "metadata": {},
   "outputs": [],
   "source": [
    "#Set loacation\n",
    "delhi_ncr=driver.find_element(By.XPATH,\"//*[@id='tooltip']/div[2]/div[1]/div/div[1]/div[3]/label/i\")\n",
    "delhi_ncr.click()"
   ]
  },
  {
   "cell_type": "code",
   "execution_count": 7,
   "id": "9ef1a2bd",
   "metadata": {},
   "outputs": [],
   "source": [
    "apply1=driver.find_element(By.CLASS_NAME,\"filter-apply-btn\")\n",
    "apply1.click()"
   ]
  },
  {
   "cell_type": "code",
   "execution_count": 9,
   "id": "b645c14d",
   "metadata": {},
   "outputs": [],
   "source": [
    "salary=driver.find_element(By.XPATH,'//*[@id=\"root\"]/div[3]/div[2]/section[1]/div[2]/div[6]/div[2]/div[2]/label/i')\n",
    "salary.click()"
   ]
  },
  {
   "cell_type": "code",
   "execution_count": 10,
   "id": "93ca04eb",
   "metadata": {},
   "outputs": [],
   "source": [
    "#empty list\n",
    "Job_Type=[]\n",
    "Company=[]\n",
    "Location=[]\n",
    "Ratings=[]\n",
    "\n",
    "Job_title=driver.find_elements(By.XPATH,'//a[@class=\"title fw500 ellipsis\"]')\n",
    "for i in Job_title[0:10]:\n",
    "    job=i.text\n",
    "    Job_Type.append(job)\n",
    "    \n",
    "Com_title=driver.find_elements(By.XPATH,'//a[@class=\"subTitle ellipsis fleft\"]')\n",
    "for i in Com_title[0:10]:\n",
    "    co=i.text\n",
    "    Company.append(co)\n",
    "    \n",
    "Loc_title=driver.find_elements(By.XPATH,'//li[@class=\"fleft grey-text br2 placeHolderLi location\"]')\n",
    "for i in Loc_title[0:10]:\n",
    "    loc=i.text\n",
    "    Location.append(loc)\n",
    "    \n",
    "Rate_title=driver.find_elements(By.XPATH,'//span[@class=\"starRating fleft dot\"]')\n",
    "for i in Rate_title[0:10]:\n",
    "    rate=i.text\n",
    "    Ratings.append(rate)"
   ]
  },
  {
   "cell_type": "code",
   "execution_count": 11,
   "id": "af4bfca4",
   "metadata": {},
   "outputs": [
    {
     "name": "stdout",
     "output_type": "stream",
     "text": [
      "10 10 10 10\n"
     ]
    }
   ],
   "source": [
    "print(len(Job_Type),len(Company),len(Location),len(Ratings))"
   ]
  },
  {
   "cell_type": "code",
   "execution_count": 12,
   "id": "fd07eb64",
   "metadata": {},
   "outputs": [],
   "source": [
    "df3=pd.DataFrame({'Job_Title':Job_Type,'Company_Name':Company,'Location':Location,'Ratings':Ratings})"
   ]
  },
  {
   "cell_type": "code",
   "execution_count": 13,
   "id": "58ac287a",
   "metadata": {},
   "outputs": [
    {
     "data": {
      "text/html": [
       "<div>\n",
       "<style scoped>\n",
       "    .dataframe tbody tr th:only-of-type {\n",
       "        vertical-align: middle;\n",
       "    }\n",
       "\n",
       "    .dataframe tbody tr th {\n",
       "        vertical-align: top;\n",
       "    }\n",
       "\n",
       "    .dataframe thead th {\n",
       "        text-align: right;\n",
       "    }\n",
       "</style>\n",
       "<table border=\"1\" class=\"dataframe\">\n",
       "  <thead>\n",
       "    <tr style=\"text-align: right;\">\n",
       "      <th></th>\n",
       "      <th>Job_Title</th>\n",
       "      <th>Company_Name</th>\n",
       "      <th>Location</th>\n",
       "      <th>Ratings</th>\n",
       "    </tr>\n",
       "  </thead>\n",
       "  <tbody>\n",
       "    <tr>\n",
       "      <th>0</th>\n",
       "      <td>Job||Job Opening For AI Technologist - Data Sc...</td>\n",
       "      <td>Wipro</td>\n",
       "      <td>New Delhi, Hyderabad/Secunderabad, Pune, Chenn...</td>\n",
       "      <td>3.9</td>\n",
       "    </tr>\n",
       "    <tr>\n",
       "      <th>1</th>\n",
       "      <td>Data Scientist - Noida/Bangalore</td>\n",
       "      <td>EXL</td>\n",
       "      <td>Noida, Bangalore/Bengaluru</td>\n",
       "      <td>3.8</td>\n",
       "    </tr>\n",
       "    <tr>\n",
       "      <th>2</th>\n",
       "      <td>DigitalBCG GAMMA Data Scientist</td>\n",
       "      <td>Boston Consulting Group</td>\n",
       "      <td>New Delhi, Bangalore/Bengaluru</td>\n",
       "      <td>4.1</td>\n",
       "    </tr>\n",
       "    <tr>\n",
       "      <th>3</th>\n",
       "      <td>Data Scientist - Predictive Analytics</td>\n",
       "      <td>Confidential</td>\n",
       "      <td>Noida, Mumbai, Chandigarh, Hyderabad/Secundera...</td>\n",
       "      <td>4.1</td>\n",
       "    </tr>\n",
       "    <tr>\n",
       "      <th>4</th>\n",
       "      <td>Data Scientist</td>\n",
       "      <td>Optum</td>\n",
       "      <td>Gurgaon/Gurugram</td>\n",
       "      <td>4.2</td>\n",
       "    </tr>\n",
       "    <tr>\n",
       "      <th>5</th>\n",
       "      <td>Chat-bot Developer / Data Scientist</td>\n",
       "      <td>Big Seo Buzz</td>\n",
       "      <td>Mumbai, New Delhi, Bangalore/Bengaluru\\n(WFH d...</td>\n",
       "      <td>4.0</td>\n",
       "    </tr>\n",
       "    <tr>\n",
       "      <th>6</th>\n",
       "      <td>Data Scientist / Chat-bot Developer</td>\n",
       "      <td>Big Seo Buzz</td>\n",
       "      <td>New Delhi, Bangalore/Bengaluru, Mumbai (All Ar...</td>\n",
       "      <td>4.1</td>\n",
       "    </tr>\n",
       "    <tr>\n",
       "      <th>7</th>\n",
       "      <td>Data Scientist - Engine Algorithm</td>\n",
       "      <td>Primo Hiring</td>\n",
       "      <td>Delhi / NCR, Kolkata, Mumbai, Hyderabad/Secund...</td>\n",
       "      <td>3.6</td>\n",
       "    </tr>\n",
       "    <tr>\n",
       "      <th>8</th>\n",
       "      <td>Data Scientist For Healthcare Product team</td>\n",
       "      <td>SECUREKLOUD TECHNOLOGIES</td>\n",
       "      <td>Delhi / NCR, Chennai, Bangalore/Bengaluru</td>\n",
       "      <td>3.5</td>\n",
       "    </tr>\n",
       "    <tr>\n",
       "      <th>9</th>\n",
       "      <td>Data Scientist</td>\n",
       "      <td>Celebal Technologies</td>\n",
       "      <td>Noida, Gurgaon/Gurugram, Jaipur</td>\n",
       "      <td>5.0</td>\n",
       "    </tr>\n",
       "  </tbody>\n",
       "</table>\n",
       "</div>"
      ],
      "text/plain": [
       "                                           Job_Title  \\\n",
       "0  Job||Job Opening For AI Technologist - Data Sc...   \n",
       "1                   Data Scientist - Noida/Bangalore   \n",
       "2                    DigitalBCG GAMMA Data Scientist   \n",
       "3              Data Scientist - Predictive Analytics   \n",
       "4                                     Data Scientist   \n",
       "5                Chat-bot Developer / Data Scientist   \n",
       "6                Data Scientist / Chat-bot Developer   \n",
       "7                  Data Scientist - Engine Algorithm   \n",
       "8         Data Scientist For Healthcare Product team   \n",
       "9                                     Data Scientist   \n",
       "\n",
       "               Company_Name  \\\n",
       "0                     Wipro   \n",
       "1                       EXL   \n",
       "2   Boston Consulting Group   \n",
       "3              Confidential   \n",
       "4                     Optum   \n",
       "5              Big Seo Buzz   \n",
       "6              Big Seo Buzz   \n",
       "7              Primo Hiring   \n",
       "8  SECUREKLOUD TECHNOLOGIES   \n",
       "9      Celebal Technologies   \n",
       "\n",
       "                                            Location Ratings  \n",
       "0  New Delhi, Hyderabad/Secunderabad, Pune, Chenn...     3.9  \n",
       "1                         Noida, Bangalore/Bengaluru     3.8  \n",
       "2                     New Delhi, Bangalore/Bengaluru     4.1  \n",
       "3  Noida, Mumbai, Chandigarh, Hyderabad/Secundera...     4.1  \n",
       "4                                   Gurgaon/Gurugram     4.2  \n",
       "5  Mumbai, New Delhi, Bangalore/Bengaluru\\n(WFH d...     4.0  \n",
       "6  New Delhi, Bangalore/Bengaluru, Mumbai (All Ar...     4.1  \n",
       "7  Delhi / NCR, Kolkata, Mumbai, Hyderabad/Secund...     3.6  \n",
       "8          Delhi / NCR, Chennai, Bangalore/Bengaluru     3.5  \n",
       "9                    Noida, Gurgaon/Gurugram, Jaipur     5.0  "
      ]
     },
     "execution_count": 13,
     "metadata": {},
     "output_type": "execute_result"
    }
   ],
   "source": [
    "df3"
   ]
  },
  {
   "cell_type": "raw",
   "id": "8b4ec48e",
   "metadata": {},
   "source": [
    "Q4:\n",
    "Scrape data of first 100 sunglasses listings on flipkart.com. You have to scrape four attributes:\n",
    "1. Brand\n",
    "2. Product Description\n",
    "3. Price"
   ]
  },
  {
   "cell_type": "code",
   "execution_count": 1,
   "id": "1d8584b8",
   "metadata": {},
   "outputs": [],
   "source": [
    "import selenium\n",
    "from selenium import webdriver\n",
    "from selenium.webdriver.common.by import By\n",
    "from selenium.common.exceptions import NoSuchElementException\n",
    "from selenium.common.exceptions import StaleElementReferenceException\n",
    "import pandas as pd\n",
    "import time\n",
    "import warnings\n",
    "warnings.filterwarnings(\"ignore\")"
   ]
  },
  {
   "cell_type": "code",
   "execution_count": 2,
   "id": "74344040",
   "metadata": {},
   "outputs": [],
   "source": [
    "# calling driver\n",
    "driver=webdriver.Edge(r\"msedgedriver.exe\")\n",
    "\n",
    "# find web page\n",
    "driver.get(\"https://www.flipkart.com\")"
   ]
  },
  {
   "cell_type": "code",
   "execution_count": 3,
   "id": "4142c1b4",
   "metadata": {},
   "outputs": [],
   "source": [
    "# closing unwanted pop-out\n",
    "\n",
    "close_tab=driver.find_element(By.XPATH,'/html/body/div[2]/div/div/button')\n",
    "close_tab.click()"
   ]
  },
  {
   "cell_type": "code",
   "execution_count": 4,
   "id": "fad26e65",
   "metadata": {},
   "outputs": [],
   "source": [
    "# Enter search\n",
    "search=driver.find_element(By.CLASS_NAME,\"_3704LK\")\n",
    "search.send_keys(\"Sunglasses\")"
   ]
  },
  {
   "cell_type": "code",
   "execution_count": 5,
   "id": "bd08c4e1",
   "metadata": {},
   "outputs": [],
   "source": [
    "path=driver.find_element(By.XPATH,'/html/body/div[1]/div/div[1]/div[1]/div[2]/div[2]/form/div/button')\n",
    "path.click()"
   ]
  },
  {
   "cell_type": "code",
   "execution_count": 6,
   "id": "43b30b76",
   "metadata": {},
   "outputs": [
    {
     "data": {
      "text/plain": [
       "[<selenium.webdriver.remote.webelement.WebElement (session=\"a636502c90b40e21a7e72c41b63290af\", element=\"a2a64d56-a0a4-4f6a-bf1e-55600422064d\")>,\n",
       " <selenium.webdriver.remote.webelement.WebElement (session=\"a636502c90b40e21a7e72c41b63290af\", element=\"5787a103-17ba-4a4c-95c4-6f606008313d\")>,\n",
       " <selenium.webdriver.remote.webelement.WebElement (session=\"a636502c90b40e21a7e72c41b63290af\", element=\"46226e21-483c-4efc-be99-bb7135f1a844\")>,\n",
       " <selenium.webdriver.remote.webelement.WebElement (session=\"a636502c90b40e21a7e72c41b63290af\", element=\"a6732480-758b-4fb8-baaa-ef1c8766ed9a\")>,\n",
       " <selenium.webdriver.remote.webelement.WebElement (session=\"a636502c90b40e21a7e72c41b63290af\", element=\"243da29b-6813-4eb7-a57d-5f1123a5a3ef\")>]"
      ]
     },
     "execution_count": 6,
     "metadata": {},
     "output_type": "execute_result"
    }
   ],
   "source": [
    "#fetch by url brand\n",
    "url_brand=driver.find_elements(By.XPATH,'//div[@class=\"_2WkVRV\"]')\n",
    "url_brand[0:5]"
   ]
  },
  {
   "cell_type": "code",
   "execution_count": 7,
   "id": "ce462efc",
   "metadata": {},
   "outputs": [
    {
     "data": {
      "text/plain": [
       "[<selenium.webdriver.remote.webelement.WebElement (session=\"a636502c90b40e21a7e72c41b63290af\", element=\"d18ee197-1ef8-4d2d-9b5b-0358369af1eb\")>,\n",
       " <selenium.webdriver.remote.webelement.WebElement (session=\"a636502c90b40e21a7e72c41b63290af\", element=\"1e43e529-616a-4603-836d-66da492bf708\")>,\n",
       " <selenium.webdriver.remote.webelement.WebElement (session=\"a636502c90b40e21a7e72c41b63290af\", element=\"1761fe9b-3343-41b3-b1bc-21fcfbad4589\")>,\n",
       " <selenium.webdriver.remote.webelement.WebElement (session=\"a636502c90b40e21a7e72c41b63290af\", element=\"28cacc13-352b-4891-8adb-7846787f95b4\")>,\n",
       " <selenium.webdriver.remote.webelement.WebElement (session=\"a636502c90b40e21a7e72c41b63290af\", element=\"658bcad6-bebb-4a37-bb7e-dccad4eb31cd\")>]"
      ]
     },
     "execution_count": 7,
     "metadata": {},
     "output_type": "execute_result"
    }
   ],
   "source": [
    "#fetch price\n",
    "url_price=driver.find_elements(By.XPATH,'//a[@class=\"_3bPFwb\"]')\n",
    "url_price[0:5]"
   ]
  },
  {
   "cell_type": "code",
   "execution_count": 8,
   "id": "72eac57c",
   "metadata": {},
   "outputs": [
    {
     "data": {
      "text/plain": [
       "[<selenium.webdriver.remote.webelement.WebElement (session=\"a636502c90b40e21a7e72c41b63290af\", element=\"b0b7f183-8171-468d-b7bc-dc191c6a5747\")>,\n",
       " <selenium.webdriver.remote.webelement.WebElement (session=\"a636502c90b40e21a7e72c41b63290af\", element=\"5be99eed-1964-4a91-bc8f-cb7c2eb56b95\")>,\n",
       " <selenium.webdriver.remote.webelement.WebElement (session=\"a636502c90b40e21a7e72c41b63290af\", element=\"f1833382-6429-4840-8967-f93ce5dcb632\")>,\n",
       " <selenium.webdriver.remote.webelement.WebElement (session=\"a636502c90b40e21a7e72c41b63290af\", element=\"e6cc8336-0c38-4a26-88b1-74a4a2902267\")>,\n",
       " <selenium.webdriver.remote.webelement.WebElement (session=\"a636502c90b40e21a7e72c41b63290af\", element=\"386f595c-fc44-4756-a7aa-6a4f6b07e5aa\")>]"
      ]
     },
     "execution_count": 8,
     "metadata": {},
     "output_type": "execute_result"
    }
   ],
   "source": [
    "#checking= urls\n",
    "url_tag=driver.find_elements(By.XPATH,'//a[@class=\"IRpwTa\"]')\n",
    "url_tag[0:5]"
   ]
  },
  {
   "cell_type": "code",
   "execution_count": 9,
   "id": "a1e18e78",
   "metadata": {},
   "outputs": [
    {
     "data": {
      "text/plain": [
       "[<selenium.webdriver.remote.webelement.WebElement (session=\"a636502c90b40e21a7e72c41b63290af\", element=\"d8b6c6d8-fd0e-4315-83ec-31f6646a12d9\")>]"
      ]
     },
     "execution_count": 9,
     "metadata": {},
     "output_type": "execute_result"
    }
   ],
   "source": [
    "next_url=driver.find_elements(By.XPATH,'//a[@class=\"_1LKTO3\"]')\n",
    "next_url[0:5]"
   ]
  },
  {
   "cell_type": "code",
   "execution_count": 10,
   "id": "84aedd0f",
   "metadata": {},
   "outputs": [
    {
     "data": {
      "text/plain": [
       "160"
      ]
     },
     "execution_count": 10,
     "metadata": {},
     "output_type": "execute_result"
    }
   ],
   "source": [
    "# Brand Name (fetch all the Url)\n",
    "Brand_Name=[]\n",
    "start=0\n",
    "end=4\n",
    "\n",
    "for i in range(start,end):\n",
    "    B_title=driver.find_elements(By.XPATH,'//div[@class=\"_2WkVRV\"]')\n",
    "    for i in B_title:\n",
    "        Brand_Name.append(i.text)\n",
    "        \n",
    "    time.sleep(3)\n",
    "len(Brand_Name)"
   ]
  },
  {
   "cell_type": "code",
   "execution_count": 11,
   "id": "3d30071c",
   "metadata": {},
   "outputs": [
    {
     "name": "stdout",
     "output_type": "stream",
     "text": [
      "160\n"
     ]
    }
   ],
   "source": [
    "# checking product category\n",
    "Product_Description=[]\n",
    "\n",
    "for i in range(start,end):\n",
    "    P_title=driver.find_elements(By.XPATH,'//a[@class=\"IRpwTa\"]')\n",
    "    for i in P_title:\n",
    "        Product_Description.append(i.text)\n",
    "    \n",
    "    next_button=driver.find_element(By.XPATH,'//a[@class=\"_1LKTO3\"]')\n",
    "    next_button.click()\n",
    "    time.sleep(3)\n",
    "print(len(Product_Description))"
   ]
  },
  {
   "cell_type": "code",
   "execution_count": 12,
   "id": "bf10b4f8",
   "metadata": {},
   "outputs": [
    {
     "data": {
      "text/plain": [
       "160"
      ]
     },
     "execution_count": 12,
     "metadata": {},
     "output_type": "execute_result"
    }
   ],
   "source": [
    "# checking price\n",
    "Price=[]\n",
    "\n",
    "for i in range(start,end):\n",
    "    r_title=driver.find_elements(By.XPATH,'//div[@class=\"_30jeq3\"]')\n",
    "    for i in r_title:\n",
    "        Price.append(i.text)\n",
    "        \n",
    "    next_button=driver.find_element(By.XPATH,'//a[@class=\"_1LKTO3\"]')\n",
    "    next_button.click()\n",
    "    time.sleep(3)\n",
    "    \n",
    "len(Price)"
   ]
  },
  {
   "cell_type": "code",
   "execution_count": 13,
   "id": "661ef1b2",
   "metadata": {},
   "outputs": [
    {
     "data": {
      "text/plain": [
       "160"
      ]
     },
     "execution_count": 13,
     "metadata": {},
     "output_type": "execute_result"
    }
   ],
   "source": [
    "#appending discount\n",
    "\n",
    "Discount=[]\n",
    "for i in range(start,end):\n",
    "    dis_title=driver.find_elements(By.XPATH,'//div[@class=\"_3Ay6Sb\"]//span')\n",
    "    for i in dis_title:\n",
    "        Discount.append(i.text)\n",
    "        \n",
    "    next_button=driver.find_element(By.XPATH,'//a[@class=\"_1LKTO3\"]')\n",
    "    next_button.click()\n",
    "    \n",
    "    time.sleep(3)\n",
    "len(Discount)"
   ]
  },
  {
   "cell_type": "code",
   "execution_count": 16,
   "id": "8010f96d",
   "metadata": {},
   "outputs": [],
   "source": [
    "df4=pd.DataFrame({'Brand_Name':Brand_Name[0:100],'Product_Description':Product_Description[0:100],'Product_Price':Price[0:100],'Discount':Discount[0:100]})"
   ]
  },
  {
   "cell_type": "code",
   "execution_count": 17,
   "id": "781090f0",
   "metadata": {},
   "outputs": [
    {
     "data": {
      "text/html": [
       "<div>\n",
       "<style scoped>\n",
       "    .dataframe tbody tr th:only-of-type {\n",
       "        vertical-align: middle;\n",
       "    }\n",
       "\n",
       "    .dataframe tbody tr th {\n",
       "        vertical-align: top;\n",
       "    }\n",
       "\n",
       "    .dataframe thead th {\n",
       "        text-align: right;\n",
       "    }\n",
       "</style>\n",
       "<table border=\"1\" class=\"dataframe\">\n",
       "  <thead>\n",
       "    <tr style=\"text-align: right;\">\n",
       "      <th></th>\n",
       "      <th>Brand_Name</th>\n",
       "      <th>Product_Description</th>\n",
       "      <th>Product_Price</th>\n",
       "      <th>Discount</th>\n",
       "    </tr>\n",
       "  </thead>\n",
       "  <tbody>\n",
       "    <tr>\n",
       "      <th>0</th>\n",
       "      <td>VINCENT CHASE</td>\n",
       "      <td>by Lenskart Polarized, UV Protection Aviator S...</td>\n",
       "      <td>₹1,415</td>\n",
       "      <td>29% off</td>\n",
       "    </tr>\n",
       "    <tr>\n",
       "      <th>1</th>\n",
       "      <td>VINCENT CHASE</td>\n",
       "      <td>by Lenskart Polarized, UV Protection Aviator S...</td>\n",
       "      <td>₹999</td>\n",
       "      <td>50% off</td>\n",
       "    </tr>\n",
       "    <tr>\n",
       "      <th>2</th>\n",
       "      <td>Fastrack</td>\n",
       "      <td>UV Protection Wayfarer Sunglasses (Free Size)</td>\n",
       "      <td>₹799</td>\n",
       "      <td>20% off</td>\n",
       "    </tr>\n",
       "    <tr>\n",
       "      <th>3</th>\n",
       "      <td>DAHAAZIL</td>\n",
       "      <td>UV Protection, Night Vision, Riding Glasses Wa...</td>\n",
       "      <td>₹204</td>\n",
       "      <td>79% off</td>\n",
       "    </tr>\n",
       "    <tr>\n",
       "      <th>4</th>\n",
       "      <td>SRPM</td>\n",
       "      <td>UV Protection Wayfarer Sunglasses (50)</td>\n",
       "      <td>₹211</td>\n",
       "      <td>83% off</td>\n",
       "    </tr>\n",
       "    <tr>\n",
       "      <th>...</th>\n",
       "      <td>...</td>\n",
       "      <td>...</td>\n",
       "      <td>...</td>\n",
       "      <td>...</td>\n",
       "    </tr>\n",
       "    <tr>\n",
       "      <th>95</th>\n",
       "      <td>VINCENT CHASE</td>\n",
       "      <td>by Lenskart Polarized, UV Protection Aviator S...</td>\n",
       "      <td>₹1,049</td>\n",
       "      <td>47% off</td>\n",
       "    </tr>\n",
       "    <tr>\n",
       "      <th>96</th>\n",
       "      <td>NuVew</td>\n",
       "      <td>Riding Glasses, Night Vision Spectacle Sunglas...</td>\n",
       "      <td>₹199</td>\n",
       "      <td>80% off</td>\n",
       "    </tr>\n",
       "    <tr>\n",
       "      <th>97</th>\n",
       "      <td>ROZZETTA CRAFT</td>\n",
       "      <td>UV Protection Shield Sunglasses (Free Size)</td>\n",
       "      <td>₹719</td>\n",
       "      <td>75% off</td>\n",
       "    </tr>\n",
       "    <tr>\n",
       "      <th>98</th>\n",
       "      <td>Fastrack</td>\n",
       "      <td>Polarized, Riding Glasses Sports, Wrap-around ...</td>\n",
       "      <td>₹499</td>\n",
       "      <td>20% off</td>\n",
       "    </tr>\n",
       "    <tr>\n",
       "      <th>99</th>\n",
       "      <td>VINCENT CHASE</td>\n",
       "      <td>by Lenskart Polarized, UV Protection Aviator S...</td>\n",
       "      <td>₹949</td>\n",
       "      <td>52% off</td>\n",
       "    </tr>\n",
       "  </tbody>\n",
       "</table>\n",
       "<p>100 rows × 4 columns</p>\n",
       "</div>"
      ],
      "text/plain": [
       "        Brand_Name                                Product_Description  \\\n",
       "0    VINCENT CHASE  by Lenskart Polarized, UV Protection Aviator S...   \n",
       "1    VINCENT CHASE  by Lenskart Polarized, UV Protection Aviator S...   \n",
       "2         Fastrack      UV Protection Wayfarer Sunglasses (Free Size)   \n",
       "3         DAHAAZIL  UV Protection, Night Vision, Riding Glasses Wa...   \n",
       "4             SRPM             UV Protection Wayfarer Sunglasses (50)   \n",
       "..             ...                                                ...   \n",
       "95   VINCENT CHASE  by Lenskart Polarized, UV Protection Aviator S...   \n",
       "96           NuVew  Riding Glasses, Night Vision Spectacle Sunglas...   \n",
       "97  ROZZETTA CRAFT        UV Protection Shield Sunglasses (Free Size)   \n",
       "98        Fastrack  Polarized, Riding Glasses Sports, Wrap-around ...   \n",
       "99   VINCENT CHASE  by Lenskart Polarized, UV Protection Aviator S...   \n",
       "\n",
       "   Product_Price Discount  \n",
       "0         ₹1,415  29% off  \n",
       "1           ₹999  50% off  \n",
       "2           ₹799  20% off  \n",
       "3           ₹204  79% off  \n",
       "4           ₹211  83% off  \n",
       "..           ...      ...  \n",
       "95        ₹1,049  47% off  \n",
       "96          ₹199  80% off  \n",
       "97          ₹719  75% off  \n",
       "98          ₹499  20% off  \n",
       "99          ₹949  52% off  \n",
       "\n",
       "[100 rows x 4 columns]"
      ]
     },
     "execution_count": 17,
     "metadata": {},
     "output_type": "execute_result"
    }
   ],
   "source": [
    "df4"
   ]
  },
  {
   "cell_type": "markdown",
   "id": "a5add1c6",
   "metadata": {},
   "source": [
    "-----------------"
   ]
  },
  {
   "cell_type": "raw",
   "id": "2793b43a",
   "metadata": {},
   "source": [
    "Q5: Scrape 100 reviews data from flipkart.com for iphone11 phone."
   ]
  },
  {
   "cell_type": "code",
   "execution_count": 1,
   "id": "dc1e01d8",
   "metadata": {},
   "outputs": [],
   "source": [
    "import selenium\n",
    "from selenium import webdriver\n",
    "from selenium.webdriver.common.by import By\n",
    "from selenium.common.exceptions import NoSuchElementException\n",
    "from selenium.common.exceptions import StaleElementReferenceException\n",
    "import pandas as pd\n",
    "import time\n",
    "import warnings\n",
    "warnings.filterwarnings(\"ignore\")"
   ]
  },
  {
   "cell_type": "code",
   "execution_count": 2,
   "id": "c0abb72c",
   "metadata": {},
   "outputs": [],
   "source": [
    "driver=webdriver.Edge(r\"msedgedriver.exe\")\n",
    "driver.get(r\"https://www.flipkart.com\")"
   ]
  },
  {
   "cell_type": "code",
   "execution_count": 3,
   "id": "cf58d4f9",
   "metadata": {},
   "outputs": [],
   "source": [
    "close_tab=driver.find_element(By.XPATH,'//button[@class=\"_2KpZ6l _2doB4z\"]')\n",
    "close_tab.click()"
   ]
  },
  {
   "cell_type": "code",
   "execution_count": 4,
   "id": "f320a5ab",
   "metadata": {},
   "outputs": [],
   "source": [
    "search=driver.find_element(By.XPATH,'//input[@class=\"_3704LK\"]')\n",
    "search.send_keys(\"iphone 11\")"
   ]
  },
  {
   "cell_type": "code",
   "execution_count": 5,
   "id": "ce2d81f1",
   "metadata": {},
   "outputs": [],
   "source": [
    "search_find=driver.find_element(By.XPATH,'//*[@id=\"container\"]/div/div[1]/div[1]/div[2]/div[2]/form/div/button')\n",
    "search_find.click()"
   ]
  },
  {
   "cell_type": "code",
   "execution_count": 6,
   "id": "dcc9b63e",
   "metadata": {},
   "outputs": [],
   "source": [
    "phone_link=driver.find_element(By.XPATH,'//div[@class=\"_4rR01T\"]')\n",
    "phone_link.click()"
   ]
  },
  {
   "cell_type": "code",
   "execution_count": 7,
   "id": "dd9f7804",
   "metadata": {},
   "outputs": [],
   "source": [
    "driver.switch_to.window(driver.window_handles[1]) "
   ]
  },
  {
   "cell_type": "code",
   "execution_count": 8,
   "id": "8b08611c",
   "metadata": {},
   "outputs": [],
   "source": [
    "all_reviews=driver.find_element(By.XPATH,'//*[@id=\"container\"]/div/div[3]/div[1]/div[2]/div[9]/div[6]/div/a/div')\n",
    "all_reviews.click()"
   ]
  },
  {
   "cell_type": "code",
   "execution_count": 9,
   "id": "248d1dc6",
   "metadata": {},
   "outputs": [
    {
     "name": "stdout",
     "output_type": "stream",
     "text": [
      "200\n"
     ]
    }
   ],
   "source": [
    "Ratings=[]\n",
    "start=0\n",
    "end=20\n",
    "for i in range(start,end):\n",
    "    for i in driver.find_elements(By.XPATH,'//div[@class=\"_3LWZlK _1BLPMq\"]'):\n",
    "        Ratings.append(i.text)\n",
    "    \n",
    "print(len(Ratings))"
   ]
  },
  {
   "cell_type": "code",
   "execution_count": 10,
   "id": "f78a2b25",
   "metadata": {},
   "outputs": [
    {
     "data": {
      "text/plain": [
       "200"
      ]
     },
     "execution_count": 10,
     "metadata": {},
     "output_type": "execute_result"
    }
   ],
   "source": [
    "Review_Summary=[]\n",
    "for i in range(start,end):\n",
    "    for i in driver.find_elements(By.XPATH,'//p[@class=\"_2-N8zT\"]'):\n",
    "        Review_Summary.append(i.text)\n",
    "\n",
    "len(Review_Summary)"
   ]
  },
  {
   "cell_type": "code",
   "execution_count": 11,
   "id": "dac5d759",
   "metadata": {},
   "outputs": [
    {
     "data": {
      "text/plain": [
       "200"
      ]
     },
     "execution_count": 11,
     "metadata": {},
     "output_type": "execute_result"
    }
   ],
   "source": [
    "Full_comment=[]\n",
    "\n",
    "for i in range(start,end):\n",
    "    for i in driver.find_elements(By.XPATH,'//div[@class=\"t-ZTKy\"]'):\n",
    "        Full_comment.append(i.text.strip())\n",
    "        \n",
    "len(Full_comment)"
   ]
  },
  {
   "cell_type": "code",
   "execution_count": 12,
   "id": "c76b1897",
   "metadata": {},
   "outputs": [],
   "source": [
    "df5=pd.DataFrame({\"Phone Ratings\": Ratings[0:100],'Review_Summary':Review_Summary[0:100],'Full_Comments':Full_comment[0:100]})"
   ]
  },
  {
   "cell_type": "code",
   "execution_count": 13,
   "id": "c70e3eb4",
   "metadata": {},
   "outputs": [
    {
     "data": {
      "text/html": [
       "<div>\n",
       "<style scoped>\n",
       "    .dataframe tbody tr th:only-of-type {\n",
       "        vertical-align: middle;\n",
       "    }\n",
       "\n",
       "    .dataframe tbody tr th {\n",
       "        vertical-align: top;\n",
       "    }\n",
       "\n",
       "    .dataframe thead th {\n",
       "        text-align: right;\n",
       "    }\n",
       "</style>\n",
       "<table border=\"1\" class=\"dataframe\">\n",
       "  <thead>\n",
       "    <tr style=\"text-align: right;\">\n",
       "      <th></th>\n",
       "      <th>Phone Ratings</th>\n",
       "      <th>Review_Summary</th>\n",
       "      <th>Full_Comments</th>\n",
       "    </tr>\n",
       "  </thead>\n",
       "  <tbody>\n",
       "    <tr>\n",
       "      <th>0</th>\n",
       "      <td>5</td>\n",
       "      <td>Simply awesome</td>\n",
       "      <td>Really satisfied with the Product I received.....</td>\n",
       "    </tr>\n",
       "    <tr>\n",
       "      <th>1</th>\n",
       "      <td>5</td>\n",
       "      <td>Perfect product!</td>\n",
       "      <td>Amazing phone with great cameras and better ba...</td>\n",
       "    </tr>\n",
       "    <tr>\n",
       "      <th>2</th>\n",
       "      <td>5</td>\n",
       "      <td>Best in the market!</td>\n",
       "      <td>Great iPhone very snappy experience as apple k...</td>\n",
       "    </tr>\n",
       "    <tr>\n",
       "      <th>3</th>\n",
       "      <td>5</td>\n",
       "      <td>Highly recommended</td>\n",
       "      <td>What a camera .....just awesome ..you can feel...</td>\n",
       "    </tr>\n",
       "    <tr>\n",
       "      <th>4</th>\n",
       "      <td>5</td>\n",
       "      <td>Worth every penny</td>\n",
       "      <td>Previously I was using one plus 3t it was a gr...</td>\n",
       "    </tr>\n",
       "    <tr>\n",
       "      <th>...</th>\n",
       "      <td>...</td>\n",
       "      <td>...</td>\n",
       "      <td>...</td>\n",
       "    </tr>\n",
       "    <tr>\n",
       "      <th>95</th>\n",
       "      <td>5</td>\n",
       "      <td>Fabulous!</td>\n",
       "      <td>This is my first iOS phone. I am very happy wi...</td>\n",
       "    </tr>\n",
       "    <tr>\n",
       "      <th>96</th>\n",
       "      <td>5</td>\n",
       "      <td>Great product</td>\n",
       "      <td>Amazing Powerful and Durable Gadget.\\n\\nI’m am...</td>\n",
       "    </tr>\n",
       "    <tr>\n",
       "      <th>97</th>\n",
       "      <td>5</td>\n",
       "      <td>Worth every penny</td>\n",
       "      <td>i11 is worthy to buy, too much happy with the ...</td>\n",
       "    </tr>\n",
       "    <tr>\n",
       "      <th>98</th>\n",
       "      <td>5</td>\n",
       "      <td>Highly recommended</td>\n",
       "      <td>It's my first time to use iOS phone and I am l...</td>\n",
       "    </tr>\n",
       "    <tr>\n",
       "      <th>99</th>\n",
       "      <td>4</td>\n",
       "      <td>Good choice</td>\n",
       "      <td>So far it’s been an AMAZING experience coming ...</td>\n",
       "    </tr>\n",
       "  </tbody>\n",
       "</table>\n",
       "<p>100 rows × 3 columns</p>\n",
       "</div>"
      ],
      "text/plain": [
       "   Phone Ratings       Review_Summary  \\\n",
       "0              5       Simply awesome   \n",
       "1              5     Perfect product!   \n",
       "2              5  Best in the market!   \n",
       "3              5   Highly recommended   \n",
       "4              5    Worth every penny   \n",
       "..           ...                  ...   \n",
       "95             5            Fabulous!   \n",
       "96             5        Great product   \n",
       "97             5    Worth every penny   \n",
       "98             5   Highly recommended   \n",
       "99             4          Good choice   \n",
       "\n",
       "                                        Full_Comments  \n",
       "0   Really satisfied with the Product I received.....  \n",
       "1   Amazing phone with great cameras and better ba...  \n",
       "2   Great iPhone very snappy experience as apple k...  \n",
       "3   What a camera .....just awesome ..you can feel...  \n",
       "4   Previously I was using one plus 3t it was a gr...  \n",
       "..                                                ...  \n",
       "95  This is my first iOS phone. I am very happy wi...  \n",
       "96  Amazing Powerful and Durable Gadget.\\n\\nI’m am...  \n",
       "97  i11 is worthy to buy, too much happy with the ...  \n",
       "98  It's my first time to use iOS phone and I am l...  \n",
       "99  So far it’s been an AMAZING experience coming ...  \n",
       "\n",
       "[100 rows x 3 columns]"
      ]
     },
     "execution_count": 13,
     "metadata": {},
     "output_type": "execute_result"
    }
   ],
   "source": [
    "df5"
   ]
  },
  {
   "cell_type": "raw",
   "id": "638d614a",
   "metadata": {},
   "source": [
    "Q6.\n",
    "Scrape data for first 100 sneakers you find when you visit flipkart.com and search for “sneakers” in the\n",
    "search field.\n",
    "You have to scrape 4 attributes of each sneaker:\n",
    "1. Brand\n",
    "2. Product Description\n",
    "3. Price"
   ]
  },
  {
   "cell_type": "code",
   "execution_count": 1,
   "id": "f6ad6251",
   "metadata": {},
   "outputs": [],
   "source": [
    "import selenium\n",
    "from selenium import webdriver\n",
    "from selenium.webdriver.common.by import By\n",
    "from selenium.common.exceptions import NoSuchElementException\n",
    "from selenium.common.exceptions import StaleElementReferenceException\n",
    "import pandas as pd\n",
    "import time\n",
    "import warnings\n",
    "warnings.filterwarnings(\"ignore\")"
   ]
  },
  {
   "cell_type": "code",
   "execution_count": 2,
   "id": "2259c7d9",
   "metadata": {},
   "outputs": [],
   "source": [
    "# calling driver\n",
    "driver=webdriver.Edge(r\"msedgedriver.exe\")\n",
    "\n",
    "#web search\n",
    "driver.get(\"https://www.flipkart.com\")"
   ]
  },
  {
   "cell_type": "code",
   "execution_count": 3,
   "id": "d2d20beb",
   "metadata": {},
   "outputs": [],
   "source": [
    "#closing pop out\n",
    "escape=driver.find_element(By.XPATH,'//button[@class=\"_2KpZ6l _2doB4z\"]')\n",
    "escape.click()"
   ]
  },
  {
   "cell_type": "code",
   "execution_count": 4,
   "id": "91ce344a",
   "metadata": {},
   "outputs": [],
   "source": [
    "#Query\n",
    "search=driver.find_element(By.XPATH,'//input[@class=\"_3704LK\"]')\n",
    "search.send_keys(\"sneakers\")\n",
    "\n",
    "#Query search \n",
    "find=driver.find_element(By.XPATH,'//*[@id=\"container\"]/div/div[1]/div[1]/div[2]/div[2]/form/div/button')\n",
    "find.click()"
   ]
  },
  {
   "cell_type": "code",
   "execution_count": 5,
   "id": "9b09570e",
   "metadata": {},
   "outputs": [
    {
     "name": "stdout",
     "output_type": "stream",
     "text": [
      "120\n"
     ]
    }
   ],
   "source": [
    "start=0\n",
    "end=3\n",
    "\n",
    "Brand=[]\n",
    "\n",
    "for i in range(start,end):\n",
    "    for i in driver.find_elements(By.XPATH,'//div[@class=\"_2WkVRV\"]'):\n",
    "        Brand.append(i.text)\n",
    "    time.sleep(3)\n",
    "        \n",
    "print(len(Brand))"
   ]
  },
  {
   "cell_type": "code",
   "execution_count": 6,
   "id": "5592a3f8",
   "metadata": {},
   "outputs": [
    {
     "name": "stdout",
     "output_type": "stream",
     "text": [
      "105\n"
     ]
    }
   ],
   "source": [
    "Product_Description=[]\n",
    "\n",
    "for i in range(start,end):\n",
    "    for i in driver.find_elements(By.XPATH,'//a[@class=\"IRpwTa\"]'):\n",
    "        Product_Description.append(i.text)\n",
    "    time.sleep(3)\n",
    "        \n",
    "print(len(Product_Description))"
   ]
  },
  {
   "cell_type": "code",
   "execution_count": 7,
   "id": "5894d3a4",
   "metadata": {},
   "outputs": [
    {
     "name": "stdout",
     "output_type": "stream",
     "text": [
      "120\n"
     ]
    }
   ],
   "source": [
    "Price=[]\n",
    "\n",
    "for i in range(start,end):\n",
    "    for i in driver.find_elements(By.XPATH,'//div[@class=\"_30jeq3\"]'):\n",
    "        Price.append(i.text)\n",
    "    time.sleep(3)\n",
    "        \n",
    "print(len(Price))"
   ]
  },
  {
   "cell_type": "code",
   "execution_count": 8,
   "id": "2b82db6c",
   "metadata": {},
   "outputs": [],
   "source": [
    "# data frame\n",
    "df6=pd.DataFrame({'Brand_Name':Brand[0:100],'Product_Description':Product_Description[0:100],'Price':Price[0:100]})"
   ]
  },
  {
   "cell_type": "code",
   "execution_count": 9,
   "id": "3c07b2f4",
   "metadata": {},
   "outputs": [
    {
     "data": {
      "text/html": [
       "<div>\n",
       "<style scoped>\n",
       "    .dataframe tbody tr th:only-of-type {\n",
       "        vertical-align: middle;\n",
       "    }\n",
       "\n",
       "    .dataframe tbody tr th {\n",
       "        vertical-align: top;\n",
       "    }\n",
       "\n",
       "    .dataframe thead th {\n",
       "        text-align: right;\n",
       "    }\n",
       "</style>\n",
       "<table border=\"1\" class=\"dataframe\">\n",
       "  <thead>\n",
       "    <tr style=\"text-align: right;\">\n",
       "      <th></th>\n",
       "      <th>Brand_Name</th>\n",
       "      <th>Product_Description</th>\n",
       "      <th>Price</th>\n",
       "    </tr>\n",
       "  </thead>\n",
       "  <tbody>\n",
       "    <tr>\n",
       "      <th>0</th>\n",
       "      <td>RapidBox</td>\n",
       "      <td>Mesh | Ultralightweight | Comfortable | Breath...</td>\n",
       "      <td>₹610</td>\n",
       "    </tr>\n",
       "    <tr>\n",
       "      <th>1</th>\n",
       "      <td>RapidBox</td>\n",
       "      <td>Sneakers For Women</td>\n",
       "      <td>₹640</td>\n",
       "    </tr>\n",
       "    <tr>\n",
       "      <th>2</th>\n",
       "      <td>aadi</td>\n",
       "      <td>Puma Smash Wns v2 L Sneakers For Women</td>\n",
       "      <td>₹374</td>\n",
       "    </tr>\n",
       "    <tr>\n",
       "      <th>3</th>\n",
       "      <td>Deals4you</td>\n",
       "      <td>supr Sneakers For Men</td>\n",
       "      <td>₹373</td>\n",
       "    </tr>\n",
       "    <tr>\n",
       "      <th>4</th>\n",
       "      <td>PUMA</td>\n",
       "      <td>Super Stylish &amp; Trendy Combo Pack of 02 Pairs ...</td>\n",
       "      <td>₹1,542</td>\n",
       "    </tr>\n",
       "    <tr>\n",
       "      <th>...</th>\n",
       "      <td>...</td>\n",
       "      <td>...</td>\n",
       "      <td>...</td>\n",
       "    </tr>\n",
       "    <tr>\n",
       "      <th>95</th>\n",
       "      <td>Scull Wings</td>\n",
       "      <td>Casual Sneakers Black Outdoor Shoes For Boys A...</td>\n",
       "      <td>₹549</td>\n",
       "    </tr>\n",
       "    <tr>\n",
       "      <th>96</th>\n",
       "      <td>PUMA</td>\n",
       "      <td>DEMON High-top casual shoe with Flat outsole h...</td>\n",
       "      <td>₹2,115</td>\n",
       "    </tr>\n",
       "    <tr>\n",
       "      <th>97</th>\n",
       "      <td>Numenzo</td>\n",
       "      <td>Caracal Sneakers For Men</td>\n",
       "      <td>₹449</td>\n",
       "    </tr>\n",
       "    <tr>\n",
       "      <th>98</th>\n",
       "      <td>Deals4you</td>\n",
       "      <td>White Sneaker For Men's/Boy's Sneakers For Men</td>\n",
       "      <td>₹479</td>\n",
       "    </tr>\n",
       "    <tr>\n",
       "      <th>99</th>\n",
       "      <td>Old Skool</td>\n",
       "      <td>Luxury Branded Fashionable Men's Casual Walkin...</td>\n",
       "      <td>₹1,599</td>\n",
       "    </tr>\n",
       "  </tbody>\n",
       "</table>\n",
       "<p>100 rows × 3 columns</p>\n",
       "</div>"
      ],
      "text/plain": [
       "     Brand_Name                                Product_Description   Price\n",
       "0      RapidBox  Mesh | Ultralightweight | Comfortable | Breath...    ₹610\n",
       "1      RapidBox                                 Sneakers For Women    ₹640\n",
       "2          aadi             Puma Smash Wns v2 L Sneakers For Women    ₹374\n",
       "3     Deals4you                              supr Sneakers For Men    ₹373\n",
       "4          PUMA  Super Stylish & Trendy Combo Pack of 02 Pairs ...  ₹1,542\n",
       "..          ...                                                ...     ...\n",
       "95  Scull Wings  Casual Sneakers Black Outdoor Shoes For Boys A...    ₹549\n",
       "96         PUMA  DEMON High-top casual shoe with Flat outsole h...  ₹2,115\n",
       "97      Numenzo                           Caracal Sneakers For Men    ₹449\n",
       "98    Deals4you     White Sneaker For Men's/Boy's Sneakers For Men    ₹479\n",
       "99    Old Skool  Luxury Branded Fashionable Men's Casual Walkin...  ₹1,599\n",
       "\n",
       "[100 rows x 3 columns]"
      ]
     },
     "execution_count": 9,
     "metadata": {},
     "output_type": "execute_result"
    }
   ],
   "source": [
    "df6"
   ]
  },
  {
   "cell_type": "raw",
   "id": "3f5d2870",
   "metadata": {},
   "source": [
    "Q7.\n",
    "Go to the link - https://www.myntra.com/shoes.Set second Price filter and Color filter to “Black”, as shown in the below image.\n",
    "And then scrape First 100 shoes data you get. The data should include “Brand” of the shoes , Short Shoe description, price of the shoe as shown in the below image."
   ]
  },
  {
   "cell_type": "code",
   "execution_count": 1,
   "id": "877eb9b7",
   "metadata": {},
   "outputs": [],
   "source": [
    "import selenium\n",
    "from selenium import webdriver\n",
    "from selenium.webdriver.common.by import By \n",
    "from selenium.common.exceptions import NoSuchElementException\n",
    "from selenium.common.exceptions import StaleElementReferenceException\n",
    "import pandas as pd\n",
    "import time\n",
    "import warnings\n",
    "warnings.filterwarnings(\"ignore\")"
   ]
  },
  {
   "cell_type": "code",
   "execution_count": 2,
   "id": "5d6a1a4e",
   "metadata": {},
   "outputs": [],
   "source": [
    "driver=webdriver.Edge(\"msedgedriver.exe\")\n",
    "driver.get(\"https://www.myntra.com\")"
   ]
  },
  {
   "cell_type": "code",
   "execution_count": 3,
   "id": "debf901a",
   "metadata": {},
   "outputs": [],
   "source": [
    "#search content\n",
    "search=driver.find_element(By.XPATH,'//input[@placeholder=\"Search for products, brands and more\"]')\n",
    "search.send_keys(\"shoes\")\n",
    "\n",
    "#Query search\n",
    "find=driver.find_element(By.XPATH,'//*[@id=\"desktop-header-cnt\"]/div[2]/div[3]/a')\n",
    "find.click()"
   ]
  },
  {
   "cell_type": "code",
   "execution_count": 5,
   "id": "fd4fa983",
   "metadata": {},
   "outputs": [],
   "source": [
    "#filter color\n",
    "filter_color=driver.find_element(By.XPATH,'//*[@id=\"mountRoot\"]/div/div[1]/main/div[3]/div[1]/section/div/div[6]/ul/li[1]/label')\n",
    "filter_color.click()"
   ]
  },
  {
   "cell_type": "code",
   "execution_count": 6,
   "id": "57ba11e4",
   "metadata": {},
   "outputs": [],
   "source": [
    "#filter price\n",
    "filter_price=driver.find_element(By.XPATH,'//*[@id=\"mountRoot\"]/div/div[1]/main/div[3]/div[1]/section/div/div[5]/ul/li[2]/label')\n",
    "filter_price.click()"
   ]
  },
  {
   "cell_type": "code",
   "execution_count": 7,
   "id": "389a9f34",
   "metadata": {},
   "outputs": [
    {
     "data": {
      "text/plain": [
       "[<selenium.webdriver.remote.webelement.WebElement (session=\"01ea2abe02f097ed8ed16f6a0ad85a20\", element=\"c6fc27a3-e04d-404a-b240-53e0ffb9309d\")>,\n",
       " <selenium.webdriver.remote.webelement.WebElement (session=\"01ea2abe02f097ed8ed16f6a0ad85a20\", element=\"b50d5043-2e0c-4d2f-a753-ab32774ab31c\")>,\n",
       " <selenium.webdriver.remote.webelement.WebElement (session=\"01ea2abe02f097ed8ed16f6a0ad85a20\", element=\"af37be68-6d2e-4a9c-a061-2998541d254f\")>,\n",
       " <selenium.webdriver.remote.webelement.WebElement (session=\"01ea2abe02f097ed8ed16f6a0ad85a20\", element=\"725bf476-e78c-406e-a3b7-0818273ad16a\")>,\n",
       " <selenium.webdriver.remote.webelement.WebElement (session=\"01ea2abe02f097ed8ed16f6a0ad85a20\", element=\"633c3a82-9379-4ec2-80d6-baab08927384\")>]"
      ]
     },
     "execution_count": 7,
     "metadata": {},
     "output_type": "execute_result"
    }
   ],
   "source": [
    "#checking urls\n",
    "\n",
    "url_tag=driver.find_elements(By.XPATH,'//a[@target=\"_blank\"]')\n",
    "url_tag[0:5]"
   ]
  },
  {
   "cell_type": "code",
   "execution_count": 8,
   "id": "1cd3bc57",
   "metadata": {},
   "outputs": [
    {
     "data": {
      "text/plain": [
       "[<selenium.webdriver.remote.webelement.WebElement (session=\"01ea2abe02f097ed8ed16f6a0ad85a20\", element=\"98d9a307-db13-49fa-bb9b-b3d82e633186\")>]"
      ]
     },
     "execution_count": 8,
     "metadata": {},
     "output_type": "execute_result"
    }
   ],
   "source": [
    "url_next=driver.find_elements(By.XPATH,'//link[@rel=\"next\"]')\n",
    "url_next[0:5]"
   ]
  },
  {
   "cell_type": "code",
   "execution_count": 9,
   "id": "06d6ed7f",
   "metadata": {},
   "outputs": [],
   "source": [
    "Company_Brand=[]\n",
    "Shoe_Discription=[]\n",
    "Shoe_price=[]\n",
    "\n",
    "start=0\n",
    "end=3\n",
    "for i in range(start,end):\n",
    "    for i in driver.find_elements(By.XPATH,'//h3[@class=\"product-brand\"]'):\n",
    "        Company_Brand.append(i.text)\n",
    "\n",
    "    time.sleep(3)\n",
    "\n",
    "for i in range(start,end):\n",
    "    for i in driver.find_elements(By.XPATH,'//h4[@class=\"product-product\"]'):\n",
    "        Shoe_Discription.append(i.text)\n",
    "    \n",
    "    time.sleep(3)\n",
    "\n",
    "for i in range(start,end):\n",
    "    for i in driver.find_elements(By.XPATH,'//div[@class=\"product-price\"]'):\n",
    "        Shoe_price.append(i.text)\n",
    "    time.sleep(3)        "
   ]
  },
  {
   "cell_type": "code",
   "execution_count": 10,
   "id": "16625a6e",
   "metadata": {},
   "outputs": [
    {
     "name": "stdout",
     "output_type": "stream",
     "text": [
      "150 150 150\n"
     ]
    }
   ],
   "source": [
    "print(len(Company_Brand),len(Shoe_Discription),len(Shoe_price))"
   ]
  },
  {
   "cell_type": "code",
   "execution_count": 11,
   "id": "b79cdca3",
   "metadata": {},
   "outputs": [],
   "source": [
    "df7=pd.DataFrame({'Company_Brand':Company_Brand[0:100],'Shoe_Discription':Shoe_Discription[0:100],'Shoe_price':Shoe_price[0:100]})"
   ]
  },
  {
   "cell_type": "code",
   "execution_count": 12,
   "id": "a81764ff",
   "metadata": {},
   "outputs": [
    {
     "data": {
      "text/html": [
       "<div>\n",
       "<style scoped>\n",
       "    .dataframe tbody tr th:only-of-type {\n",
       "        vertical-align: middle;\n",
       "    }\n",
       "\n",
       "    .dataframe tbody tr th {\n",
       "        vertical-align: top;\n",
       "    }\n",
       "\n",
       "    .dataframe thead th {\n",
       "        text-align: right;\n",
       "    }\n",
       "</style>\n",
       "<table border=\"1\" class=\"dataframe\">\n",
       "  <thead>\n",
       "    <tr style=\"text-align: right;\">\n",
       "      <th></th>\n",
       "      <th>Company_Brand</th>\n",
       "      <th>Shoe_Discription</th>\n",
       "      <th>Shoe_price</th>\n",
       "    </tr>\n",
       "  </thead>\n",
       "  <tbody>\n",
       "    <tr>\n",
       "      <th>0</th>\n",
       "      <td>Nike</td>\n",
       "      <td>Men ZOOM WINFLO8 Running Shoes</td>\n",
       "      <td>Rs. 7050Rs. 8295(15% OFF)</td>\n",
       "    </tr>\n",
       "    <tr>\n",
       "      <th>1</th>\n",
       "      <td>Skechers</td>\n",
       "      <td>Men Max Cushioning Running</td>\n",
       "      <td>Rs. 7199Rs. 8999(20% OFF)</td>\n",
       "    </tr>\n",
       "    <tr>\n",
       "      <th>2</th>\n",
       "      <td>Nike</td>\n",
       "      <td>Men React Infinity 3 Running</td>\n",
       "      <td>Rs. 10496Rs. 13995(25% OFF)</td>\n",
       "    </tr>\n",
       "    <tr>\n",
       "      <th>3</th>\n",
       "      <td>Nike</td>\n",
       "      <td>Men JORDAN LOW Basketball Shoe</td>\n",
       "      <td>Rs. 10875Rs. 12795(15% OFF)</td>\n",
       "    </tr>\n",
       "    <tr>\n",
       "      <th>4</th>\n",
       "      <td>Hush Puppies</td>\n",
       "      <td>Men Solid Leather Formal Slip-Ons</td>\n",
       "      <td>Rs. 7649Rs. 8999(15% OFF)</td>\n",
       "    </tr>\n",
       "    <tr>\n",
       "      <th>...</th>\n",
       "      <td>...</td>\n",
       "      <td>...</td>\n",
       "      <td>...</td>\n",
       "    </tr>\n",
       "    <tr>\n",
       "      <th>95</th>\n",
       "      <td>ADIDAS Originals</td>\n",
       "      <td>Men Retropy F90 Sneakers</td>\n",
       "      <td>Rs. 9999</td>\n",
       "    </tr>\n",
       "    <tr>\n",
       "      <th>96</th>\n",
       "      <td>ADIDAS</td>\n",
       "      <td>Men Adizero Adios 7 Running</td>\n",
       "      <td>Rs. 9599Rs. 11999(20% OFF)</td>\n",
       "    </tr>\n",
       "    <tr>\n",
       "      <th>97</th>\n",
       "      <td>Puma</td>\n",
       "      <td>Men Fast-Trac Nitro Running</td>\n",
       "      <td>Rs. 8799Rs. 10999(20% OFF)</td>\n",
       "    </tr>\n",
       "    <tr>\n",
       "      <th>98</th>\n",
       "      <td>ROSSO BRUNELLO</td>\n",
       "      <td>Men Textured Leather Loafers</td>\n",
       "      <td>Rs. 11499</td>\n",
       "    </tr>\n",
       "    <tr>\n",
       "      <th>99</th>\n",
       "      <td>ROSSO BRUNELLO</td>\n",
       "      <td>Men Printed Leather Monks</td>\n",
       "      <td>Rs. 12999</td>\n",
       "    </tr>\n",
       "  </tbody>\n",
       "</table>\n",
       "<p>100 rows × 3 columns</p>\n",
       "</div>"
      ],
      "text/plain": [
       "       Company_Brand                   Shoe_Discription  \\\n",
       "0               Nike     Men ZOOM WINFLO8 Running Shoes   \n",
       "1           Skechers         Men Max Cushioning Running   \n",
       "2               Nike       Men React Infinity 3 Running   \n",
       "3               Nike     Men JORDAN LOW Basketball Shoe   \n",
       "4       Hush Puppies  Men Solid Leather Formal Slip-Ons   \n",
       "..               ...                                ...   \n",
       "95  ADIDAS Originals           Men Retropy F90 Sneakers   \n",
       "96            ADIDAS        Men Adizero Adios 7 Running   \n",
       "97              Puma        Men Fast-Trac Nitro Running   \n",
       "98    ROSSO BRUNELLO       Men Textured Leather Loafers   \n",
       "99    ROSSO BRUNELLO          Men Printed Leather Monks   \n",
       "\n",
       "                     Shoe_price  \n",
       "0     Rs. 7050Rs. 8295(15% OFF)  \n",
       "1     Rs. 7199Rs. 8999(20% OFF)  \n",
       "2   Rs. 10496Rs. 13995(25% OFF)  \n",
       "3   Rs. 10875Rs. 12795(15% OFF)  \n",
       "4     Rs. 7649Rs. 8999(15% OFF)  \n",
       "..                          ...  \n",
       "95                     Rs. 9999  \n",
       "96   Rs. 9599Rs. 11999(20% OFF)  \n",
       "97   Rs. 8799Rs. 10999(20% OFF)  \n",
       "98                    Rs. 11499  \n",
       "99                    Rs. 12999  \n",
       "\n",
       "[100 rows x 3 columns]"
      ]
     },
     "execution_count": 12,
     "metadata": {},
     "output_type": "execute_result"
    }
   ],
   "source": [
    "df7"
   ]
  },
  {
   "cell_type": "markdown",
   "id": "f60ec0a0",
   "metadata": {},
   "source": [
    "Q8: Go to webpage https://www.amazon.in/.Enter “Laptop” in the search field and then click the search icon.\n",
    "\n",
    "Then set CPU Type filter to “Intel Core i7” as shown in the below image: After setting the filters scrape first 10 laptops data. You have to scrape 3 attributes for each laptop:\n",
    "1. Title\n",
    "2. Ratings\n",
    "3. Price"
   ]
  },
  {
   "cell_type": "code",
   "execution_count": 1,
   "id": "0a247e39",
   "metadata": {},
   "outputs": [],
   "source": [
    "import selenium\n",
    "from selenium import webdriver\n",
    "from selenium.webdriver.common.by import By\n",
    "from selenium.common.exceptions import NoSuchElementException\n",
    "from selenium.common.exceptions import StaleElementReferenceException\n",
    "import pandas as pd\n",
    "import time\n",
    "import warnings\n",
    "warnings.filterwarnings(\"ignore\")"
   ]
  },
  {
   "cell_type": "code",
   "execution_count": 2,
   "id": "b04a57ce",
   "metadata": {},
   "outputs": [],
   "source": [
    "#calling driver\n",
    "driver=webdriver.Edge(r\"msedgedriver.exe\")\n",
    "\n",
    "#moving to website\n",
    "driver.get(\"https://www.amazon.in/\")"
   ]
  },
  {
   "cell_type": "code",
   "execution_count": 3,
   "id": "32e1bd9e",
   "metadata": {},
   "outputs": [],
   "source": [
    "# search\n",
    "search=driver.find_element(By.XPATH,'//input[@type=\"text\"]')\n",
    "search.send_keys(\"Laptop\")"
   ]
  },
  {
   "cell_type": "code",
   "execution_count": 4,
   "id": "d6ea8aa5",
   "metadata": {},
   "outputs": [],
   "source": [
    "# procced with search\n",
    "find_search=driver.find_element(By.XPATH,'//input[@id=\"nav-search-submit-button\"]')\n",
    "find_search.click()"
   ]
  },
  {
   "cell_type": "code",
   "execution_count": 5,
   "id": "4216c3b8",
   "metadata": {},
   "outputs": [],
   "source": [
    "#filter\n",
    "i7_filter=driver.find_element(By.XPATH,'//*[@id=\"p_n_feature_thirteen_browse-bin/12598163031\"]/span/a/span')\n",
    "i7_filter.click()"
   ]
  },
  {
   "cell_type": "code",
   "execution_count": 7,
   "id": "2b83c9be",
   "metadata": {},
   "outputs": [],
   "source": [
    "#empty list\n",
    "Title=[]\n",
    "Rating_by=[]\n",
    "Price=[]\n",
    "\n",
    "for i in driver.find_elements(By.XPATH,'//span[@class=\"a-size-medium a-color-base a-text-normal\"]')[0:10]:\n",
    "    Title.append(i.text)\n",
    "    \n",
    "for i in driver.find_elements(By.XPATH,'//span[@class=\"a-price-whole\"]')[0:10]:\n",
    "    Price.append(i.text)"
   ]
  },
  {
   "cell_type": "code",
   "execution_count": 8,
   "id": "04b66530",
   "metadata": {},
   "outputs": [],
   "source": [
    "for i in driver.find_elements(By.XPATH,'//span[@class=\"a-size-base s-underline-text\"]')[0:10]:\n",
    "    Rating_by.append(i.text)"
   ]
  },
  {
   "cell_type": "code",
   "execution_count": 9,
   "id": "d45ef4c9",
   "metadata": {},
   "outputs": [
    {
     "name": "stdout",
     "output_type": "stream",
     "text": [
      "['23', '25', '19', '1', '23', '26', '16', '1', '16', '4']\n"
     ]
    }
   ],
   "source": [
    "print(Rating_by)"
   ]
  },
  {
   "cell_type": "code",
   "execution_count": 10,
   "id": "e95690e4",
   "metadata": {},
   "outputs": [
    {
     "name": "stdout",
     "output_type": "stream",
     "text": [
      "10 10 10\n"
     ]
    }
   ],
   "source": [
    "print(len(Title),len(Rating_by),len(Price))"
   ]
  },
  {
   "cell_type": "code",
   "execution_count": 12,
   "id": "d7abbd38",
   "metadata": {},
   "outputs": [],
   "source": [
    "df8=pd.DataFrame({\"Laptop_Name\":Title,\"Ratings\":Rating_by,\"Price\":Price})"
   ]
  },
  {
   "cell_type": "code",
   "execution_count": 13,
   "id": "5637e1a8",
   "metadata": {},
   "outputs": [
    {
     "data": {
      "text/html": [
       "<div>\n",
       "<style scoped>\n",
       "    .dataframe tbody tr th:only-of-type {\n",
       "        vertical-align: middle;\n",
       "    }\n",
       "\n",
       "    .dataframe tbody tr th {\n",
       "        vertical-align: top;\n",
       "    }\n",
       "\n",
       "    .dataframe thead th {\n",
       "        text-align: right;\n",
       "    }\n",
       "</style>\n",
       "<table border=\"1\" class=\"dataframe\">\n",
       "  <thead>\n",
       "    <tr style=\"text-align: right;\">\n",
       "      <th></th>\n",
       "      <th>Laptop_Name</th>\n",
       "      <th>Ratings</th>\n",
       "      <th>Price</th>\n",
       "    </tr>\n",
       "  </thead>\n",
       "  <tbody>\n",
       "    <tr>\n",
       "      <th>0</th>\n",
       "      <td>Lenovo Ideapad Gaming 3 Intel Core i7 10th Gen...</td>\n",
       "      <td>23</td>\n",
       "      <td>62,990</td>\n",
       "    </tr>\n",
       "    <tr>\n",
       "      <th>1</th>\n",
       "      <td>ASUS Vivobook 15, 15.6-inch (39.62 cms) FHD, I...</td>\n",
       "      <td>25</td>\n",
       "      <td>56,590</td>\n",
       "    </tr>\n",
       "    <tr>\n",
       "      <th>2</th>\n",
       "      <td>HP Pavilion Plus, 12th Gen Intel Core i7 16GB ...</td>\n",
       "      <td>19</td>\n",
       "      <td>89,990</td>\n",
       "    </tr>\n",
       "    <tr>\n",
       "      <th>3</th>\n",
       "      <td>Lenovo IdeaPad Slim 5 Intel Core i7 12th Gen 1...</td>\n",
       "      <td>1</td>\n",
       "      <td>81,990</td>\n",
       "    </tr>\n",
       "    <tr>\n",
       "      <th>4</th>\n",
       "      <td>Hp Pavilion X360 11Th Gen Intel Core I7 14 Inc...</td>\n",
       "      <td>23</td>\n",
       "      <td>82,400</td>\n",
       "    </tr>\n",
       "    <tr>\n",
       "      <th>5</th>\n",
       "      <td>Samsung Galaxy Book2 Intel 12th Gen core i7 39...</td>\n",
       "      <td>26</td>\n",
       "      <td>79,490</td>\n",
       "    </tr>\n",
       "    <tr>\n",
       "      <th>6</th>\n",
       "      <td>HP Pavilion 14 12th Gen Intel Core i7 16GB SDR...</td>\n",
       "      <td>16</td>\n",
       "      <td>87,990</td>\n",
       "    </tr>\n",
       "    <tr>\n",
       "      <th>7</th>\n",
       "      <td>(Renewed) Dell Intel 6th Gen Core i7-6820HQ 15...</td>\n",
       "      <td>1</td>\n",
       "      <td>43,198</td>\n",
       "    </tr>\n",
       "    <tr>\n",
       "      <th>8</th>\n",
       "      <td>(Renewed) Dell Latitude E7470 Intel Core i7 6t...</td>\n",
       "      <td>16</td>\n",
       "      <td>38,705</td>\n",
       "    </tr>\n",
       "    <tr>\n",
       "      <th>9</th>\n",
       "      <td>MSI Modern 14, Intel i7-1195G7, 14\" FHD IPS-Le...</td>\n",
       "      <td>4</td>\n",
       "      <td>59,990</td>\n",
       "    </tr>\n",
       "  </tbody>\n",
       "</table>\n",
       "</div>"
      ],
      "text/plain": [
       "                                         Laptop_Name Ratings   Price\n",
       "0  Lenovo Ideapad Gaming 3 Intel Core i7 10th Gen...      23  62,990\n",
       "1  ASUS Vivobook 15, 15.6-inch (39.62 cms) FHD, I...      25  56,590\n",
       "2  HP Pavilion Plus, 12th Gen Intel Core i7 16GB ...      19  89,990\n",
       "3  Lenovo IdeaPad Slim 5 Intel Core i7 12th Gen 1...       1  81,990\n",
       "4  Hp Pavilion X360 11Th Gen Intel Core I7 14 Inc...      23  82,400\n",
       "5  Samsung Galaxy Book2 Intel 12th Gen core i7 39...      26  79,490\n",
       "6  HP Pavilion 14 12th Gen Intel Core i7 16GB SDR...      16  87,990\n",
       "7  (Renewed) Dell Intel 6th Gen Core i7-6820HQ 15...       1  43,198\n",
       "8  (Renewed) Dell Latitude E7470 Intel Core i7 6t...      16  38,705\n",
       "9  MSI Modern 14, Intel i7-1195G7, 14\" FHD IPS-Le...       4  59,990"
      ]
     },
     "execution_count": 13,
     "metadata": {},
     "output_type": "execute_result"
    }
   ],
   "source": [
    "df8"
   ]
  },
  {
   "cell_type": "markdown",
   "id": "77d0589b",
   "metadata": {},
   "source": [
    "Q9: \n",
    "Write a python program to scrape data for first 10 job results for Data Scientist Designation in Noida location. You have to scrape company name, No. of days ago when job was posted, Rating of the company. \n",
    "This task will be done in following steps:\n",
    "    \n",
    "1. First get the webpage https://www.ambitionbox.com/\n",
    "2. Click on the Job option as shown in the image\n",
    "3. After reaching to the next webpage, In place of “Search by Designations, Companies, Skills” enter “Data Scientist” and click on search button.\n",
    "4. You will reach to the following web page click on location and in place of “Search location” enter “Noida” and select location “Noida”.\n",
    "5. Then scrape the data for the first 10 jobs results you get on the above shown page.\n",
    "6. Finally create a dataframe of the scraped data."
   ]
  },
  {
   "cell_type": "code",
   "execution_count": 1,
   "id": "c46e87dd",
   "metadata": {},
   "outputs": [],
   "source": [
    "import selenium\n",
    "from selenium import webdriver\n",
    "from selenium.webdriver.common.by import By\n",
    "from selenium.common.exceptions import NoSuchElementException\n",
    "from selenium.common.exceptions import StaleElementReferenceException\n",
    "import pandas as pd\n",
    "import time\n",
    "import warnings\n",
    "warnings.filterwarnings(\"ignore\")"
   ]
  },
  {
   "cell_type": "code",
   "execution_count": 2,
   "id": "8f2a16eb",
   "metadata": {},
   "outputs": [],
   "source": [
    "#loading driver and fetching website\n",
    "driver=webdriver.Edge(\"msedgedriver.exe\")\n",
    "driver.get(\" https://www.ambitionbox.com/\")"
   ]
  },
  {
   "cell_type": "code",
   "execution_count": 3,
   "id": "78665073",
   "metadata": {},
   "outputs": [],
   "source": [
    "#job title\n",
    "job_title=driver.find_element(By.CLASS_NAME,\"navItemLink\")\n",
    "job_title.click()\n",
    "\n",
    "#searching\n",
    "search=driver.find_element(By.XPATH,'//*[@id=\"jobs-typeahead\"]/span/input')\n",
    "search.send_keys(\"Data Scientist\")\n",
    "\n",
    "#placing query\n",
    "find_search=driver.find_element(By.XPATH,'//*[@id=\"jobs\"]/div[2]/div[1]/div[1]/div/div/div/button')\n",
    "find_search.click()"
   ]
  },
  {
   "cell_type": "code",
   "execution_count": 4,
   "id": "22f168fe",
   "metadata": {},
   "outputs": [],
   "source": [
    "#seting pointer location\n",
    "loc_pointer=driver.find_element(By.XPATH,'//*[@id=\"filters-row\"]/div/div/div[2]/div[1]/i')\n",
    "loc_pointer.click()\n",
    "\n",
    "#insert search\n",
    "enter_loc=driver.find_element(By.XPATH,'//*[@id=\"filters-row\"]/div/div/div[2]/div[2]/div/div[2]/input')\n",
    "enter_loc.send_keys(\"Noida\")"
   ]
  },
  {
   "cell_type": "code",
   "execution_count": 5,
   "id": "ae2f852c",
   "metadata": {},
   "outputs": [],
   "source": [
    "#searching\n",
    "select_loc=driver.find_element(By.XPATH,'//*[@id=\"filters-row\"]/div/div/div[2]/div[2]/div/div[3]/div[1]/div[1]/div/label')\n",
    "select_loc.click()"
   ]
  },
  {
   "cell_type": "code",
   "execution_count": 6,
   "id": "272ad372",
   "metadata": {},
   "outputs": [
    {
     "name": "stdout",
     "output_type": "stream",
     "text": [
      "['Hiring Data Scientist #productbasecompany #CBRE', 'Data Scientist', 'Data Scientist', 'Data Scientist', 'Associate Manager - Data Scientist', 'Data Scientist', 'Data Scientist', 'Data Scientist - Noida/Bangalore', 'EY - Data Engineer - Data Integration/Modeling (3-8 yrs)', 'Data Scientist Intern']\n"
     ]
    }
   ],
   "source": [
    "#fetching jobs\n",
    "Job_title=[]\n",
    "for i in driver.find_elements(By.XPATH,'//div[@class=\"info\"]//h2'):\n",
    "    Job_title.append(i.text)\n",
    "print(Job_title)"
   ]
  },
  {
   "cell_type": "code",
   "execution_count": 7,
   "id": "a338697c",
   "metadata": {},
   "outputs": [
    {
     "name": "stdout",
     "output_type": "stream",
     "text": [
      "['CBRE South Asia Pvt Ltd', 'Ericsson India Global Services Pvt. Ltd.', 'GENPACT India Private Limited', 'Optum Global Solutions (India) Private Limited', 'Optum Global Solutions (India) Private Limited', 'Ericsson India Global Services Pvt. Ltd.', 'SOPRA STERIA INDIA LIMITED', 'EXL Services.com ( I ) Pvt. Ltd.', 'EY', 'CARE HEALTH INSURANCE LIMITED']\n"
     ]
    }
   ],
   "source": [
    "#fetching company names\n",
    "company_name=[]\n",
    "for i in driver.find_elements(By.XPATH,'//div[@class=\"company-info\"]//p')[2:]:\n",
    "    company_name.append(i.text.strip())\n",
    "print(company_name)"
   ]
  },
  {
   "cell_type": "code",
   "execution_count": 9,
   "id": "842cc699",
   "metadata": {},
   "outputs": [
    {
     "name": "stdout",
     "output_type": "stream",
     "text": [
      "['4.3(2.3k Reviews)', '4.3(5.3k Reviews)', '4.0(19.9k Reviews)', '4.1(1.9k Reviews)', '4.1(1.9k Reviews)', '4.3(5.3k Reviews)', '4.2(1.1k Reviews)', '3.9(5.1k Reviews)', '3.8(7.1k Reviews)', '4.0(911 Reviews)']\n"
     ]
    }
   ],
   "source": [
    "#fetch ratings\n",
    "company_rate=[]\n",
    "for i in driver.find_elements(By.XPATH,'//div[@class=\"rating-wrapper\"]')[4:]:\n",
    "    company_rate.append((i.text).replace(\"\\n\",\"\"))\n",
    "print(company_rate)"
   ]
  },
  {
   "cell_type": "code",
   "execution_count": 10,
   "id": "82906fa7",
   "metadata": {},
   "outputs": [
    {
     "name": "stdout",
     "output_type": "stream",
     "text": [
      "38 ['5-9 Yrs', '₹ 10-20 LPA', 'Hyderabad/Secunderabad, Gurgaon/Gurugram, Noida', 'python, data science, advanced excel +1 more', '4-12 Yrs', 'Not Disclosed', 'Noida', 'CRM, HTML, microsoft +7 more', '6-10 Yrs', 'Not Disclosed', 'Ghaziabad, Gurgaon/Gurugram, Noida', 'python, Artificial Intelligence, data scientist +1 more', '5-10 Yrs', 'Not Disclosed', 'Noida', 'SAS, Power BI, Spark SQL +11 more', '8-13 Yrs', 'Not Disclosed', 'Noida', 'Azure Synapse, Azure Data Factory, Synapse +8 more', '8-12 Yrs', 'Not Disclosed', 'Noida', 'CRM, HTML, microsoft +7 more', '4-5 Yrs', 'Not Disclosed', 'Chennai, Bengaluru/Bangalore, Noida', 'python, machine learning, sql', '5-10 Yrs', 'Not Disclosed', 'Bengaluru/Bangalore, Noida', 'nlp, Artificial Intelligence, Django +3 more', '3-8 Yrs', 'Pune, Bengaluru/Bangalore, Hyderabad/Secunderabad +2 more', 'Data Analytics, Analytics, Predictive Analytics +7 more', '₹ 0.5-0.5 LPA', 'Faridabad, Delhi NCR, Gurgaon/Gurugram +1 more', 'algorithms, python, Data Analysis +2 more']\n"
     ]
    }
   ],
   "source": [
    "#fetching experience,salary,location,role\n",
    "Experience=[]\n",
    "for i in driver.find_elements(By.XPATH,'//div[@class=\"other-info\"]//p'):\n",
    "    Experience.append(i.text.strip())\n",
    "    \n",
    "print(len(Experience),Experience)"
   ]
  },
  {
   "cell_type": "code",
   "execution_count": 12,
   "id": "ef4acc4a",
   "metadata": {},
   "outputs": [
    {
     "name": "stdout",
     "output_type": "stream",
     "text": [
      "10 /n ['5-9 Yrs', '4-12 Yrs', '6-10 Yrs', '5-10 Yrs', '8-13 Yrs', '8-12 Yrs', '4-5 Yrs', '5-10 Yrs', '3-8 Yrs', 'NAN']\n"
     ]
    }
   ],
   "source": [
    "#seperating experience\n",
    "Exp=[]\n",
    "for i in range(0,len(Experience),4)[0:9]:\n",
    "    Exp.append(Experience[i])\n",
    "Exp.append(\"NAN\")\n",
    "print(len(Exp),\"/n\",Exp)\n"
   ]
  },
  {
   "cell_type": "code",
   "execution_count": 13,
   "id": "2e11e462",
   "metadata": {},
   "outputs": [
    {
     "name": "stdout",
     "output_type": "stream",
     "text": [
      "Length 10 /n ['python, data science, advanced excel +1 more', 'CRM, HTML, microsoft +7 more', 'python, Artificial Intelligence, data scientist +1 more', 'SAS, Power BI, Spark SQL +11 more', 'Azure Synapse, Azure Data Factory, Synapse +8 more', 'CRM, HTML, microsoft +7 more', 'python, machine learning, sql', 'nlp, Artificial Intelligence, Django +3 more', 'Data Analytics, Analytics, Predictive Analytics +7 more', 'algorithms, python, Data Analysis +2 more']\n"
     ]
    }
   ],
   "source": [
    "# sheeking skills\n",
    "\n",
    "skill=[]\n",
    "for i in range(3,len(Experience),4)[0:8]:\n",
    "    skill.append(Experience[i])\n",
    "    \n",
    "for i in range(34,len(Experience),3):\n",
    "    skill.append(Experience[i])\n",
    "print(\"Length\",len(skill),\"/n\",skill)"
   ]
  },
  {
   "cell_type": "code",
   "execution_count": 14,
   "id": "50ae004a",
   "metadata": {},
   "outputs": [],
   "source": [
    "df9=pd.DataFrame({\"Company_Name\":company_name,\"Jobs\":Job_title,\"Ratings\":company_rate,\"Experience\":Exp,\"Skill\":skill})"
   ]
  },
  {
   "cell_type": "code",
   "execution_count": 15,
   "id": "6cd0af94",
   "metadata": {},
   "outputs": [
    {
     "data": {
      "text/html": [
       "<div>\n",
       "<style scoped>\n",
       "    .dataframe tbody tr th:only-of-type {\n",
       "        vertical-align: middle;\n",
       "    }\n",
       "\n",
       "    .dataframe tbody tr th {\n",
       "        vertical-align: top;\n",
       "    }\n",
       "\n",
       "    .dataframe thead th {\n",
       "        text-align: right;\n",
       "    }\n",
       "</style>\n",
       "<table border=\"1\" class=\"dataframe\">\n",
       "  <thead>\n",
       "    <tr style=\"text-align: right;\">\n",
       "      <th></th>\n",
       "      <th>Company_Name</th>\n",
       "      <th>Jobs</th>\n",
       "      <th>Ratings</th>\n",
       "      <th>Experience</th>\n",
       "      <th>Skill</th>\n",
       "    </tr>\n",
       "  </thead>\n",
       "  <tbody>\n",
       "    <tr>\n",
       "      <th>0</th>\n",
       "      <td>CBRE South Asia Pvt Ltd</td>\n",
       "      <td>Hiring Data Scientist #productbasecompany #CBRE</td>\n",
       "      <td>4.3(2.3k Reviews)</td>\n",
       "      <td>5-9 Yrs</td>\n",
       "      <td>python, data science, advanced excel +1 more</td>\n",
       "    </tr>\n",
       "    <tr>\n",
       "      <th>1</th>\n",
       "      <td>Ericsson India Global Services Pvt. Ltd.</td>\n",
       "      <td>Data Scientist</td>\n",
       "      <td>4.3(5.3k Reviews)</td>\n",
       "      <td>4-12 Yrs</td>\n",
       "      <td>CRM, HTML, microsoft +7 more</td>\n",
       "    </tr>\n",
       "    <tr>\n",
       "      <th>2</th>\n",
       "      <td>GENPACT India Private Limited</td>\n",
       "      <td>Data Scientist</td>\n",
       "      <td>4.0(19.9k Reviews)</td>\n",
       "      <td>6-10 Yrs</td>\n",
       "      <td>python, Artificial Intelligence, data scientis...</td>\n",
       "    </tr>\n",
       "    <tr>\n",
       "      <th>3</th>\n",
       "      <td>Optum Global Solutions (India) Private Limited</td>\n",
       "      <td>Data Scientist</td>\n",
       "      <td>4.1(1.9k Reviews)</td>\n",
       "      <td>5-10 Yrs</td>\n",
       "      <td>SAS, Power BI, Spark SQL +11 more</td>\n",
       "    </tr>\n",
       "    <tr>\n",
       "      <th>4</th>\n",
       "      <td>Optum Global Solutions (India) Private Limited</td>\n",
       "      <td>Associate Manager - Data Scientist</td>\n",
       "      <td>4.1(1.9k Reviews)</td>\n",
       "      <td>8-13 Yrs</td>\n",
       "      <td>Azure Synapse, Azure Data Factory, Synapse +8 ...</td>\n",
       "    </tr>\n",
       "    <tr>\n",
       "      <th>5</th>\n",
       "      <td>Ericsson India Global Services Pvt. Ltd.</td>\n",
       "      <td>Data Scientist</td>\n",
       "      <td>4.3(5.3k Reviews)</td>\n",
       "      <td>8-12 Yrs</td>\n",
       "      <td>CRM, HTML, microsoft +7 more</td>\n",
       "    </tr>\n",
       "    <tr>\n",
       "      <th>6</th>\n",
       "      <td>SOPRA STERIA INDIA LIMITED</td>\n",
       "      <td>Data Scientist</td>\n",
       "      <td>4.2(1.1k Reviews)</td>\n",
       "      <td>4-5 Yrs</td>\n",
       "      <td>python, machine learning, sql</td>\n",
       "    </tr>\n",
       "    <tr>\n",
       "      <th>7</th>\n",
       "      <td>EXL Services.com ( I ) Pvt. Ltd.</td>\n",
       "      <td>Data Scientist - Noida/Bangalore</td>\n",
       "      <td>3.9(5.1k Reviews)</td>\n",
       "      <td>5-10 Yrs</td>\n",
       "      <td>nlp, Artificial Intelligence, Django +3 more</td>\n",
       "    </tr>\n",
       "    <tr>\n",
       "      <th>8</th>\n",
       "      <td>EY</td>\n",
       "      <td>EY - Data Engineer - Data Integration/Modeling...</td>\n",
       "      <td>3.8(7.1k Reviews)</td>\n",
       "      <td>3-8 Yrs</td>\n",
       "      <td>Data Analytics, Analytics, Predictive Analytic...</td>\n",
       "    </tr>\n",
       "    <tr>\n",
       "      <th>9</th>\n",
       "      <td>CARE HEALTH INSURANCE LIMITED</td>\n",
       "      <td>Data Scientist Intern</td>\n",
       "      <td>4.0(911 Reviews)</td>\n",
       "      <td>NAN</td>\n",
       "      <td>algorithms, python, Data Analysis +2 more</td>\n",
       "    </tr>\n",
       "  </tbody>\n",
       "</table>\n",
       "</div>"
      ],
      "text/plain": [
       "                                     Company_Name  \\\n",
       "0                         CBRE South Asia Pvt Ltd   \n",
       "1        Ericsson India Global Services Pvt. Ltd.   \n",
       "2                   GENPACT India Private Limited   \n",
       "3  Optum Global Solutions (India) Private Limited   \n",
       "4  Optum Global Solutions (India) Private Limited   \n",
       "5        Ericsson India Global Services Pvt. Ltd.   \n",
       "6                      SOPRA STERIA INDIA LIMITED   \n",
       "7                EXL Services.com ( I ) Pvt. Ltd.   \n",
       "8                                              EY   \n",
       "9                   CARE HEALTH INSURANCE LIMITED   \n",
       "\n",
       "                                                Jobs             Ratings  \\\n",
       "0    Hiring Data Scientist #productbasecompany #CBRE   4.3(2.3k Reviews)   \n",
       "1                                     Data Scientist   4.3(5.3k Reviews)   \n",
       "2                                     Data Scientist  4.0(19.9k Reviews)   \n",
       "3                                     Data Scientist   4.1(1.9k Reviews)   \n",
       "4                 Associate Manager - Data Scientist   4.1(1.9k Reviews)   \n",
       "5                                     Data Scientist   4.3(5.3k Reviews)   \n",
       "6                                     Data Scientist   4.2(1.1k Reviews)   \n",
       "7                   Data Scientist - Noida/Bangalore   3.9(5.1k Reviews)   \n",
       "8  EY - Data Engineer - Data Integration/Modeling...   3.8(7.1k Reviews)   \n",
       "9                              Data Scientist Intern    4.0(911 Reviews)   \n",
       "\n",
       "  Experience                                              Skill  \n",
       "0    5-9 Yrs       python, data science, advanced excel +1 more  \n",
       "1   4-12 Yrs                       CRM, HTML, microsoft +7 more  \n",
       "2   6-10 Yrs  python, Artificial Intelligence, data scientis...  \n",
       "3   5-10 Yrs                  SAS, Power BI, Spark SQL +11 more  \n",
       "4   8-13 Yrs  Azure Synapse, Azure Data Factory, Synapse +8 ...  \n",
       "5   8-12 Yrs                       CRM, HTML, microsoft +7 more  \n",
       "6    4-5 Yrs                      python, machine learning, sql  \n",
       "7   5-10 Yrs       nlp, Artificial Intelligence, Django +3 more  \n",
       "8    3-8 Yrs  Data Analytics, Analytics, Predictive Analytic...  \n",
       "9        NAN          algorithms, python, Data Analysis +2 more  "
      ]
     },
     "execution_count": 15,
     "metadata": {},
     "output_type": "execute_result"
    }
   ],
   "source": [
    "df9"
   ]
  },
  {
   "cell_type": "markdown",
   "id": "d39c6a52",
   "metadata": {},
   "source": [
    "Q10:\n",
    "\n",
    "Write a python program to scrape the salary data for Data Scientist designation.You have to scrape \n",
    "Company name,\n",
    "Number of salaries,\n",
    "Average salary\n",
    "Minsalary\n",
    "Max Salary. "
   ]
  },
  {
   "cell_type": "code",
   "execution_count": 1,
   "id": "ad32704b",
   "metadata": {},
   "outputs": [],
   "source": [
    "import selenium\n",
    "from selenium import webdriver\n",
    "from selenium.webdriver.common.by import By\n",
    "from selenium.common.exceptions import NoSuchElementException\n",
    "from selenium.common.exceptions import StaleElementReferenceException\n",
    "import time\n",
    "import pandas as pd\n",
    "\n",
    "import warnings\n",
    "warnings.filterwarnings(\"ignore\")"
   ]
  },
  {
   "cell_type": "code",
   "execution_count": 2,
   "id": "4a8015ed",
   "metadata": {},
   "outputs": [],
   "source": [
    "driver=webdriver.Edge(\"msedgedriver.exe\")\n",
    "driver.get(\"https://www.ambitionbox.com\")"
   ]
  },
  {
   "cell_type": "code",
   "execution_count": 3,
   "id": "02132648",
   "metadata": {},
   "outputs": [],
   "source": [
    "salaries=driver.find_element(By.XPATH,'//*[@id=\"headerWrapper\"]/nav[2]/div/ul/li[3]/a')\n",
    "salaries.click()\n",
    "\n",
    "browse_salary=driver.find_element(By.XPATH,'//a[@title=\"Browse salaries\"]')\n",
    "browse_salary.click()"
   ]
  },
  {
   "cell_type": "code",
   "execution_count": 4,
   "id": "2439d26c",
   "metadata": {},
   "outputs": [],
   "source": [
    "Search_Job=driver.find_element(By.XPATH,'//input[@type=\"searchbox\"]')\n",
    "Search_Job.send_keys(\"Data Scientist\")"
   ]
  },
  {
   "cell_type": "code",
   "execution_count": 5,
   "id": "3f43b9ce",
   "metadata": {},
   "outputs": [],
   "source": [
    "# Name Of Comapany\n",
    "Company_Name=[]\n",
    "for i in driver.find_elements(By.XPATH,'//div[@class=\"company-info\"]//a'):\n",
    "    Company_Name.append((i.text).replace(\"\\nData Scientist Salary\",\"\"))\n",
    "    \n",
    "#Job post\n",
    "Job_Post=[]\n",
    "for i in driver.find_elements(By.XPATH,'//span[@class=\"jp\"]'):\n",
    "    Job_Post.append(i.text)\n",
    "\n",
    "#job experience\n",
    "Job_Exp=[]\n",
    "for i in driver.find_elements(By.XPATH,'//div[@class=\"sbold-list-header\"]'):\n",
    "    Job_Exp.append(i.text)"
   ]
  },
  {
   "cell_type": "code",
   "execution_count": 6,
   "id": "a1a05b3b",
   "metadata": {},
   "outputs": [],
   "source": [
    "#Number of salaries\n",
    "Average_Salary=[]\n",
    "for i in driver.find_elements(By.XPATH,'//div[@class=\"average-indicator-wrapper\"]'):\n",
    "    Average_Salary.append(i.text.strip())   \n",
    "\n",
    "#Minimum and maximum salary reported\n",
    "Min_Max_Salary=[]\n",
    "for i in driver.find_elements(By.XPATH,'//div[@class=\"value body-medium\"]'):\n",
    "    Min_Max_Salary.append(i.text.strip())\n",
    "\n",
    "#Minimum Salary\n",
    "Min_Salary=[]\n",
    "for i in range(0,len(Min_Max_Salary),2):\n",
    "    Min_Salary.append(Min_Max_Salary[i])\n",
    "\n",
    "#MAximum Salary\n",
    "Max_Salary=[]\n",
    "for i in range(1,len(Min_Max_Salary),2):\n",
    "    Max_Salary.append(Min_Max_Salary[i])"
   ]
  },
  {
   "cell_type": "code",
   "execution_count": 7,
   "id": "fd590a06",
   "metadata": {},
   "outputs": [
    {
     "name": "stdout",
     "output_type": "stream",
     "text": [
      "10 10 10 10 10 10\n"
     ]
    }
   ],
   "source": [
    "print(len(Company_Name),len(Job_Exp),len(Job_Post),len(Average_Salary),len(Min_Salary),len(Max_Salary))"
   ]
  },
  {
   "cell_type": "code",
   "execution_count": 8,
   "id": "534721c2",
   "metadata": {},
   "outputs": [],
   "source": [
    "# data Frame\n",
    "df10=pd.DataFrame({\"Company_Name\":Company_Name,\"Job_Exp\":Job_Exp,'Job_Post':Job_Post,\"Average_Salary\":Average_Salary,\"Minimum\":Min_Salary,\"Maximum\":Max_Salary})"
   ]
  },
  {
   "cell_type": "code",
   "execution_count": 9,
   "id": "97ed498e",
   "metadata": {},
   "outputs": [
    {
     "data": {
      "text/html": [
       "<div>\n",
       "<style scoped>\n",
       "    .dataframe tbody tr th:only-of-type {\n",
       "        vertical-align: middle;\n",
       "    }\n",
       "\n",
       "    .dataframe tbody tr th {\n",
       "        vertical-align: top;\n",
       "    }\n",
       "\n",
       "    .dataframe thead th {\n",
       "        text-align: right;\n",
       "    }\n",
       "</style>\n",
       "<table border=\"1\" class=\"dataframe\">\n",
       "  <thead>\n",
       "    <tr style=\"text-align: right;\">\n",
       "      <th></th>\n",
       "      <th>Company_Name</th>\n",
       "      <th>Job_Exp</th>\n",
       "      <th>Job_Post</th>\n",
       "      <th>Average_Salary</th>\n",
       "      <th>Minimum</th>\n",
       "      <th>Maximum</th>\n",
       "    </tr>\n",
       "  </thead>\n",
       "  <tbody>\n",
       "    <tr>\n",
       "      <th>0</th>\n",
       "      <td>Walmart</td>\n",
       "      <td>3-4 yrs experience (based on 22 salaries)</td>\n",
       "      <td>Data Scientist Salary</td>\n",
       "      <td>₹ 31.7L</td>\n",
       "      <td>₹ 25.0L</td>\n",
       "      <td>₹ 45.0L</td>\n",
       "    </tr>\n",
       "    <tr>\n",
       "      <th>1</th>\n",
       "      <td>Ab Inbev</td>\n",
       "      <td>2-4 yrs experience (based on 53 salaries)</td>\n",
       "      <td>Data Scientist Salary</td>\n",
       "      <td>₹ 19.7L</td>\n",
       "      <td>₹ 15.0L</td>\n",
       "      <td>₹ 25.5L</td>\n",
       "    </tr>\n",
       "    <tr>\n",
       "      <th>2</th>\n",
       "      <td>Optum</td>\n",
       "      <td>2-4 yrs experience (based on 48 salaries)</td>\n",
       "      <td>Data Scientist Salary</td>\n",
       "      <td>₹ 16.5L</td>\n",
       "      <td>₹ 11.0L</td>\n",
       "      <td>₹ 22.6L</td>\n",
       "    </tr>\n",
       "    <tr>\n",
       "      <th>3</th>\n",
       "      <td>ZS</td>\n",
       "      <td>1-2 yrs experience (based on 33 salaries)</td>\n",
       "      <td>Data Scientist Salary</td>\n",
       "      <td>₹ 15.7L</td>\n",
       "      <td>₹ 11.0L</td>\n",
       "      <td>₹ 22.0L</td>\n",
       "    </tr>\n",
       "    <tr>\n",
       "      <th>4</th>\n",
       "      <td>Fractal Analytics</td>\n",
       "      <td>2-4 yrs experience (based on 109 salaries)</td>\n",
       "      <td>Data Scientist Salary</td>\n",
       "      <td>₹ 15.2L</td>\n",
       "      <td>₹ 9.0L</td>\n",
       "      <td>₹ 23.0L</td>\n",
       "    </tr>\n",
       "    <tr>\n",
       "      <th>5</th>\n",
       "      <td>Tiger Analytics</td>\n",
       "      <td>2-4 yrs experience (based on 65 salaries)</td>\n",
       "      <td>Data Scientist Salary</td>\n",
       "      <td>₹ 14.7L</td>\n",
       "      <td>₹ 9.0L</td>\n",
       "      <td>₹ 20.0L</td>\n",
       "    </tr>\n",
       "    <tr>\n",
       "      <th>6</th>\n",
       "      <td>Legato Health Technologies</td>\n",
       "      <td>4 yrs experience (based on 11 salaries)</td>\n",
       "      <td>Data Scientist Salary</td>\n",
       "      <td>₹ 14.5L</td>\n",
       "      <td>₹ 11.0L</td>\n",
       "      <td>₹ 20.0L</td>\n",
       "    </tr>\n",
       "    <tr>\n",
       "      <th>7</th>\n",
       "      <td>Tredence</td>\n",
       "      <td>3 yrs experience (based on 12 salaries)</td>\n",
       "      <td>Data Scientist Salary</td>\n",
       "      <td>₹ 14.1L</td>\n",
       "      <td>₹ 8.8L</td>\n",
       "      <td>₹ 17.5L</td>\n",
       "    </tr>\n",
       "    <tr>\n",
       "      <th>8</th>\n",
       "      <td>UnitedHealth</td>\n",
       "      <td>2-4 yrs experience (based on 91 salaries)</td>\n",
       "      <td>Data Scientist Salary</td>\n",
       "      <td>₹ 13.6L</td>\n",
       "      <td>₹ 8.0L</td>\n",
       "      <td>₹ 20.5L</td>\n",
       "    </tr>\n",
       "    <tr>\n",
       "      <th>9</th>\n",
       "      <td>Ford Motor</td>\n",
       "      <td>3-4 yrs experience (based on 21 salaries)</td>\n",
       "      <td>Data Scientist Salary</td>\n",
       "      <td>₹ 13.5L</td>\n",
       "      <td>₹ 10.0L</td>\n",
       "      <td>₹ 18.0L</td>\n",
       "    </tr>\n",
       "  </tbody>\n",
       "</table>\n",
       "</div>"
      ],
      "text/plain": [
       "                 Company_Name                                     Job_Exp  \\\n",
       "0                     Walmart   3-4 yrs experience (based on 22 salaries)   \n",
       "1                    Ab Inbev   2-4 yrs experience (based on 53 salaries)   \n",
       "2                       Optum   2-4 yrs experience (based on 48 salaries)   \n",
       "3                          ZS   1-2 yrs experience (based on 33 salaries)   \n",
       "4           Fractal Analytics  2-4 yrs experience (based on 109 salaries)   \n",
       "5             Tiger Analytics   2-4 yrs experience (based on 65 salaries)   \n",
       "6  Legato Health Technologies     4 yrs experience (based on 11 salaries)   \n",
       "7                    Tredence     3 yrs experience (based on 12 salaries)   \n",
       "8                UnitedHealth   2-4 yrs experience (based on 91 salaries)   \n",
       "9                  Ford Motor   3-4 yrs experience (based on 21 salaries)   \n",
       "\n",
       "                Job_Post Average_Salary  Minimum  Maximum  \n",
       "0  Data Scientist Salary        ₹ 31.7L  ₹ 25.0L  ₹ 45.0L  \n",
       "1  Data Scientist Salary        ₹ 19.7L  ₹ 15.0L  ₹ 25.5L  \n",
       "2  Data Scientist Salary        ₹ 16.5L  ₹ 11.0L  ₹ 22.6L  \n",
       "3  Data Scientist Salary        ₹ 15.7L  ₹ 11.0L  ₹ 22.0L  \n",
       "4  Data Scientist Salary        ₹ 15.2L   ₹ 9.0L  ₹ 23.0L  \n",
       "5  Data Scientist Salary        ₹ 14.7L   ₹ 9.0L  ₹ 20.0L  \n",
       "6  Data Scientist Salary        ₹ 14.5L  ₹ 11.0L  ₹ 20.0L  \n",
       "7  Data Scientist Salary        ₹ 14.1L   ₹ 8.8L  ₹ 17.5L  \n",
       "8  Data Scientist Salary        ₹ 13.6L   ₹ 8.0L  ₹ 20.5L  \n",
       "9  Data Scientist Salary        ₹ 13.5L  ₹ 10.0L  ₹ 18.0L  "
      ]
     },
     "execution_count": 9,
     "metadata": {},
     "output_type": "execute_result"
    }
   ],
   "source": [
    "df10"
   ]
  },
  {
   "cell_type": "markdown",
   "id": "03e31847",
   "metadata": {},
   "source": [
    "---------------------------------------------------"
   ]
  },
  {
   "cell_type": "markdown",
   "id": "0df0d8c8",
   "metadata": {},
   "source": [
    "-----------------------------------------"
   ]
  },
  {
   "cell_type": "code",
   "execution_count": null,
   "id": "f56dc53b",
   "metadata": {},
   "outputs": [],
   "source": []
  }
 ],
 "metadata": {
  "kernelspec": {
   "display_name": "Python 3 (ipykernel)",
   "language": "python",
   "name": "python3"
  },
  "language_info": {
   "codemirror_mode": {
    "name": "ipython",
    "version": 3
   },
   "file_extension": ".py",
   "mimetype": "text/x-python",
   "name": "python",
   "nbconvert_exporter": "python",
   "pygments_lexer": "ipython3",
   "version": "3.9.12"
  }
 },
 "nbformat": 4,
 "nbformat_minor": 5
}
